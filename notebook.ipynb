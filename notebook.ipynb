{
 "cells": [
  {
   "cell_type": "code",
   "execution_count": 1,
   "metadata": {},
   "outputs": [],
   "source": [
    "from tqdm import tqdm\n",
    "import optax\n",
    "import haiku as hk\n",
    "import jax\n",
    "import numpy as np\n",
    "from jax import jit, grad\n",
    "import jax.numpy as jnp\n",
    "from functools import partial\n",
    "from src.data import load_subject, make_kfolds\n",
    "from src.model import network_fn, loss_fn\n",
    "from src.plots import plot_brain, plot_decodings"
   ]
  },
  {
   "cell_type": "code",
   "execution_count": 2,
   "metadata": {},
   "outputs": [],
   "source": [
    "args = {'image_size': 32}\n",
    "subject = load_subject('subj05', image_size=args['image_size'])\n",
    "init, apply = hk.transform(partial(network_fn, image_size=args['image_size']))"
   ]
  },
  {
   "cell_type": "code",
   "execution_count": 7,
   "metadata": {},
   "outputs": [],
   "source": [
    "def hyperparam_fn():\n",
    "    return {\n",
    "        'batch_size': np.random.choice([32, 64]),\n",
    "        'n_steps': np.random.randint(low=100, high=200),\n",
    "        'dropout_rate': np.random.uniform(low=0.1, high=0.5),\n",
    "    }\n",
    "\n",
    "def update_fn(params, fmri, img, opt_state, rng, opt):\n",
    "    rng, key = jax.random.split(rng)\n",
    "    grads = grad(loss_fn)(params, key, fmri, img)\n",
    "    updates, opt_state = opt.update(grads, opt_state, params)\n",
    "    params = optax.apply_updates(params, updates)\n",
    "    return params, opt_state\n",
    "\n",
    "\n",
    "def train_loop(opt, train_loader, val_loader, plot_batch, hyperparams, rng):\n",
    "    rng, key = jax.random.split(rng)\n",
    "    lh, rh, img = next(train_loader)\n",
    "    params = init(key, lh)\n",
    "    opt_state = opt.init(params)\n",
    "    update = partial(update_fn, opt=opt)\n",
    "    for step in tqdm(range(hyperparams['n_steps'])):\n",
    "        rng, key = jax.random.split(rng)\n",
    "        lh, rh, img = next(train_loader)\n",
    "        params, opt_state = update(params, lh, img, opt_state, key)\n",
    "        if (step % (hyperparams['n_steps'] // 100)) == 0:\n",
    "            evaluate(params, train_loader, val_loader)\n",
    "            # plot_decodings(apply(params, key, plot_batch[0]), plot_batch[2])\n",
    "    return params\n",
    "\n",
    "def evaluate(params, train_loader, val_loader, n_steps=4):\n",
    "    pass\n",
    "\n",
    "\n",
    "def train_folds(kfolds, hyperparams, seed=0):\n",
    "    rng = jax.random.PRNGKey(seed)\n",
    "    opt = optax.lion(1e-3)\n",
    "    plot_batch = None\n",
    "    for train_loader, val_loader in kfolds:\n",
    "        plot_batch = next(train_loader) if plot_batch is None else plot_batch\n",
    "        rng, key = jax.random.split(rng)\n",
    "        params = train_loop(opt, train_loader, val_loader, plot_batch, hyperparams, key)\n",
    "        return"
   ]
  },
  {
   "cell_type": "code",
   "execution_count": 8,
   "metadata": {},
   "outputs": [
    {
     "name": "stderr",
     "output_type": "stream",
     "text": [
      "100%|██████████| 158/158 [00:05<00:00, 26.68it/s]\n"
     ]
    }
   ],
   "source": [
    "hyperparams = hyperparam_fn()\n",
    "kfolds = make_kfolds(subject, hyperparams)\n",
    "train_folds(kfolds, hyperparams)"
   ]
  },
  {
   "cell_type": "code",
   "execution_count": null,
   "metadata": {},
   "outputs": [],
   "source": []
  },
  {
   "cell_type": "code",
   "execution_count": null,
   "metadata": {},
   "outputs": [],
   "source": []
  }
 ],
 "metadata": {
  "kernelspec": {
   "display_name": "Python 3 (ipykernel)",
   "language": "python",
   "name": "python3"
  },
  "language_info": {
   "codemirror_mode": {
    "name": "ipython",
    "version": 3
   },
   "file_extension": ".py",
   "mimetype": "text/x-python",
   "name": "python",
   "nbconvert_exporter": "python",
   "pygments_lexer": "ipython3",
   "version": "3.11.4"
  },
  "orig_nbformat": 4
 },
 "nbformat": 4,
 "nbformat_minor": 2
}
