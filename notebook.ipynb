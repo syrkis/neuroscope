{
 "cells": [
  {
   "cell_type": "code",
   "execution_count": null,
   "metadata": {},
   "outputs": [],
   "source": [
    "import jax\n",
    "import jax.numpy as jnp\n",
    "import optax\n",
    "import haiku as hk\n",
    "from typing import Optional\n",
    "\n",
    "from src.data import load_subject, make_kfolds\n",
    "from src.utils import CONFIG\n",
    "from src.train import train_folds, hyperparam_fn\n",
    "from src.model import init, apply, loss_fn"
   ]
  },
  {
   "cell_type": "code",
   "execution_count": null,
   "metadata": {},
   "outputs": [],
   "source": [
    "subject = load_subject('subj05', image_size=CONFIG['image_size'])\n",
    "hyperparams = hyperparam_fn()\n",
    "kfolds = make_kfolds(subject, hyperparams)\n",
    "metrics, params = train_folds(kfolds, hyperparams)"
   ]
  },
  {
   "cell_type": "code",
   "execution_count": null,
   "metadata": {},
   "outputs": [],
   "source": [
    "loader, _ = next(kfolds)\n",
    "lh, rh, img = next(loader)\n",
    "rng = jax.random.PRNGKey(0)\n",
    "params = init(rng, lh)\n",
    "pred = apply(params, rng, lh)\n",
    "# loss = loss_fn(params, rng, lh, img)\n",
    "# opt = optax.adam(1e-3)\n",
    "# opt_state = opt.init(params)\n",
    "# grads = jax.grad(loss_fn)(params, rng, lh, img)\n",
    "pred.shape, img.shape"
   ]
  },
  {
   "cell_type": "code",
   "execution_count": null,
   "metadata": {},
   "outputs": [],
   "source": [
    "pred.shape, img.shape"
   ]
  },
  {
   "cell_type": "code",
   "execution_count": null,
   "metadata": {},
   "outputs": [],
   "source": [
    "def network_fn(z):\n",
    "    conv = [hk.Conv2D(32, kernel_shape=3, stride=1, padding='SAME'), jax.nn.gelu,\n",
    "            hk.Conv2D(3, kernel_shape=3, stride=1, padding='SAME'), jax.nn.gelu,]\n",
    "    return hk.Sequential(conv)(z)\n",
    "\n",
    "init, apply = hk.transform(network_fn)"
   ]
  },
  {
   "cell_type": "code",
   "execution_count": null,
   "metadata": {},
   "outputs": [],
   "source": [
    "rng = jax.random.PRNGKey(42)\n",
    "params = init(rng, pred)\n",
    "apply(params, rng, pred).shape, img.shape"
   ]
  },
  {
   "cell_type": "code",
   "execution_count": null,
   "metadata": {},
   "outputs": [],
   "source": []
  }
 ],
 "metadata": {
  "kernelspec": {
   "display_name": "Python 3 (ipykernel)",
   "language": "python",
   "name": "python3"
  },
  "language_info": {
   "codemirror_mode": {
    "name": "ipython",
    "version": 3
   },
   "file_extension": ".py",
   "mimetype": "text/x-python",
   "name": "python",
   "nbconvert_exporter": "python",
   "pygments_lexer": "ipython3",
   "version": "3.11.4"
  },
  "orig_nbformat": 4
 },
 "nbformat": 4,
 "nbformat_minor": 2
}
