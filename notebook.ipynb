{
 "cells": [
  {
   "cell_type": "code",
   "execution_count": null,
   "metadata": {},
   "outputs": [],
   "source": [
    "from tqdm import tqdm\n",
    "import optax\n",
    "import haiku as hk\n",
    "import jax\n",
    "import numpy as np\n",
    "from jax import jit, grad\n",
    "import jax.numpy as jnp\n",
    "from functools import partial\n",
    "from IPython.display import display, HTML, clear_output\n",
    "import time\n",
    "\n",
    "from src.data import load_subject, make_kfolds\n",
    "from src.model import loss_fn, init, apply\n",
    "from src.plots import plot_brain\n",
    "from src.utils import CONFIG, matrix_to_image\n",
    "from src.train import train_folds, hyperparam_fn"
   ]
  },
  {
   "cell_type": "code",
   "execution_count": null,
   "metadata": {},
   "outputs": [],
   "source": [
    "subject = load_subject('subj05', image_size=CONFIG['image_size'])\n",
    "hyperparams = hyperparam_fn()\n",
    "kfolds = make_kfolds(subject, hyperparams)\n",
    "metrics, params = train_folds(kfolds, hyperparams)"
   ]
  },
  {
   "cell_type": "code",
   "execution_count": null,
   "metadata": {},
   "outputs": [],
   "source": [
    "def display_image(matrix_lst):\n",
    "    html = '<div style=\"width: 300px; height: 300px; display: flex; flex-wrap: wrap;\">'\n",
    "    for matrix in matrix_lst:\n",
    "        image = matrix_to_image(matrix)\n",
    "        html += f\"\"\"\n",
    "            <div style=\"display: flex; justify-content: center; align-items: center; width: 140px; height: 140px; margin: 5px; background-image: url('data:image/png;base64,{image}'); background-size: cover; background-position: center; background-repeat: no-repeat;\">\n",
    "            </div>\"\"\"\n",
    "\n",
    "    html += '</div>'\n",
    "    clear_output(wait=True)\n",
    "    display(HTML(html))\n",
    "\n",
    "# Example usage with a random 100x100 matrix\n",
    "for i in range(10):\n",
    "    matrix_lst = [np.random.rand(100, 100) for _ in range(4)]\n",
    "    display_image(matrix_lst)\n",
    "    time.sleep(1)"
   ]
  },
  {
   "cell_type": "code",
   "execution_count": null,
   "metadata": {},
   "outputs": [],
   "source": []
  },
  {
   "cell_type": "code",
   "execution_count": null,
   "metadata": {},
   "outputs": [],
   "source": []
  }
 ],
 "metadata": {
  "kernelspec": {
   "display_name": "Python 3 (ipykernel)",
   "language": "python",
   "name": "python3"
  },
  "language_info": {
   "codemirror_mode": {
    "name": "ipython",
    "version": 3
   },
   "file_extension": ".py",
   "mimetype": "text/x-python",
   "name": "python",
   "nbconvert_exporter": "python",
   "pygments_lexer": "ipython3",
   "version": "3.11.4"
  },
  "orig_nbformat": 4
 },
 "nbformat": 4,
 "nbformat_minor": 2
}
