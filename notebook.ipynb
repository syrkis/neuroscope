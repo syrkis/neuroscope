{
 "cells": [
  {
   "cell_type": "markdown",
   "metadata": {},
   "source": [
    "# Neuroscope\n",
    "\n",
    "Jupyter workspace for the neuroscope project"
   ]
  },
  {
   "cell_type": "code",
   "execution_count": 67,
   "metadata": {},
   "outputs": [],
   "source": [
    "import jax\n",
    "from jax import vmap, jit, lax, random, grad, value_and_grad\n",
    "import jax.numpy as jnp\n",
    "import optax\n",
    "\n",
    "import numpy as np\n",
    "from functools import partial\n",
    "from tqdm import tqdm\n",
    "import time\n",
    "import seaborn as sns\n",
    "import matplotlib.pyplot as plt\n",
    "\n",
    "import syrkis\n",
    "from src.data import load_subject, make_kfolds"
   ]
  },
  {
   "cell_type": "code",
   "execution_count": 68,
   "metadata": {},
   "outputs": [],
   "source": [
    "# GLOBALS\n",
    "cfg = syrkis.training.load_config()"
   ]
  },
  {
   "cell_type": "markdown",
   "metadata": {},
   "source": [
    "## Data"
   ]
  },
  {
   "cell_type": "code",
   "execution_count": 69,
   "metadata": {},
   "outputs": [],
   "source": [
    "# subject = load_subject('subj07', image_size=cfg['image_size'])\n",
    "# kfolds = make_kfolds(subject, cfg)\n",
    "# neuroscope_train_batches, neuroscope_eval_batches = next(kfolds)  # type: ignore"
   ]
  },
  {
   "cell_type": "code",
   "execution_count": 70,
   "metadata": {},
   "outputs": [],
   "source": [
    "rng = jax.random.PRNGKey(0)\n",
    "keys = jax.random.split(rng, 10)\n",
    "mnist = syrkis.data.mnist() if 'mnist' not in locals() else eval('mnist')\n",
    "mnist_x, mnist_y = mnist\n",
    "mnist_x_batches = mnist_x.reshape(-1, 60, 28, 28, 1)\n",
    "mnist_y_batches = mnist_y.reshape(-1, 60)"
   ]
  },
  {
   "cell_type": "markdown",
   "metadata": {},
   "source": [
    "## Batch norm"
   ]
  },
  {
   "cell_type": "code",
   "execution_count": 71,
   "metadata": {},
   "outputs": [],
   "source": [
    "@jit\n",
    "def batch_norm(x, gamma, beta, eps=1e-5):\n",
    "    # x: batch x height x width x channels\n",
    "    mean = jnp.mean(x, axis=(0, 1, 2), keepdims=True)\n",
    "    var = jnp.var(x, axis=(0, 1, 2), keepdims=True)\n",
    "    x = (x - mean) / jnp.sqrt(var + eps)\n",
    "    x = gamma * x + beta\n",
    "    return x\n",
    "\n",
    "def init_batch_norm(channels):\n",
    "    gamma = jnp.ones((1, 1, 1, channels))\n",
    "    beta = jnp.zeros((1, 1, 1, channels))\n",
    "    return gamma, beta\n",
    "\n",
    "def batch_norm_test():\n",
    "    gamma, beta = init_batch_norm(2)\n",
    "    x = jnp.array([[[[1.0, 2.0], [3.0, 4.0]], [[5.0, 6.0], [7.0, 8.0]]]])\n",
    "    normalized_x = batch_norm(x, gamma, beta)\n",
    "    means = jnp.mean(normalized_x, axis=(0, 1, 2))\n",
    "    stds = jnp.std(normalized_x, axis=(0, 1, 2))\n",
    "    assert jnp.allclose(means, jnp.zeros(2))\n",
    "    assert jnp.allclose(stds, jnp.ones(2))\n",
    "\n",
    "batch_norm_test()"
   ]
  },
  {
   "cell_type": "markdown",
   "metadata": {},
   "source": [
    "## Linear layer"
   ]
  },
  {
   "cell_type": "code",
   "execution_count": 72,
   "metadata": {},
   "outputs": [
    {
     "name": "stdout",
     "output_type": "stream",
     "text": [
      "[-0.02130392 -0.0382999   0.03523295 -0.0305739 ]\n"
     ]
    }
   ],
   "source": [
    "def init_linear_layer(rng, in_dim, out_dim, scale):\n",
    "    keys = jax.random.split(rng, 2)\n",
    "    w_shape = (in_dim, out_dim)\n",
    "    b_shape = (out_dim,)\n",
    "    w = scale * jax.random.normal(keys[0], w_shape)\n",
    "    b = scale * jax.random.normal(keys[1], b_shape)\n",
    "    return w, b\n",
    "\n",
    "def init_linear_layers(rng, in_dim, out_dim, cfg):\n",
    "    # first layer goes from in_dim to embed_dim, rest are embed to embed, and last is embed to out\n",
    "    rngs = jax.random.split(rng, cfg['layers'])\n",
    "    params = []\n",
    "    for idx, rng in enumerate(rngs):\n",
    "        layer_in_dim  = cfg['embed_dim'] if idx != 0                 else in_dim\n",
    "        layer_out_dim = cfg['embed_dim'] if idx != cfg['layers'] - 1 else out_dim\n",
    "        params.append(init_linear_layer(rng, layer_in_dim, layer_out_dim, cfg['scale']))\n",
    "    return params\n",
    "\n",
    "def linear(params, x):\n",
    "    for w, b in params[:-1]:\n",
    "        x = jax.nn.gelu(x @ w + b)\n",
    "    w, b = params[-1]\n",
    "    return x @ w + b\n",
    "\n",
    "def test_linear():\n",
    "    rng = jax.random.PRNGKey(0)\n",
    "    x = jnp.array([1.0, 2.0])\n",
    "    params = init_linear_layers(rng, 2, 4, cfg)\n",
    "    y = linear(params, x)\n",
    "    assert y.shape == (4,)\n",
    "    print(y)\n",
    "\n",
    "test_linear()"
   ]
  },
  {
   "cell_type": "markdown",
   "metadata": {},
   "source": [
    "## Convolutions"
   ]
  },
  {
   "cell_type": "code",
   "execution_count": 90,
   "metadata": {},
   "outputs": [
    {
     "name": "stdout",
     "output_type": "stream",
     "text": [
      "1568\n"
     ]
    }
   ],
   "source": [
    "# Global constants for common parameters\n",
    "DIMENSION_NUMBERS = (\"NHWC\", \"HWIO\", \"NHWC\")\n",
    "\n",
    "@jit\n",
    "def conv2d(x, w):\n",
    "    return jax.lax.conv_general_dilated(\n",
    "        x, w, \n",
    "        window_strides=(cfg['stride'], cfg['stride']),\n",
    "        padding='SAME',\n",
    "        dimension_numbers=DIMENSION_NUMBERS)\n",
    "\n",
    "@jit\n",
    "def upscale_nearest_neighbor(x, scale_factor=cfg['stride']):\n",
    "    # Assuming x has shape (batch, height, width, channels)\n",
    "    b, h, w, c = x.shape\n",
    "    x = x.reshape(b, h, 1, w, 1, c)\n",
    "    x = lax.tie_in(x, jnp.broadcast_to(x, (b, h, scale_factor, w, scale_factor, c)))\n",
    "    return x.reshape(b, h * scale_factor, w * scale_factor, c)\n",
    "\n",
    "@jit\n",
    "def deconv2d(x, w):\n",
    "    x_upscaled = upscale_nearest_neighbor(x)\n",
    "    return lax.conv_transpose(\n",
    "        x_upscaled, w, \n",
    "        strides=(1, 1), \n",
    "        padding='SAME',\n",
    "        dimension_numbers=DIMENSION_NUMBERS) \n",
    "\n",
    "def conv_fn(fn):\n",
    "    def apply_fn(params, x):\n",
    "        for w, b, gamma, beta in params[:-1]:\n",
    "            x = fn(x, w, b)\n",
    "            # x = batch_norm(x, gamma, beta)\n",
    "            # x = jax.nn.gelu(x)\n",
    "        w, b, gamma, beta = params[-1]\n",
    "        x = fn(x, w, b)\n",
    "        # x = batch_norm(x, gamma, beta)\n",
    "        return x\n",
    "    return apply_fn\n",
    "\n",
    "conv   = conv_fn(lambda x, w, b: conv2d(x, w) + b)\n",
    "deconv = conv_fn(lambda x, w, b: deconv2d(x, w) + b)\n",
    "\n",
    "def init_conv_params(rng, cfg, deconv=False):\n",
    "    rng, key1, key2 = jax.random.split(rng, 3)\n",
    "    out_channels = cfg['channels'] if deconv else cfg['channels'] * 2\n",
    "    in_channels  = cfg['channels'] if not deconv else cfg['channels'] * 2\n",
    "    w_shape = (cfg['kernel_size'], cfg['kernel_size'], in_channels, out_channels)\n",
    "    b_shape = (out_channels,)\n",
    "    w = cfg['scale'] * jax.random.normal(key1, w_shape)\n",
    "    b = cfg['scale'] * jax.random.normal(key2, b_shape)\n",
    "    gamma, beta = init_batch_norm(out_channels)\n",
    "    return w, b, gamma, beta\n",
    "\n",
    "def init_conv_layers(rng, cfg, deconv=False):\n",
    "    rngs = jax.random.split(rng, cfg['layers'])\n",
    "    params = []\n",
    "    for idx, rng in enumerate(rngs):\n",
    "        params.append(init_conv_params(rng, cfg, deconv))\n",
    "    return params[::-1] if deconv else params\n",
    "\n",
    "def calculate_latent_dim(cfg):\n",
    "    # should return the size of the latente dim depending on initial image size, stride, and number of layers, and channels\n",
    "    image_size = cfg['image_size']\n",
    "    stride = cfg['stride']\n",
    "    layers = cfg['layers']\n",
    "    channels = cfg['channels']\n",
    "    latent_dim = 2 * image_size ** 2 * channels // (stride ** 2) ** layers\n",
    "    # Multiply by 2 because of bug (this is a temporary fix)\n",
    "    return latent_dim\n",
    "\n",
    "print(calculate_latent_dim(cfg))"
   ]
  },
  {
   "cell_type": "markdown",
   "metadata": {},
   "source": [
    "## Model"
   ]
  },
  {
   "cell_type": "code",
   "execution_count": 100,
   "metadata": {},
   "outputs": [
    {
     "name": "stdout",
     "output_type": "stream",
     "text": [
      "latent_dim 1568\n"
     ]
    }
   ],
   "source": [
    "def init_params(rng, cfg):\n",
    "    latent_dim = calculate_latent_dim(cfg)\n",
    "    print('latent_dim', latent_dim)\n",
    "    conv_params   = init_conv_layers(rng, cfg)                            # conv layers\n",
    "    linear_params = init_linear_layers(rng, latent_dim, latent_dim, cfg)  # linear layers\n",
    "    deconv_params = init_conv_layers(rng, cfg, deconv=True)               # deconv layers\n",
    "    return {'conv': conv_params, 'deconv': deconv_params, 'linear': linear_params}\n",
    "\n",
    "def reparametrize(mu, logvar, rng):\n",
    "    # mu, logvar: (batch, latent_dim)\n",
    "    std = jnp.exp(0.5 * logvar)\n",
    "    eps = jax.random.normal(rng, std.shape)\n",
    "    return mu + eps * std\n",
    "\n",
    "def apply_fn(params, x):\n",
    "    x = conv(params['conv'], x)\n",
    "    # mu, logvar = linear(params['linear'], x)\n",
    "    # z = reparametrize(mu, logvar)\n",
    "    z = linear(params['linear'], x.reshape(cfg['batch_size'], -1))\n",
    "    x_hat = deconv(params['deconv'], z.reshape(x.shape))\n",
    "    return x_hat  # , mu, logvar\n",
    "\n",
    "def model_test():\n",
    "    rng = jax.random.PRNGKey(0)\n",
    "    x = jnp.ones((cfg['batch_size'], cfg['image_size'], cfg['image_size'], cfg['channels']))\n",
    "    params = init_params(rng, cfg)\n",
    "    x_hat = apply_fn(params, x)\n",
    "    assert x_hat.shape == x.shape\n",
    "\n",
    "model_test()"
   ]
  },
  {
   "cell_type": "markdown",
   "metadata": {},
   "source": [
    "## Training"
   ]
  },
  {
   "cell_type": "code",
   "execution_count": 106,
   "metadata": {},
   "outputs": [],
   "source": [
    "def kl_divergence(mu, logvar):\n",
    "    return -0.5 * jnp.sum(1 + logvar - mu ** 2 - jnp.exp(logvar), axis=1).mean()\n",
    "\n",
    "def cross_entropy(logits, labels, epsilon=1e-12):\n",
    "    max_logits = jnp.max(logits, axis=1, keepdims=True)\n",
    "    stabilized_logits = logits - max_logits\n",
    "    log_sum_exp = jnp.log(jnp.sum(jnp.exp(stabilized_logits), axis=1, keepdims=True) + epsilon)\n",
    "    labels_one_hot = jnp.eye(logits.shape[1])[labels]\n",
    "    loss = -jnp.mean(labels_one_hot * (stabilized_logits - log_sum_exp))\n",
    "    return loss\n",
    "\n",
    "def mean_squared_error(logits, labels):\n",
    "    return jnp.mean((logits - labels) ** 2)\n",
    "\n",
    "def loss_fn(params, x, y):\n",
    "    logits = apply_fn(params, x)\n",
    "    return mean_squared_error(logits, y)\n",
    "\n",
    "def update_fn(opt, opt_state, params, x, y=None):\n",
    "    if y is None:\n",
    "        loss, grads = jax.value_and_grad(loss_fn)(params, x)\n",
    "    else:\n",
    "        loss, grads = jax.value_and_grad(loss_fn)(params, x, y)\n",
    "    updates, opt_state = opt.update(grads, opt_state, params)\n",
    "    params = optax.apply_updates(params, updates)\n",
    "    return loss, params, opt_state\n"
   ]
  },
  {
   "cell_type": "code",
   "execution_count": 114,
   "metadata": {},
   "outputs": [
    {
     "data": {
      "text/html": [
       "<!DOCTYPE html>\n",
       "<html lang=\"en\">\n",
       "<head>\n",
       "    <meta charset=\"UTF-8\">\n",
       "    <style>\n",
       "        html, body {\n",
       "            font-family: 'Fira Code';\n",
       "        }\n",
       "        .container {\n",
       "            padding-top: 100px;\n",
       "            width: 100%;\n",
       "            height: 100%;\n",
       "        }\n",
       "        .images {\n",
       "            display: grid;\n",
       "            grid-template-columns: repeat(6, 1fr);\n",
       "            gap: 40px;\n",
       "            width: 100%;\n",
       "            height: auto;\n",
       "            margin: 0;\n",
       "            background-color: dark;\n",
       "        }\n",
       "        .image {\n",
       "            display: flex;\n",
       "            justify-content: center;\n",
       "            align-items: center; \n",
       "        }\n",
       "        .info-bar {\n",
       "            display: flex;\n",
       "            justify-content: center;\n",
       "            align-items: center;\n",
       "            width: 90%;\n",
       "            padding: 30px 0;\n",
       "            margin: 0 auto;\n",
       "            font-size: 0.8em;\n",
       "        }\n",
       "        .info-bar ul {\n",
       "            display: flex;\n",
       "            justify-content: center;\n",
       "            width: 100%;\n",
       "            list-style-type: none;\n",
       "            padding: 0;\n",
       "            margin: 0;\n",
       "        }\n",
       "        .info-bar li {\n",
       "            flex: 1; /* Flex grow to fill the space */\n",
       "            text-align: center; /* Center the text horizontally */\n",
       "            margin: 0 10px; /* Optional: to give some space between items */\n",
       "            padding: 30px 0px; /* Optional: for some padding inside the items */\n",
       "        }\n",
       "    </style>\n",
       "</head>\n",
       "\n",
       "<body>\n",
       "    <div class=\"container\">\n",
       "        <div class=\"images\">\n",
       "            \n",
       "            <div class='image'>\n",
       "                <img src=\"data:image/png;base64,iVBORw0KGgoAAAANSUhEUgAAABwAAAAcCAIAAAD9b0jDAAADtUlEQVR4nIVWX0s6TRQ+O7O7uquloRYhliYiS4EgUhAadWMQ3dRFH6UvFXTRXUFeVgRhBSVBkRmEEpRZaq7OzHtxXqb1T/3O1dnZs8+c5znnzCxAvymKIh1KKaUUfjcZPGDE+ZoQIh1KqaIoQghCiKqqw+iKovwDFIGEEJxzRVEQnTEmhEA4xpgMQweDR+43ggumJlNWVVUGSN/51fBiH9YwHVVVMTVCiGmauDgxMZFKpWZnZwcQfkgLIdDjnEtfIlJKOecAYBiGVGBra2t3d3djY2N8fBwAXC6X3Bg3GMrcwYAx1uv1JA9En5+f39nZWVpauru763Q6ozP9DVQI4Uy81+t1u10AiMVi0Wj07e2tWCwiqGTz0zy/gQKAz+dLJpNTU1MA0G63AUDX9WQyaRjG5eXl+fk5AHg8HgSilGJ5FUX5FVTX9XQ6vbm5uba2FgwGcdGyrJWVFb/fXyqVarUabowMNE1DciNApUBut9uyrNXV1cXFxUAggIvpdHphYaHZbF5cXGCwEOL7+xv9brc7GpQQomkaADQaDUVRJicnPR7P5+cnvg0Ggx6P5/b2tlgsAoBhGI1GA9OUQzFCU0qp7EchBGOsVqtVq1UAcLlckUhE07Sbm5vn52dkg9zdbjfWCqerb/alNOjPzMz4/f6xsbF4PK5p2vb2dj6fbzabp6en2LPYduDoDWyAnxFELMYYFjqXy+Xzecuy8HChlK6vr8fj8b29vZOTE6xkp9NhjOG3eFAgyE/zY3uj6j6fL5PJJBIJAAiHw5lMJhQKxeNx27aPj48rlQqCfn19Qf9Ecc455yruwzl3Kq1p2sfHR6FQIIScnZ3V6/Xl5eVAIPDw8FAqlQbKIIRA7gglhFCdsy/j3t/fC4XC1dVVpVJ5fX3FUuRyuaenp8fHRwAwTVPG93o9KfEgfTRVVVGgcrlcLpelMnNzc16v9/7+HutOKW21WshJoqOsI6qPuOjouo5+NptNp9OtVuv6+trZbdIfyIwMvBBCyJPJNE1CCCEkGo2Gw+F6vf7y8oLZOa8yp259oE7VMQWXy9VqtWzb5pzHYrFIJMIYw2PJNE1sEmclpKCjQdGhlNq2DQChUCibzQJAtVrF0Wq325KNdJwi9IEi2YEUEonE9PS0bdtHR0dY+uE7YsD6qi9vXbxQcbHdbh8eHh4cHOzv7+OKpmkywb9MYskKyIvX6/WmUqlYLIaPuq47x+QfoMjdWdaRkX//s6D9L6LUSGKpqmoYBp6tMhQcfxV/2H/uIOBw3BmCIQAAAABJRU5ErkJggg==\" alt=\"image\" width=\"100%\" height=\"100%\">\n",
       "            </div>\n",
       "            \n",
       "            <div class='image'>\n",
       "                <img src=\"data:image/png;base64,iVBORw0KGgoAAAANSUhEUgAAABwAAAAcCAIAAAD9b0jDAAADU0lEQVR4nI1WO0szQRQ989jJBgtJRIOJD4RgoagYCwWtLESw1N9lae0P8A8oCCs2BgwSUAgYRURtRBDUxN2d3fmKm4ybmHxmqnncOXPOmTt3FwAYY2g3xhgNGWOc864lDNY64mibMYYQk0vGmDiOBwTlFo5QjDEAqB/HMWNMCNGFaEVYWQOQZ0wIQdGcc0vZcZwu+gCklL8nO7Csm8lJ6iilXNelfi6XKxQKSikaCiG6gqXdT8KTHWsI51xK2Wg0AJRKpd3d3SAIjo6Obm5uALiu22w24zjmnP9tvdVlKWQymYODA2NMvV7f2dmhyaGhIQqQUhLrvnYwxuyZUrYEra2tbW9v08zn56cNI3HWQNkbEmCMUagQgiin0+nFxcWpqSkAZ2dnt7e3AJRSNkl+EvxP7UKIMAwBjI2NLS8vCyHe399PT09fXl5oNYoiyoEoimhjX1ArmXNOPiwtLW1sbAC4vr6+uroimlprrTUAY0wURa007wdK7NBOBqXUyspKoVAAUC6X7+/vaTIIArSzlW6/NyhjTEpJWtLpNKHn8/m5uTkA39/fl5eXX19faD9oKSVdgH0pPIllhROiEMJ1XdI+OTk5PT0NoFKpVKtVsoVA4zgOgsBq77iopL+tAzn3fZ9mZmZmJiYmABwfH9frdQCO44RhmKw+Nrd+bsM+JEuZc07ah4eHV1dXx8fHn56ePM+jSXskGUqJRbJa7OI4bo05B0DyrfbNzc2trS0AFxcXtVqNvKYYAFpr3/eJsjHGGNOj6hCQlFJrHUWRUmphYaFYLAI4Pz9/fX1NiqD07C6MXaDGGMo7W0FGR0fn5+cBVKtVz/MojKgJIWyJIn3Wwx6Nc55Kpai/t7f39vZmjNnf36cXYWugfSDJm+j7TIUQdAm5XG59fT2bzTabTc/ztNZJdj3LfoenPWtzJpOhnC+Xy5VKhWiSPwCSViaF/3wvf6cUgNnZ2VKpBODu7u75+ZmA6Gl2ASUb/73AGKNtqVSqWCxms1kAj4+PtKq1tlv6Ffke9VRKaYwJw9D3/Vqtdnh42Gg0Tk5OWiz+85mztCw7K8dxHEt2ZGQkn89/fHw8PDxY0EF/AJL/I5xzx3EG2tanccsx6ZQxRill05Axlhz+2f4BD8HAubzZIz0AAAAASUVORK5CYII=\" alt=\"image\" width=\"100%\" height=\"100%\">\n",
       "            </div>\n",
       "            \n",
       "            <div class='image'>\n",
       "                <img src=\"data:image/png;base64,iVBORw0KGgoAAAANSUhEUgAAABwAAAAcCAIAAAD9b0jDAAAEaUlEQVR4nJ1WSUszTRCu6Z4ZE00ME40xEnBDg+ghQkRxAxcE8WLwpBf17E/wqn9BPAoeRFzw4CEoKgoqgiuuiIjgRkzUuCQmmaW/Q+mYV/P6yleH0N3T/fTTVU9VBeBP4zgOf3meF0WRUgp/N0opIeT7OvcFkRDCGOM4ThAEjuM0TcNPiqKoqvr9PCFE35MEFDnq0DjFgSzLOmJmZqbD4QiHw+fn57giiqIsy4yxv4LiN0op92GqqmqahuslJSWdnZ1lZWV7e3tTU1MHBwfJ/ZJIUB9QSnV/4RgAMjIyBgcHGWOMsVAoNDAwUFxcnBz0h2sEQUgMRW1t7dLSEvswv9/f39+flZWl8/gVOs/zOmJpaenIyAhjTFXV09NTxJ2ZmXG5XAgqiiLupJQmEYRuiqIg64KCgr6+vu7ubgDw+/2Hh4c3NzcA4HQ6EYsxJggCniJJVZboBFVVjUZjS0tLe3s7rs/Pz/t8vr29PQCw2WwOh0MnKAgCQieTLscJgoDhNpvNbW1tPT09DoeDMTY2NjY0NDQ9Pb2/vw8AkiS5XC6z2Yz70bPJmaLuACAtLa25ubm3t7eyshIA1tfXp6enNzY2AoHA29sbXllYWGi1WhVFicViehbwXxATw11RUeH1eltbWwHg+fl5dnZ2fX0dALKzs202G+5JSUnBJNSVpyjKV6aCIMRiMQAoKirq6Ojwer3o3NHR0fHx8evrawBITU3VE+zl5SUSiRBCUlJSeJ5Hp/0BSimNx+Oapomi2NjY2N7ebjKZAMDn801OTt7e3uK2x8dHRVEAIBwOX11dhcNhVBg+XxCET1Ce5zVNww95eXnV1dVOpxMAtra2MCMRCACcTmdJSQkABIPBy8vL19dX9JiiKBiud5/iKpKXJKmmpqaqqgr3ra6urqysBINBFIbZbPZ4POXl5QAQiUSenp4S36qqKmPsnammaUhEkqSmpiav14t5fXR0tLOzc3l5qR/Lzc11u912ux0AotGoqqoYKO3D4Lv+rVarx+Opr6/H6e7u7snJCQoIACwWi9vtdrvdOH14eFAUBbGwPDLGCCHv8eJ5HpnKskwpxfjc3d2dnZ0Fg0GDwUAptdvtdXV1XV1deGUgEFhcXNSrqizLSFNV1U9QvDAQCNzf30ej0bS0tNfXV0mSqqur09PTrVZrbm5uQ0NDfn4+APj9/uHh4YmJCZREYv3HxHmXp+6Bnp4evQ6FQqHr6+tIJIJ1Gm15ebmvry8nJydRi3qzAACe4zjGmCzLOACA09PTtbU1h8NhMpksFovFYtHlubu7u7CwMDc3t729ndiyvrQvXscihPA8H4vFNjc3RVG8uLhwuVwZGRlGozEUCh0dHR0eHu7v7x8fH0ejUTyM/SZJ49NBAUAUxXg8jmOTyWSz2SRJ4nn+6ekpEAg8PDzA/zBCiMFg+KHI6kR+mILeTSmlOl9sTShAfJ2mafg3AGvNP+2zgwqCoKoquhwVhtyxL/0G69P0LvjLjvhP5xBC/gM8/14cBpbbPQAAAABJRU5ErkJggg==\" alt=\"image\" width=\"100%\" height=\"100%\">\n",
       "            </div>\n",
       "            \n",
       "            <div class='image'>\n",
       "                <img src=\"data:image/png;base64,iVBORw0KGgoAAAANSUhEUgAAABwAAAAcCAIAAAD9b0jDAAAEOElEQVR4nJVWzS8zXRQ/93a+2hptSajQVIgQX5sSYdEuRWIrrNhYlAVWEvwHFmJj4zMiYWEh/gERiZUgaSRN2yA+EiIEo6UdM3PfxfFcoy/v4z2rO3PP/M7vfA+Br0IpZYzhgRDCGLMsC98AgMPhoJS+v7/DfwrJfyaEMUYIoZTiIwBYlmVZFldAQXvfggp2LADIo+lwOAghhmHw7xljnPj/YOpwOBwOBwAYhmGaZp7V34jAT8gOGZmmaRiGXY9S6vF4VFU1DOP5+dk0TVTWdf3fQSCcCPedS3l5ud/v1zQtlUr9xBc9szMgiIU5QYOyLOdyOQAIBoP9/f0tLS2xWGxxcfHi4iIPy44uCALHpZQKqIGIiqKIopjL5URR7OrqGhsbKyoqam9vd7vd8Xj86enp9vZWluWqqiqfz3d/f39wcBCLxQDAMAxKKYIwxj74oxF+6Ojo2N3dZX9E07RMJnN/f391dfXw8JDL5XRdv76+Xltbi0Qi+Iksy4IgfCaKMYZ2MNdNTU0jIyORSCSdTu/v75umWV9f7/F4LMtSVRUArq+vRVEMBALd3d3JZPL4+FjTNF7LhBABuWBYAcDv90ej0d7eXgCYn59fX1/3+/21tbWvr69vb28ejyebzV5eXjY0NExNTfl8vrq6Oq/Xi6CYIULIZ0mhVFdXh8NhAEgkEisrKycnJwCwt7f38vICAC6XK5vNWpaVTqczmYzP58uLHvr6AWrvwkQiQQhZXV2Nx+P4EhExIahZUlJSXFwMALlcDt9waLAXP8rp6enS0pIsy5hWSZIkSTJN0zRNl8tFCNF1vaKiorOz0+l0AsDNzc3r6yunZSf+vVBKFUVRFMXlcqmqiiErKysbHx9/eHhgjB0dHfX09GA+FEURBIEQwmvgt+J2u4eGhi4vLxljd3d3k5OTwWAQCbrd7h854lgCAKfTKUnSR4wEAQD8fv/o6GgqlcKCmZuba2xs5AqSJOFI/AZUlmXsq4KCAkVR0Izb7W5tbZ2Zmbm9vUXEjY2NcDjMZy46juh/iSmXUCi0sLCQTqcZY4+Pj7Ozs21tbaIo4q2iKPaq+hVoc3Pz8vIyEjw7O5uYmAgEAniF7ERR/B7IHgsMEJ5ramqmp6cRMZlMDg8P+3w+vFJVlavhLOZt+UUopZIk8Vx5vd6BgYHT01PGWCKRGBwcLC0t5YYLCgrsnH7MEnxtjFAotLm5yRhLp9PRaFRVVUEQsObtzv09iOgIAIii2NfXp2kaY+zw8BCrx+l0FhYWcrKIyIPALVFujdeELMsAYJqmIAjZbBYAdnZ2zs7OAMAwDE3TwFY6edsM18GXxYcaqG1ZViqV2traopRub29jg3OXKaW6ruOZdz0H/VTi13wxuFyuyspK0zTPz891XVcUhVKazWbxLwanHF9WX7aWvQ5wxtgXg90PnhB7ivIyjoX1DyhJKSB/8Tp+AAAAAElFTkSuQmCC\" alt=\"image\" width=\"100%\" height=\"100%\">\n",
       "            </div>\n",
       "            \n",
       "            <div class='image'>\n",
       "                <img src=\"data:image/png;base64,iVBORw0KGgoAAAANSUhEUgAAABwAAAAcCAIAAAD9b0jDAAAFRklEQVR4nJ1WXWsTSxh+52Nns7u62qotJWCsjWnW0AgtotJYjSiISLBX0oKgUPXSn+ClF/4BQa8EEfQmpV4EPypCKaUUa+2FrRoqdCPBmjS22XY3+zHnYuqenOo5nHPmamb23Wff95nneWcR/M0ghBBCAMB1Xc7534X9dqDf7yKEEAIAzjkhhHOOMUYIeZ4nJpxzz/P+G2g4IpGIJEme5zmOwznnnAvE/5OpJEmUUoQQxrjRaDQajV9jYrEYQsg0zV9T/g2oqqqSJLmuu7Gx0by5Z88ejLFt221tbblc7ty5c8Vi8e7duwsLCwCAMQ6CQExoMxzGmFLqeV4It3PnzlQq1dPTE4vFotGoqqqO46iqeuHCBUVRenp6nj59KkAppaKgIAj+AkoICSuNxWLZbPb06dPpdFrX9c3NTd/3dV3fvXu353mKogDAt2/fLMv6tVbajOi6LgDIspzL5UZGRjKZjKqqADA9PV0oFNbX1zOZTDabVRTF933f99+9e1etVrd4RGg7qNANAOi6PjQ0dOvWLcMwFhcXZ2dnP3z4MD4+PjExoWma4zi6rieTyY6ODsuyisViuVwWCEEQUEoBwPM8wBgTQhhj4tnAwMDU1BTnfGxsrKura1td/f39N2/eHB0d5ZwvLS0NDw+LfVmWwwnGGAS8MA+l9MaNG7Zt+75/5cqVbYi6rlNKGWN37txxHOfly5dHjhwBAMaYrusihjGGEKJCByEvO3bskCQJAOLxeCqVAgBVVdfW1qrV6srKigiLRqO1Wm18fHxubg4AJElijAmPBEHAOf/L6buuWyqV5ubm4vH44ODgsWPHbNteWVkpFosfP35cXFxcX18fGhrK5XLLy8vT09PiLdu2EUKCU3EwW5mGzpuamrp///6JEycOHjxoGMauXbts2y6VSuVyuV6vd3R0nDx5EgBKpdKhQ4fK5fLXr1+r1Wq9Xg85RKEOhIVCshOJxOHDh1OpVFtbW6PR0DQtHo8bhrFv3z4AqNVqX758sSxrdXX1xYsXjx8/FszIsiwYoM2CEC52HGd+fn5+fj6kJZ1Oj4yMdHV1WZY1MTHx5s0bxtjly5f7+/sVRZmdnV1dXRW1+r7/p07FgjGmaZplWds6yKlTp3p7e79///7s2bN8Pv/8+fOWlpbOzk7DMPbu3UsI8TyPECJAEEI0bATwsymIpaZp0Wi0u7v72rVrg4OD1Wr14cOHhUJhZmYmCIJKpbK8vAwAlUrFNE1oMiRjjIoWKc7Ktm3btgGgvb39zJkz2Wy2r6+vt7fXdd0nT548evTINE1xJqLRrK2tvXr16vPnz9DUNxBCW6ChygDg6NGjFy9e7OvrY4wVi8XJycmZmZl8Pv/jx4+QkOvXr2ez2YWFhbGxsbDKUJcQnj7GOBKJnD9/vlAocM4dx3nw4MHAwIDoKc1jeHh4aWmp0Wjcvn07FEwkEgkDtjj1PI9zruu6YRjHjx8X1IjodDrd0tKiaRpjjFKaSCQuXbrU3t4+Ojqaz+cFCkJI8La1lCTJ931RuKIomUzm6tWrZ8+ejUQib9++rdfrhmEcOHDAdd1KpbKxsSEOZHJy8t69e8JUzRoXGkDC6eHtqChKIpFIJpOdnZ379+9PJpPd3d2tra21Wu3Tp0+maZqm+f79+9evX5dKJfh5k4cSFNciCh+IvhuWIMtya2urLMvC1wDged7m5qZlWY7jhBDCMkL52y9aQgilVJj3Xw7xA/Anj82dX8D7vh9+B2MsiBavCQcjhMJfFREPTW2oOU2EEPxzdgghWZYVRQnDCCHNSf0aTyn9A6EXvdCk1a5OAAAAAElFTkSuQmCC\" alt=\"image\" width=\"100%\" height=\"100%\">\n",
       "            </div>\n",
       "            \n",
       "            <div class='image'>\n",
       "                <img src=\"data:image/png;base64,iVBORw0KGgoAAAANSUhEUgAAABwAAAAcCAIAAAD9b0jDAAADaElEQVR4nJVWS0sjXRA9t5+JaSSGEB9R0ERcGDCIoiAu3Lj1T/h3/CtuBDcGN4IQoriQ+NqoCxMVRchC0KT73lmcsaan7ZlvvlrV7b59btU5VXUbAJRSAOhYlsWlZVm2bcur/2VKQJVSdIwxRKcPQGtNn0uJQDYkzBIUpZQxRmtNRGNMFEV8q7XWWie+5xm2baeDEi4eCFEARFFEaLFCoTA9PZ3NZrl0Xdd13W/5f5n1ZT9P+yIXgO/7fF6v13d2dvb29ra3tzOZDD/3PC9OyG/sCKcJcxzHcRz6W1tb3W7XGLO7uzs3N8ezfd+n47outbUSHMlSyFJKhWEIIAiClZWV8fFxAPl8PggCbuNX8YAcpClIlul7nqe1zmQym5ubGxsbfNhsNrvdLkHDMExk6XzPNxH1+/s7gFwut7i4WK/XARweHjYajaenJ9ksYrBsrFRQiVeULRaLtVotCAKtdavVarfbggjAdV2lFOvkl9Zxk4dDQ0OUyHGc1dXV9fV1AM/Pz5eXl29vbwCy2WwURay/MAxZy8aYlPRt25Yi/fj4AFCpVNbW1kqlEoCTk5Pz83OtNessDEPbtll/0iZJ0Hjs4o+Ojs7MzJDfo6Ojm5sbAIPBQGvteR55FELBjkqAkhrf90WrarVaq9UAdLvds7Ozz89PAEzZsiytdb/fj6JIhoYlmgguc1dKDQYDAOVyeWFhYWxsDEC73b6+vgYQBIHneczXGOM4DoX6WQlxEckjlYmiiDU/Ozu7tLTEfI+Pjx8fH0Vu7rdtm0vOoBShiB6Goeg+OTlZrVYB3N/fPzw8cFuv12NAURTJVJPPf+M0ToIMhImJiVwux+gqlQp50Frbts2uD8OQojHMJKiQ4Lou/UKhUCqVeMDU1NTy8vL8/LycKkFIFRIkpfjZSCS0UCgMDw9zetq2zY6SnaxiGceiSjooEQEUi8VisciJ2el0ms3mxcXF9/2JQZ7e+3LsyMhIuVymf3p6enBw8PLyAiCTybDgkDbk/gbq+75E8fr62mq1rq6uZINE9x00pfcl/X6/f3d3t7+/3+l0bm9vG40G54hSik31J0veH7zujTFCK4B8Pq+U6vV6cZX+GzQxR7hkd/8LSjoox5fc+wCUUmyqfr//jwH+AuWYQexOjv83xIdD6s9Iqv0ATigSmC4o3xQAAAAASUVORK5CYII=\" alt=\"image\" width=\"100%\" height=\"100%\">\n",
       "            </div>\n",
       "            \n",
       "            <div class='image'>\n",
       "                <img src=\"data:image/png;base64,iVBORw0KGgoAAAANSUhEUgAAABwAAAAcCAIAAAD9b0jDAAAEoElEQVR4nJ1WzU8TQRSfj/2Y7nY3pVAoNG0vFcQDAgc9kGD0CEZj4kHTGMOVv4Sr/wB3E09wQ+OFiwSQE9qGGhOosC1pu7htKdudGQ9PlloxUd/pzex7v3nv7e+9GYQQwhijSwl1jHHv/j+J0reWUvbphBBVVTHGUkohhJQyCAKEkKIoCCHQ/0r+FCOllFJKCIElIYRSeo1774IQIoQA3TRN0zSllJ7ndTqdXrNIJMI5930fdClln8FV+hjjEDGXy83Pz9++fdswjEajUS6XK5VKqVTa3d2FlA3DEEIEQXB+fs4Yo5RyziGs3gJepTwxMfHq1SvP8+SleJ5XKpXW1tZevHhhGAZCSFGUZDIJueu6Ho1GVVVVLqW/HJFIZHl5uV6vA5zjOAcHB0dHR91uV0r58ePHfD4PlslkMpFIwAEACrqu6/2otm3btl0qlWq12vr6eqFQME0zlUrduXPn8ePHMzMzz58/39nZKRaLjuOMjIxomub7vhCCUtrtdhFCYQ2vRNf1Bw8ePH369NatW737s7Ozq6urEP7KygrEZds2YwwCNE2TEPInPqBrioIQQujJkye7u7tSys+fP8/NzYWZIYQopQD6k3O/OwOfCSHDw8NDQ0PhyR8+fNjY2Li4uEilUpCHqqqxWIwxRgjhnItL6QeF/gHFdV3XdRljAwMDCCHHcfb29gqFAiEkm83ath0Egeu6AAcFhfr0ZxoSLew/IQQwUUrJOdd13TTN4eFh8P/+/TuYwawAXwXWIWN/72UhRK1WA73b7SaTSYRQNBq1LMvzPE3TAJ0x5vs+xPszUigcdEUsFrtx48bY2Bgh5OTkpFKplMtlsL64uIAeOT095ZxblpXNZlutFpwKXKaUKmHWGGOwW1xcfPbs2eTkZKvVajQajuNsbW2tr6+7rjs9Pa2qquu6m5ublUoFIVStVqvVam9mnHMl7E4YEOl0+tGjRw8fPgw3Pc+bnp6em5urVqt37941DOPg4KBYLIJBiBiJRBhjjUYDIaRQSoEH8I0xFo1GQf/69ev29rZhGOPj4/fv32+326Ojo8CkqampVquVSCQ4581mM51Oz8zMHB4evn37tlarKYCoqirMYMdx3r17Nzg4mEqlDg8PP336ZJpmLpeLx+PxeBwOy2QyL1++XFpaymQyZ2dnvu8nEol2u/3mzZvNzU2EkAIxYowh5OPj49evXzebzXw+n06n7927Z5rmzZs3EUKdTqdarQoh6vU6Y2xycnJoaMhxnFqt1mw2C4XC/v7+2dnZ1d8PggD+lZTy+Ph4bW1tYGBgYWHBNE3LslzX/fbt2/v37/f39z3P8zwvHo/ncjnGWKlUKpfLnufV6/UvX76cn58jhHDvtDcMw/d9oOrg4ODs7OzY2Jht2xjjYrG4t7fX+6Mty8IYh+T/RXqHCiEknIyh/Medeo2DZVmc83a73btJCNE0DfrH933f96WUGGPGmK7rnU6n0+mEnXl9FLquw8XAOQ+CQAgBMyHEopT+1eWsqqqmab07mqbpuv4/T4rQh1Kqqur1c/tfMYGe4ZSC1OC65pzD0wFeD5A4FCQ0/uVCvpQfZLmXvmP9g+8AAAAASUVORK5CYII=\" alt=\"image\" width=\"100%\" height=\"100%\">\n",
       "            </div>\n",
       "            \n",
       "            <div class='image'>\n",
       "                <img src=\"data:image/png;base64,iVBORw0KGgoAAAANSUhEUgAAABwAAAAcCAIAAAD9b0jDAAAD00lEQVR4nI2VvU8yTRDA5/bj7sAQiUoQAtFEOBIViYaCQjsTCwsT/wRL/zBjLNSKxlhYmCcxdlDYisWFmOgFDu5r9+4pxnflRdRnisvs7u1vZ2ZnZgG+F03TflgFAEIIpXTGxq8gTdMIIYwxQggOAUAIEUWRlPLnY2ZDkYu4OI4BAL9TggZ+d8YvDn4nhBDDMJIkkVIKIZIk+R3KGOOcM8Z0XcfNnue5riuEmHRI13UkJkmiPPvdUkII5zwIAhyWSqV8Pv/6+trr9fBsSilyEYrKv7pPKT04ODg+Pl5aWmq32xcXF47jmKZJCPF9nxBCCImiSNM0SimbiVheXi6Xy6PRSNO0Wq1WqVQsy9rd3a3VagBg2/b19TVGAH3nnBNChBBInwEtFosnJyeHh4c4tCxrYWFhMBiYpokzQojxeAwAuq5HUZQkiYoSIQQAZkDL5fLGxoZlWa7r+r7v+/7Dw8Pd3R3n/OjoqFAoeJ7neR7+jAGklKLVHzn+FWrb9s3NTafTsW07CAJd17vd7uPjY7PZrNfr+Xwes8LzPNM0XdcFAAwCKpqmzYD2er2zszPf93E4Nzc3Go1Qz2az6XQabwMApJRRFCl7sWSklJ9QQog6UBFhomzW19fX1tYAwHEcZWAqlcJdURRhEIQQDGOB2xhjcRxTSg3DkFLGcaxpmgqfaZqmaUZR5DgOzozHYwSFYYjXhVYTZZGiIzoMwzAMVQnlcrliscgY832/XC5vb28zxjzPwxtHtJQS3WKEENQwewEgCAKcWVlZ2dvbq1aruq7ncrlWq8UYy2Qy9Xq91Wq9vb09Pz9HUYT9DLd8QFWMVWTxj0wms7+/f3p6urOzg3/j5URR5Lqu67qq0rErIuHDV7WGCpYzpvR4PH56evJ9fzgcDofDarXaaDS63e7l5WW73R4MBhgx9E91a03TPrMXjzIMI51O43I+n7csy7KsQqHQarXOz8/jOL66usrlcurqlHOTd8MmzUTvVJfp9/v9fh/1+fn5UqmES5i2nPMwDOGLJElCVD7hhjiOpZSc88kGRgjZ2tpqNpsA8P7+TinFtFNPw9TrwBQeKZqm4YUi1zAMIQSldHFxEaP258+f4XAI/y+QKfmsKDwN6ZielNIkSdBHIYTruv1+v9PpKDu+g5KpMaWUc466lBKJnPNGo5HNZicL7AeZhsJ/fQwAsHcAwOrqaqVSAQDbtrHq4ZtXFuXDfVWjUsogCFQfQ2U4HN7f3zuOc3t7+/Ly8qv7EzaTaasnc6BUKm1ubmazWWXETyy1jE2bc67rujomlUr9++Oo5C/+UC+CAZg1WAAAAABJRU5ErkJggg==\" alt=\"image\" width=\"100%\" height=\"100%\">\n",
       "            </div>\n",
       "            \n",
       "            <div class='image'>\n",
       "                <img src=\"data:image/png;base64,iVBORw0KGgoAAAANSUhEUgAAABwAAAAcCAIAAAD9b0jDAAADXUlEQVR4nJVWzyt0YRQ+773v/TVjzMS4TcxuLFiQhUjZKArZ4K9gYWMrf4JIk409paxtSUohO4pYiISQhBkz93yL55vzXdf9ind17nnP+5zn/HjPexURKaWYmYggU21BDoKAfrk0ETEzcJVSAhqWicgwjCAIfuhAyRkIoCyI+DQMo1qtSjQ/BQ2TEtAgCEA/jC5kc7mcaZq3t7fVavUbqvpHVviKQESu68LGtu1UKgXl6Ojo2tpasVhsb2+HxjTNKCmllGEYYQcQtNa2bUOuq6vDSaXU0tISM19eXg4ODmLX8zwcV0oZkikE+z0V5XIZQrVaRaQ9PT0DAwNEdH9///DwAJrM/NOkS1CmacJZV1fX6uoqM7+9vc3NzTU0NBCRZVli9iUP35fWGoJkIJPJzM/Pl0olZt7c3Ozo6KBQqyQSiUwmI8Yxy7IsyVE6nYayv79/f3+fmW9ubiYnJ6FEJbXWvu/ncjnP8+IRlVISkeM4cJ7P51dWVpC7YrGYzWYRBHYdx/F9P5vNOo4TgxjuJ/lMJBKzs7OPj4/MfHBwMDQ0BN/JZBJJdBwnlUrJ53852rYtbkdGRg4PD5n57u5uamoKes/zXNdFcSzLcl3XcZwYUKkyWEDZ2tq6vr6OwBcWFurr6xEB3JumiYuDppbyfmEqNKWO09PTLy8vzLy9vd3Z2QklCqKUcl1X+GqtJdAviPApDvv6+vb29pj56elpZmYGymQyCQPTNF3X9TwPHHE2en8ihWppaVlcXETgGxsbhUJBgMQYV/wXoMPDw6enp8x8fn4+Pj4OZbiSUhbLsuAgJqcwhad8Po/BwczLy8tyI7GrtZbekHQppf5VP8xOTCcmJk5OTpj57OxsbGwMSgkcRadaFwqCUuqvJKNXa41RlE6ne3t729raiGhra2t3d5dqFRcecgovDZLLzF8uD0ArlQoRFQqF7u5uIvr4+Dg+Pn5+foZBqVQCTUFUSkWGfxRUZmJTU5Pv+0T0/v4uI7VSqcjMBVDkTmM3rlJERHR1dbWzs0NER0dHFxcXUH5+fgp6hATVXmUKP3zYdl23UqngTGNjY3Nz8+vr6/X1dblcxniPfaXDfw6hLNSiQGPH99pvV7i/gBu5wrGPxPeL81cvnYGCRv5/5In91c/EH9GDae0QOpWCAAAAAElFTkSuQmCC\" alt=\"image\" width=\"100%\" height=\"100%\">\n",
       "            </div>\n",
       "            \n",
       "            <div class='image'>\n",
       "                <img src=\"data:image/png;base64,iVBORw0KGgoAAAANSUhEUgAAABwAAAAcCAIAAAD9b0jDAAAEFElEQVR4nL1UvUsrSxQ/M7szSybZXFAMiopfhYpEEQsjwcZYWRhFEAsbGwtjYWVjZSP+E6lS2KitgkognYIGIWrAqCFNFFJF82E2O/OK49t7n8+8K4/HO83OzpzzO1+/cwAaCCFE07RGr44OpfSL+0YGuq4DgJSSc04prdVq9XodADRNY4zVajUpZUPbL28ppUop27YZY4yxcrls2zYAtLS0TE9P+/3+5+fnRCJxe3tbq9W+CwoAiKKUKpVKGFR/f//c3FwkEuns7MxkMvV6PZ/Pv7y8fBcUUQghtm0rpQBgYGBgYWEhEom0tbXh0/v7e7VabRRTQ3G5XIwxzHptbS2dTiul6vX6/v7+6urqwMDAJzVo3LoPwYbgYWpqKh6PK6WUUrFYbHx83DAMVOOcm6bJOdd1nVLqWH0t2H0AGBkZiUajiBiPx2dmZjjnjhpjTNd1xpjb7Xa5XIZh/Pr6tbS3t29vb1uWpZRKJBKhUAidCSFcLpcQAkPWNM00Ta/XK4RoGCnSXgixsbFRKBSUUplMZmlpCV8ppV6vlzHGOf/x44dhGIwxIYQQwuPxcM6/KKrb7UY++f3++fn55ubmarW6t7d3cXFBKaWU6rpeLBYty5JSapqGsyelxOkg5JeBwrwopUIIvFlfXy+VSkqpw8PDYDDYaGoZY83NzW63mzHm8Xh0bJmUklKKHjRNQ2J2dXVNTk4KIUql0vn5+cXFBYZPCOno6OCcF4vF19fXarVqWRYhBK2wnx8tJoQg4XFAAaC/v390dBQACoXC3d2dZVkAEAwGR0ZGent7DcN4enpKJBJXV1dSylKphLkrpQghOn6wKA46IcQ0TZ/PBwDJZPLy8hIAlpeXI5HI0NCQaZoAkM1mPR5PoVDIZrO2bWM0CE0RFHNH9FqtppSSUuKyeHh4ME1zZWVlZ2cnEAiYplkulwGgu7s7GAz29PRwzi3LwkFC8unYPiklRupwnnOOnvr6+jY3N8PhcFNTUz6fPzg4sG17cXGxra1tcHCwqakJ6+gUlBCi449TDtu2seqapmEuoVCIc24YRiqVikajNzc3Y2Nj6M+2bcuysNxSSjxomqYjIgYvpXTWUrFYzOVyra2tpmlWKpVkMnl8fFytVmdnZ8PhcGtrKwCcnJykUinMDLmBIB97xTAMpCHOCQD4fL6tra3Hx0dMKp1OHx0d3d/fqz8lFosFAgGHqn+hLibi3CKB8TwxMXF2dqb+Jjc3N7u7u8PDw59Afs4RVrBer+PByQIAMpnM6empEKKlpQWbmcvl4vH46enp9fV1pVJxNLFiP33gRGHfsTOcc855uVyWUnq9Xo/HgzMuhHh7e8vn8/BbcRa1pmn/tLT/tWDTPhXok8L/4eb39v9ZRN/Bwt38fcw/AA9wI831MlKwAAAAAElFTkSuQmCC\" alt=\"image\" width=\"100%\" height=\"100%\">\n",
       "            </div>\n",
       "            \n",
       "            <div class='image'>\n",
       "                <img src=\"data:image/png;base64,iVBORw0KGgoAAAANSUhEUgAAABwAAAAcCAIAAAD9b0jDAAAEfUlEQVR4nH1WzS87XRS+d3rvnX7odFBSEtKoiiCsLKQaIb42IrHw2TQ2Fv4ICwmJHTv/giZIm2AhiGhoE9GkFhZi0fqIaC0QpTpm5l0cv6st3rvpmZlznznPc545twgVLowxjwVBMBgMgiCgPxYk/PX0GwsCjDEhhDEGezDGlFKeLMtyWVkZh8uvAxaBH13Xi94hCIKmaaqqIoREUeQJXq+3s7MzmUzu7Ow8PT1BvZD2zaAICzZrmqbruqZpsMdsNn98fCCEamtrp6amuru7GWOAKIriTwUKQIvkA1Cj0fj5+Ql3RkdHe3t70+n00dER3GGMQdrv6mOMuToGg4ExBrHFYoGgo6MjHA6fnZ319/fDHZvNVlJSwtG57t/Yuq4Dd0EQCCG5XA7YAXGr1To+Pu5wOPb29g4PD+GRqqqvr6+wXVVVRVFg+y92MRgMAIQx5tx9Pp/X6z0/Pw8Gg7lcjhBis9kgjRBiNpuhVwaD4ReT5b9GlmUIurq6Dg4OotHo5OQkISSfOCFEkiRJkkA6SikkFMjKY7vdDo9ramoCgUAymVxaWiorK/uVmSiKhBCwc0Gl+TVKkmQ2m2HDwsLC7e3t2tpabW1tPpYoivlbjEajIAhg8O9SKaWgkclk0jTt7e0NITQ2NjY8PJxIJFZWVq6vrxFCbre7qanJbreLovj4+Hh8fHx3dycIAmNMURSwFwHD868CY2yxWB4fHxFCbW1t4+PjmUxmdXU1Go0ihPx+/+DgYGlpqa7rsiy/vLxQSjc2NrLZLPfyd/cFQYC7JpPp/f0d6IyMjFit1kAgEAqFKisrFxcX5+bmXC5XPB6PxWKU0tbW1ubmZhBKURT8b5H8rx4UAev19PS0t7dfXl4eHR05nc6ZmZmhoaHr6+vl5eVQKORwOGpqaux2ey6XA9GAq67rGGMC16CFKIpQr9Vq9Xg8kiQ9PDy43e7h4eGBgYHT09OFhYVwOIwQen9/VxTl4uIiFotlMhloCZj/S1POXRAE4O50Ol0uFwxAr9fb19d3c3MzPz9/cnKCEKqqqvL7/Q6HIxaLRSIR7hyoDGNM+GQCA0EsyzJ0I5vNZjKZQCCwvr4OiC0tLbOzs62trYlEYn9/P51OI4QYYyDCV6X8ky/yM2OMMZZKpfb29hKJBFBxOp3T09ONjY1XV1ebm5t8VkGjIFBV9dunGGM+a5+fn29ubhoaGqqrq00mk81mkyTJ4/H09/fLshyJRLa3t4H4zzJVVf06PKBYxhgMJ5hJExMTpaWlyWTy4+PDbreXl5enUqmtra1QKJRMJjknXgpveMHxQgihlEKv6uvrfT5fX19fRUWFoijPz8/xeDwYDO7u7kIFMJCgiKJVAIoxFkUxm83CpSzLdXV1JSUl2Ww2lUrd39/zkWixWDKZzM9mFGDxmFLKZ/6vi1LKz4I/AeGHy4EQgr6Dn7heMLBVVf2V75+gGGM4ROEOuIpSqmmapmmKonDT8ISikzkP9R93Qkjx0P6rkB//HooT8l8IMwZGt6qqXBBA+b+2FK7/AJFLHObwilDjAAAAAElFTkSuQmCC\" alt=\"image\" width=\"100%\" height=\"100%\">\n",
       "            </div>\n",
       "            \n",
       "            <div class='image'>\n",
       "                <img src=\"data:image/png;base64,iVBORw0KGgoAAAANSUhEUgAAABwAAAAcCAIAAAD9b0jDAAAD+ElEQVR4nKVWS08ySxCtmZ4XMANEQJFR8mnUsFAJSFwYV7rQrUvjwsT/ZfwRbnWLRo3GEKMJgVFQEA0qgzAwz7soM87Fx83NVwtSdHWfPnWqqoGCvzCaph3HQd91fjNCCE3TAEBRFDouEDoURf0NoR8Ncb+i/8dtNE0Hg0HDMDqdjrti2zZiMQwDAI7j4Ap+/gaaSCQymUwul5Mk6erq6uDgoFqtAkAgENA0zT0/QPw3ZcfHx3d2dvL5vOM4juPs7e0lk0kM+Xw+dBiG8WrtNebbVUxNFEX82mw2m80m5u4qKAiCaZro67r+mTtFfQ9aqVQODw8nJyenpqa63a6iKHje5/MZhoF7er0eLvI8z/O8pmku6Pf8AaBUKt3f3+u63m63VVVFIpZlWZaFlF2a/X5f13UsGgA4jjMIynEcqub3+ycmJkKhEAAoioIEe70egrIsG41Gw+EwympZlncKBjuZoiiWZRF0eHgYAPL5/Pn5OUaHhoYIIQAgSdL6+vr29vbCwgKGXKbgFophGOTiOA62JCEkEAg0Go3j4+NutwsAyWSSoqiXlxcAkGV5c3MzEonUarXT01P495gyKJDbHIIgqKoKAMvLyysrKwCAKISQVqvVbrdx28zMTDqd9g6F12gERaUIIViQWCy2tbUVCoWazWaxWETVWq0WRkVRzGQyoiiWSqVKpYJA3nFgBphjptlsNp1OA8DJyUmtVsPQ9PS0LMuSJM3Ozm5sbEiSVKlUMC1CCMMwbj8wbn3cVVmWc7mcLMtY5bW1Ncuy/vz5Mzc3F41Ge71ePB5PpVLIrt/vYx7eUjP4JlIURQgxTZPjuFQqtbq6yvM8ACwtLSUSCb/fz3GcrusPDw+lUklV1fn5eew/N0uXJkVRDEVReA+GHccJh8PxeBx3PD4+3t3dPT09lctlRVHK5fLt7W0mk0kmk4uLizzPY/8RQrAqH1JglZAsABiGUavV8vm8pmk3Nzf7+/uFQqFaraJ2aBcXFyg9y7LoCILgzoXjOMzXR6xQKOzu7sZisWKxeH19/bVjRkZGcC46nc7r6yvm7raQaZqfY2DbNtbq/f396OjIi4LTEovFAKBer3Mch+1p23YwGFRVtd/veyfq4ymzbRtvQ41cI4SEw2G8X9M0xKrX64qiAMDo6GgikXA5fZLwPgS6rrMsKwiCYRioMsuy7hP39vaGO1VVbTQa7XZb0zSO434DRTMMwzRN9ymwLAtfEADw+/2EEJzUs7Mzn893eXn5/Pz8VfQPwz79NkQIwZAoipIk4WIkEslms2NjYz8iDhweMJyC/2feHy/vqP30X8Fb5R8xvee9RXN9mqYFQXALQtM0z/O//D2hafofpQwfKYKeJbsAAAAASUVORK5CYII=\" alt=\"image\" width=\"100%\" height=\"100%\">\n",
       "            </div>\n",
       "            \n",
       "        </div>\n",
       "        <div class=\"info-bar\">\n",
       "            <ul>\n",
       "                \n",
       "                    <li>\n",
       "                        <span></span>\n",
       "                    </li>\n",
       "                \n",
       "            </ul>\n",
       "        </div>\n",
       "    </div>\n",
       "</body>\n",
       "</html>"
      ],
      "text/plain": [
       "<IPython.core.display.HTML object>"
      ]
     },
     "metadata": {},
     "output_type": "display_data"
    },
    {
     "name": "stderr",
     "output_type": "stream",
     "text": [
      "loss: 0.0051: 100%|██████████| 1000/1000 [00:30<00:00, 33.21it/s]\n"
     ]
    }
   ],
   "source": [
    "rng = jax.random.PRNGKey(0)\n",
    "opt = optax.adam(1e-3)\n",
    "params = init_params(rng, cfg)\n",
    "opt_state = opt.init(params)\n",
    "update = jit(partial(update_fn, opt))\n",
    "pbar = tqdm(range(1000))\n",
    "z_seed = jax.random.normal(rng, (1, calculate_latent_dim(cfg)))\n",
    "\n",
    "for i in pbar:\n",
    "    x = mnist_x_batches[i]\n",
    "    loss, params, opt_state = update(opt_state, params, x, x)\n",
    "    recon = apply_fn(params, mnist_x_batches[0])\n",
    "    pbar.set_description(f'loss: {loss:.4f}')\n",
    "    syrkis.training.plot_multiples(recon)"
   ]
  },
  {
   "cell_type": "markdown",
   "metadata": {},
   "source": [
    "## Testing"
   ]
  },
  {
   "cell_type": "code",
   "execution_count": 39,
   "metadata": {},
   "outputs": [
    {
     "name": "stderr",
     "output_type": "stream",
     "text": [
      "loss : 0.014: 100%|██████████| 1000/1000 [00:06<00:00, 147.47it/s]\n"
     ]
    }
   ],
   "source": [
    "rng = jax.random.PRNGKey(0)\n",
    "keys = jax.random.split(rng, 10)\n",
    "mnist = syrkis.data.mnist() if 'mnist' not in locals() else eval('mnist')\n",
    "mnist_x, mnist_y = mnist\n",
    "mnist_x_batches = mnist_x.reshape(-1, 60, 28, 28, 1)\n",
    "mnist_y_batches = mnist_y.reshape(-1, 60)"
   ]
  }
 ],
 "metadata": {
  "kernelspec": {
   "display_name": "Python 3 (ipykernel)",
   "language": "python",
   "name": "python3"
  },
  "language_info": {
   "codemirror_mode": {
    "name": "ipython",
    "version": 3
   },
   "file_extension": ".py",
   "mimetype": "text/x-python",
   "name": "python",
   "nbconvert_exporter": "python",
   "pygments_lexer": "ipython3",
   "version": "3.11.4"
  },
  "orig_nbformat": 4
 },
 "nbformat": 4,
 "nbformat_minor": 2
}
