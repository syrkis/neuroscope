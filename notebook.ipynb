{
 "cells": [
  {
   "attachments": {},
   "cell_type": "markdown",
   "metadata": {},
   "source": [
    "# Neuroscape playground"
   ]
  },
  {
   "cell_type": "code",
   "execution_count": null,
   "metadata": {},
   "outputs": [],
   "source": [
    "# imports\n",
    "import src\n",
    "import importlib\n",
    "importlib.reload(src);\n",
    "from matplotlib import pyplot as plt\n",
    "# black background\n",
    "plt.style.use('dark_background')"
   ]
  },
  {
   "cell_type": "code",
   "execution_count": null,
   "metadata": {},
   "outputs": [],
   "source": [
    "args_list = ['--subject', 'subj05',\n",
    "             '--batch_size', '10',\n",
    "             '--n', '100',\n",
    "             'n_steps', '100']"
   ]
  },
  {
   "cell_type": "code",
   "execution_count": null,
   "metadata": {},
   "outputs": [],
   "source": [
    "conf, args = src.get_config(), src.get_args(args_list)\n",
    "train_loader, val_loader, _ = src.get_loaders(conf, args)\n",
    "params, metrics = src.train(conf, train_loader, val_loader)"
   ]
  },
  {
   "cell_type": "code",
   "execution_count": null,
   "metadata": {},
   "outputs": [],
   "source": [
    "fig, axes = plt.subplots(1, 2, figsize=(15, 5), dpi=100)\n",
    "axes[0].plot(metrics['train_loss'], label='train')\n",
    "axes[0].plot(metrics['val_loss'], label='val')\n",
    "axes[0].set_title('loss')\n",
    "axes[0].legend()\n",
    "axes[1].plot(metrics['train_acc'], label='train')\n",
    "axes[1].plot(metrics['val_acc'], label='val')\n",
    "axes[1].set_title('accuracy')\n",
    "axes[1].legend()\n",
    "plt.show()"
   ]
  },
  {
   "cell_type": "code",
   "execution_count": null,
   "metadata": {},
   "outputs": [],
   "source": []
  }
 ],
 "metadata": {
  "kernelspec": {
   "display_name": "base",
   "language": "python",
   "name": "python3"
  },
  "language_info": {
   "codemirror_mode": {
    "name": "ipython",
    "version": 3
   },
   "file_extension": ".py",
   "mimetype": "text/x-python",
   "name": "python",
   "nbconvert_exporter": "python",
   "pygments_lexer": "ipython3",
   "version": "3.10.9"
  },
  "orig_nbformat": 4
 },
 "nbformat": 4,
 "nbformat_minor": 2
}
