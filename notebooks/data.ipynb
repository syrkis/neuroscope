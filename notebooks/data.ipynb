{
 "cells": [
  {
   "cell_type": "code",
   "execution_count": null,
   "metadata": {},
   "outputs": [],
   "source": [
    "import sys; sys.path.append(\"..\")\n",
    "from src.data import get_loaders\n",
    "from src.utils import get_setup\n",
    "from matplotlib import pyplot as plt\n",
    "from jax import numpy as jnp"
   ]
  },
  {
   "cell_type": "code",
   "execution_count": null,
   "metadata": {},
   "outputs": [],
   "source": [
    "batch_size = 32\n",
    "n_samples = 256\n",
    "# force lint test"
   ]
  },
  {
   "cell_type": "code",
   "execution_count": null,
   "metadata": {},
   "outputs": [],
   "source": [
    "args_list = [\n",
    "    \"--model\",\n",
    "    \"fmri2cat\",\n",
    "    \"--roi\",\n",
    "    \"V1d,V1v\",\n",
    "    \"--machine\",\n",
    "    \"local\",\n",
    "    \"--subject\",\n",
    "    \"subj05\",\n",
    "    \"--batch_size\",\n",
    "    str(batch_size),\n",
    "    \"--n_samples\",\n",
    "    str(n_samples),\n",
    "    \"--n_steps\",\n",
    "    \"100\",\n",
    "]"
   ]
  },
  {
   "cell_type": "code",
   "execution_count": null,
   "metadata": {},
   "outputs": [],
   "source": [
    "args, config = get_setup(args_list)\n",
    "k_fold, test_loader = get_loaders(args, config)\n",
    "train_loader, val_loader = next(k_fold)"
   ]
  },
  {
   "cell_type": "code",
   "execution_count": null,
   "metadata": {},
   "outputs": [],
   "source": [
    "\n",
    "img, cat, sup, cap, fmri = next(train_loader)\n",
    "fix, axes = plt.subplots(5, 5, figsize=(24, 24))\n",
    "for i, ax in enumerate(axes.flatten()):\n",
    "    floored_square_root_of_fmri = int(jnp.floor(jnp.sqrt(fmri.shape[-1])))\n",
    "    sample = fmri[i][:floored_square_root_of_fmri ** 2].reshape(floored_square_root_of_fmri, -1)\n",
    "    ax.imshow(sample, cmap=\"gray\")\n"
   ]
  }
 ],
 "metadata": {
  "kernelspec": {
   "display_name": "neuroscope-u3YaEsBI-py3.11",
   "language": "python",
   "name": "python3"
  },
  "language_info": {
   "codemirror_mode": {
    "name": "ipython",
    "version": 3
   },
   "file_extension": ".py",
   "mimetype": "text/x-python",
   "name": "python",
   "nbconvert_exporter": "python",
   "pygments_lexer": "ipython3",
   "version": "3.11.3"
  },
  "orig_nbformat": 4
 },
 "nbformat": 4,
 "nbformat_minor": 2
}
