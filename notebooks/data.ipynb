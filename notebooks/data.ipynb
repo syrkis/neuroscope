{
 "cells": [
  {
   "cell_type": "code",
   "execution_count": null,
   "metadata": {},
   "outputs": [],
   "source": [
    "import sys\n",
    "\n",
    "sys.path.append(\"..\")\n",
    "from src.data import get_loaders\n",
    "from src.utils import get_setup"
   ]
  },
  {
   "cell_type": "code",
   "execution_count": null,
   "metadata": {},
   "outputs": [],
   "source": [
    "batch_size = 32\n",
    "n_samples = 100"
   ]
  },
  {
   "cell_type": "code",
   "execution_count": null,
   "metadata": {},
   "outputs": [],
   "source": [
    "args_list = [\n",
    "    \"--model\",\n",
    "    \"fmri2cat\",\n",
    "    \"--roi\",\n",
    "    \"V1d,V1v\",\n",
    "    \"--machine\",\n",
    "    \"local\",\n",
    "    \"--subject\",\n",
    "    \"subj05\",\n",
    "    \"--batch_size\",\n",
    "    str(batch_size),\n",
    "    \"--n_samples\",\n",
    "    str(n_samples),\n",
    "    \"--n_steps\",\n",
    "    \"100\",\n",
    "]"
   ]
  },
  {
   "cell_type": "code",
   "execution_count": null,
   "metadata": {},
   "outputs": [],
   "source": [
    "args, config = get_setup(args_list)\n",
    "train_loader, val_loader, _ = get_loaders(args, config)  # TODO: switch to kfold\n",
    "img, cat, supers, captions, lh_fmri_roi, rh_fmri_roi = next(train_loader)"
   ]
  },
  {
   "cell_type": "code",
   "execution_count": null,
   "metadata": {},
   "outputs": [],
   "source": []
  },
  {
   "cell_type": "code",
   "execution_count": null,
   "metadata": {},
   "outputs": [],
   "source": []
  }
 ],
 "metadata": {
  "kernelspec": {
   "display_name": "neuroscope-u3YaEsBI-py3.11",
   "language": "python",
   "name": "python3"
  },
  "language_info": {
   "codemirror_mode": {
    "name": "ipython",
    "version": 3
   },
   "file_extension": ".py",
   "mimetype": "text/x-python",
   "name": "python",
   "nbconvert_exporter": "python",
   "pygments_lexer": "ipython3",
   "version": "3.11.3"
  },
  "orig_nbformat": 4
 },
 "nbformat": 4,
 "nbformat_minor": 2
}
