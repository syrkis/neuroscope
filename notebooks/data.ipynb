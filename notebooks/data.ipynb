{
 "cells": [
  {
   "cell_type": "code",
   "execution_count": 1,
   "metadata": {},
   "outputs": [],
   "source": [
    "from src.utils import get_args_and_config\n",
    "from src.data import get_data\n",
    "from src.train import train"
   ]
  },
  {
   "cell_type": "code",
   "execution_count": 2,
   "metadata": {},
   "outputs": [
    {
     "ename": "AttributeError",
     "evalue": "'Namespace' object has no attribute 'subjects'",
     "output_type": "error",
     "traceback": [
      "\u001b[0;31m---------------------------------------------------------------------------\u001b[0m",
      "\u001b[0;31mAttributeError\u001b[0m                            Traceback (most recent call last)",
      "Cell \u001b[0;32mIn[2], line 2\u001b[0m\n\u001b[1;32m      1\u001b[0m args, config \u001b[39m=\u001b[39m get_args_and_config()\n\u001b[0;32m----> 2\u001b[0m data \u001b[39m=\u001b[39m get_data(args, config)\n",
      "File \u001b[0;32m~/neuroscope/src/data.py:18\u001b[0m, in \u001b[0;36mget_data\u001b[0;34m(args, config)\u001b[0m\n\u001b[1;32m     17\u001b[0m \u001b[39mdef\u001b[39;00m \u001b[39mget_data\u001b[39m(args, config): \n\u001b[0;32m---> 18\u001b[0m     data \u001b[39m=\u001b[39m {subject: \u001b[39mNone\u001b[39;00m \u001b[39mfor\u001b[39;00m subject \u001b[39min\u001b[39;00m args\u001b[39m.\u001b[39;49msubjects\u001b[39m.\u001b[39msplit(\u001b[39m\"\u001b[39m\u001b[39m,\u001b[39m\u001b[39m\"\u001b[39m)}\n\u001b[1;32m     19\u001b[0m     \u001b[39mfor\u001b[39;00m subject \u001b[39min\u001b[39;00m args\u001b[39m.\u001b[39msubjects\u001b[39m.\u001b[39msplit(\u001b[39m\"\u001b[39m\u001b[39m,\u001b[39m\u001b[39m\"\u001b[39m):\n\u001b[1;32m     20\u001b[0m \u001b[39m        \u001b[39m\u001b[39m\"\"\"return a test data loader, and a k-fold cross validation generator\"\"\"\u001b[39;00m\n",
      "\u001b[0;31mAttributeError\u001b[0m: 'Namespace' object has no attribute 'subjects'"
     ]
    }
   ],
   "source": [
    "args, config = get_args_and_config()\n",
    "data = get_data(args, config)"
   ]
  },
  {
   "cell_type": "code",
   "execution_count": null,
   "metadata": {},
   "outputs": [],
   "source": []
  }
 ],
 "metadata": {
  "kernelspec": {
   "display_name": "Python 3 (ipykernel)",
   "language": "python",
   "name": "python3"
  },
  "language_info": {
   "codemirror_mode": {
    "name": "ipython",
    "version": 3
   },
   "file_extension": ".py",
   "mimetype": "text/x-python",
   "name": "python",
   "nbconvert_exporter": "python",
   "pygments_lexer": "ipython3",
   "version": "3.11.3"
  },
  "orig_nbformat": 4
 },
 "nbformat": 4,
 "nbformat_minor": 2
}
