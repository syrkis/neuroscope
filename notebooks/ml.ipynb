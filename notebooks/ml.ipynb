{
 "cells": [
  {
   "attachments": {},
   "cell_type": "markdown",
   "metadata": {},
   "source": [
    "# Neuroscape playground"
   ]
  },
  {
   "cell_type": "code",
   "execution_count": 4,
   "metadata": {},
   "outputs": [],
   "source": [
    "# imports\n",
    "import haiku as hk\n",
    "import optax\n",
    "import jax\n",
    "import jax.numpy as jnp\n",
    "from jax import random, grad, jit, vmap, lax\n",
    "import sys; sys.path.append(\"..\")\n",
    "import src\n",
    "from matplotlib import pyplot as plt\n",
    "import numpy as np\n",
    "from tqdm import tqdm\n",
    "import wandb\n",
    "# black background"
   ]
  },
  {
   "cell_type": "code",
   "execution_count": 5,
   "metadata": {},
   "outputs": [
    {
     "data": {
      "text/plain": [
       "[StreamExecutorGpuDevice(id=0, process_index=0, slice_index=0)]"
      ]
     },
     "execution_count": 5,
     "metadata": {},
     "output_type": "execute_result"
    }
   ],
   "source": [
    "plt.style.use('dark_background')\n",
    "jax.devices()"
   ]
  },
  {
   "attachments": {},
   "cell_type": "markdown",
   "metadata": {},
   "source": [
    "## machine learning"
   ]
  },
  {
   "cell_type": "code",
   "execution_count": 6,
   "metadata": {},
   "outputs": [],
   "source": [
    "n_steps = 5000\n",
    "batch_size = 32\n",
    "n_samples = 2 ** 13"
   ]
  },
  {
   "cell_type": "code",
   "execution_count": 7,
   "metadata": {},
   "outputs": [],
   "source": [
    "\n",
    "args_list = [\n",
    "    '--model', 'fmri2cat',\n",
    "    '--roi', 'V1d',\n",
    "    '--machine', 'local',\n",
    "    '--subject', 'subj05',\n",
    "    '--batch_size', str(batch_size),\n",
    "    '--n_samples', str(n_samples),\n",
    "    '--n_steps', str(n_steps),\n",
    "    ]"
   ]
  },
  {
   "cell_type": "code",
   "execution_count": 8,
   "metadata": {},
   "outputs": [
    {
     "name": "stderr",
     "output_type": "stream",
     "text": [
      "100%|██████████| 6297/6297 [00:49<00:00, 126.30it/s]\n",
      "100%|██████████| 1575/1575 [00:12<00:00, 129.73it/s]\n"
     ]
    }
   ],
   "source": [
    "config, args = src.get_setup(args_list)\n",
    "# if variable called lh not in scope\n",
    "if 'lh' not in locals():\n",
    "    train_loader, val_loader, _ = src.get_loaders(args, config)\n",
    "    img, cat, sup, cap, lh, rh =  next(train_loader)\n",
    "    img, cat, sup, cap, lh, rh =  next(val_loader)"
   ]
  },
  {
   "cell_type": "code",
   "execution_count": 9,
   "metadata": {},
   "outputs": [],
   "source": [
    "def target_distribution(train_loader, steps=n_samples // batch_size):\n",
    "    \"\"\"Compute the target distribution for the training data.\"\"\"\n",
    "    _, cat, _, _, _, _ = next(train_loader)\n",
    "    freqs = jnp.zeros_like(cat[0])\n",
    "    for _ in tqdm(range(steps)):\n",
    "        _, cat, _, _, _, _ = next(train_loader)\n",
    "        freqs += jnp.sum(cat, axis=0)\n",
    "    probs = freqs / (steps * batch_size)\n",
    "    return probs\n",
    "\n",
    "def plot_metrics(metrics):\n",
    "    fig, axes = plt.subplots(1, 2, figsize=(15, 5), dpi=100)\n",
    "    for k, v in metrics.items():\n",
    "        if k.endswith('loss'):\n",
    "            axes[0].plot(v, label=k[:-5])\n",
    "        if k.endswith('f1'):\n",
    "            axes[1].plot(v, label=k[:-3])\n",
    "    axes[0].set_title('loss')\n",
    "    axes[0].legend()\n",
    "    axes[1].set_title('f1')\n",
    "    axes[1].legend()\n",
    "    plt.show()"
   ]
  },
  {
   "cell_type": "code",
   "execution_count": 10,
   "metadata": {},
   "outputs": [],
   "source": [
    "def network_fn(x):\n",
    "    mlp = hk.Sequential([\n",
    "        hk.Linear(128), jax.nn.gelu,\n",
    "        hk.Linear(128), jax.nn.gelu,\n",
    "        hk.Linear(128), jax.nn.gelu,\n",
    "        hk.Linear(80), jax.nn.sigmoid,\n",
    "    ])\n",
    "    return mlp(x)"
   ]
  },
  {
   "cell_type": "code",
   "execution_count": 11,
   "metadata": {},
   "outputs": [
    {
     "name": "stderr",
     "output_type": "stream",
     "text": [
      "100%|██████████| 256/256 [00:04<00:00, 63.03it/s]\n"
     ]
    }
   ],
   "source": [
    "init, forward = hk.without_apply_rng(hk.transform(network_fn))\n",
    "scheduler = optax.cosine_decay_schedule(1e-3, n_steps, 1e-5)\n",
    "optimizer = optax.adam(scheduler)\n",
    "probs = target_distribution(train_loader)"
   ]
  },
  {
   "cell_type": "code",
   "execution_count": 16,
   "metadata": {},
   "outputs": [],
   "source": [
    "@jit\n",
    "def update(params, x, y, opt_state):\n",
    "    grads = grad(loss_fn)(params, x, y)\n",
    "    updates, opt_state = optimizer.update(grads, opt_state)\n",
    "    new_params = optax.apply_updates(params, updates)\n",
    "    return new_params, opt_state\n",
    "\n",
    "def f1_score(params, x, y, pred=None):\n",
    "    pred = forward(params, x) > 0.5 if pred is None else pred\n",
    "    pred, y = pred.astype('int32'), y.astype('int32')\n",
    "    tp = jnp.sum(pred * y)\n",
    "    fp = jnp.sum(pred * (1 - y))\n",
    "    fn = jnp.sum((1 - pred) * y)\n",
    "    return 2 * tp / (2 * tp + fp + fn)\n",
    "\n",
    "def loss_fn(params, x, y, pred=None):\n",
    "    # soft f1 loss (account for base line with 0's and 1's)\n",
    "    pred = forward(params, x) if pred is None else pred\n",
    "    tp = jnp.sum(pred * y)\n",
    "    fp = jnp.sum(pred * (1 - y))\n",
    "    fn = jnp.sum((1 - pred) * y)\n",
    "    return 1 - (2 * tp) / (2 * tp + fp + fn)\n",
    "\n",
    "\n",
    "def baseline(params, x, y, probs, rng):\n",
    "    pred = random.uniform(next(rng), (x.shape[0], 80)) < probs\n",
    "    loss = loss_fn(params, x, y, pred)\n",
    "    f1 = f1_score(params, x, y, pred)\n",
    "    return loss, f1\n",
    "\n",
    "def evaluate(params, train_loader, val_loader, probs, rng, steps=20):\n",
    "    train_loss, train_f1, val_loss, val_f1, base_loss, base_f1 = [], [], [], [], [], []\n",
    "    for _ in range(steps):\n",
    "        _, y, _, _, lh, rh = next(train_loader)       # training\n",
    "        x = jnp.concatenate([lh, rh], axis=1)\n",
    "        train_loss.append(loss_fn(params, x, y))\n",
    "        train_f1.append(f1_score(params, x, y))\n",
    "        _, val_y, _, _, val_lh, val_rh = next(val_loader)         # validation\n",
    "        val_x = jnp.concatenate([val_lh, val_rh], axis=1)\n",
    "        val_loss.append(loss_fn(params, val_x, val_y))\n",
    "        val_f1.append(f1_score(params, val_x, val_y))\n",
    "        b_loss, b_f1 = baseline(params, val_x, val_y, probs, rng) # baseline\n",
    "        base_loss.append(b_loss)\n",
    "        base_f1.append(b_f1)\n",
    "    return dict(\n",
    "        train_loss=np.mean(train_loss),\n",
    "        train_f1=np.mean(train_f1),\n",
    "        val_loss=np.mean(val_loss),\n",
    "        val_f1=np.mean(val_f1),\n",
    "        base_loss=np.mean(base_loss),\n",
    "        base_f1=np.mean(base_f1),\n",
    "    )\n",
    "\n",
    "def train(params, state, train_loader, val_loader, probs, rng, steps=n_steps):\n",
    "    wandb.init(project='neuroscope', entity='syrkis', config=args)\n",
    "    for step in tqdm(range(steps)):\n",
    "        _, y, _, _, lh, rh = next(train_loader)\n",
    "        x = jnp.concatenate([lh, rh], axis=1)\n",
    "        params, state = update(params, x, y, state)\n",
    "        if step % (steps // 100) == 0:\n",
    "            wandb.log(evaluate(params, train_loader, val_loader, probs, rng))\n",
    "    wandb.finish()\n",
    "    return params, state\n"
   ]
  },
  {
   "cell_type": "code",
   "execution_count": 19,
   "metadata": {},
   "outputs": [
    {
     "data": {
      "text/html": [
       "Finishing last run (ID:m4az4ls0) before initializing another..."
      ],
      "text/plain": [
       "<IPython.core.display.HTML object>"
      ]
     },
     "metadata": {},
     "output_type": "display_data"
    },
    {
     "data": {
      "text/html": [
       "Waiting for W&B process to finish... <strong style=\"color:green\">(success).</strong>"
      ],
      "text/plain": [
       "<IPython.core.display.HTML object>"
      ]
     },
     "metadata": {},
     "output_type": "display_data"
    },
    {
     "data": {
      "text/html": [
       "<style>\n",
       "    table.wandb td:nth-child(1) { padding: 0 10px; text-align: left ; width: auto;} td:nth-child(2) {text-align: left ; width: 100%}\n",
       "    .wandb-row { display: flex; flex-direction: row; flex-wrap: wrap; justify-content: flex-start; width: 100% }\n",
       "    .wandb-col { display: flex; flex-direction: column; flex-basis: 100%; flex: 1; padding: 10px; }\n",
       "    </style>\n",
       "<div class=\"wandb-row\"><div class=\"wandb-col\"><h3>Run history:</h3><br/><table class=\"wandb\"><tr><td>base_f1</td><td>▁▂▁▂▃▄▄▁▂▃▂▄▃▄▇▇▆▅▇▆██▆▇▆▅▅▃▃▃▆▄▂▄▃▅▅▄▄▄</td></tr><tr><td>base_loss</td><td>█▇█▇▆▅▅█▇▆▇▅▆▅▂▂▃▄▂▃▁▁▃▂▃▄▄▆▆▆▃▅▇▅▆▄▄▅▅▅</td></tr><tr><td>train_f1</td><td>▁▃▃▆▇▆▅▄▆▅▅▇▄▅▅▆▆▅▆▆▆▅▆▅▆▆▆▆█▅▅█▅▅▆▆▅▆▇▆</td></tr><tr><td>train_loss</td><td>█▆▆▃▂▃▄▅▃▄▄▂▅▄▄▃▃▄▃▃▃▄▃▄▃▃▃▃▁▄▄▁▄▄▃▃▄▃▂▃</td></tr><tr><td>val_f1</td><td>▁▂▄▅▆██▅▆▅▆▅▅▆▆▆▅▅▄▆▇▆▆▅▆▅▆▆▆▅▆▆▅▆▅▆▆▅▆▆</td></tr><tr><td>val_loss</td><td>█▇▅▄▃▁▁▄▃▄▃▄▄▃▃▃▄▄▅▃▂▃▃▄▃▄▃▃▃▄▃▃▄▃▄▃▃▄▃▃</td></tr></table><br/></div><div class=\"wandb-col\"><h3>Run summary:</h3><br/><table class=\"wandb\"><tr><td>base_f1</td><td>0.13507</td></tr><tr><td>base_loss</td><td>0.86493</td></tr><tr><td>train_f1</td><td>0.25028</td></tr><tr><td>train_loss</td><td>0.74972</td></tr><tr><td>val_f1</td><td>0.26135</td></tr><tr><td>val_loss</td><td>0.73865</td></tr></table><br/></div></div>"
      ],
      "text/plain": [
       "<IPython.core.display.HTML object>"
      ]
     },
     "metadata": {},
     "output_type": "display_data"
    },
    {
     "data": {
      "text/html": [
       " View run <strong style=\"color:#cdcd00\">celestial-brook-13</strong> at: <a href='https://wandb.ai/syrkis/neuroscope/runs/m4az4ls0' target=\"_blank\">https://wandb.ai/syrkis/neuroscope/runs/m4az4ls0</a><br/>Synced 5 W&B file(s), 0 media file(s), 0 artifact file(s) and 0 other file(s)"
      ],
      "text/plain": [
       "<IPython.core.display.HTML object>"
      ]
     },
     "metadata": {},
     "output_type": "display_data"
    },
    {
     "data": {
      "text/html": [
       "Find logs at: <code>./wandb/run-20230516_173322-m4az4ls0/logs</code>"
      ],
      "text/plain": [
       "<IPython.core.display.HTML object>"
      ]
     },
     "metadata": {},
     "output_type": "display_data"
    },
    {
     "data": {
      "text/html": [
       "Successfully finished last run (ID:m4az4ls0). Initializing new run:<br/>"
      ],
      "text/plain": [
       "<IPython.core.display.HTML object>"
      ]
     },
     "metadata": {},
     "output_type": "display_data"
    },
    {
     "data": {
      "text/html": [
       "Tracking run with wandb version 0.15.2"
      ],
      "text/plain": [
       "<IPython.core.display.HTML object>"
      ]
     },
     "metadata": {},
     "output_type": "display_data"
    },
    {
     "data": {
      "text/html": [
       "Run data is saved locally in <code>/home/nobr/neuroscope/wandb/run-20230516_174354-phbla2vm</code>"
      ],
      "text/plain": [
       "<IPython.core.display.HTML object>"
      ]
     },
     "metadata": {},
     "output_type": "display_data"
    },
    {
     "data": {
      "text/html": [
       "Syncing run <strong><a href='https://wandb.ai/syrkis/neuroscope/runs/phbla2vm' target=\"_blank\">frosty-moon-14</a></strong> to <a href='https://wandb.ai/syrkis/neuroscope' target=\"_blank\">Weights & Biases</a> (<a href='https://wandb.me/run' target=\"_blank\">docs</a>)<br/>"
      ],
      "text/plain": [
       "<IPython.core.display.HTML object>"
      ]
     },
     "metadata": {},
     "output_type": "display_data"
    },
    {
     "data": {
      "text/html": [
       " View project at <a href='https://wandb.ai/syrkis/neuroscope' target=\"_blank\">https://wandb.ai/syrkis/neuroscope</a>"
      ],
      "text/plain": [
       "<IPython.core.display.HTML object>"
      ]
     },
     "metadata": {},
     "output_type": "display_data"
    },
    {
     "data": {
      "text/html": [
       " View run at <a href='https://wandb.ai/syrkis/neuroscope/runs/phbla2vm' target=\"_blank\">https://wandb.ai/syrkis/neuroscope/runs/phbla2vm</a>"
      ],
      "text/plain": [
       "<IPython.core.display.HTML object>"
      ]
     },
     "metadata": {},
     "output_type": "display_data"
    }
   ],
   "source": [
    "rng = hk.PRNGSequence(jax.random.PRNGKey(42))\n",
    "params = init(next(rng), jnp.concatenate([lh, rh], axis=1))\n",
    "state = optimizer.init(params)\n",
    "params, state = train(params, state, train_loader, val_loader, probs, rng)"
   ]
  },
  {
   "cell_type": "code",
   "execution_count": 20,
   "metadata": {},
   "outputs": [
    {
     "name": "stderr",
     "output_type": "stream",
     "text": [
      "100%|██████████| 5000/5000 [03:04<00:00, 27.04it/s]\n"
     ]
    }
   ],
   "source": []
  },
  {
   "cell_type": "code",
   "execution_count": null,
   "metadata": {},
   "outputs": [],
   "source": []
  }
 ],
 "metadata": {
  "kernelspec": {
   "display_name": "Python 3 (ipykernel)",
   "language": "python",
   "name": "python3"
  },
  "language_info": {
   "codemirror_mode": {
    "name": "ipython",
    "version": 3
   },
   "file_extension": ".py",
   "mimetype": "text/x-python",
   "name": "python",
   "nbconvert_exporter": "python",
   "pygments_lexer": "ipython3",
   "version": "3.11.3"
  },
  "orig_nbformat": 4
 },
 "nbformat": 4,
 "nbformat_minor": 2
}
