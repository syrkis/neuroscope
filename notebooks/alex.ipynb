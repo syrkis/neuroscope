{
 "cells": [
  {
   "attachments": {},
   "cell_type": "markdown",
   "metadata": {},
   "source": [
    "# Alexnet based feature extractor"
   ]
  },
  {
   "cell_type": "code",
   "execution_count": 37,
   "metadata": {},
   "outputs": [],
   "source": [
    "# imports\n",
    "import warnings; warnings.filterwarnings('ignore')\n",
    "import os\n",
    "import torch\n",
    "from torchvision.models.feature_extraction import create_feature_extractor\n",
    "from sklearn.decomposition import IncrementalPCA\n",
    "import numpy as np\n",
    "from tqdm import tqdm\n",
    "from PIL import Image\n",
    "from src.utils import DATA_DIR"
   ]
  },
  {
   "cell_type": "code",
   "execution_count": 38,
   "metadata": {},
   "outputs": [],
   "source": [
    "# get data and model\n",
    "subjs = ['subj01', 'subj02', 'subj03', 'subj04', 'subj05', 'subj06', 'subj07', 'subj08']\n",
    "BATCH_SIZE = 500"
   ]
  },
  {
   "attachments": {},
   "cell_type": "markdown",
   "metadata": {},
   "source": [
    "## Get image data"
   ]
  },
  {
   "cell_type": "code",
   "execution_count": 39,
   "metadata": {},
   "outputs": [],
   "source": [
    "def get_img_files(subj):\n",
    "    subj_img_dir = os.path.join(DATA_DIR, subj, 'training_split/training_images')\n",
    "    subj_img_files = [os.path.join(subj_img_dir, f) for f in os.listdir(subj_img_dir) if f.endswith('.png')]\n",
    "    return sorted(subj_img_files)\n",
    "\n",
    "def load_img_files(subj):\n",
    "    # images are pngs\n",
    "    img_files = get_img_files(subj)\n",
    "    imgs = []\n",
    "    for f in tqdm(img_files):  # make sure not to have too many files open\n",
    "        with Image.open(f) as img:\n",
    "            img = img.convert('RGB')\n",
    "            imgs.append(img)\n",
    "    imgs = [img.resize((224, 224)) for img in imgs]\n",
    "    imgs = [torch.from_numpy(np.array(img)) for img in imgs]\n",
    "    imgs = torch.stack(imgs)\n",
    "    imgs = imgs / 255.0\n",
    "    imgs = imgs.permute(0, 3, 1, 2)\n",
    "    imgs = normalize(imgs)\n",
    "    return imgs\n",
    "\n",
    "def normalize(imgs):\n",
    "    means = [0.485, 0.456, 0.406]\n",
    "    stds = [0.229, 0.224, 0.225]\n",
    "    imgs = imgs.float()\n",
    "    for i in range(3):\n",
    "        imgs[:, i, :, :] = (imgs[:, i, :, :] - means[i]) / stds[i]\n",
    "    return imgs\n"
   ]
  },
  {
   "cell_type": "code",
   "execution_count": 40,
   "metadata": {},
   "outputs": [],
   "source": [
    "class Dataset(torch.utils.data.Dataset):\n",
    "    def __init__(self, imgs):\n",
    "        self.imgs = imgs\n",
    "\n",
    "    def __len__(self):\n",
    "        return len(self.imgs)\n",
    "\n",
    "    def __getitem__(self, idx):\n",
    "        return self.imgs[idx]"
   ]
  },
  {
   "cell_type": "code",
   "execution_count": 41,
   "metadata": {},
   "outputs": [],
   "source": [
    "def fit_pca(feature_extractor, loader):\n",
    "    pca = IncrementalPCA(n_components=100, batch_size=BATCH_SIZE)\n",
    "    for batch in tqdm(loader):\n",
    "        with torch.no_grad():\n",
    "            features = feature_extractor(batch)\n",
    "            features = torch.hstack([torch.flatten(l, start_dim=1) for l in features.values()])\n",
    "            pca.partial_fit(features)\n",
    "    return pca\n",
    "\n",
    "def extract_features(feature_extractor, loader, pca):\n",
    "    features = []\n",
    "    for batch in loader:\n",
    "        with torch.no_grad():\n",
    "            batch_features = feature_extractor(batch)\n",
    "            batch_features = torch.hstack([torch.flatten(l, start_dim=1) for l in batch_features.values()])\n",
    "            batch_features = pca.transform(batch_features)\n",
    "            features.append(batch_features)\n",
    "    features = np.vstack(features)\n",
    "    return features"
   ]
  },
  {
   "cell_type": "code",
   "execution_count": 42,
   "metadata": {},
   "outputs": [
    {
     "name": "stderr",
     "output_type": "stream",
     "text": [
      "Using cache found in /home/nobr/.cache/torch/hub/pytorch_vision_v0.10.0\n"
     ]
    }
   ],
   "source": [
    "model = torch.hub.load('pytorch/vision:v0.10.0', 'alexnet')\n",
    "feature_extractor = create_feature_extractor(model, return_nodes=[\"features.2\"])"
   ]
  },
  {
   "cell_type": "code",
   "execution_count": 43,
   "metadata": {},
   "outputs": [
    {
     "name": "stderr",
     "output_type": "stream",
     "text": [
      " 39%|███▉      | 3883/9841 [00:33<00:47, 126.76it/s]"
     ]
    }
   ],
   "source": [
    "for subj in subjs:\n",
    "    ds = Dataset(load_img_files(subj))\n",
    "    dl = torch.utils.data.DataLoader(ds, batch_size=BATCH_SIZE, shuffle=False)\n",
    "    pca = fit_pca(feature_extractor, dl)\n",
    "    features = extract_features(feature_extractor, dl, pca)\n",
    "    np.save(os.path.join(DATA_DIR, subj, 'training_split', 'alexnet_features.npy'), features)"
   ]
  },
  {
   "cell_type": "code",
   "execution_count": null,
   "metadata": {},
   "outputs": [],
   "source": [
    "features.shape"
   ]
  }
 ],
 "metadata": {
  "kernelspec": {
   "display_name": "Python 3 (ipykernel)",
   "language": "python",
   "name": "python3"
  },
  "language_info": {
   "codemirror_mode": {
    "name": "ipython",
    "version": 3
   },
   "file_extension": ".py",
   "mimetype": "text/x-python",
   "name": "python",
   "nbconvert_exporter": "python",
   "pygments_lexer": "ipython3",
   "version": "3.11.3"
  },
  "orig_nbformat": 4
 },
 "nbformat": 4,
 "nbformat_minor": 2
}
