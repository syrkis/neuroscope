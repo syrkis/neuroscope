{
 "cells": [
  {
   "attachments": {},
   "cell_type": "markdown",
   "metadata": {},
   "source": [
    "# Alexnet based feature extractor"
   ]
  },
  {
   "cell_type": "code",
   "execution_count": null,
   "metadata": {},
   "outputs": [],
   "source": [
    "# imports\n",
    "import warnings; warnings.filterwarnings('ignore')\n",
    "import os\n",
    "import torch\n",
    "from multiprocessing import Pool\n",
    "from torchvision.models.feature_extraction import create_feature_extractor\n",
    "from sklearn.decomposition import PCA\n",
    "import numpy as np\n",
    "from tqdm import tqdm\n",
    "from PIL import Image\n",
    "from src.utils import DATA_DIR"
   ]
  },
  {
   "cell_type": "code",
   "execution_count": null,
   "metadata": {},
   "outputs": [],
   "source": [
    "# get data and model\n",
    "subjs = ['subj01', 'subj02', 'subj03', 'subj04', 'subj05', 'subj06', 'subj07', 'subj08']\n",
    "N_SAMPLES = 0\n",
    "model = torch.hub.load('pytorch/vision:v0.10.0', 'alexnet')\n",
    "feature_extractor = create_feature_extractor(model, return_nodes=[\"features.2\"])"
   ]
  },
  {
   "attachments": {},
   "cell_type": "markdown",
   "metadata": {},
   "source": [
    "## Get image data"
   ]
  },
  {
   "cell_type": "code",
   "execution_count": null,
   "metadata": {},
   "outputs": [],
   "source": [
    "def get_img_files(subj):\n",
    "    subj_img_dir = os.path.join(DATA_DIR, subj, 'training_split/training_images')\n",
    "    subj_img_files = [os.path.join(subj_img_dir, f) for f in os.listdir(subj_img_dir) if f.endswith('.png')]\n",
    "    return sorted(subj_img_files)\n",
    "\n",
    "def load_img_files(subj):\n",
    "    # images are pngs\n",
    "    img_files = get_img_files(subj)\n",
    "    img_files = img_files[:N_SAMPLES] if N_SAMPLES else img_files\n",
    "    imgs = []\n",
    "    for f in tqdm(img_files):  # make sure not to have too many files open\n",
    "        with Image.open(f) as img:\n",
    "            img = img.convert('RGB').resize((224, 224))\n",
    "            img = torch.from_numpy(np.array(img))\n",
    "            imgs.append(img)\n",
    "    imgs = torch.stack(imgs)\n",
    "    imgs = imgs / 255.0\n",
    "    imgs = imgs.permute(0, 3, 1, 2)\n",
    "    imgs = normalize(imgs)\n",
    "    return imgs\n",
    "\n",
    "def normalize(imgs):\n",
    "    means = [0.485, 0.456, 0.406]\n",
    "    stds = [0.229, 0.224, 0.225]\n",
    "    imgs = imgs.float()\n",
    "    for i in range(3):\n",
    "        imgs[:, i, :, :] = (imgs[:, i, :, :] - means[i]) / stds[i]\n",
    "    return imgs\n"
   ]
  },
  {
   "cell_type": "code",
   "execution_count": null,
   "metadata": {},
   "outputs": [],
   "source": [
    "def run_subj(subj):\n",
    "    pca = PCA(n_components=100)\n",
    "    data = load_img_files(subj)\n",
    "    feats = feature_extractor(data)\n",
    "    feats = torch.hstack([torch.flatten(l, start_dim=1) for l in feats.values()])\n",
    "    feats = feats.detach().numpy()\n",
    "    feats = feats.reshape(feats.shape[0], -1)\n",
    "    feats = pca.fit_transform(feats)\n",
    "    np.save(os.path.join(DATA_DIR, subj, 'training_split', 'alexnet_pca.npy'), feats)\n",
    "\n"
   ]
  },
  {
   "cell_type": "code",
   "execution_count": null,
   "metadata": {},
   "outputs": [],
   "source": [
    "# with Pool(2) as p:\n",
    "#    p.map(run_subj, subjs)\n",
    "# run last 4 subjects in parallel\n",
    "for subj in subjs[4:]:\n",
    "    print(f'running {subj}')\n",
    "    run_subj(subj)\n",
    "    print()"
   ]
  },
  {
   "cell_type": "code",
   "execution_count": null,
   "metadata": {},
   "outputs": [],
   "source": []
  }
 ],
 "metadata": {
  "kernelspec": {
   "display_name": "Python 3 (ipykernel)",
   "language": "python",
   "name": "python3"
  },
  "language_info": {
   "codemirror_mode": {
    "name": "ipython",
    "version": 3
   },
   "file_extension": ".py",
   "mimetype": "text/x-python",
   "name": "python",
   "nbconvert_exporter": "python",
   "pygments_lexer": "ipython3",
   "version": "3.11.3"
  },
  "orig_nbformat": 4
 },
 "nbformat": 4,
 "nbformat_minor": 2
}
