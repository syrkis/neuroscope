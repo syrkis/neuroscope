{
 "cells": [
  {
   "attachments": {},
   "cell_type": "markdown",
   "metadata": {},
   "source": [
    "# eval"
   ]
  },
  {
   "cell_type": "code",
   "execution_count": 13,
   "metadata": {},
   "outputs": [],
   "source": [
    "import numpy as np\n",
    "from sklearn.linear_model import LinearRegression\n",
    "import pickle\n",
    "import yaml\n",
    "from tqdm import tqdm\n",
    "import jax.numpy as jnp\n",
    "from src.utils import get_args_and_config\n",
    "from src.data import get_data\n",
    "from src.eval import corr\n",
    "from src.model import forward\n",
    "from src.fmri import plot_brain"
   ]
  },
  {
   "cell_type": "code",
   "execution_count": 2,
   "metadata": {},
   "outputs": [
    {
     "name": "stderr",
     "output_type": "stream",
     "text": [
      "100%|██████████| 6/6 [00:34<00:00,  5.70s/it]\n"
     ]
    }
   ],
   "source": [
    "args, config = get_args_and_config()\n",
    "data = get_data(args, config)"
   ]
  },
  {
   "cell_type": "code",
   "execution_count": 15,
   "metadata": {},
   "outputs": [
    {
     "name": "stderr",
     "output_type": "stream",
     "text": [
      " 17%|█▋        | 1/6 [00:08<00:41,  8.21s/it]"
     ]
    },
    {
     "name": "stdout",
     "output_type": "stream",
     "text": [
      "subj01\n",
      "test lh corr: 0.21079011261463165\n",
      "test rh corr: 0.2079717516899109\n"
     ]
    },
    {
     "name": "stderr",
     "output_type": "stream",
     "text": [
      " 33%|███▎      | 2/6 [00:16<00:32,  8.20s/it]"
     ]
    },
    {
     "name": "stdout",
     "output_type": "stream",
     "text": [
      "subj02\n",
      "test lh corr: 0.2017333209514618\n",
      "test rh corr: 0.20145922899246216\n"
     ]
    },
    {
     "name": "stderr",
     "output_type": "stream",
     "text": [
      " 50%|█████     | 3/6 [00:24<00:23,  7.94s/it]"
     ]
    },
    {
     "name": "stdout",
     "output_type": "stream",
     "text": [
      "subj03\n",
      "test lh corr: 0.18003970384597778\n",
      "test rh corr: 0.1731811910867691\n"
     ]
    },
    {
     "name": "stderr",
     "output_type": "stream",
     "text": [
      " 67%|██████▋   | 4/6 [00:31<00:15,  7.73s/it]"
     ]
    },
    {
     "name": "stdout",
     "output_type": "stream",
     "text": [
      "subj04\n",
      "test lh corr: 0.15315435826778412\n",
      "test rh corr: 0.18053296208381653\n"
     ]
    },
    {
     "name": "stderr",
     "output_type": "stream",
     "text": [
      " 83%|████████▎ | 5/6 [00:39<00:07,  7.89s/it]"
     ]
    },
    {
     "name": "stdout",
     "output_type": "stream",
     "text": [
      "subj05\n",
      "test lh corr: 0.2231391966342926\n",
      "test rh corr: 0.21678632497787476\n"
     ]
    },
    {
     "name": "stderr",
     "output_type": "stream",
     "text": [
      "100%|██████████| 6/6 [00:47<00:00,  7.97s/it]"
     ]
    },
    {
     "name": "stdout",
     "output_type": "stream",
     "text": [
      "subj07\n",
      "test lh corr: 0.15720497071743011\n",
      "test rh corr: 0.1556631624698639\n"
     ]
    },
    {
     "name": "stderr",
     "output_type": "stream",
     "text": [
      "\n"
     ]
    }
   ],
   "source": [
    "def algonauts_model(subject, train_data, test_data):\n",
    "    \"\"\"algonauts_model function\"\"\"\n",
    "    train_data_img = np.vstack([x[0] for x in train_data])\n",
    "    train_data_lh = np.vstack([x[1] for x in train_data])\n",
    "    train_data_rh = np.vstack([x[2] for x in train_data])\n",
    "    train_data = (train_data_img, train_data_lh, train_data_rh)\n",
    "\n",
    "    lh_model = LinearRegression().fit(train_data_img, train_data_lh)\n",
    "    rh_model = LinearRegression().fit(train_data_img, train_data_rh)\n",
    "\n",
    "    # save model\n",
    "    # pickle.dump(lh_model, open(f'./models/{subject}_lh_algonauts_model.pkl', 'wb'))\n",
    "    # pickle.dump(rh_model, open(f'./models/{subject}_rh_algonauts_model.pkl', 'wb'))\n",
    "\n",
    "    # test model\n",
    "    test_data_img, test_data_lh, test_data_rh, _ = test_data\n",
    "    \n",
    "    test_lh_pred = lh_model.predict(test_data_img)\n",
    "    test_rh_pred = rh_model.predict(test_data_img)\n",
    "    test_lh_corr = jnp.median(corr(test_lh_pred, test_data_lh))\n",
    "    test_rh_corr = jnp.median(corr(test_rh_pred, test_data_rh))\n",
    "    print(subject)\n",
    "    print(f\"test lh corr: {test_lh_corr}\")\n",
    "    print(f\"test rh corr: {test_rh_corr}\")\n",
    "    return test_lh_corr, test_rh_corr\n",
    "\n",
    "\n",
    "algonauts_baseline = {subject: {'lh': None, 'rh': None} for subject in data.keys()}\n",
    "\n",
    "for subject, (folds, test_data) in tqdm(data.items()):\n",
    "    lh_corr, rh_corr = algonauts_model(subject, folds, test_data)\n",
    "    algonauts_baseline[subject]['lh'] = lh_corr.item()\n",
    "    algonauts_baseline[subject]['rh'] = rh_corr.item()\n",
    "\n",
    "\n",
    "yaml.dump(algonauts_baseline, open('config/algonauts_baseline.yaml', 'w'))"
   ]
  },
  {
   "cell_type": "code",
   "execution_count": null,
   "metadata": {},
   "outputs": [],
   "source": []
  }
 ],
 "metadata": {
  "kernelspec": {
   "display_name": "Python 3 (ipykernel)",
   "language": "python",
   "name": "python3"
  },
  "language_info": {
   "codemirror_mode": {
    "name": "ipython",
    "version": 3
   },
   "file_extension": ".py",
   "mimetype": "text/x-python",
   "name": "python",
   "nbconvert_exporter": "python",
   "pygments_lexer": "ipython3",
   "version": "3.11.3"
  },
  "orig_nbformat": 4
 },
 "nbformat": 4,
 "nbformat_minor": 2
}
