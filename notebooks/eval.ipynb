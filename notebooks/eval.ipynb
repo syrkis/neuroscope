{
 "cells": [
  {
   "attachments": {},
   "cell_type": "markdown",
   "metadata": {},
   "source": [
    "# eval"
   ]
  },
  {
   "cell_type": "code",
   "execution_count": 1,
   "metadata": {},
   "outputs": [
    {
     "name": "stderr",
     "output_type": "stream",
     "text": [
      "2023-06-02 15:11:27.526921: W external/xla/xla/service/platform_util.cc:198] unable to create StreamExecutor for CUDA:0: failed initializing StreamExecutor for CUDA device ordinal 0: INTERNAL: failed call to cuDevicePrimaryCtxRetain: CUDA_ERROR_OUT_OF_MEMORY: out of memory; total memory reported: 34079637504\n",
      "No GPU/TPU found, falling back to CPU. (Set TF_CPP_MIN_LOG_LEVEL=0 and rerun for more info.)\n"
     ]
    }
   ],
   "source": [
    "import numpy as np\n",
    "from src.utils import get_args_and_config\n",
    "from src.data import get_data\n",
    "from src.eval import pearsons_corr\n",
    "from src.model import forward\n",
    "from src.plots import plot_corr"
   ]
  },
  {
   "cell_type": "code",
   "execution_count": 2,
   "metadata": {},
   "outputs": [
    {
     "name": "stderr",
     "output_type": "stream",
     "text": [
      "100%|██████████| 2/2 [00:21<00:00, 10.73s/it]\n"
     ]
    }
   ],
   "source": [
    "args, config = get_args_and_config()\n",
    "data = get_data(args, config)"
   ]
  },
  {
   "cell_type": "code",
   "execution_count": 3,
   "metadata": {},
   "outputs": [
    {
     "name": "stderr",
     "output_type": "stream",
     "text": [
      "100%|██████████| 19004/19004 [00:18<00:00, 1039.54it/s]\n",
      "100%|██████████| 20544/20544 [00:19<00:00, 1027.62it/s]"
     ]
    },
    {
     "name": "stdout",
     "output_type": "stream",
     "text": [
      "subj02 lh corr: [-0.00880487  0.0604835   0.03945216 ... -0.02548965  0.05644364\n",
      " -0.01258661]\n",
      "subj02 rh corr: [-0.04181744  0.04742143 -0.01756955 ... -0.00830468 -0.02505513\n",
      " -0.02441874]\n"
     ]
    },
    {
     "name": "stderr",
     "output_type": "stream",
     "text": [
      "\n"
     ]
    }
   ],
   "source": [
    "for subject, (_, test) in data.items():\n",
    "    if subject == 'subj01':\n",
    "        continue\n",
    "    lh_params = np.load(f\"results/models/{subject}_lh_best_model.npy\", allow_pickle=True).item()\n",
    "    rh_params = np.load(f\"results/models/{subject}_rh_best_model.npy\", allow_pickle=True).item()\n",
    "    lh_corr = pearsons_corr(forward(lh_params, test[0])[0], test[1])\n",
    "    rh_corr = pearsons_corr(forward(rh_params, test[0])[1], test[2])\n",
    "    print(f\"{subject} lh corr: {lh_corr}\")\n",
    "    print(f\"{subject} rh corr: {rh_corr}\")"
   ]
  },
  {
   "cell_type": "code",
   "execution_count": 4,
   "metadata": {},
   "outputs": [
    {
     "ename": "ValueError",
     "evalue": "shape mismatch: value array of shape (20544,) could not be broadcast to indexing result of shape (4398,)",
     "output_type": "error",
     "traceback": [
      "\u001b[0;31m---------------------------------------------------------------------------\u001b[0m",
      "\u001b[0;31mValueError\u001b[0m                                Traceback (most recent call last)",
      "Cell \u001b[0;32mIn[4], line 1\u001b[0m\n\u001b[0;32m----> 1\u001b[0m plot_corr(rh_corr, \u001b[39m'\u001b[39;49m\u001b[39mright\u001b[39;49m\u001b[39m'\u001b[39;49m, subject)\n",
      "File \u001b[0;32m~/neuroscope/src/plots.py:149\u001b[0m, in \u001b[0;36mplot_corr\u001b[0;34m(corr, hem, subject)\u001b[0m\n\u001b[1;32m    148\u001b[0m \u001b[39mdef\u001b[39;00m \u001b[39mplot_corr\u001b[39m(corr, hem, subject):\n\u001b[0;32m--> 149\u001b[0m     surface \u001b[39m=\u001b[39m vec_to_surf(corr, hem, subject)\n\u001b[1;32m    150\u001b[0m     view \u001b[39m=\u001b[39m plotting\u001b[39m.\u001b[39mview_surf(\n\u001b[1;32m    151\u001b[0m         surf_mesh\u001b[39m=\u001b[39matlas[\u001b[39m\"\u001b[39m\u001b[39mpial_\u001b[39m\u001b[39m\"\u001b[39m \u001b[39m+\u001b[39m hem],\n\u001b[1;32m    152\u001b[0m         surf_map\u001b[39m=\u001b[39msurface,\n\u001b[0;32m   (...)\u001b[0m\n\u001b[1;32m    157\u001b[0m         title\u001b[39m=\u001b[39mhem \u001b[39m+\u001b[39m \u001b[39m\"\u001b[39m\u001b[39m hemisphere \u001b[39m\u001b[39m\"\u001b[39m \u001b[39m+\u001b[39m subject,\n\u001b[1;32m    158\u001b[0m     )\n\u001b[1;32m    159\u001b[0m     \u001b[39mreturn\u001b[39;00m view\u001b[39m.\u001b[39mresize(height\u001b[39m=\u001b[39m\u001b[39m900\u001b[39m, width\u001b[39m=\u001b[39m\u001b[39m1400\u001b[39m)\n",
      "File \u001b[0;32m~/neuroscope/src/fmri.py:192\u001b[0m, in \u001b[0;36mvec_to_surf\u001b[0;34m(challenge_vec, hem, subject)\u001b[0m\n\u001b[1;32m    190\u001b[0m     fsaverage_correlation[np\u001b[39m.\u001b[39mwhere(get_fsaverage(subject)[hem[\u001b[39m0\u001b[39m] \u001b[39m+\u001b[39m \u001b[39m\"\u001b[39m\u001b[39mh.floc-bodies\u001b[39m\u001b[39m\"\u001b[39m])] \u001b[39m=\u001b[39m challenge_vec\n\u001b[1;32m    191\u001b[0m \u001b[39mif\u001b[39;00m hem \u001b[39m==\u001b[39m \u001b[39m\"\u001b[39m\u001b[39mright\u001b[39m\u001b[39m\"\u001b[39m:\n\u001b[0;32m--> 192\u001b[0m     fsaverage_correlation[np\u001b[39m.\u001b[39;49mwhere(get_fsaverage(subject)[hem[\u001b[39m0\u001b[39;49m] \u001b[39m+\u001b[39;49m \u001b[39m\"\u001b[39;49m\u001b[39mh.floc-bodies\u001b[39;49m\u001b[39m\"\u001b[39;49m])] \u001b[39m=\u001b[39m challenge_vec\n\u001b[1;32m    193\u001b[0m \u001b[39mreturn\u001b[39;00m fsaverage_correlation\n",
      "\u001b[0;31mValueError\u001b[0m: shape mismatch: value array of shape (20544,) could not be broadcast to indexing result of shape (4398,)"
     ]
    }
   ],
   "source": [
    "plot_corr(rh_corr, 'right', subject)"
   ]
  },
  {
   "cell_type": "code",
   "execution_count": null,
   "metadata": {},
   "outputs": [],
   "source": [
    "plot_corr(lh_corr, 'lh', subject)"
   ]
  }
 ],
 "metadata": {
  "kernelspec": {
   "display_name": "Python 3 (ipykernel)",
   "language": "python",
   "name": "python3"
  },
  "language_info": {
   "codemirror_mode": {
    "name": "ipython",
    "version": 3
   },
   "file_extension": ".py",
   "mimetype": "text/x-python",
   "name": "python",
   "nbconvert_exporter": "python",
   "pygments_lexer": "ipython3",
   "version": "3.11.3"
  },
  "orig_nbformat": 4
 },
 "nbformat": 4,
 "nbformat_minor": 2
}
