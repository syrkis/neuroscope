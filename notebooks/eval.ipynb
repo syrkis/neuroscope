{
 "cells": [
  {
   "attachments": {},
   "cell_type": "markdown",
   "metadata": {},
   "source": [
    "# eval"
   ]
  },
  {
   "cell_type": "code",
   "execution_count": null,
   "metadata": {},
   "outputs": [],
   "source": [
    "import numpy as np\n",
    "from sklearn.linear_model import LinearRegression\n",
    "import pickle\n",
    "import yaml\n",
    "from tqdm import tqdm\n",
    "import jax.numpy as jnp\n",
    "from src.utils import get_args_and_config\n",
    "from src.data import get_data\n",
    "from src.eval import corr\n",
    "from src.fmri import plot_brain"
   ]
  },
  {
   "cell_type": "code",
   "execution_count": null,
   "metadata": {},
   "outputs": [],
   "source": [
    "args, config = get_args_and_config()\n",
    "data = get_data(args)"
   ]
  },
  {
   "cell_type": "code",
   "execution_count": null,
   "metadata": {},
   "outputs": [],
   "source": [
    "def algonauts_model(subject, train_data, test_data):\n",
    "    \"\"\"algonauts_model function\"\"\"\n",
    "    train_data_img = np.vstack([x[0] for x in train_data])\n",
    "    train_data_lh = np.vstack([x[1] for x in train_data])\n",
    "    train_data_rh = np.vstack([x[2] for x in train_data])\n",
    "    train_data = (train_data_img, train_data_lh, train_data_rh)\n",
    "\n",
    "    lh_model = LinearRegression().fit(train_data_img, train_data_lh)\n",
    "    rh_model = LinearRegression().fit(train_data_img, train_data_rh)\n",
    "\n",
    "    # save model\n",
    "    # pickle.dump(lh_model, open(f'./models/{subject}_lh_algonauts_model.pkl', 'wb'))\n",
    "    # pickle.dump(rh_model, open(f'./models/{subject}_rh_algonauts_model.pkl', 'wb'))\n",
    "\n",
    "    # test model\n",
    "    test_data_img, test_data_lh, test_data_rh, _ = test_data\n",
    "    \n",
    "    test_lh_pred = lh_model.predict(test_data_img)\n",
    "    test_rh_pred = rh_model.predict(test_data_img)\n",
    "    test_lh_corr = corr(test_lh_pred, test_data_lh)\n",
    "    test_rh_corr = corr(test_rh_pred, test_data_rh)\n",
    "    return test_lh_corr, test_rh_corr\n",
    "\n",
    "\n",
    "test_lh_corr, test_rh_corr = algonauts_model('sub-01', data['subj01'][0], data['subj01'][1])"
   ]
  },
  {
   "cell_type": "code",
   "execution_count": null,
   "metadata": {},
   "outputs": [],
   "source": [
    "plot_brain(test_lh_corr, 'subj01', 'lh')"
   ]
  },
  {
   "cell_type": "code",
   "execution_count": null,
   "metadata": {},
   "outputs": [],
   "source": []
  }
 ],
 "metadata": {
  "kernelspec": {
   "display_name": "Python 3 (ipykernel)",
   "language": "python",
   "name": "python3"
  },
  "language_info": {
   "codemirror_mode": {
    "name": "ipython",
    "version": 3
   },
   "file_extension": ".py",
   "mimetype": "text/x-python",
   "name": "python",
   "nbconvert_exporter": "python",
   "pygments_lexer": "ipython3",
   "version": "3.11.3"
  },
  "orig_nbformat": 4
 },
 "nbformat": 4,
 "nbformat_minor": 2
}
