{
 "cells": [
  {
   "attachments": {},
   "cell_type": "markdown",
   "metadata": {},
   "source": [
    "# eval"
   ]
  },
  {
   "cell_type": "code",
   "execution_count": 1,
   "metadata": {},
   "outputs": [
    {
     "name": "stderr",
     "output_type": "stream",
     "text": [
      "100%|██████████| 6/6 [00:00<00:00, 41.18it/s]\n",
      "100%|██████████| 6/6 [00:07<00:00,  1.19s/it]\n"
     ]
    }
   ],
   "source": [
    "import numpy as np\n",
    "from sklearn.linear_model import LinearRegression\n",
    "import pickle\n",
    "import yaml\n",
    "from tqdm import tqdm\n",
    "import jax.numpy as jnp\n",
    "from src.utils import get_args_and_config, SUBJECTS\n",
    "from src.data import get_data\n",
    "from src.eval import corr\n",
    "from src.fmri import plot_brain"
   ]
  },
  {
   "cell_type": "code",
   "execution_count": 2,
   "metadata": {},
   "outputs": [
    {
     "name": "stderr",
     "output_type": "stream",
     "text": [
      "  0%|          | 0/6 [00:00<?, ?it/s]"
     ]
    }
   ],
   "source": [
    "args, config = get_args_and_config()\n",
    "data = get_data(args)"
   ]
  },
  {
   "cell_type": "code",
   "execution_count": null,
   "metadata": {},
   "outputs": [
    {
     "name": "stderr",
     "output_type": "stream",
     "text": [
      "100%|██████████| 6/6 [00:47<00:00,  7.84s/it]\n"
     ]
    },
    {
     "data": {
      "text/plain": [
       "(0.20836793, 0.20575279)"
      ]
     },
     "execution_count": 3,
     "metadata": {},
     "output_type": "execute_result"
    }
   ],
   "source": [
    "def algonauts_model(subject, train_data, test_data):\n",
    "    \"\"\"algonauts_model function\"\"\"\n",
    "    train_data_img = np.vstack([x[0] for x in train_data])\n",
    "    train_data_lh = np.vstack([x[1] for x in train_data])\n",
    "    train_data_rh = np.vstack([x[2] for x in train_data])\n",
    "    train_data = (train_data_img, train_data_lh, train_data_rh)\n",
    "\n",
    "    lh_model = LinearRegression().fit(train_data_img, train_data_lh)\n",
    "    rh_model = LinearRegression().fit(train_data_img, train_data_rh)\n",
    "\n",
    "    # save model\n",
    "    # pickle.dump(lh_model, open(f'./models/{subject}_lh_algonauts_model.pkl', 'wb'))\n",
    "    # pickle.dump(rh_model, open(f'./models/{subject}_rh_algonauts_model.pkl', 'wb'))\n",
    "\n",
    "    # test model\n",
    "    test_data_img, test_data_lh, test_data_rh, _ = test_data\n",
    "    \n",
    "    test_lh_pred = lh_model.predict(test_data_img)\n",
    "    test_rh_pred = rh_model.predict(test_data_img)\n",
    "    test_lh_corr = corr(test_lh_pred, test_data_lh)\n",
    "    test_rh_corr = corr(test_rh_pred, test_data_rh)\n",
    "    return test_lh_corr, test_rh_corr\n",
    "\n",
    "\n",
    "lh_corrs, rh_corrs = [], []\n",
    "for subject in tqdm(data.keys()):\n",
    "    test_lh_corr, test_rh_corr = algonauts_model(subject, data[subject][0], data[subject][1])\n",
    "    break\n",
    "\n",
    "plot_brain(test_lh_corr, 'subject', 'lh')"
   ]
  },
  {
   "cell_type": "code",
   "execution_count": 10,
   "metadata": {},
   "outputs": [],
   "source": [
    "data = {}\n",
    "for idx, subj in enumerate(SUBJECTS):\n",
    "    data[subj] = {'lh': lh_corrs[idx], 'rh': rh_corrs[idx]}"
   ]
  },
  {
   "cell_type": "code",
   "execution_count": 12,
   "metadata": {},
   "outputs": [],
   "source": [
    "with open('./corrs.csv', 'w') as f:\n",
    "    f.write('subject,lh,rh\\n')\n",
    "    for subj in data.keys():\n",
    "        f.write(f'{subj},{data[subj][\"lh\"]},{data[subj][\"rh\"]}\\n')"
   ]
  },
  {
   "cell_type": "code",
   "execution_count": 13,
   "metadata": {},
   "outputs": [
    {
     "name": "stdout",
     "output_type": "stream",
     "text": [
      "Dockerfile     corrs.csv  main.py      pyproject.toml\t src\n",
      "README.md      data\t  models       report\t\t streamlit_app.py\n",
      "config\t       jobs\t  notebooks    requirements.txt  wandb\n",
      "container.sif  logs\t  poetry.lock  setup.py\n"
     ]
    }
   ],
   "source": [
    "!ls"
   ]
  },
  {
   "cell_type": "code",
   "execution_count": null,
   "metadata": {},
   "outputs": [],
   "source": []
  }
 ],
 "metadata": {
  "kernelspec": {
   "display_name": "Python 3 (ipykernel)",
   "language": "python",
   "name": "python3"
  },
  "language_info": {
   "codemirror_mode": {
    "name": "ipython",
    "version": 3
   },
   "file_extension": ".py",
   "mimetype": "text/x-python",
   "name": "python",
   "nbconvert_exporter": "python",
   "pygments_lexer": "ipython3",
   "version": "3.11.3"
  },
  "orig_nbformat": 4
 },
 "nbformat": 4,
 "nbformat_minor": 2
}
