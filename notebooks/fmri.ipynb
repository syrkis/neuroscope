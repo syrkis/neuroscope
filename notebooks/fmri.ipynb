{
 "cells": [
  {
   "cell_type": "code",
   "execution_count": null,
   "metadata": {},
   "outputs": [],
   "source": [
    "import numpy as np\n",
    "import os\n",
    "import networkx as nx\n",
    "from nilearn import datasets, plotting\n",
    "from tqdm import tqdm\n",
    "from nilearn.connectome import ConnectivityMeasure\n",
    "import numpy as np\n",
    "from jax import numpy as jnp\n",
    "import jraph\n",
    "import yaml\n",
    "from src.plots import plot_graph, plot_regions\n",
    "from src.utils import ROIS, DATA_DIR, SUBJECTS"
   ]
  },
  {
   "attachments": {},
   "cell_type": "markdown",
   "metadata": {},
   "source": [
    "## roi stuff"
   ]
  },
  {
   "cell_type": "code",
   "execution_count": null,
   "metadata": {},
   "outputs": [],
   "source": [
    "atlas = datasets.fetch_surf_fsaverage(\"fsaverage\")\n",
    "\n",
    "roi_class_to_roi = {\"prf-visualrois\": [\"V1v\", \"V1d\", \"V2v\", \"V2d\", \"V3v\", \"V3d\", \"hV4\"],\n",
    "                    \"floc-bodies\": [\"EBA\", \"FBA-1\", \"FBA-2\", \"mTL-bodies\"],\n",
    "                    \"floc-faces\": [\"OFA\", \"FFA-1\", \"FFA-2\", \"mTL-faces\", \"aTL-faces\"],\n",
    "                    \"floc-places\": [\"OPA\", \"PPA\", \"RSC\"],\n",
    "                    \"floc-words\": [\"OWFA\", \"VWFA-1\", \"VWFA-2\", \"mfs-words\", \"mTL-words\"],\n",
    "                    \"streams\": [\"early\", \"midventral\", \"midlateral\", \"midparietal\", \"ventral\", \"lateral\", \"parietal\"]}\n",
    "\n",
    "roi_to_roi_class = {roi: roi_class for roi_class, rois in roi_class_to_roi.items() for roi in rois}"
   ]
  },
  {
   "cell_type": "code",
   "execution_count": null,
   "metadata": {},
   "outputs": [],
   "source": [
    "def load_roi_data(subject):\n",
    "    \"\"\"load the files for the given subject\"\"\"\n",
    "    roi_dir = os.path.join(DATA_DIR, subject, \"roi_masks\")\n",
    "\n",
    "    data = {'mapping' : {},\n",
    "            'challenge' : {'lh' : {}, 'rh' : {}},\n",
    "            'fsaverage' : {'lh' : {}, 'rh' : {}}}\n",
    "\n",
    "    for roi_class in roi_class_to_roi.keys():\n",
    "        data['mapping'][roi_class] = {'id_to_roi' : {}, 'roi_to_id' : {}}\n",
    "        data['mapping'][roi_class]['id_to_roi'] = np.load(os.path.join(roi_dir, f'mapping_{roi_class}.npy'), allow_pickle=True).item()\n",
    "        data['mapping'][roi_class]['roi_to_id'] = {v: k for k, v in data['mapping'][roi_class]['id_to_roi'].items()}\n",
    "    \n",
    "    for hem in ['lh', 'rh']:\n",
    "        data['fsaverage'][hem]['all-vertices'] = np.load(os.path.join(roi_dir, f'{hem}.all-vertices_fsaverage_space.npy'))\n",
    "        for roi_class in roi_class_to_roi.keys():\n",
    "            data['challenge'][hem][roi_class] = np.load(os.path.join(roi_dir, f'{hem}.{roi_class}_challenge_space.npy'))\n",
    "            data['fsaverage'][hem][roi_class] = np.load(os.path.join(roi_dir, f'{hem}.{roi_class}_fsaverage_space.npy'))\n",
    "\n",
    "    return data\n",
    "\n",
    "roi_data = {subject : load_roi_data(subject) for subject in SUBJECTS}"
   ]
  },
  {
   "cell_type": "code",
   "execution_count": null,
   "metadata": {},
   "outputs": [],
   "source": [
    "def load_fmri(subject):\n",
    "    \"\"\"load the fmri data for the given subject\"\"\"\n",
    "    lh_fmri_file = os.path.join(DATA_DIR, subject, \"training_split\", \"training_fmri\", \"lh_training_fmri.npy\")\n",
    "    rh_fmri_file = os.path.join(DATA_DIR, subject, \"training_split\", \"training_fmri\", \"rh_training_fmri.npy\")\n",
    "    lh = np.load(lh_fmri_file)\n",
    "    rh = np.load(rh_fmri_file)\n",
    "    data = {'lh' : lh, 'rh' : rh}\n",
    "    return data\n",
    "\n",
    "fmri_data = {subject : load_fmri(subject) for subject in tqdm(SUBJECTS)}"
   ]
  },
  {
   "cell_type": "code",
   "execution_count": null,
   "metadata": {},
   "outputs": [],
   "source": [
    "def spaces(subject: str, hem: str, roi: str) -> np.ndarray:\n",
    "    \"\"\"return the fsaverage space mapping for the given subject and hemisphere\"\"\"\n",
    "    if not roi:\n",
    "        fsaverage_space = roi_data[subject]['fsaverage'][hem]['all-vertices']\n",
    "        return fsaverage_space\n",
    "    else:\n",
    "        fsaverage_space = roi_data[subject]['fsaverage'][hem][roi_to_roi_class[roi]]\n",
    "        challenge_space = roi_data[subject]['challenge'][hem][roi_to_roi_class[roi]]\n",
    "        roi_id = roi_data[subject]['mapping'][roi_to_roi_class[roi]]['roi_to_id'][roi]\n",
    "        fsaverage_space = np.asarray(fsaverage_space == roi_id, dtype=int)\n",
    "        challenge_space = np.asarray(challenge_space == roi_id, dtype=int)\n",
    "        return fsaverage_space, challenge_space\n",
    "\n",
    "\n",
    "def fsaverage_vec(challenge_vec, subject, roi):\n",
    "    \"\"\"convert a challenge vector to fsaverage space\"\"\"\n",
    "    hem = \"lh\" if challenge_vec.shape[0] == 19004 else \"rh\"  # r might have wrong dimensions\n",
    "    if roi:\n",
    "        fsaverage_space, challenge_space = spaces(subject, hem, roi)\n",
    "        fsaverage_response = np.zeros(len(fsaverage_space))\n",
    "        fsaverage_response[np.where(fsaverage_space)[0]] = \\\n",
    "        challenge_vec[np.where(challenge_space)[0]]\n",
    "    else:\n",
    "        fsaverage_space = spaces(subject, hem, roi)\n",
    "        fsaverage_response = np.zeros(len(fsaverage_space))\n",
    "        fsaverage_response[np.where(fsaverage_space)[0]] = challenge_vec\n",
    "    return fsaverage_response\n",
    "\n",
    "\n",
    "def plot_brain(challenge_vec, subject, hem, roi=None):\n",
    "    \"\"\"plot a vector on the brain\"\"\"\n",
    "    surface = fsaverage_vec(challenge_vec, subject, roi)\n",
    "    direction = \"left\" if hem == \"lh\" else \"right\"\n",
    "    view = plotting.view_surf(\n",
    "        surf_mesh=atlas[\"pial_\" + direction],\n",
    "        surf_map=surface,\n",
    "        bg_map=atlas[\"sulc_\" + direction],\n",
    "        threshold=1e-14,\n",
    "        cmap=\"twilight_shifted\",\n",
    "        colorbar=True,\n",
    "        title=hem + \" hemisphere \" + subject,\n",
    "        black_bg=True,\n",
    "    )\n",
    "    return view.resize(height=600, width=600)\n",
    "\n",
    "\n",
    "vec = fmri_data['subj01']['lh'][0]\n",
    "plot_brain(vec, \"subj01\", \"lh\", \"V1v\")\n"
   ]
  },
  {
   "attachments": {},
   "cell_type": "markdown",
   "metadata": {},
   "source": [
    "## fmri"
   ]
  },
  {
   "cell_type": "code",
   "execution_count": null,
   "metadata": {},
   "outputs": [],
   "source": [
    "import os\n",
    "def subject_dir_files(subject):\n",
    "    return [\n",
    "        os.path.join(DATA_DIR, subject, \"roi_masks\", f)\n",
    "        for f in sorted(os.listdir(os.path.join(DATA_DIR, subject, \"roi_masks\")))\n",
    "        if f.startswith(\"mapping_\")\n",
    "    ]"
   ]
  },
  {
   "attachments": {},
   "cell_type": "markdown",
   "metadata": {},
   "source": [
    "## connectome"
   ]
  },
  {
   "cell_type": "code",
   "execution_count": null,
   "metadata": {},
   "outputs": [],
   "source": [
    "subject = \"subj01\"\n",
    "lh_fmri, rh_fmri = get_fmri(subject)\n",
    "# res = sum(map(lambda x: fsaverage_roi_response_to_image(subject, x, 0, \"left\"), rois))\n",
    "plot_regions(subject, rois, 'left', 0)"
   ]
  },
  {
   "cell_type": "code",
   "execution_count": null,
   "metadata": {},
   "outputs": [],
   "source": [
    "def connectome_from_roi_response(subject, roi, hem):  # this is wrong\n",
    "    roi_mask = get_roi_mask(subject, roi, hem, atlas=\"challenge\")\n",
    "    fmri = lh_fmri if hem == \"left\" else rh_fmri\n",
    "    roi_response = fmri[:, roi_mask]\n",
    "    connectivity_measure = ConnectivityMeasure(kind=\"covariance\")\n",
    "    connectivity_matrix = connectivity_measure.fit_transform([roi_response])[0]\n",
    "    connectome = connectivity_matrix_to_connectome(connectivity_matrix)\n",
    "    return connectome\n",
    "\n",
    "\n",
    "def connectivity_matrix_to_connectome(connectivity_matrix):\n",
    "    # given a connectivity matrix, return a graph\n",
    "    N = connectivity_matrix.shape[0]\n",
    "    thresh = np.percentile(\n",
    "        np.abs(connectivity_matrix), 100 * (N - (N / 100)) / N\n",
    "    )  # consider thresholding differently as n edges increases with nodes ** 2\n",
    "    connectivity_matrix[np.abs(connectivity_matrix) < thresh] = 0\n",
    "    # set diagonal to 0\n",
    "    np.fill_diagonal(connectivity_matrix, 0)\n",
    "    graph = nx.from_numpy_array(connectivity_matrix)\n",
    "    return graph, connectivity_matrix"
   ]
  },
  {
   "cell_type": "code",
   "execution_count": null,
   "metadata": {},
   "outputs": [],
   "source": [
    "def build_connectome(roi, hem):\n",
    "    nx_graph, _ = connectome_from_roi_response(roi, hem)\n",
    "    # nx_graph = nx.karate_club_graph()  # TODO: replace with real graph\n",
    "    nodes = jnp.eye(len(nx_graph.nodes))\n",
    "    edges = None  # jnp.ones((len(G.edges), 1))\n",
    "    senders = jnp.array([e[0] for e in list(nx_graph.edges)])\n",
    "    receivers = jnp.array([e[1] for e in list(nx_graph.edges)])\n",
    "    n_node = len(nodes)\n",
    "    n_edge = len(senders)\n",
    "    global_context = None  # jnp.array([1.0])\n",
    "    graph = jraph.GraphsTuple(\n",
    "        nodes=nodes,\n",
    "        edges=edges,\n",
    "        senders=senders,\n",
    "        receivers=receivers,\n",
    "        n_node=n_node,\n",
    "        n_edge=n_edge,\n",
    "        globals=global_context,\n",
    "    )\n",
    "    return graph\n",
    "\n",
    "\n",
    "graph = build_connectome(\"V1d\", \"left\")"
   ]
  },
  {
   "cell_type": "code",
   "execution_count": null,
   "metadata": {},
   "outputs": [],
   "source": []
  }
 ],
 "metadata": {
  "kernelspec": {
   "display_name": "Python 3 (ipykernel)",
   "language": "python",
   "name": "python3"
  },
  "language_info": {
   "codemirror_mode": {
    "name": "ipython",
    "version": 3
   },
   "file_extension": ".py",
   "mimetype": "text/x-python",
   "name": "python",
   "nbconvert_exporter": "python",
   "pygments_lexer": "ipython3",
   "version": "3.11.3"
  },
  "orig_nbformat": 4
 },
 "nbformat": 4,
 "nbformat_minor": 2
}
