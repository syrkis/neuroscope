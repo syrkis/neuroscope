{
 "cells": [
  {
   "cell_type": "code",
   "execution_count": null,
   "metadata": {},
   "outputs": [],
   "source": [
    "import numpy as np\n",
    "import os\n",
    "import networkx as nx\n",
    "from nilearn import datasets, plotting\n",
    "from tqdm import tqdm\n",
    "from nilearn.connectome import ConnectivityMeasure\n",
    "import numpy as np\n",
    "from jax import numpy as jnp\n",
    "import jraph\n",
    "import yaml\n",
    "from src.plots import plot_graph, plot_regions\n",
    "from src.utils import ROIS, DATA_DIR, SUBJECTS"
   ]
  },
  {
   "attachments": {},
   "cell_type": "markdown",
   "metadata": {},
   "source": [
    "## fmri"
   ]
  },
  {
   "cell_type": "code",
   "execution_count": null,
   "metadata": {},
   "outputs": [],
   "source": [
    "import os\n",
    "def subject_dir_files(subject):\n",
    "    return [\n",
    "        os.path.join(DATA_DIR, subject, \"roi_masks\", f)\n",
    "        for f in sorted(os.listdir(os.path.join(DATA_DIR, subject, \"roi_masks\")))\n",
    "        if f.startswith(\"mapping_\")\n",
    "    ]"
   ]
  },
  {
   "attachments": {},
   "cell_type": "markdown",
   "metadata": {},
   "source": [
    "## connectome"
   ]
  },
  {
   "cell_type": "code",
   "execution_count": null,
   "metadata": {},
   "outputs": [],
   "source": [
    "subject = \"subj01\"\n",
    "lh_fmri, rh_fmri = get_fmri(subject)\n",
    "# res = sum(map(lambda x: fsaverage_roi_response_to_image(subject, x, 0, \"left\"), rois))\n",
    "plot_regions(subject, rois, 'left', 0)"
   ]
  },
  {
   "cell_type": "code",
   "execution_count": null,
   "metadata": {},
   "outputs": [],
   "source": [
    "def connectome_from_roi_response(subject, roi, hem):  # this is wrong\n",
    "    roi_mask = get_roi_mask(subject, roi, hem, atlas=\"challenge\")\n",
    "    fmri = lh_fmri if hem == \"left\" else rh_fmri\n",
    "    roi_response = fmri[:, roi_mask]\n",
    "    connectivity_measure = ConnectivityMeasure(kind=\"covariance\")\n",
    "    connectivity_matrix = connectivity_measure.fit_transform([roi_response])[0]\n",
    "    connectome = connectivity_matrix_to_connectome(connectivity_matrix)\n",
    "    return connectome\n",
    "\n",
    "\n",
    "def connectivity_matrix_to_connectome(connectivity_matrix):\n",
    "    # given a connectivity matrix, return a graph\n",
    "    N = connectivity_matrix.shape[0]\n",
    "    thresh = np.percentile(\n",
    "        np.abs(connectivity_matrix), 100 * (N - (N / 100)) / N\n",
    "    )  # consider thresholding differently as n edges increases with nodes ** 2\n",
    "    connectivity_matrix[np.abs(connectivity_matrix) < thresh] = 0\n",
    "    # set diagonal to 0\n",
    "    np.fill_diagonal(connectivity_matrix, 0)\n",
    "    graph = nx.from_numpy_array(connectivity_matrix)\n",
    "    return graph, connectivity_matrix"
   ]
  },
  {
   "cell_type": "code",
   "execution_count": null,
   "metadata": {},
   "outputs": [],
   "source": [
    "def build_connectome(roi, hem):\n",
    "    nx_graph, _ = connectome_from_roi_response(roi, hem)\n",
    "    # nx_graph = nx.karate_club_graph()  # TODO: replace with real graph\n",
    "    nodes = jnp.eye(len(nx_graph.nodes))\n",
    "    edges = None  # jnp.ones((len(G.edges), 1))\n",
    "    senders = jnp.array([e[0] for e in list(nx_graph.edges)])\n",
    "    receivers = jnp.array([e[1] for e in list(nx_graph.edges)])\n",
    "    n_node = len(nodes)\n",
    "    n_edge = len(senders)\n",
    "    global_context = None  # jnp.array([1.0])\n",
    "    graph = jraph.GraphsTuple(\n",
    "        nodes=nodes,\n",
    "        edges=edges,\n",
    "        senders=senders,\n",
    "        receivers=receivers,\n",
    "        n_node=n_node,\n",
    "        n_edge=n_edge,\n",
    "        globals=global_context,\n",
    "    )\n",
    "    return graph\n",
    "\n",
    "\n",
    "graph = build_connectome(\"V1d\", \"left\")"
   ]
  },
  {
   "cell_type": "code",
   "execution_count": null,
   "metadata": {},
   "outputs": [],
   "source": []
  }
 ],
 "metadata": {
  "kernelspec": {
   "display_name": "Python 3 (ipykernel)",
   "language": "python",
   "name": "python3"
  },
  "language_info": {
   "codemirror_mode": {
    "name": "ipython",
    "version": 3
   },
   "file_extension": ".py",
   "mimetype": "text/x-python",
   "name": "python",
   "nbconvert_exporter": "python",
   "pygments_lexer": "ipython3",
   "version": "3.11.3"
  },
  "orig_nbformat": 4
 },
 "nbformat": 4,
 "nbformat_minor": 2
}
