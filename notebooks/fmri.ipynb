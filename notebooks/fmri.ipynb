{
 "cells": [
  {
   "cell_type": "code",
   "execution_count": 40,
   "metadata": {},
   "outputs": [],
   "source": [
    "import numpy as np\n",
    "from src.plots import plot_graph\n",
    "from src.fmri import get_roi_mask, fsaverage_roi, fsaverage_roi_response_to_image\n",
    "import os\n",
    "import matplotlib.pyplot as plt\n",
    "import networkx as nx\n",
    "import seaborn as sns\n",
    "from nilearn import datasets, plotting\n",
    "from tqdm import tqdm\n",
    "from nilearn.connectome import ConnectivityMeasure\n",
    "import numpy as np\n",
    "from jax import numpy as jnp\n",
    "import jraph"
   ]
  },
  {
   "cell_type": "code",
   "execution_count": 41,
   "metadata": {},
   "outputs": [],
   "source": [
    "rois = [\n",
    "    \"V1v\", \"V1d\", \"V2v\", \"V2d\", \"V3v\", \"V3d\", \"hV4\", \"EBA\", \"FBA-1\",\n",
    "    \"FBA-2\", \"mTL-bodies\", \"OFA\", \"FFA-1\", \"FFA-2\", \"mTL-faces\", \"aTL-faces\",\n",
    "    \"OPA\", \"PPA\", \"RSC\", \"OWFA\", \"VWFA-1\", \"VWFA-2\", \"mfs-words\", \"mTL-words\",\n",
    "    \"early\", \"midventral\", \"midlateral\", \"midparietal\", \"ventral\", \"lateral\", \"parietal\",\n",
    "]\n",
    "atlas = datasets.fetch_surf_fsaverage(\"fsaverage\")"
   ]
  },
  {
   "attachments": {},
   "cell_type": "markdown",
   "metadata": {},
   "source": [
    "## connectome"
   ]
  },
  {
   "cell_type": "code",
   "execution_count": 42,
   "metadata": {},
   "outputs": [],
   "source": [
    "def connectome_from_roi_response(roi, hem):  # this is wrong\n",
    "    roi_mask = get_roi_mask(roi, hem, atlas=\"challenge\")\n",
    "    fmri = lh_fmri if hem == \"left\" else rh_fmri\n",
    "    roi_response = fmri[:, roi_mask]\n",
    "    connectivity_measure = ConnectivityMeasure(kind=\"covariance\")\n",
    "    connectivity_matrix = connectivity_measure.fit_transform([roi_response])[0]\n",
    "    connectome = connectivity_matrix_to_connectome(connectivity_matrix)\n",
    "    return connectome\n",
    "\n",
    "\n",
    "def connectivity_matrix_to_connectome(connectivity_matrix):\n",
    "    # given a connectivity matrix, return a graph\n",
    "    N = connectivity_matrix.shape[0]\n",
    "    thresh = np.percentile(\n",
    "        np.abs(connectivity_matrix), 100 * (N - (N / 100)) / N\n",
    "    )  # consider thresholding differently as n edges increases with nodes ** 2\n",
    "    connectivity_matrix[np.abs(connectivity_matrix) < thresh] = 0\n",
    "    # set diagonal to 0\n",
    "    np.fill_diagonal(connectivity_matrix, 0)\n",
    "    graph = nx.from_numpy_array(connectivity_matrix)\n",
    "    return graph, connectivity_matrix"
   ]
  },
  {
   "cell_type": "code",
   "execution_count": 39,
   "metadata": {},
   "outputs": [],
   "source": [
    "def build_connectome(roi, hem):\n",
    "    nx_graph, _ = connectome_from_roi_response(roi, hem)\n",
    "    # nx_graph = nx.karate_club_graph()  # TODO: replace with real graph\n",
    "    nodes = jnp.eye(len(nx_graph.nodes))\n",
    "    edges = None # jnp.ones((len(G.edges), 1))\n",
    "    senders = jnp.array([e[0] for e in list(nx_graph.edges)])\n",
    "    receivers = jnp.array([e[1] for e in list(nx_graph.edges)])\n",
    "    n_node = len(nodes)\n",
    "    n_edge = len(senders)\n",
    "    global_context = None # jnp.array([1.0])\n",
    "    graph = jraph.GraphsTuple(nodes=nodes, edges=edges, senders=senders, receivers=receivers, n_node=n_node, n_edge=n_edge, globals=global_context)\n",
    "    return graph"
   ]
  },
  {
   "cell_type": "code",
   "execution_count": null,
   "metadata": {},
   "outputs": [],
   "source": [
    "# black background\n",
    "# times new roman\n",
    "fig, axes = plt.subplots(3, 3, figsize=(27, 28), dpi=100)\n",
    "for idx, ax in tqdm(enumerate(axes.flatten())):\n",
    "    connectome, connectivity_matrix = connectome_from_roi_response(rois[idx], \"left\")\n",
    "    layout = nx.spring_layout(connectome, k=0.9)\n",
    "    nx.draw(\n",
    "        connectome,\n",
    "        pos=layout,\n",
    "        node_size=1,\n",
    "        node_color=\"white\",\n",
    "        edge_color=\"white\",\n",
    "        width=0.1,\n",
    "        ax=ax,\n",
    "    )\n",
    "    ax.set_title(rois[idx], color=\"white\")\n",
    "    ax.axis(\"off\")\n",
    "    ax.set_facecolor(\"black\")\n",
    "fig.tight_layout()\n",
    "fig.set_facecolor(\"black\")\n",
    "fig.savefig(\"plots/connectomes.svg\", facecolor=\"black\", dpi=300)"
   ]
  }
 ],
 "metadata": {
  "kernelspec": {
   "display_name": "Python 3 (ipykernel)",
   "language": "python",
   "name": "python3"
  },
  "language_info": {
   "codemirror_mode": {
    "name": "ipython",
    "version": 3
   },
   "file_extension": ".py",
   "mimetype": "text/x-python",
   "name": "python",
   "nbconvert_exporter": "python",
   "pygments_lexer": "ipython3",
   "version": "3.11.3"
  },
  "orig_nbformat": 4
 },
 "nbformat": 4,
 "nbformat_minor": 2
}
