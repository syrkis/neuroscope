{
 "cells": [
  {
   "attachments": {},
   "cell_type": "markdown",
   "metadata": {},
   "source": [
    "# Neuroscape playground"
   ]
  },
  {
   "cell_type": "code",
   "execution_count": 1,
   "metadata": {},
   "outputs": [
    {
     "name": "stderr",
     "output_type": "stream",
     "text": [
      "100%|██████████| 6/6 [00:01<00:00,  3.42it/s]\n",
      "100%|██████████| 6/6 [00:09<00:00,  1.54s/it]\n"
     ]
    }
   ],
   "source": [
    "import jax\n",
    "import jax.numpy as jnp\n",
    "from jax import grad, jit, vmap\n",
    "import optax\n",
    "from tqdm import tqdm\n",
    "import haiku as hk\n",
    "import numpy as np\n",
    "import wandb\n",
    "from functools import partial\n",
    "from src.data import get_data\n",
    "from src.utils import get_args_and_config\n",
    "from src.fmri import plot_brain"
   ]
  },
  {
   "attachments": {},
   "cell_type": "markdown",
   "metadata": {},
   "source": [
    "## MANGO"
   ]
  },
  {
   "cell_type": "code",
   "execution_count": 2,
   "metadata": {},
   "outputs": [
    {
     "name": "stderr",
     "output_type": "stream",
     "text": [
      "100%|██████████| 6/6 [00:53<00:00,  8.85s/it]\n"
     ]
    }
   ],
   "source": [
    "args, _ = get_args_and_config()\n",
    "data = get_data(args)"
   ]
  },
  {
   "cell_type": "code",
   "execution_count": 5,
   "metadata": {},
   "outputs": [],
   "source": [
    "opt = optax.adamw(0.001)  # perhaps hyper param search for lr and weight decay"
   ]
  },
  {
   "cell_type": "code",
   "execution_count": 11,
   "metadata": {},
   "outputs": [],
   "source": [
    "def forward(x):\n",
    "    x_mlp = hk.Sequential([\n",
    "        hk.nets.MLP([100] * 1, activation=jnp.tanh),\n",
    "        hk.Linear(100),\n",
    "    ])\n",
    "    lh_ml = hk.Sequential([\n",
    "        hk.nets.MLP([100] * 1, activation=jnp.tanh),\n",
    "        hk.Linear(19004),\n",
    "    ])\n",
    "    rh_ml = hk.Sequential([\n",
    "        hk.nets.MLP([100] * 1, activation=jnp.tanh),\n",
    "        hk.Linear(20544),\n",
    "    ])\n",
    "    x = x_mlp(x)\n",
    "    lh_hat = lh_ml(x)\n",
    "    rh_hat = rh_ml(x)\n",
    "    return lh_hat, rh_hat\n",
    "\n",
    "init_fn, apply_fn = hk.without_apply_rng(hk.transform(forward))\n",
    "\n",
    "\n",
    "def loss_fn(params, batch, hem):\n",
    "    x, lh, rh = batch\n",
    "    lh_hat, rh_hat = apply_fn(params, x)\n",
    "    return jnp.mean((lh_hat - lh) ** 2) if hem == 'lh' else jnp.mean((rh_hat - rh) ** 2)\n",
    "\n",
    "lh_loss_fn = jit(partial(loss_fn, hem='lh'))\n",
    "rh_loss_fn = jit(partial(loss_fn, hem='rh'))"
   ]
  },
  {
   "cell_type": "code",
   "execution_count": 15,
   "metadata": {},
   "outputs": [],
   "source": [
    "def get_fold(fold, fold_idx):\n",
    "    train_data = [fold for idx, fold in enumerate(fold) if idx != fold_idx]\n",
    "    train_data = list(map(jnp.vstack, zip(*train_data)))\n",
    "    val_data = fold[fold_idx]\n",
    "    return train_data, val_data\n",
    "\n",
    "def get_batch(data, batch_size):\n",
    "    while True:\n",
    "        perm = np.random.permutation(data[0].shape[0])\n",
    "        for i in range(0, data[0].shape[0], batch_size):\n",
    "            idx = perm[i:i + batch_size]\n",
    "            # x = data[0][idx]\n",
    "            x = jnp.concatenate([data[0][idx], data[3][idx]], axis=1)\n",
    "            lh = data[1][idx]\n",
    "            rh = data[2][idx]\n",
    "            yield x, lh, rh\n",
    "            \n",
    "def train(model, data, config):\n",
    "    group = wandb.util.generate_id()\n",
    "    for subject, (folds, test_data) in data.items():\n",
    "        train_data = list(map(jnp.vstack, zip(*folds)))\n",
    "        with wandb.init(project=\"neuroscope\", entity='syrkis', group=group) as run:\n",
    "            train_fold(model, train_data, test_data, config)\n",
    "\n",
    "def train_fold(model, train_data, val_data, config):\n",
    "    lh_params = init_fn(jax.random.PRNGKey(42), jnp.ones((1, 180)))\n",
    "    rh_params = init_fn(jax.random.PRNGKey(42), jnp.ones((1, 180)))\n",
    "    lh_opt_state = opt.init(lh_params)\n",
    "    rh_opt_state = opt.init(rh_params)\n",
    "    train_batches = get_batch(train_data, config['batch_size'])\n",
    "    val_batches = get_batch(val_data, config['batch_size'])\n",
    "    for step in tqdm(range(config['n_steps'])):\n",
    "        train_batch = next(train_batches)\n",
    "        lh_params, lh_opt_state = lh_update(lh_params, train_batch, lh_opt_state)\n",
    "        rh_params, rh_opt_state = rh_update(rh_params, train_batch, rh_opt_state)\n",
    "        if step % (config['n_steps'] // 100) == 0:\n",
    "            metrics = evaluate(lh_params, rh_params, train_batches, val_batches)\n",
    "            wandb.log(metrics)\n",
    "    metrics = evaluate(lh_params, rh_params, train_batches, val_batches, steps=50)\n",
    "    wandb.finish()\n",
    "\n",
    "def evaluate(lh_params, rh_params, train_batches, val_batches, steps=3):\n",
    "    train_metrics = evaluate_fold(lh_params, rh_params, train_batches, steps)\n",
    "    val_metrics = evaluate_fold(lh_params, rh_params, val_batches, steps)\n",
    "    metrics = {f'train_{k}': v for k, v in train_metrics.items()}\n",
    "    metrics.update({f'val_{k}': v for k, v in val_metrics.items()})\n",
    "    return metrics\n",
    "\n",
    "def evaluate_fold(lh_params, rh_params, batches, steps):\n",
    "    metrics = {}\n",
    "    for i in range(steps):\n",
    "        batch = next(batches)\n",
    "        batch_metrics = evaluate_batch(lh_params, rh_params, batch)\n",
    "        metrics = {k: metrics.get(k, 0) + v for k, v in batch_metrics.items()}\n",
    "    metrics = {k: v / steps for k, v in metrics.items()}\n",
    "    return metrics\n",
    "    \n",
    "\n",
    "def evaluate_batch(lh_params, rh_params, batch):\n",
    "    metrics = {}\n",
    "    for hem, params in zip(['lh', 'rh'], [lh_params, rh_params]):\n",
    "        mse, corr = evaluate_hem(params, batch, hem)\n",
    "        metrics[f'{hem}_mse'] = mse\n",
    "        metrics[f'{hem}_corr'] = corr\n",
    "    return metrics\n",
    "\n",
    "def evaluate_hem(params, batch, hem):\n",
    "    x, lh, rh = batch\n",
    "    lh_hat, rh_hat = apply_fn(params, x)\n",
    "    mse = jnp.mean((lh_hat - lh) ** 2) if hem == 'lh' else jnp.mean((rh_hat - rh) ** 2)\n",
    "    # compute the median collumn wise correlation\n",
    "    corr = pearsonr(lh_hat, lh) if hem == 'lh' else pearsonr(rh_hat, rh)\n",
    "    return mse, jnp.median(corr)\n",
    "\n",
    "\n",
    "# function for computing pearson's correlation coefficient for each voxel of a subject's fMRI data\n",
    "def pearsonr(pred, target):\n",
    "    def _pearsonr(x, y):\n",
    "        corr = jnp.corrcoef(x, y)\n",
    "        return corr[0, 1]\n",
    "    hem_corr = vmap(_pearsonr)(pred.T, target.T)\n",
    "    return hem_corr\n",
    "\n",
    "\n",
    "\n",
    "def update(params, batch, opt_state, hem):\n",
    "    \"\"\"update function\"\"\"\n",
    "    loss_fn = lh_loss_fn if hem == 'lh' else rh_loss_fn\n",
    "    grads = grad(loss_fn)(params, batch)\n",
    "    updates, opt_state = opt.update(grads, opt_state, params)\n",
    "    new_params = optax.apply_updates(params, updates)\n",
    "    return new_params, opt_state\n",
    "\n",
    "lh_update = jit(partial(update, hem='lh'))\n",
    "rh_update = jit(partial(update, hem='rh'))"
   ]
  },
  {
   "cell_type": "code",
   "execution_count": 16,
   "metadata": {},
   "outputs": [],
   "source": [
    "config = { 'n_steps': 6000, 'batch_size': 32 }"
   ]
  },
  {
   "cell_type": "code",
   "execution_count": 17,
   "metadata": {},
   "outputs": [
    {
     "data": {
      "text/html": [
       "Tracking run with wandb version 0.15.3"
      ],
      "text/plain": [
       "<IPython.core.display.HTML object>"
      ]
     },
     "metadata": {},
     "output_type": "display_data"
    },
    {
     "data": {
      "text/html": [
       "Run data is saved locally in <code>/home/nobr/neuroscope/wandb/run-20230606_060305-efhnega0</code>"
      ],
      "text/plain": [
       "<IPython.core.display.HTML object>"
      ]
     },
     "metadata": {},
     "output_type": "display_data"
    },
    {
     "data": {
      "text/html": [
       "Syncing run <strong><a href='https://wandb.ai/syrkis/neuroscope/runs/efhnega0' target=\"_blank\">jumping-aardvark-1109</a></strong> to <a href='https://wandb.ai/syrkis/neuroscope' target=\"_blank\">Weights & Biases</a> (<a href='https://wandb.me/run' target=\"_blank\">docs</a>)<br/>"
      ],
      "text/plain": [
       "<IPython.core.display.HTML object>"
      ]
     },
     "metadata": {},
     "output_type": "display_data"
    },
    {
     "data": {
      "text/html": [
       " View project at <a href='https://wandb.ai/syrkis/neuroscope' target=\"_blank\">https://wandb.ai/syrkis/neuroscope</a>"
      ],
      "text/plain": [
       "<IPython.core.display.HTML object>"
      ]
     },
     "metadata": {},
     "output_type": "display_data"
    },
    {
     "data": {
      "text/html": [
       " View run at <a href='https://wandb.ai/syrkis/neuroscope/runs/efhnega0' target=\"_blank\">https://wandb.ai/syrkis/neuroscope/runs/efhnega0</a>"
      ],
      "text/plain": [
       "<IPython.core.display.HTML object>"
      ]
     },
     "metadata": {},
     "output_type": "display_data"
    },
    {
     "name": "stderr",
     "output_type": "stream",
     "text": [
      "100%|██████████| 6000/6000 [01:02<00:00, 95.49it/s] \n"
     ]
    },
    {
     "data": {
      "text/html": [
       "Waiting for W&B process to finish... <strong style=\"color:green\">(success).</strong>"
      ],
      "text/plain": [
       "<IPython.core.display.HTML object>"
      ]
     },
     "metadata": {},
     "output_type": "display_data"
    },
    {
     "data": {
      "text/html": [
       "<style>\n",
       "    table.wandb td:nth-child(1) { padding: 0 10px; text-align: left ; width: auto;} td:nth-child(2) {text-align: left ; width: 100%}\n",
       "    .wandb-row { display: flex; flex-direction: row; flex-wrap: wrap; justify-content: flex-start; width: 100% }\n",
       "    .wandb-col { display: flex; flex-direction: column; flex-basis: 100%; flex: 1; padding: 10px; }\n",
       "    </style>\n",
       "<div class=\"wandb-row\"><div class=\"wandb-col\"><h3>Run history:</h3><br/><table class=\"wandb\"><tr><td>train_lh_corr</td><td>▁▁▂▄▅▆▆▇▆▆▇▇▆▇▇▇▇▆▅▇█▇▆▆█▇▇▆▇▆▇█▇▇▆█▇▆▇▆</td></tr><tr><td>train_lh_mse</td><td>█▁▁▁▁▁▁▁▁▁▁▁▁▁▁▁▁▁▁▁▁▁▁▁▁▁▁▁▁▁▁▁▁▁▁▁▁▁▁▁</td></tr><tr><td>train_rh_corr</td><td>▁▁▂▃▅▆▆▇▇▆▇█▆▇█▇▇▆▆▇██▆▆▇▇█▆▇▆▇▇▇▇▆█▇▆▇▇</td></tr><tr><td>train_rh_mse</td><td>█▁▁▁▁▁▁▁▁▁▁▁▁▁▁▁▁▁▁▁▁▁▁▁▁▁▁▁▁▁▁▁▁▁▁▁▁▁▁▁</td></tr><tr><td>val_lh_corr</td><td>▁▁▂▃▆▅▆▆▆▆▆▆▆▇▆▇▇▆█▇▆█▇▆▆▆▇▅▇▆▇▇▇▆▅▇▇▆▇▆</td></tr><tr><td>val_lh_mse</td><td>█▁▁▁▁▁▁▁▁▁▁▁▁▁▁▁▁▁▁▁▁▁▁▁▁▁▁▁▁▁▁▁▁▁▁▁▁▁▁▁</td></tr><tr><td>val_rh_corr</td><td>▁▁▂▄▆▆▅▆▆▇▇▇▇▇▇█▇██▇▇█▇▇▇▆▇▆▇▆▇▇▇▇▆▇█▇█▇</td></tr><tr><td>val_rh_mse</td><td>█▁▁▁▁▁▁▁▁▁▁▁▁▁▁▁▁▁▁▁▁▁▁▁▁▁▁▁▁▁▁▁▁▁▁▁▁▁▁▁</td></tr></table><br/></div><div class=\"wandb-col\"><h3>Run summary:</h3><br/><table class=\"wandb\"><tr><td>train_lh_corr</td><td>0.20993</td></tr><tr><td>train_lh_mse</td><td>0.4747</td></tr><tr><td>train_rh_corr</td><td>0.22422</td></tr><tr><td>train_rh_mse</td><td>0.47173</td></tr><tr><td>val_lh_corr</td><td>0.1862</td></tr><tr><td>val_lh_mse</td><td>0.47516</td></tr><tr><td>val_rh_corr</td><td>0.19929</td></tr><tr><td>val_rh_mse</td><td>0.46957</td></tr></table><br/></div></div>"
      ],
      "text/plain": [
       "<IPython.core.display.HTML object>"
      ]
     },
     "metadata": {},
     "output_type": "display_data"
    },
    {
     "data": {
      "text/html": [
       " View run <strong style=\"color:#cdcd00\">jumping-aardvark-1109</strong> at: <a href='https://wandb.ai/syrkis/neuroscope/runs/efhnega0' target=\"_blank\">https://wandb.ai/syrkis/neuroscope/runs/efhnega0</a><br/>Synced 5 W&B file(s), 0 media file(s), 0 artifact file(s) and 0 other file(s)"
      ],
      "text/plain": [
       "<IPython.core.display.HTML object>"
      ]
     },
     "metadata": {},
     "output_type": "display_data"
    },
    {
     "data": {
      "text/html": [
       "Find logs at: <code>./wandb/run-20230606_060305-efhnega0/logs</code>"
      ],
      "text/plain": [
       "<IPython.core.display.HTML object>"
      ]
     },
     "metadata": {},
     "output_type": "display_data"
    },
    {
     "data": {
      "text/html": [
       "Tracking run with wandb version 0.15.3"
      ],
      "text/plain": [
       "<IPython.core.display.HTML object>"
      ]
     },
     "metadata": {},
     "output_type": "display_data"
    },
    {
     "data": {
      "text/html": [
       "Run data is saved locally in <code>/home/nobr/neuroscope/wandb/run-20230606_060414-f489tfxg</code>"
      ],
      "text/plain": [
       "<IPython.core.display.HTML object>"
      ]
     },
     "metadata": {},
     "output_type": "display_data"
    },
    {
     "data": {
      "text/html": [
       "Syncing run <strong><a href='https://wandb.ai/syrkis/neuroscope/runs/f489tfxg' target=\"_blank\">rural-dawn-1110</a></strong> to <a href='https://wandb.ai/syrkis/neuroscope' target=\"_blank\">Weights & Biases</a> (<a href='https://wandb.me/run' target=\"_blank\">docs</a>)<br/>"
      ],
      "text/plain": [
       "<IPython.core.display.HTML object>"
      ]
     },
     "metadata": {},
     "output_type": "display_data"
    },
    {
     "data": {
      "text/html": [
       " View project at <a href='https://wandb.ai/syrkis/neuroscope' target=\"_blank\">https://wandb.ai/syrkis/neuroscope</a>"
      ],
      "text/plain": [
       "<IPython.core.display.HTML object>"
      ]
     },
     "metadata": {},
     "output_type": "display_data"
    },
    {
     "data": {
      "text/html": [
       " View run at <a href='https://wandb.ai/syrkis/neuroscope/runs/f489tfxg' target=\"_blank\">https://wandb.ai/syrkis/neuroscope/runs/f489tfxg</a>"
      ],
      "text/plain": [
       "<IPython.core.display.HTML object>"
      ]
     },
     "metadata": {},
     "output_type": "display_data"
    },
    {
     "name": "stderr",
     "output_type": "stream",
     "text": [
      "100%|██████████| 6000/6000 [00:58<00:00, 101.81it/s]\n"
     ]
    },
    {
     "data": {
      "text/html": [
       "Waiting for W&B process to finish... <strong style=\"color:green\">(success).</strong>"
      ],
      "text/plain": [
       "<IPython.core.display.HTML object>"
      ]
     },
     "metadata": {},
     "output_type": "display_data"
    },
    {
     "data": {
      "text/html": [
       "<style>\n",
       "    table.wandb td:nth-child(1) { padding: 0 10px; text-align: left ; width: auto;} td:nth-child(2) {text-align: left ; width: 100%}\n",
       "    .wandb-row { display: flex; flex-direction: row; flex-wrap: wrap; justify-content: flex-start; width: 100% }\n",
       "    .wandb-col { display: flex; flex-direction: column; flex-basis: 100%; flex: 1; padding: 10px; }\n",
       "    </style>\n",
       "<div class=\"wandb-row\"><div class=\"wandb-col\"><h3>Run history:</h3><br/><table class=\"wandb\"><tr><td>train_lh_corr</td><td>▁▁▂▄▅▆▆█▆▆▅▇▆▇█▆▆█▆█▇██▇▆██▇▇▇▆▆▇▇██▇█▇▇</td></tr><tr><td>train_lh_mse</td><td>█▁▁▁▁▁▁▁▁▁▁▁▁▁▁▁▁▁▁▁▁▁▁▁▁▁▁▁▁▁▁▁▁▁▁▁▁▁▁▁</td></tr><tr><td>train_rh_corr</td><td>▁▁▂▄▅▆▆▇▆▅▆▇▅█▇▆▆▇▆▇▆▇▇▇▆▆▇▇▇▇▆▆▆▇▇▇▆▇▇▆</td></tr><tr><td>train_rh_mse</td><td>█▁▁▁▁▁▁▁▁▁▁▁▁▁▁▁▁▁▁▁▁▁▁▁▁▁▁▁▁▁▁▁▁▁▁▁▁▁▁▁</td></tr><tr><td>val_lh_corr</td><td>▁▁▂▄▇▅▇▆▆▇▆▇▇█▇▇█▆▇▆▆▇▇█▇▇▇▇▇▇▇▇▇▇▇▇█▇▇▇</td></tr><tr><td>val_lh_mse</td><td>█▁▁▁▁▁▁▁▁▁▁▁▁▁▁▁▁▁▁▁▁▁▁▁▁▁▁▁▁▁▁▁▁▁▁▁▁▁▁▁</td></tr><tr><td>val_rh_corr</td><td>▁▁▂▄▆▆▇▆▇▇▅▇▇█▇▆▇▇▇▆▇▇▇█▇▇▇▇█▆▇▇▇▇▇▆▇▇▆▇</td></tr><tr><td>val_rh_mse</td><td>█▁▁▁▁▁▁▁▁▁▁▁▁▁▁▁▁▁▁▁▁▁▁▁▁▁▁▁▁▁▁▁▁▁▁▁▁▁▁▁</td></tr></table><br/></div><div class=\"wandb-col\"><h3>Run summary:</h3><br/><table class=\"wandb\"><tr><td>train_lh_corr</td><td>0.2174</td></tr><tr><td>train_lh_mse</td><td>0.49767</td></tr><tr><td>train_rh_corr</td><td>0.21649</td></tr><tr><td>train_rh_mse</td><td>0.50366</td></tr><tr><td>val_lh_corr</td><td>0.19242</td></tr><tr><td>val_lh_mse</td><td>0.46517</td></tr><tr><td>val_rh_corr</td><td>0.21077</td></tr><tr><td>val_rh_mse</td><td>0.44478</td></tr></table><br/></div></div>"
      ],
      "text/plain": [
       "<IPython.core.display.HTML object>"
      ]
     },
     "metadata": {},
     "output_type": "display_data"
    },
    {
     "data": {
      "text/html": [
       " View run <strong style=\"color:#cdcd00\">rural-dawn-1110</strong> at: <a href='https://wandb.ai/syrkis/neuroscope/runs/f489tfxg' target=\"_blank\">https://wandb.ai/syrkis/neuroscope/runs/f489tfxg</a><br/>Synced 5 W&B file(s), 0 media file(s), 0 artifact file(s) and 0 other file(s)"
      ],
      "text/plain": [
       "<IPython.core.display.HTML object>"
      ]
     },
     "metadata": {},
     "output_type": "display_data"
    },
    {
     "data": {
      "text/html": [
       "Find logs at: <code>./wandb/run-20230606_060414-f489tfxg/logs</code>"
      ],
      "text/plain": [
       "<IPython.core.display.HTML object>"
      ]
     },
     "metadata": {},
     "output_type": "display_data"
    },
    {
     "data": {
      "text/html": [
       "Tracking run with wandb version 0.15.3"
      ],
      "text/plain": [
       "<IPython.core.display.HTML object>"
      ]
     },
     "metadata": {},
     "output_type": "display_data"
    },
    {
     "data": {
      "text/html": [
       "Run data is saved locally in <code>/home/nobr/neuroscope/wandb/run-20230606_060520-ef9b1qvb</code>"
      ],
      "text/plain": [
       "<IPython.core.display.HTML object>"
      ]
     },
     "metadata": {},
     "output_type": "display_data"
    },
    {
     "data": {
      "text/html": [
       "Syncing run <strong><a href='https://wandb.ai/syrkis/neuroscope/runs/ef9b1qvb' target=\"_blank\">confused-wave-1111</a></strong> to <a href='https://wandb.ai/syrkis/neuroscope' target=\"_blank\">Weights & Biases</a> (<a href='https://wandb.me/run' target=\"_blank\">docs</a>)<br/>"
      ],
      "text/plain": [
       "<IPython.core.display.HTML object>"
      ]
     },
     "metadata": {},
     "output_type": "display_data"
    },
    {
     "data": {
      "text/html": [
       " View project at <a href='https://wandb.ai/syrkis/neuroscope' target=\"_blank\">https://wandb.ai/syrkis/neuroscope</a>"
      ],
      "text/plain": [
       "<IPython.core.display.HTML object>"
      ]
     },
     "metadata": {},
     "output_type": "display_data"
    },
    {
     "data": {
      "text/html": [
       " View run at <a href='https://wandb.ai/syrkis/neuroscope/runs/ef9b1qvb' target=\"_blank\">https://wandb.ai/syrkis/neuroscope/runs/ef9b1qvb</a>"
      ],
      "text/plain": [
       "<IPython.core.display.HTML object>"
      ]
     },
     "metadata": {},
     "output_type": "display_data"
    },
    {
     "name": "stderr",
     "output_type": "stream",
     "text": [
      "100%|██████████| 6000/6000 [01:02<00:00, 96.52it/s] \n"
     ]
    },
    {
     "data": {
      "text/html": [
       "Waiting for W&B process to finish... <strong style=\"color:green\">(success).</strong>"
      ],
      "text/plain": [
       "<IPython.core.display.HTML object>"
      ]
     },
     "metadata": {},
     "output_type": "display_data"
    },
    {
     "data": {
      "text/html": [
       "<style>\n",
       "    table.wandb td:nth-child(1) { padding: 0 10px; text-align: left ; width: auto;} td:nth-child(2) {text-align: left ; width: 100%}\n",
       "    .wandb-row { display: flex; flex-direction: row; flex-wrap: wrap; justify-content: flex-start; width: 100% }\n",
       "    .wandb-col { display: flex; flex-direction: column; flex-basis: 100%; flex: 1; padding: 10px; }\n",
       "    </style>\n",
       "<div class=\"wandb-row\"><div class=\"wandb-col\"><h3>Run history:</h3><br/><table class=\"wandb\"><tr><td>train_lh_corr</td><td>▁▁▂▃▄▆▆▆▆▅▇▅▆▇▅▆▆▆▆▆▆▇▆██▆█▇▆▇▆▇▆▆▇▇▆▆▇█</td></tr><tr><td>train_lh_mse</td><td>█▁▁▁▁▁▁▁▁▁▁▁▁▁▁▁▁▁▁▁▁▁▁▁▁▁▁▁▁▁▁▁▁▁▁▁▁▁▁▁</td></tr><tr><td>train_rh_corr</td><td>▁▁▂▄▅▆▆▆▅▆▇▆▆▇▆▆▆▆▆▅▆▇▇██▆▇▇▆▇▇█▆▆▇▇▆▆▆█</td></tr><tr><td>train_rh_mse</td><td>█▁▁▁▁▁▁▁▁▁▁▁▁▁▁▁▁▁▁▁▁▁▁▁▁▁▁▁▁▁▁▁▁▁▁▁▁▁▁▁</td></tr><tr><td>val_lh_corr</td><td>▁▁▃▄▅▇▅▇█▇▆▆▇▇▇█▇▅▆█▇▅▆▇█▆▆▆▆█▆▇▆▇▆▆█▇▆▆</td></tr><tr><td>val_lh_mse</td><td>█▁▁▁▁▁▁▁▁▁▁▁▁▁▁▁▁▁▁▁▁▁▁▁▁▁▁▁▁▁▁▁▁▁▁▁▁▁▁▁</td></tr><tr><td>val_rh_corr</td><td>▁▁▃▄▄▇▆▇█▇▆▆▆▆▇▇▇▅▅▇▇▅▆▆▇▆▆▆▇█▆▇▆▇▆▆█▆▆▆</td></tr><tr><td>val_rh_mse</td><td>█▁▁▁▁▁▁▁▁▁▁▁▁▁▁▁▁▁▁▁▁▁▁▁▁▁▁▁▁▁▁▁▁▁▁▁▁▁▁▁</td></tr></table><br/></div><div class=\"wandb-col\"><h3>Run summary:</h3><br/><table class=\"wandb\"><tr><td>train_lh_corr</td><td>0.22521</td></tr><tr><td>train_lh_mse</td><td>0.56904</td></tr><tr><td>train_rh_corr</td><td>0.21962</td></tr><tr><td>train_rh_mse</td><td>0.59278</td></tr><tr><td>val_lh_corr</td><td>0.17655</td></tr><tr><td>val_lh_mse</td><td>0.55576</td></tr><tr><td>val_rh_corr</td><td>0.17079</td></tr><tr><td>val_rh_mse</td><td>0.5497</td></tr></table><br/></div></div>"
      ],
      "text/plain": [
       "<IPython.core.display.HTML object>"
      ]
     },
     "metadata": {},
     "output_type": "display_data"
    },
    {
     "data": {
      "text/html": [
       " View run <strong style=\"color:#cdcd00\">confused-wave-1111</strong> at: <a href='https://wandb.ai/syrkis/neuroscope/runs/ef9b1qvb' target=\"_blank\">https://wandb.ai/syrkis/neuroscope/runs/ef9b1qvb</a><br/>Synced 5 W&B file(s), 0 media file(s), 0 artifact file(s) and 0 other file(s)"
      ],
      "text/plain": [
       "<IPython.core.display.HTML object>"
      ]
     },
     "metadata": {},
     "output_type": "display_data"
    },
    {
     "data": {
      "text/html": [
       "Find logs at: <code>./wandb/run-20230606_060520-ef9b1qvb/logs</code>"
      ],
      "text/plain": [
       "<IPython.core.display.HTML object>"
      ]
     },
     "metadata": {},
     "output_type": "display_data"
    },
    {
     "data": {
      "text/html": [
       "Tracking run with wandb version 0.15.3"
      ],
      "text/plain": [
       "<IPython.core.display.HTML object>"
      ]
     },
     "metadata": {},
     "output_type": "display_data"
    },
    {
     "data": {
      "text/html": [
       "Run data is saved locally in <code>/home/nobr/neuroscope/wandb/run-20230606_060629-od9zj9vs</code>"
      ],
      "text/plain": [
       "<IPython.core.display.HTML object>"
      ]
     },
     "metadata": {},
     "output_type": "display_data"
    },
    {
     "data": {
      "text/html": [
       "Syncing run <strong><a href='https://wandb.ai/syrkis/neuroscope/runs/od9zj9vs' target=\"_blank\">dark-hill-1112</a></strong> to <a href='https://wandb.ai/syrkis/neuroscope' target=\"_blank\">Weights & Biases</a> (<a href='https://wandb.me/run' target=\"_blank\">docs</a>)<br/>"
      ],
      "text/plain": [
       "<IPython.core.display.HTML object>"
      ]
     },
     "metadata": {},
     "output_type": "display_data"
    },
    {
     "data": {
      "text/html": [
       " View project at <a href='https://wandb.ai/syrkis/neuroscope' target=\"_blank\">https://wandb.ai/syrkis/neuroscope</a>"
      ],
      "text/plain": [
       "<IPython.core.display.HTML object>"
      ]
     },
     "metadata": {},
     "output_type": "display_data"
    },
    {
     "data": {
      "text/html": [
       " View run at <a href='https://wandb.ai/syrkis/neuroscope/runs/od9zj9vs' target=\"_blank\">https://wandb.ai/syrkis/neuroscope/runs/od9zj9vs</a>"
      ],
      "text/plain": [
       "<IPython.core.display.HTML object>"
      ]
     },
     "metadata": {},
     "output_type": "display_data"
    },
    {
     "name": "stderr",
     "output_type": "stream",
     "text": [
      "100%|██████████| 6000/6000 [01:02<00:00, 96.48it/s] \n"
     ]
    },
    {
     "data": {
      "text/html": [
       "Waiting for W&B process to finish... <strong style=\"color:green\">(success).</strong>"
      ],
      "text/plain": [
       "<IPython.core.display.HTML object>"
      ]
     },
     "metadata": {},
     "output_type": "display_data"
    },
    {
     "data": {
      "text/html": [
       "<style>\n",
       "    table.wandb td:nth-child(1) { padding: 0 10px; text-align: left ; width: auto;} td:nth-child(2) {text-align: left ; width: 100%}\n",
       "    .wandb-row { display: flex; flex-direction: row; flex-wrap: wrap; justify-content: flex-start; width: 100% }\n",
       "    .wandb-col { display: flex; flex-direction: column; flex-basis: 100%; flex: 1; padding: 10px; }\n",
       "    </style>\n",
       "<div class=\"wandb-row\"><div class=\"wandb-col\"><h3>Run history:</h3><br/><table class=\"wandb\"><tr><td>train_lh_corr</td><td>▁▁▂▃▅▆▆▆▆▇▄▆▇▇▆▇▇▆▇▅▆▆▇▇▆▇▇▇▇▇▇▆▆█▇▇▇██▆</td></tr><tr><td>train_lh_mse</td><td>█▁▁▁▁▁▁▁▁▁▁▁▁▁▁▁▁▁▁▁▁▁▁▁▁▁▁▁▁▁▁▁▁▁▁▁▁▁▁▁</td></tr><tr><td>train_rh_corr</td><td>▁▁▂▃▄▇▆▆▆▇▄▆▆▇▆▇▆▆▇▅▆▆▇▆▆▆▇▇▆▆▇▆▆█▇█▇██▆</td></tr><tr><td>train_rh_mse</td><td>█▁▁▁▁▁▁▁▁▁▁▁▁▁▁▁▁▁▁▁▁▁▁▁▁▁▁▁▁▁▁▁▁▁▁▁▁▁▁▁</td></tr><tr><td>val_lh_corr</td><td>▁▁▂▃▄▆▅▆▇▆▅▆▇▆▆▇▆▅▆▆▆▅▆▆▅▆▆▆▆▆▅▆▆▆▆▆█▆▆▇</td></tr><tr><td>val_lh_mse</td><td>█▁▁▁▁▁▁▁▁▁▁▁▁▁▁▁▁▁▁▁▁▁▁▁▁▁▁▁▁▁▁▁▁▁▁▁▁▁▁▁</td></tr><tr><td>val_rh_corr</td><td>▁▁▂▃▄▅▅▆▆▆▅▆▇▆▆▆▆▅▆▆▅▅▆▅▆▆▆▅▆▅▅▆▆▆▅▆█▆▆▆</td></tr><tr><td>val_rh_mse</td><td>█▁▁▁▁▁▁▁▁▁▁▁▁▁▁▁▁▁▁▁▁▁▁▁▁▁▁▁▁▁▁▁▁▁▁▁▁▁▁▁</td></tr></table><br/></div><div class=\"wandb-col\"><h3>Run summary:</h3><br/><table class=\"wandb\"><tr><td>train_lh_corr</td><td>0.1568</td></tr><tr><td>train_lh_mse</td><td>0.63121</td></tr><tr><td>train_rh_corr</td><td>0.16075</td></tr><tr><td>train_rh_mse</td><td>0.64032</td></tr><tr><td>val_lh_corr</td><td>0.18785</td></tr><tr><td>val_lh_mse</td><td>0.60436</td></tr><tr><td>val_rh_corr</td><td>0.19962</td></tr><tr><td>val_rh_mse</td><td>0.63002</td></tr></table><br/></div></div>"
      ],
      "text/plain": [
       "<IPython.core.display.HTML object>"
      ]
     },
     "metadata": {},
     "output_type": "display_data"
    },
    {
     "data": {
      "text/html": [
       " View run <strong style=\"color:#cdcd00\">dark-hill-1112</strong> at: <a href='https://wandb.ai/syrkis/neuroscope/runs/od9zj9vs' target=\"_blank\">https://wandb.ai/syrkis/neuroscope/runs/od9zj9vs</a><br/>Synced 5 W&B file(s), 0 media file(s), 0 artifact file(s) and 0 other file(s)"
      ],
      "text/plain": [
       "<IPython.core.display.HTML object>"
      ]
     },
     "metadata": {},
     "output_type": "display_data"
    },
    {
     "data": {
      "text/html": [
       "Find logs at: <code>./wandb/run-20230606_060629-od9zj9vs/logs</code>"
      ],
      "text/plain": [
       "<IPython.core.display.HTML object>"
      ]
     },
     "metadata": {},
     "output_type": "display_data"
    },
    {
     "data": {
      "text/html": [
       "Tracking run with wandb version 0.15.3"
      ],
      "text/plain": [
       "<IPython.core.display.HTML object>"
      ]
     },
     "metadata": {},
     "output_type": "display_data"
    },
    {
     "data": {
      "text/html": [
       "Run data is saved locally in <code>/home/nobr/neuroscope/wandb/run-20230606_060738-4jop8492</code>"
      ],
      "text/plain": [
       "<IPython.core.display.HTML object>"
      ]
     },
     "metadata": {},
     "output_type": "display_data"
    },
    {
     "data": {
      "text/html": [
       "Syncing run <strong><a href='https://wandb.ai/syrkis/neuroscope/runs/4jop8492' target=\"_blank\">helpful-fire-1113</a></strong> to <a href='https://wandb.ai/syrkis/neuroscope' target=\"_blank\">Weights & Biases</a> (<a href='https://wandb.me/run' target=\"_blank\">docs</a>)<br/>"
      ],
      "text/plain": [
       "<IPython.core.display.HTML object>"
      ]
     },
     "metadata": {},
     "output_type": "display_data"
    },
    {
     "data": {
      "text/html": [
       " View project at <a href='https://wandb.ai/syrkis/neuroscope' target=\"_blank\">https://wandb.ai/syrkis/neuroscope</a>"
      ],
      "text/plain": [
       "<IPython.core.display.HTML object>"
      ]
     },
     "metadata": {},
     "output_type": "display_data"
    },
    {
     "data": {
      "text/html": [
       " View run at <a href='https://wandb.ai/syrkis/neuroscope/runs/4jop8492' target=\"_blank\">https://wandb.ai/syrkis/neuroscope/runs/4jop8492</a>"
      ],
      "text/plain": [
       "<IPython.core.display.HTML object>"
      ]
     },
     "metadata": {},
     "output_type": "display_data"
    },
    {
     "name": "stderr",
     "output_type": "stream",
     "text": [
      "100%|██████████| 6000/6000 [00:59<00:00, 100.74it/s]\n"
     ]
    },
    {
     "data": {
      "text/html": [
       "Waiting for W&B process to finish... <strong style=\"color:green\">(success).</strong>"
      ],
      "text/plain": [
       "<IPython.core.display.HTML object>"
      ]
     },
     "metadata": {},
     "output_type": "display_data"
    },
    {
     "data": {
      "text/html": [
       "<style>\n",
       "    table.wandb td:nth-child(1) { padding: 0 10px; text-align: left ; width: auto;} td:nth-child(2) {text-align: left ; width: 100%}\n",
       "    .wandb-row { display: flex; flex-direction: row; flex-wrap: wrap; justify-content: flex-start; width: 100% }\n",
       "    .wandb-col { display: flex; flex-direction: column; flex-basis: 100%; flex: 1; padding: 10px; }\n",
       "    </style>\n",
       "<div class=\"wandb-row\"><div class=\"wandb-col\"><h3>Run history:</h3><br/><table class=\"wandb\"><tr><td>train_lh_corr</td><td>▁▁▃▄▄▅▆▇▅▆▇▆▅▇▅▆▇▇▅▇▇▇▇▇▆▆▇▇▆▇█▆▇▆▇▆▆▆▇▇</td></tr><tr><td>train_lh_mse</td><td>█▁▁▁▁▁▁▁▁▁▁▁▁▁▁▁▁▁▁▁▁▁▁▁▁▁▁▁▁▁▁▁▁▁▁▁▁▁▁▁</td></tr><tr><td>train_rh_corr</td><td>▁▁▃▄▅▅▇▇▅▆▇▆▅▇▆▆▇▇▆▇▇█▇█▆▅▇▇▆▇█▆█▆▇▆▆▇▇▆</td></tr><tr><td>train_rh_mse</td><td>█▁▁▁▁▁▁▁▁▁▁▁▁▁▁▁▁▁▁▁▁▁▁▁▁▁▁▁▁▁▁▁▁▁▁▁▁▁▁▁</td></tr><tr><td>val_lh_corr</td><td>▁▁▃▄▆▅█▇▇▆▇▅▇▆▆▆▇▆▇▅█▇▆▆▇▆▇▆▆▆▇▆▅▅▆▆▆▆▆▅</td></tr><tr><td>val_lh_mse</td><td>█▁▁▁▁▁▁▁▁▁▁▁▁▁▁▁▁▁▁▁▁▁▁▁▁▁▁▁▁▁▁▁▁▁▁▁▁▁▁▁</td></tr><tr><td>val_rh_corr</td><td>▁▁▃▄▆▅█▇▆▆▆▅▇▅▆▆▇▅▆▅▇▇▆▆▇▆▆▆▆▆▇▆▆▅▆▅▆▆▆▅</td></tr><tr><td>val_rh_mse</td><td>█▁▁▁▁▁▁▁▁▁▁▁▁▁▁▁▁▁▁▁▁▁▁▁▁▁▁▁▁▁▁▁▁▁▁▁▁▁▁▁</td></tr></table><br/></div><div class=\"wandb-col\"><h3>Run summary:</h3><br/><table class=\"wandb\"><tr><td>train_lh_corr</td><td>0.24321</td></tr><tr><td>train_lh_mse</td><td>0.45904</td></tr><tr><td>train_rh_corr</td><td>0.22159</td></tr><tr><td>train_rh_mse</td><td>0.45258</td></tr><tr><td>val_lh_corr</td><td>0.19543</td></tr><tr><td>val_lh_mse</td><td>0.47145</td></tr><tr><td>val_rh_corr</td><td>0.18449</td></tr><tr><td>val_rh_mse</td><td>0.47972</td></tr></table><br/></div></div>"
      ],
      "text/plain": [
       "<IPython.core.display.HTML object>"
      ]
     },
     "metadata": {},
     "output_type": "display_data"
    },
    {
     "data": {
      "text/html": [
       " View run <strong style=\"color:#cdcd00\">helpful-fire-1113</strong> at: <a href='https://wandb.ai/syrkis/neuroscope/runs/4jop8492' target=\"_blank\">https://wandb.ai/syrkis/neuroscope/runs/4jop8492</a><br/>Synced 5 W&B file(s), 0 media file(s), 0 artifact file(s) and 0 other file(s)"
      ],
      "text/plain": [
       "<IPython.core.display.HTML object>"
      ]
     },
     "metadata": {},
     "output_type": "display_data"
    },
    {
     "data": {
      "text/html": [
       "Find logs at: <code>./wandb/run-20230606_060738-4jop8492/logs</code>"
      ],
      "text/plain": [
       "<IPython.core.display.HTML object>"
      ]
     },
     "metadata": {},
     "output_type": "display_data"
    },
    {
     "data": {
      "text/html": [
       "Tracking run with wandb version 0.15.3"
      ],
      "text/plain": [
       "<IPython.core.display.HTML object>"
      ]
     },
     "metadata": {},
     "output_type": "display_data"
    },
    {
     "data": {
      "text/html": [
       "Run data is saved locally in <code>/home/nobr/neuroscope/wandb/run-20230606_060844-ea1h2ur4</code>"
      ],
      "text/plain": [
       "<IPython.core.display.HTML object>"
      ]
     },
     "metadata": {},
     "output_type": "display_data"
    },
    {
     "data": {
      "text/html": [
       "Syncing run <strong><a href='https://wandb.ai/syrkis/neuroscope/runs/ea1h2ur4' target=\"_blank\">dulcet-elevator-1114</a></strong> to <a href='https://wandb.ai/syrkis/neuroscope' target=\"_blank\">Weights & Biases</a> (<a href='https://wandb.me/run' target=\"_blank\">docs</a>)<br/>"
      ],
      "text/plain": [
       "<IPython.core.display.HTML object>"
      ]
     },
     "metadata": {},
     "output_type": "display_data"
    },
    {
     "data": {
      "text/html": [
       " View project at <a href='https://wandb.ai/syrkis/neuroscope' target=\"_blank\">https://wandb.ai/syrkis/neuroscope</a>"
      ],
      "text/plain": [
       "<IPython.core.display.HTML object>"
      ]
     },
     "metadata": {},
     "output_type": "display_data"
    },
    {
     "data": {
      "text/html": [
       " View run at <a href='https://wandb.ai/syrkis/neuroscope/runs/ea1h2ur4' target=\"_blank\">https://wandb.ai/syrkis/neuroscope/runs/ea1h2ur4</a>"
      ],
      "text/plain": [
       "<IPython.core.display.HTML object>"
      ]
     },
     "metadata": {},
     "output_type": "display_data"
    },
    {
     "name": "stderr",
     "output_type": "stream",
     "text": [
      "100%|██████████| 6000/6000 [00:59<00:00, 101.05it/s]\n"
     ]
    },
    {
     "data": {
      "text/html": [
       "Waiting for W&B process to finish... <strong style=\"color:green\">(success).</strong>"
      ],
      "text/plain": [
       "<IPython.core.display.HTML object>"
      ]
     },
     "metadata": {},
     "output_type": "display_data"
    },
    {
     "data": {
      "text/html": [
       "<style>\n",
       "    table.wandb td:nth-child(1) { padding: 0 10px; text-align: left ; width: auto;} td:nth-child(2) {text-align: left ; width: 100%}\n",
       "    .wandb-row { display: flex; flex-direction: row; flex-wrap: wrap; justify-content: flex-start; width: 100% }\n",
       "    .wandb-col { display: flex; flex-direction: column; flex-basis: 100%; flex: 1; padding: 10px; }\n",
       "    </style>\n",
       "<div class=\"wandb-row\"><div class=\"wandb-col\"><h3>Run history:</h3><br/><table class=\"wandb\"><tr><td>train_lh_corr</td><td>▁▁▂▄▄▆▇▇▇▇▇▇▆▇█▆▇▇▇▆▇▆██▆█▇▇█▇▇▆▇▇▆▇▆▇▆▇</td></tr><tr><td>train_lh_mse</td><td>█▁▁▁▁▁▁▁▁▁▁▁▁▁▁▁▁▁▁▁▁▁▁▁▁▁▁▁▁▁▁▁▁▁▁▁▁▁▁▁</td></tr><tr><td>train_rh_corr</td><td>▁▁▂▅▄▆▆▆▆▇▇▇▇▆▇▇▇▆▇▆▇▇█▇▇█▇▇▆▇▇▆██▆█▆▆▇█</td></tr><tr><td>train_rh_mse</td><td>█▁▁▁▁▁▁▁▁▁▁▁▁▁▁▁▁▁▁▁▁▁▁▁▁▁▁▁▁▁▁▁▁▁▁▁▁▁▁▁</td></tr><tr><td>val_lh_corr</td><td>▁▁▂▃▅▅▅▆▆▆▆▇▆▅▇▅▆▆▆▆▆▆▇▆▆█▆▆▇▇▆▇▅▇▇▇▆▆▆▆</td></tr><tr><td>val_lh_mse</td><td>█▁▁▁▁▁▁▁▁▁▁▁▁▁▁▁▁▁▁▁▁▁▁▁▁▁▁▁▁▁▁▁▁▁▁▁▁▁▁▁</td></tr><tr><td>val_rh_corr</td><td>▁▁▃▄▄▆▅▇█▆▆▇▅▆▆▅▇▇▆▆▆▇▇▇▆█▇▆▇▇▇▆▆▇██▅▇▆▆</td></tr><tr><td>val_rh_mse</td><td>█▁▁▁▁▁▁▁▁▁▁▁▁▁▁▁▁▁▁▁▁▁▁▁▁▁▁▁▁▁▁▁▁▁▁▁▁▁▁▁</td></tr></table><br/></div><div class=\"wandb-col\"><h3>Run summary:</h3><br/><table class=\"wandb\"><tr><td>train_lh_corr</td><td>0.18584</td></tr><tr><td>train_lh_mse</td><td>0.49134</td></tr><tr><td>train_rh_corr</td><td>0.19898</td></tr><tr><td>train_rh_mse</td><td>0.48771</td></tr><tr><td>val_lh_corr</td><td>0.15401</td></tr><tr><td>val_lh_mse</td><td>0.45773</td></tr><tr><td>val_rh_corr</td><td>0.14988</td></tr><tr><td>val_rh_mse</td><td>0.44436</td></tr></table><br/></div></div>"
      ],
      "text/plain": [
       "<IPython.core.display.HTML object>"
      ]
     },
     "metadata": {},
     "output_type": "display_data"
    },
    {
     "data": {
      "text/html": [
       " View run <strong style=\"color:#cdcd00\">dulcet-elevator-1114</strong> at: <a href='https://wandb.ai/syrkis/neuroscope/runs/ea1h2ur4' target=\"_blank\">https://wandb.ai/syrkis/neuroscope/runs/ea1h2ur4</a><br/>Synced 5 W&B file(s), 0 media file(s), 0 artifact file(s) and 0 other file(s)"
      ],
      "text/plain": [
       "<IPython.core.display.HTML object>"
      ]
     },
     "metadata": {},
     "output_type": "display_data"
    },
    {
     "data": {
      "text/html": [
       "Find logs at: <code>./wandb/run-20230606_060844-ea1h2ur4/logs</code>"
      ],
      "text/plain": [
       "<IPython.core.display.HTML object>"
      ]
     },
     "metadata": {},
     "output_type": "display_data"
    }
   ],
   "source": [
    "train(apply_fn, data, config)"
   ]
  },
  {
   "cell_type": "code",
   "execution_count": null,
   "metadata": {},
   "outputs": [],
   "source": []
  },
  {
   "cell_type": "code",
   "execution_count": null,
   "metadata": {},
   "outputs": [],
   "source": []
  }
 ],
 "metadata": {
  "kernelspec": {
   "display_name": "Python 3 (ipykernel)",
   "language": "python",
   "name": "python3"
  },
  "language_info": {
   "codemirror_mode": {
    "name": "ipython",
    "version": 3
   },
   "file_extension": ".py",
   "mimetype": "text/x-python",
   "name": "python",
   "nbconvert_exporter": "python",
   "pygments_lexer": "ipython3",
   "version": "3.11.3"
  },
  "orig_nbformat": 4
 },
 "nbformat": 4,
 "nbformat_minor": 2
}
