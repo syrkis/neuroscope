{
 "cells": [
  {
   "attachments": {},
   "cell_type": "markdown",
   "metadata": {},
   "source": [
    "# Neuroscape playground"
   ]
  },
  {
   "cell_type": "code",
   "execution_count": 1,
   "metadata": {},
   "outputs": [
    {
     "name": "stderr",
     "output_type": "stream",
     "text": [
      "100%|██████████| 6/6 [00:00<00:00, 40.65it/s]\n",
      "100%|██████████| 6/6 [00:02<00:00,  2.02it/s]\n"
     ]
    }
   ],
   "source": [
    "from src.data import get_data\n",
    "from src.utils import get_args_and_config\n",
    "from src.train import train\n",
    "from src.fmri import plot_brain"
   ]
  },
  {
   "attachments": {},
   "cell_type": "markdown",
   "metadata": {},
   "source": [
    "## data"
   ]
  },
  {
   "cell_type": "code",
   "execution_count": 2,
   "metadata": {},
   "outputs": [
    {
     "name": "stderr",
     "output_type": "stream",
     "text": [
      "100%|██████████| 6/6 [00:33<00:00,  5.56s/it]\n"
     ]
    }
   ],
   "source": [
    "args, config = get_args_and_config()\n",
    "data = get_data(args, config)"
   ]
  },
  {
   "cell_type": "code",
   "execution_count": 3,
   "metadata": {},
   "outputs": [
    {
     "name": "stderr",
     "output_type": "stream",
     "text": [
      "\u001b[34m\u001b[1mwandb\u001b[0m: Currently logged in as: \u001b[33msyrkis\u001b[0m. Use \u001b[1m`wandb login --relogin`\u001b[0m to force relogin\n"
     ]
    },
    {
     "data": {
      "text/html": [
       "Tracking run with wandb version 0.15.3"
      ],
      "text/plain": [
       "<IPython.core.display.HTML object>"
      ]
     },
     "metadata": {},
     "output_type": "display_data"
    },
    {
     "data": {
      "text/html": [
       "Run data is saved locally in <code>/home/nobr/neuroscope/wandb/run-20230603_222844-2c4gzrhu</code>"
      ],
      "text/plain": [
       "<IPython.core.display.HTML object>"
      ]
     },
     "metadata": {},
     "output_type": "display_data"
    },
    {
     "data": {
      "text/html": [
       "Syncing run <strong><a href='https://wandb.ai/syrkis/neuroscope/runs/2c4gzrhu' target=\"_blank\">zesty-water-145</a></strong> to <a href='https://wandb.ai/syrkis/neuroscope' target=\"_blank\">Weights & Biases</a> (<a href='https://wandb.me/run' target=\"_blank\">docs</a>)<br/>"
      ],
      "text/plain": [
       "<IPython.core.display.HTML object>"
      ]
     },
     "metadata": {},
     "output_type": "display_data"
    },
    {
     "data": {
      "text/html": [
       " View project at <a href='https://wandb.ai/syrkis/neuroscope' target=\"_blank\">https://wandb.ai/syrkis/neuroscope</a>"
      ],
      "text/plain": [
       "<IPython.core.display.HTML object>"
      ]
     },
     "metadata": {},
     "output_type": "display_data"
    },
    {
     "data": {
      "text/html": [
       " View run at <a href='https://wandb.ai/syrkis/neuroscope/runs/2c4gzrhu' target=\"_blank\">https://wandb.ai/syrkis/neuroscope/runs/2c4gzrhu</a>"
      ],
      "text/plain": [
       "<IPython.core.display.HTML object>"
      ]
     },
     "metadata": {},
     "output_type": "display_data"
    },
    {
     "name": "stderr",
     "output_type": "stream",
     "text": [
      "100%|██████████| 6000/6000 [01:52<00:00, 53.14it/s]\n"
     ]
    },
    {
     "data": {
      "text/html": [
       "Waiting for W&B process to finish... <strong style=\"color:green\">(success).</strong>"
      ],
      "text/plain": [
       "<IPython.core.display.HTML object>"
      ]
     },
     "metadata": {},
     "output_type": "display_data"
    },
    {
     "data": {
      "text/html": [
       "<style>\n",
       "    table.wandb td:nth-child(1) { padding: 0 10px; text-align: left ; width: auto;} td:nth-child(2) {text-align: left ; width: 100%}\n",
       "    .wandb-row { display: flex; flex-direction: row; flex-wrap: wrap; justify-content: flex-start; width: 100% }\n",
       "    .wandb-col { display: flex; flex-direction: column; flex-basis: 100%; flex: 1; padding: 10px; }\n",
       "    </style>\n",
       "<div class=\"wandb-row\"><div class=\"wandb-col\"><h3>Run history:</h3><br/><table class=\"wandb\"><tr><td>algonauts_train_lh_corr</td><td>▆▇▃█▆█▃▇▃▄▅▅▆▇▃▆▄▆▄▄▄▃▅▁▄▅▃▂▇▂▄▇▁▆▁▅▃▃▅▄</td></tr><tr><td>algonauts_train_rh_corr</td><td>▇▇▅█▆▇▂▆▅▃▃▆▅▇▃▇▅▆▅▆▄▃▆▁▄▇▄▂█▄▇█▃▇▄▆▄▄▅▄</td></tr><tr><td>algonauts_val_lh_corr</td><td>▃▁▂▂▃▆▃▆▄▇▇▅▆▅▄▆▅▅▆▆▆█▅▇▄▆▅█▄▇█▄█▅▅▇▇▇▃▄</td></tr><tr><td>algonauts_val_rh_corr</td><td>▄▁▄▃▄▇▄▃▄▆▆▄▅▆▄▅▇▆▅▃▅█▄▆▅▆▅▅▆▆▆▅▇▇▃█▆▆▄▂</td></tr><tr><td>train_cat_loss</td><td>█▁▁▁▁▁▁▁▁▁▁▁▁▁▁▁▁▁▁▁▁▁▁▁▁▁▁▁▁▁▁▁▁▁▁▁▁▁▁▁</td></tr><tr><td>train_lh_corr</td><td>▁▂▃▅▅▅▄▅▅▆▆▅▆▇▆▆▇▇▇▇▇▇▇▇▇▆▆▆█▆▇█▆▇▇▇▇▆▆▆</td></tr><tr><td>train_lh_loss</td><td>█▃▃▃▂▂▃▂▂▂▂▂▂▁▂▂▂▂▂▁▂▂▁▂▂▂▁▂▂▁▁▂▂▁▂▁▁▂▁▂</td></tr><tr><td>train_loss</td><td>█▂▂▂▁▂▁▁▂▁▁▁▁▁▁▁▁▁▁▁▁▁▁▁▁▁▁▁▁▁▁▁▁▁▁▁▁▁▁▁</td></tr><tr><td>train_rh_corr</td><td>▁▂▄▅▅▅▄▅▆▆▆▅▇▆▇▆▇▇▆▇▇▇▇▇▇▇▆▆█▇██▆▇█▇█▇▆▆</td></tr><tr><td>train_rh_loss</td><td>█▃▃▃▂▃▃▂▂▂▃▂▂▂▃▂▂▂▂▁▂▂▂▂▂▂▁▂▂▁▁▂▂▁▂▁▂▂▁▂</td></tr><tr><td>val_cat_loss</td><td>█▁▁▁▁▁▁▁▁▁▁▂▂▁▁▁▁▁▁▁▁▁▁▁▁▁▁▁▁▂▂▂▁▂▁▂▂▁▁▁</td></tr><tr><td>val_lh_corr</td><td>▁▃▅▃▅▅▅▅▆▆▇▅▆▅▅▅▆▆▅▆▄▄▆▅▃▆▆▇▂▆▅▄█▅▇▅▆▇▅▄</td></tr><tr><td>val_lh_loss</td><td>█▁▃▂▄▂▂▂▂▃▃▃▂▃▂▄▂▃▄▂▃▃▁▄▄▂▄▄▄▄▄▃▂▂▃▅▄▂▃▂</td></tr><tr><td>val_loss</td><td>█▁▁▁▁▁▁▁▁▂▁▂▂▁▁▁▁▁▂▁▁▁▁▂▁▁▂▂▂▂▂▂▁▂▂▂▂▁▁▁</td></tr><tr><td>val_rh_corr</td><td>▁▂▆▄▆▆▅▄▇▆▇▄▇▆▅▆▆▇▅▆▄▅▆▄▅▆▅▆▃▅▅▄█▅▇▆▆▇▅▄</td></tr><tr><td>val_rh_loss</td><td>█▁▃▂▃▂▂▂▂▃▂▂▂▃▂▃▂▂▄▂▃▃▂▃▃▂▃▄▃▄▃▃▁▂▃▄▃▂▃▂</td></tr></table><br/></div><div class=\"wandb-col\"><h3>Run summary:</h3><br/><table class=\"wandb\"><tr><td>algonauts_train_lh_corr</td><td>0.25768</td></tr><tr><td>algonauts_train_rh_corr</td><td>0.24871</td></tr><tr><td>algonauts_val_lh_corr</td><td>0.23515</td></tr><tr><td>algonauts_val_rh_corr</td><td>0.21395</td></tr><tr><td>train_cat_loss</td><td>2.28101</td></tr><tr><td>train_lh_corr</td><td>0.30815</td></tr><tr><td>train_lh_loss</td><td>0.45969</td></tr><tr><td>train_loss</td><td>0.64247</td></tr><tr><td>train_rh_corr</td><td>0.32044</td></tr><tr><td>train_rh_loss</td><td>0.46113</td></tr><tr><td>val_cat_loss</td><td>3.7226</td></tr><tr><td>val_lh_corr</td><td>0.10762</td></tr><tr><td>val_lh_loss</td><td>0.4882</td></tr><tr><td>val_loss</td><td>0.81298</td></tr><tr><td>val_rh_corr</td><td>0.11461</td></tr><tr><td>val_rh_loss</td><td>0.49117</td></tr></table><br/></div></div>"
      ],
      "text/plain": [
       "<IPython.core.display.HTML object>"
      ]
     },
     "metadata": {},
     "output_type": "display_data"
    },
    {
     "data": {
      "text/html": [
       " View run <strong style=\"color:#cdcd00\">zesty-water-145</strong> at: <a href='https://wandb.ai/syrkis/neuroscope/runs/2c4gzrhu' target=\"_blank\">https://wandb.ai/syrkis/neuroscope/runs/2c4gzrhu</a><br/>Synced 5 W&B file(s), 0 media file(s), 0 artifact file(s) and 0 other file(s)"
      ],
      "text/plain": [
       "<IPython.core.display.HTML object>"
      ]
     },
     "metadata": {},
     "output_type": "display_data"
    },
    {
     "data": {
      "text/html": [
       "Find logs at: <code>./wandb/run-20230603_222844-2c4gzrhu/logs</code>"
      ],
      "text/plain": [
       "<IPython.core.display.HTML object>"
      ]
     },
     "metadata": {},
     "output_type": "display_data"
    },
    {
     "data": {
      "text/html": [
       "Tracking run with wandb version 0.15.3"
      ],
      "text/plain": [
       "<IPython.core.display.HTML object>"
      ]
     },
     "metadata": {},
     "output_type": "display_data"
    },
    {
     "data": {
      "text/html": [
       "Run data is saved locally in <code>/home/nobr/neuroscope/wandb/run-20230603_223043-m7crtopb</code>"
      ],
      "text/plain": [
       "<IPython.core.display.HTML object>"
      ]
     },
     "metadata": {},
     "output_type": "display_data"
    },
    {
     "data": {
      "text/html": [
       "Syncing run <strong><a href='https://wandb.ai/syrkis/neuroscope/runs/m7crtopb' target=\"_blank\">trim-fire-146</a></strong> to <a href='https://wandb.ai/syrkis/neuroscope' target=\"_blank\">Weights & Biases</a> (<a href='https://wandb.me/run' target=\"_blank\">docs</a>)<br/>"
      ],
      "text/plain": [
       "<IPython.core.display.HTML object>"
      ]
     },
     "metadata": {},
     "output_type": "display_data"
    },
    {
     "data": {
      "text/html": [
       " View project at <a href='https://wandb.ai/syrkis/neuroscope' target=\"_blank\">https://wandb.ai/syrkis/neuroscope</a>"
      ],
      "text/plain": [
       "<IPython.core.display.HTML object>"
      ]
     },
     "metadata": {},
     "output_type": "display_data"
    },
    {
     "data": {
      "text/html": [
       " View run at <a href='https://wandb.ai/syrkis/neuroscope/runs/m7crtopb' target=\"_blank\">https://wandb.ai/syrkis/neuroscope/runs/m7crtopb</a>"
      ],
      "text/plain": [
       "<IPython.core.display.HTML object>"
      ]
     },
     "metadata": {},
     "output_type": "display_data"
    },
    {
     "name": "stderr",
     "output_type": "stream",
     "text": [
      "100%|██████████| 6000/6000 [01:43<00:00, 57.85it/s]\n"
     ]
    },
    {
     "data": {
      "text/html": [
       "Waiting for W&B process to finish... <strong style=\"color:green\">(success).</strong>"
      ],
      "text/plain": [
       "<IPython.core.display.HTML object>"
      ]
     },
     "metadata": {},
     "output_type": "display_data"
    },
    {
     "data": {
      "text/html": [
       "<style>\n",
       "    table.wandb td:nth-child(1) { padding: 0 10px; text-align: left ; width: auto;} td:nth-child(2) {text-align: left ; width: 100%}\n",
       "    .wandb-row { display: flex; flex-direction: row; flex-wrap: wrap; justify-content: flex-start; width: 100% }\n",
       "    .wandb-col { display: flex; flex-direction: column; flex-basis: 100%; flex: 1; padding: 10px; }\n",
       "    </style>\n",
       "<div class=\"wandb-row\"><div class=\"wandb-col\"><h3>Run history:</h3><br/><table class=\"wandb\"><tr><td>algonauts_train_lh_corr</td><td>▃█▅▃▆▄▃▆▆▃█▃▆▄▃▄▅▇▃▄▂▃▅▆▅▂█▆▃▄▆▄▆▄▁▃▁▃█▃</td></tr><tr><td>algonauts_train_rh_corr</td><td>▆▇▆▄▅▅▄▇▆▄▆▁▅▄▃▅▆▇▃▃▃▃▂▅▃▂█▅▃▄▆▃▆▄▁▃▃▃█▂</td></tr><tr><td>algonauts_val_lh_corr</td><td>█▃▅▂▃▆▅▅▅▄▅▁▆▅▃▇▆▄██▅▅▂▆▅▅▂▁▅▅▇▂▆▇▅▄▆▄▄▆</td></tr><tr><td>algonauts_val_rh_corr</td><td>▇▃▅▃▆▇▅▇▅▆▄▁▅▅▅▇▇▅▇▇▆▅▃▆▆▅▄▂▄▃▇▅▆█▆▇▇▅▆█</td></tr><tr><td>train_cat_loss</td><td>█▂▁▁▁▁▁▁▁▁▁▁▁▁▁▁▁▁▁▁▁▁▁▁▁▁▁▁▁▁▁▁▁▁▁▁▁▁▁▁</td></tr><tr><td>train_lh_corr</td><td>▁▃▄▄▅▅▅▆▆▅▇▅▅▆▅▇▇▆▆▆▇█▇▇▆▇▇█▆▇▇██▇▆▇▇███</td></tr><tr><td>train_lh_loss</td><td>█▄▂▃▂▂▂▂▂▃▂▂▂▂▂▂▂▂▁▂▂▁▂▂▂▂▁▂▂▂▁▂▂▁▁▃▁▁▂▁</td></tr><tr><td>train_loss</td><td>█▂▁▂▂▂▁▂▁▂▁▁▁▁▁▁▁▁▁▁▁▁▁▁▁▁▁▁▁▁▁▁▁▁▁▂▁▁▁▁</td></tr><tr><td>train_rh_corr</td><td>▁▃▅▃▄▅▆▆▆▅▆▅▅▅▅▇▇▆▆▆▆▇▆▇▆▆▇█▆▆▇█▇▆▆▇▇██▇</td></tr><tr><td>train_rh_loss</td><td>█▄▂▃▂▂▂▂▂▃▂▂▂▂▂▂▂▁▁▁▂▁▂▂▂▃▁▂▂▂▁▁▂▂▂▂▁▁▂▁</td></tr><tr><td>val_cat_loss</td><td>█▁▁▁▁▁▁▁▁▁▂▁▁▂▁▁▂▂▁▂▁▁▁▂▁▁▁▂▁▂▁▂▂▂▂▁▂▂▁▁</td></tr><tr><td>val_lh_corr</td><td>▁▃▄▄▅▆▅▆▆▄▆▃█▄▄▆▆▅▆▆▆▆▄▆▅▄▇▂▅▅▅▅▅▇▅▄▆▅▆▅</td></tr><tr><td>val_lh_loss</td><td>█▃▂▂▂▁▁▃▃▂▂▃▁▄▂▂▃▂▂▃▃▃▃▂▃▂▁▃▃▄▃▂▃▁▂▂▃▃▂▂</td></tr><tr><td>val_loss</td><td>█▁▁▁▁▁▁▁▁▁▁▂▁▂▁▁▂▂▁▂▁▂▁▂▁▁▁▂▁▂▁▂▂▁▂▁▂▂▁▁</td></tr><tr><td>val_rh_corr</td><td>▁▃▄▄▄▅▅▅▄▄▅▂█▃▅▆▅▅▅▇▆▆▃▆▄▃▇▂▄▄▄▄▅█▄▄▅▄▅▅</td></tr><tr><td>val_rh_loss</td><td>█▃▂▂▂▂▁▃▃▂▂▃▂▄▂▂▃▂▂▃▃▃▂▃▂▃▂▃▄▄▂▂▃▁▂▂▃▄▃▂</td></tr></table><br/></div><div class=\"wandb-col\"><h3>Run summary:</h3><br/><table class=\"wandb\"><tr><td>algonauts_train_lh_corr</td><td>0.25235</td></tr><tr><td>algonauts_train_rh_corr</td><td>0.23267</td></tr><tr><td>algonauts_val_lh_corr</td><td>0.29292</td></tr><tr><td>algonauts_val_rh_corr</td><td>0.32415</td></tr><tr><td>train_cat_loss</td><td>2.52749</td></tr><tr><td>train_lh_corr</td><td>0.38771</td></tr><tr><td>train_lh_loss</td><td>0.40954</td></tr><tr><td>train_loss</td><td>0.62426</td></tr><tr><td>train_rh_corr</td><td>0.38093</td></tr><tr><td>train_rh_loss</td><td>0.41604</td></tr><tr><td>val_cat_loss</td><td>3.1027</td></tr><tr><td>val_lh_corr</td><td>0.14792</td></tr><tr><td>val_lh_loss</td><td>0.49125</td></tr><tr><td>val_loss</td><td>0.75466</td></tr><tr><td>val_rh_corr</td><td>0.17584</td></tr><tr><td>val_rh_loss</td><td>0.49627</td></tr></table><br/></div></div>"
      ],
      "text/plain": [
       "<IPython.core.display.HTML object>"
      ]
     },
     "metadata": {},
     "output_type": "display_data"
    },
    {
     "data": {
      "text/html": [
       " View run <strong style=\"color:#cdcd00\">trim-fire-146</strong> at: <a href='https://wandb.ai/syrkis/neuroscope/runs/m7crtopb' target=\"_blank\">https://wandb.ai/syrkis/neuroscope/runs/m7crtopb</a><br/>Synced 5 W&B file(s), 0 media file(s), 0 artifact file(s) and 0 other file(s)"
      ],
      "text/plain": [
       "<IPython.core.display.HTML object>"
      ]
     },
     "metadata": {},
     "output_type": "display_data"
    },
    {
     "data": {
      "text/html": [
       "Find logs at: <code>./wandb/run-20230603_223043-m7crtopb/logs</code>"
      ],
      "text/plain": [
       "<IPython.core.display.HTML object>"
      ]
     },
     "metadata": {},
     "output_type": "display_data"
    },
    {
     "data": {
      "text/html": [
       "Tracking run with wandb version 0.15.3"
      ],
      "text/plain": [
       "<IPython.core.display.HTML object>"
      ]
     },
     "metadata": {},
     "output_type": "display_data"
    },
    {
     "data": {
      "text/html": [
       "Run data is saved locally in <code>/home/nobr/neuroscope/wandb/run-20230603_223232-is6jstf6</code>"
      ],
      "text/plain": [
       "<IPython.core.display.HTML object>"
      ]
     },
     "metadata": {},
     "output_type": "display_data"
    },
    {
     "data": {
      "text/html": [
       "Syncing run <strong><a href='https://wandb.ai/syrkis/neuroscope/runs/is6jstf6' target=\"_blank\">youthful-frost-147</a></strong> to <a href='https://wandb.ai/syrkis/neuroscope' target=\"_blank\">Weights & Biases</a> (<a href='https://wandb.me/run' target=\"_blank\">docs</a>)<br/>"
      ],
      "text/plain": [
       "<IPython.core.display.HTML object>"
      ]
     },
     "metadata": {},
     "output_type": "display_data"
    },
    {
     "data": {
      "text/html": [
       " View project at <a href='https://wandb.ai/syrkis/neuroscope' target=\"_blank\">https://wandb.ai/syrkis/neuroscope</a>"
      ],
      "text/plain": [
       "<IPython.core.display.HTML object>"
      ]
     },
     "metadata": {},
     "output_type": "display_data"
    },
    {
     "data": {
      "text/html": [
       " View run at <a href='https://wandb.ai/syrkis/neuroscope/runs/is6jstf6' target=\"_blank\">https://wandb.ai/syrkis/neuroscope/runs/is6jstf6</a>"
      ],
      "text/plain": [
       "<IPython.core.display.HTML object>"
      ]
     },
     "metadata": {},
     "output_type": "display_data"
    },
    {
     "name": "stderr",
     "output_type": "stream",
     "text": [
      "100%|██████████| 6000/6000 [01:44<00:00, 57.59it/s]\n"
     ]
    },
    {
     "data": {
      "text/html": [
       "Waiting for W&B process to finish... <strong style=\"color:green\">(success).</strong>"
      ],
      "text/plain": [
       "<IPython.core.display.HTML object>"
      ]
     },
     "metadata": {},
     "output_type": "display_data"
    },
    {
     "data": {
      "text/html": [
       "<style>\n",
       "    table.wandb td:nth-child(1) { padding: 0 10px; text-align: left ; width: auto;} td:nth-child(2) {text-align: left ; width: 100%}\n",
       "    .wandb-row { display: flex; flex-direction: row; flex-wrap: wrap; justify-content: flex-start; width: 100% }\n",
       "    .wandb-col { display: flex; flex-direction: column; flex-basis: 100%; flex: 1; padding: 10px; }\n",
       "    </style>\n",
       "<div class=\"wandb-row\"><div class=\"wandb-col\"><h3>Run history:</h3><br/><table class=\"wandb\"><tr><td>algonauts_train_lh_corr</td><td>▅▁▅▅▄▃▃▄▃▃▆▅▄▁▄▅▂▃▇▄▅▃▅▅█▅▃▂▅▄▄▅▅▄▅▂▃▆▃▆</td></tr><tr><td>algonauts_train_rh_corr</td><td>▄▁▅▇▄▂▃▄▃▂▆▅▄▁▄▆▃▃▆▃▅▃▆▅█▅▄▃▄▄▅▆▄▃▄▃▃▆▃▆</td></tr><tr><td>algonauts_val_lh_corr</td><td>▆▄▆▄▅▆▅▃▅▃▆▄▂▃▃▃▅█▇▁▅▄▄▆█▆▅▃▆▅▆▅▅▆▅▆▂▄▆▅</td></tr><tr><td>algonauts_val_rh_corr</td><td>▇▄▆▅▆▇▅▃▅▃▅▃▄▅▂▅▆█▇▁▅▆▄▇▇▇▆▄▅▅▆▅▅▆▆▆▄▆▇▄</td></tr><tr><td>train_cat_loss</td><td>█▁▁▁▁▁▁▁▁▁▁▁▁▁▁▁▁▁▁▁▁▁▁▁▁▁▁▁▁▁▁▁▁▁▁▁▁▁▁▁</td></tr><tr><td>train_lh_corr</td><td>▁▂▃▅▅▄▅▅▅▆▆▆▅▆▆▆▅▆▇▇▇▅▇▆▇▇█▆▇▆▇▆█▆▇▆█▇▇▇</td></tr><tr><td>train_lh_loss</td><td>█▃▃▂▂▅▃▃▃▃▂▄▂▂▂▂▃▂▃▁▂▂▁▂▁▃▂▁▂▃▁▁▂▁▂▁▁▂▁▁</td></tr><tr><td>train_loss</td><td>█▂▁▁▁▂▁▂▁▂▁▂▁▁▁▁▂▁▂▁▁▁▁▁▁▁▁▁▁▁▁▁▁▁▁▁▁▁▁▁</td></tr><tr><td>train_rh_corr</td><td>▁▂▂▅▄▄▅▄▄▅▅▆▅▅▆▆▅▅▇▆▆▅▆▆▆▆▇▆▆▆▆▆▇▆▆▆█▆▆▇</td></tr><tr><td>train_rh_loss</td><td>█▄▃▃▂▅▄▃▃▃▃▄▃▃▃▂▄▃▃▂▂▂▂▂▂▃▂▁▂▂▂▁▂▂▂▁▁▃▂▁</td></tr><tr><td>val_cat_loss</td><td>█▁▁▁▁▁▁▁▁▁▁▁▁▁▁▁▁▁▁▁▂▁▁▁▁▁▂▁▁▁▁▁▂▁▁▁▁▁▁▁</td></tr><tr><td>val_lh_corr</td><td>▁▃▇▅▅▆▄▄▆▃▄▅▄▃▄▄▅█▆▃▇▃▆▆▆▄▅▆▆▅▇▅▄▅▇▆▆▅▃▆</td></tr><tr><td>val_lh_loss</td><td>█▂▁▂▂▃▂▂▁▃▃▁▁▂▂▂▂▂▃▂▂▂▃▁▃▃▂▁▂▂▃▁▂▁▁▂▁▁▄▂</td></tr><tr><td>val_loss</td><td>█▁▁▁▁▁▁▁▁▂▁▁▁▁▁▁▁▁▂▂▂▁▁▁▂▁▂▁▁▁▂▁▂▁▁▁▁▁▂▁</td></tr><tr><td>val_rh_corr</td><td>▁▃▆▆▅▇▄▄▅▄▄▅▅▄▄▄▆█▆▃▇▃▆▇▇▆▄▇▅▄▇▅▅▄▇▆▇▆▂▇</td></tr><tr><td>val_rh_loss</td><td>█▁▂▂▂▃▂▂▁▃▃▁▁▂▂▁▂▂▃▂▂▂▃▁▂▂▂▁▂▂▃▁▂▂▂▂▂▂▄▂</td></tr></table><br/></div><div class=\"wandb-col\"><h3>Run summary:</h3><br/><table class=\"wandb\"><tr><td>algonauts_train_lh_corr</td><td>0.31378</td></tr><tr><td>algonauts_train_rh_corr</td><td>0.30388</td></tr><tr><td>algonauts_val_lh_corr</td><td>0.27363</td></tr><tr><td>algonauts_val_rh_corr</td><td>0.24349</td></tr><tr><td>train_cat_loss</td><td>2.66891</td></tr><tr><td>train_lh_corr</td><td>0.3853</td></tr><tr><td>train_lh_loss</td><td>0.42103</td></tr><tr><td>train_loss</td><td>0.63961</td></tr><tr><td>train_rh_corr</td><td>0.40347</td></tr><tr><td>train_rh_loss</td><td>0.40722</td></tr><tr><td>val_cat_loss</td><td>3.67199</td></tr><tr><td>val_lh_corr</td><td>0.20783</td></tr><tr><td>val_lh_loss</td><td>0.49684</td></tr><tr><td>val_loss</td><td>0.81391</td></tr><tr><td>val_rh_corr</td><td>0.21271</td></tr><tr><td>val_rh_loss</td><td>0.49586</td></tr></table><br/></div></div>"
      ],
      "text/plain": [
       "<IPython.core.display.HTML object>"
      ]
     },
     "metadata": {},
     "output_type": "display_data"
    },
    {
     "data": {
      "text/html": [
       " View run <strong style=\"color:#cdcd00\">youthful-frost-147</strong> at: <a href='https://wandb.ai/syrkis/neuroscope/runs/is6jstf6' target=\"_blank\">https://wandb.ai/syrkis/neuroscope/runs/is6jstf6</a><br/>Synced 5 W&B file(s), 0 media file(s), 0 artifact file(s) and 0 other file(s)"
      ],
      "text/plain": [
       "<IPython.core.display.HTML object>"
      ]
     },
     "metadata": {},
     "output_type": "display_data"
    },
    {
     "data": {
      "text/html": [
       "Find logs at: <code>./wandb/run-20230603_223232-is6jstf6/logs</code>"
      ],
      "text/plain": [
       "<IPython.core.display.HTML object>"
      ]
     },
     "metadata": {},
     "output_type": "display_data"
    },
    {
     "data": {
      "text/html": [
       "Tracking run with wandb version 0.15.3"
      ],
      "text/plain": [
       "<IPython.core.display.HTML object>"
      ]
     },
     "metadata": {},
     "output_type": "display_data"
    },
    {
     "data": {
      "text/html": [
       "Run data is saved locally in <code>/home/nobr/neuroscope/wandb/run-20230603_223423-4087j1sj</code>"
      ],
      "text/plain": [
       "<IPython.core.display.HTML object>"
      ]
     },
     "metadata": {},
     "output_type": "display_data"
    },
    {
     "data": {
      "text/html": [
       "Syncing run <strong><a href='https://wandb.ai/syrkis/neuroscope/runs/4087j1sj' target=\"_blank\">hardy-planet-148</a></strong> to <a href='https://wandb.ai/syrkis/neuroscope' target=\"_blank\">Weights & Biases</a> (<a href='https://wandb.me/run' target=\"_blank\">docs</a>)<br/>"
      ],
      "text/plain": [
       "<IPython.core.display.HTML object>"
      ]
     },
     "metadata": {},
     "output_type": "display_data"
    },
    {
     "data": {
      "text/html": [
       " View project at <a href='https://wandb.ai/syrkis/neuroscope' target=\"_blank\">https://wandb.ai/syrkis/neuroscope</a>"
      ],
      "text/plain": [
       "<IPython.core.display.HTML object>"
      ]
     },
     "metadata": {},
     "output_type": "display_data"
    },
    {
     "data": {
      "text/html": [
       " View run at <a href='https://wandb.ai/syrkis/neuroscope/runs/4087j1sj' target=\"_blank\">https://wandb.ai/syrkis/neuroscope/runs/4087j1sj</a>"
      ],
      "text/plain": [
       "<IPython.core.display.HTML object>"
      ]
     },
     "metadata": {},
     "output_type": "display_data"
    },
    {
     "name": "stderr",
     "output_type": "stream",
     "text": [
      "100%|██████████| 6000/6000 [01:43<00:00, 57.79it/s]\n"
     ]
    },
    {
     "data": {
      "text/html": [
       "Waiting for W&B process to finish... <strong style=\"color:green\">(success).</strong>"
      ],
      "text/plain": [
       "<IPython.core.display.HTML object>"
      ]
     },
     "metadata": {},
     "output_type": "display_data"
    },
    {
     "data": {
      "text/html": [
       "<style>\n",
       "    table.wandb td:nth-child(1) { padding: 0 10px; text-align: left ; width: auto;} td:nth-child(2) {text-align: left ; width: 100%}\n",
       "    .wandb-row { display: flex; flex-direction: row; flex-wrap: wrap; justify-content: flex-start; width: 100% }\n",
       "    .wandb-col { display: flex; flex-direction: column; flex-basis: 100%; flex: 1; padding: 10px; }\n",
       "    </style>\n",
       "<div class=\"wandb-row\"><div class=\"wandb-col\"><h3>Run history:</h3><br/><table class=\"wandb\"><tr><td>algonauts_train_lh_corr</td><td>▄▄▁▆▄▄▅▁▅▅▅▆▅▄▄▃▃▅▃▄▃▇▅▇▅█▃▆▃▄▄▄▅▃▇▄▃▄▆▄</td></tr><tr><td>algonauts_train_rh_corr</td><td>▃▄▁▅▄▅▄▂▅▄▅▅▆▄▆▃▂▆▃▅▃▅▆▅▅█▃▅▃▁▅▄▅▂▇▅▂▅▄▄</td></tr><tr><td>algonauts_val_lh_corr</td><td>▆▃▅▄▅▆▅▂▄▃▄▄▃▅▂▄▄▃▃▂▆▃▄▅▅▆▅▅▅▄▄▆▁▄▁▂▃▃▄█</td></tr><tr><td>algonauts_val_rh_corr</td><td>▆▅▆▄▆▇▅▃▆▄▄▅▄▄▁▅▅▃▄▄▆▃▅▄▅▇▆▅▆▃▅▆▂▅▃▃▃▃▅█</td></tr><tr><td>train_cat_loss</td><td>█▁▁▁▁▁▁▁▁▁▁▁▁▁▁▁▁▁▁▁▁▁▁▁▁▁▁▁▁▁▁▁▁▁▁▁▁▁▁▁</td></tr><tr><td>train_lh_corr</td><td>▁▃▃▆▄▄▅▄▆▆▆▇▆▆▆▆▇▆▆▆▅▆▇▇▇▇▅▇▇▇▇▇█▆▆▆▇▆▇▇</td></tr><tr><td>train_lh_loss</td><td>█▄▃▂▂▂▃▂▂▃▂▁▃▂▁▂▂▂▁▁▂▁▂▂▁▃▂▂▁▁▂▁▁▁▂▂▂▂▂▁</td></tr><tr><td>train_loss</td><td>█▂▂▁▁▁▂▁▁▂▁▁▂▁▁▁▁▁▁▁▁▁▁▁▁▁▁▁▁▁▁▁▁▁▁▁▁▁▁▁</td></tr><tr><td>train_rh_corr</td><td>▁▂▂▅▄▅▄▅▆▆▇▇▆▆▆▇▇▇▆▇▆▆▇▇▇▇▅▆▇▇█▇█▇▆▇▇▇▇▇</td></tr><tr><td>train_rh_loss</td><td>█▅▃▂▂▂▃▂▂▃▂▁▃▂▁▂▂▂▁▁▂▂▂▂▁▂▂▁▁▂▁▁▁▂▂▁▂▂▁▁</td></tr><tr><td>val_cat_loss</td><td>█▁▁▁▁▁▁▁▁▂▁▁▁▁▁▁▁▁▁▁▁▁▁▂▁▁▁▂▁▁▁▁▂▂▁▁▁▁▁▁</td></tr><tr><td>val_lh_corr</td><td>▁▄▇▅▆█▆▅▆▅▆▅▅▇▄▅▇▆▅▄▆▇▆▄▆█▇▅▇▅▃█▁▄▃▅▅▄▅█</td></tr><tr><td>val_lh_loss</td><td>█▁▁▁▂▁▃▂▂▂▂▁▃▁▁▃▂▂▃▃▂▁▃▃▃▂▁▂▁▂▂▂▃▃▃▂▂▃▃▁</td></tr><tr><td>val_loss</td><td>█▁▁▁▁▁▁▁▁▂▁▁▁▁▁▁▁▁▁▁▁▁▁▂▂▁▁▂▁▁▁▁▂▂▂▁▁▂▂▁</td></tr><tr><td>val_rh_corr</td><td>▁▃▆▅▆█▆▆▇▄▅▅▆▇▃▆▆▇▅▅▆▇▆▃▆▇▇▄▇▅▂█▂▃▄▅▅▄▅▇</td></tr><tr><td>val_rh_loss</td><td>█▁▂▁▂▁▃▃▂▃▂▂▂▁▂▃▂▂▃▃▂▂▃▄▃▃▁▂▂▂▃▂▄▃▄▂▃▃▃▂</td></tr></table><br/></div><div class=\"wandb-col\"><h3>Run summary:</h3><br/><table class=\"wandb\"><tr><td>algonauts_train_lh_corr</td><td>0.27068</td></tr><tr><td>algonauts_train_rh_corr</td><td>0.26441</td></tr><tr><td>algonauts_val_lh_corr</td><td>0.36895</td></tr><tr><td>algonauts_val_rh_corr</td><td>0.34133</td></tr><tr><td>train_cat_loss</td><td>2.62777</td></tr><tr><td>train_lh_corr</td><td>0.35477</td></tr><tr><td>train_lh_loss</td><td>0.39566</td></tr><tr><td>train_loss</td><td>0.61965</td></tr><tr><td>train_rh_corr</td><td>0.349</td></tr><tr><td>train_rh_loss</td><td>0.39738</td></tr><tr><td>val_cat_loss</td><td>3.73761</td></tr><tr><td>val_lh_corr</td><td>0.23287</td></tr><tr><td>val_lh_loss</td><td>0.44806</td></tr><tr><td>val_loss</td><td>0.78721</td></tr><tr><td>val_rh_corr</td><td>0.20573</td></tr><tr><td>val_rh_loss</td><td>0.47072</td></tr></table><br/></div></div>"
      ],
      "text/plain": [
       "<IPython.core.display.HTML object>"
      ]
     },
     "metadata": {},
     "output_type": "display_data"
    },
    {
     "data": {
      "text/html": [
       " View run <strong style=\"color:#cdcd00\">hardy-planet-148</strong> at: <a href='https://wandb.ai/syrkis/neuroscope/runs/4087j1sj' target=\"_blank\">https://wandb.ai/syrkis/neuroscope/runs/4087j1sj</a><br/>Synced 5 W&B file(s), 0 media file(s), 0 artifact file(s) and 0 other file(s)"
      ],
      "text/plain": [
       "<IPython.core.display.HTML object>"
      ]
     },
     "metadata": {},
     "output_type": "display_data"
    },
    {
     "data": {
      "text/html": [
       "Find logs at: <code>./wandb/run-20230603_223423-4087j1sj/logs</code>"
      ],
      "text/plain": [
       "<IPython.core.display.HTML object>"
      ]
     },
     "metadata": {},
     "output_type": "display_data"
    },
    {
     "data": {
      "text/html": [
       "Tracking run with wandb version 0.15.3"
      ],
      "text/plain": [
       "<IPython.core.display.HTML object>"
      ]
     },
     "metadata": {},
     "output_type": "display_data"
    },
    {
     "data": {
      "text/html": [
       "Run data is saved locally in <code>/home/nobr/neuroscope/wandb/run-20230603_223614-g9j283i5</code>"
      ],
      "text/plain": [
       "<IPython.core.display.HTML object>"
      ]
     },
     "metadata": {},
     "output_type": "display_data"
    },
    {
     "data": {
      "text/html": [
       "Syncing run <strong><a href='https://wandb.ai/syrkis/neuroscope/runs/g9j283i5' target=\"_blank\">soft-salad-149</a></strong> to <a href='https://wandb.ai/syrkis/neuroscope' target=\"_blank\">Weights & Biases</a> (<a href='https://wandb.me/run' target=\"_blank\">docs</a>)<br/>"
      ],
      "text/plain": [
       "<IPython.core.display.HTML object>"
      ]
     },
     "metadata": {},
     "output_type": "display_data"
    },
    {
     "data": {
      "text/html": [
       " View project at <a href='https://wandb.ai/syrkis/neuroscope' target=\"_blank\">https://wandb.ai/syrkis/neuroscope</a>"
      ],
      "text/plain": [
       "<IPython.core.display.HTML object>"
      ]
     },
     "metadata": {},
     "output_type": "display_data"
    },
    {
     "data": {
      "text/html": [
       " View run at <a href='https://wandb.ai/syrkis/neuroscope/runs/g9j283i5' target=\"_blank\">https://wandb.ai/syrkis/neuroscope/runs/g9j283i5</a>"
      ],
      "text/plain": [
       "<IPython.core.display.HTML object>"
      ]
     },
     "metadata": {},
     "output_type": "display_data"
    },
    {
     "name": "stderr",
     "output_type": "stream",
     "text": [
      "100%|██████████| 6000/6000 [01:42<00:00, 58.29it/s]\n"
     ]
    },
    {
     "data": {
      "text/html": [
       "Waiting for W&B process to finish... <strong style=\"color:green\">(success).</strong>"
      ],
      "text/plain": [
       "<IPython.core.display.HTML object>"
      ]
     },
     "metadata": {},
     "output_type": "display_data"
    },
    {
     "data": {
      "text/html": [
       "<style>\n",
       "    table.wandb td:nth-child(1) { padding: 0 10px; text-align: left ; width: auto;} td:nth-child(2) {text-align: left ; width: 100%}\n",
       "    .wandb-row { display: flex; flex-direction: row; flex-wrap: wrap; justify-content: flex-start; width: 100% }\n",
       "    .wandb-col { display: flex; flex-direction: column; flex-basis: 100%; flex: 1; padding: 10px; }\n",
       "    </style>\n",
       "<div class=\"wandb-row\"><div class=\"wandb-col\"><h3>Run history:</h3><br/><table class=\"wandb\"><tr><td>algonauts_train_lh_corr</td><td>▆▆▅▂▅▇▃▃▁▅▅▇▅▅▅▆▅▅▆▄▆▅▅▅▇▇▅▄▆▇▃▂▃▆▂█▃▅▅▃</td></tr><tr><td>algonauts_train_rh_corr</td><td>▆▆▅▅▅▇▃▄▁▆▆█▅▇▅█▇▆▆▅▄▆▆▄▇▇▅▄▅▆▂▃▄▆▃▇▃▄▄▃</td></tr><tr><td>algonauts_val_lh_corr</td><td>▅▆▃▄▆▅█▅▆▁▂▆▅▅▅▇█▆▁█▆▅▅▅▃▆▆▅▃▂▆▅▅▅▁▃▅▂▂▃</td></tr><tr><td>algonauts_val_rh_corr</td><td>▄▅▃▃▆▄▇▆▅▃▃▄▅▆▆▇█▇▂▅▆▆▅▅▃▅▇▆▄▁▆▆▅▅▃▃▅▄▃▂</td></tr><tr><td>train_cat_loss</td><td>█▁▁▁▁▁▁▁▁▁▁▁▁▁▁▁▁▁▁▁▁▁▁▁▁▁▁▁▁▁▁▁▁▁▁▁▁▁▁▁</td></tr><tr><td>train_lh_corr</td><td>▁▃▃▃▄▅▄▄▄▄▅▅▆▆▅▅▇▆▆▅▇▆▅▆▆█▆▅▆▇▆▆▆▆▆▇▅▆▆▆</td></tr><tr><td>train_lh_loss</td><td>█▃▃▃▃▃▂▂▂▁▃▂▂▂▂▃▂▂▂▂▃▂▂▁▂▁▁▂▂▂▁▂▂▂▁▁▃▂▂▂</td></tr><tr><td>train_loss</td><td>█▂▁▁▁▂▁▁▁▁▁▁▁▁▂▁▁▁▁▁▁▁▁▁▁▁▁▁▁▁▁▁▁▁▁▁▁▁▁▁</td></tr><tr><td>train_rh_corr</td><td>▁▂▃▄▄▅▄▄▄▄▅▅▆▆▅▆▇▆▆▅▆▅▅▆▆█▆▆▆▇▆▆▇▇▆▇▅▆▆▆</td></tr><tr><td>train_rh_loss</td><td>█▄▃▄▃▃▂▂▃▁▃▃▂▃▃▃▂▃▂▂▃▃▂▁▂▂▂▂▂▃▁▂▂▁▂▁▃▂▂▂</td></tr><tr><td>val_cat_loss</td><td>█▁▁▁▁▁▁▁▁▁▁▁▁▁▁▁▁▁▁▁▂▁▂▁▁▁▁▁▁▁▂▂▁▁▁▂▂▂▁▂</td></tr><tr><td>val_lh_corr</td><td>▁▄▄▄▇█▆▆▆▅▅▇▇▅▅▇▆▇▃▆▄▇▆▅▅▅█▆▅▆▄▆▆▅▃▇▄▄▂▆</td></tr><tr><td>val_lh_loss</td><td>█▁▂▂▁▂▂▁▁▃▁▃▂▁▂▂▂▁▃▂▂▃▂▃▂▂▁▂▂▁▂▁▂▂▂▁▂▂▃▂</td></tr><tr><td>val_loss</td><td>█▁▁▁▁▁▁▁▁▂▁▁▁▁▁▁▁▁▁▁▂▁▁▂▁▁▁▁▁▁▂▂▁▁▂▁▂▂▁▂</td></tr><tr><td>val_rh_corr</td><td>▁▃▄▄▆▇▅▆▆▄▆▆▆▅▅▇▆▇▃▆▃█▆▅▄▄▇▆▅▆▄▆▅▅▄▆▄▄▃▅</td></tr><tr><td>val_rh_loss</td><td>█▂▂▃▂▂▂▂▁▃▁▃▂▂▂▂▃▂▃▂▂▃▂▃▃▃▁▂▂▂▃▂▂▃▃▂▃▂▃▂</td></tr></table><br/></div><div class=\"wandb-col\"><h3>Run summary:</h3><br/><table class=\"wandb\"><tr><td>algonauts_train_lh_corr</td><td>0.21993</td></tr><tr><td>algonauts_train_rh_corr</td><td>0.21222</td></tr><tr><td>algonauts_val_lh_corr</td><td>0.25191</td></tr><tr><td>algonauts_val_rh_corr</td><td>0.22872</td></tr><tr><td>train_cat_loss</td><td>2.65797</td></tr><tr><td>train_lh_corr</td><td>0.35457</td></tr><tr><td>train_lh_loss</td><td>0.43817</td></tr><tr><td>train_loss</td><td>0.6592</td></tr><tr><td>train_rh_corr</td><td>0.36348</td></tr><tr><td>train_rh_loss</td><td>0.43607</td></tr><tr><td>val_cat_loss</td><td>3.74804</td></tr><tr><td>val_lh_corr</td><td>0.18281</td></tr><tr><td>val_lh_loss</td><td>0.50883</td></tr><tr><td>val_loss</td><td>0.83385</td></tr><tr><td>val_rh_corr</td><td>0.1564</td></tr><tr><td>val_rh_loss</td><td>0.51129</td></tr></table><br/></div></div>"
      ],
      "text/plain": [
       "<IPython.core.display.HTML object>"
      ]
     },
     "metadata": {},
     "output_type": "display_data"
    },
    {
     "data": {
      "text/html": [
       " View run <strong style=\"color:#cdcd00\">soft-salad-149</strong> at: <a href='https://wandb.ai/syrkis/neuroscope/runs/g9j283i5' target=\"_blank\">https://wandb.ai/syrkis/neuroscope/runs/g9j283i5</a><br/>Synced 5 W&B file(s), 0 media file(s), 0 artifact file(s) and 0 other file(s)"
      ],
      "text/plain": [
       "<IPython.core.display.HTML object>"
      ]
     },
     "metadata": {},
     "output_type": "display_data"
    },
    {
     "data": {
      "text/html": [
       "Find logs at: <code>./wandb/run-20230603_223614-g9j283i5/logs</code>"
      ],
      "text/plain": [
       "<IPython.core.display.HTML object>"
      ]
     },
     "metadata": {},
     "output_type": "display_data"
    },
    {
     "data": {
      "text/html": [
       "Tracking run with wandb version 0.15.3"
      ],
      "text/plain": [
       "<IPython.core.display.HTML object>"
      ]
     },
     "metadata": {},
     "output_type": "display_data"
    },
    {
     "data": {
      "text/html": [
       "Run data is saved locally in <code>/home/nobr/neuroscope/wandb/run-20230603_223805-ijykspt3</code>"
      ],
      "text/plain": [
       "<IPython.core.display.HTML object>"
      ]
     },
     "metadata": {},
     "output_type": "display_data"
    },
    {
     "data": {
      "text/html": [
       "Syncing run <strong><a href='https://wandb.ai/syrkis/neuroscope/runs/ijykspt3' target=\"_blank\">gallant-cloud-150</a></strong> to <a href='https://wandb.ai/syrkis/neuroscope' target=\"_blank\">Weights & Biases</a> (<a href='https://wandb.me/run' target=\"_blank\">docs</a>)<br/>"
      ],
      "text/plain": [
       "<IPython.core.display.HTML object>"
      ]
     },
     "metadata": {},
     "output_type": "display_data"
    },
    {
     "data": {
      "text/html": [
       " View project at <a href='https://wandb.ai/syrkis/neuroscope' target=\"_blank\">https://wandb.ai/syrkis/neuroscope</a>"
      ],
      "text/plain": [
       "<IPython.core.display.HTML object>"
      ]
     },
     "metadata": {},
     "output_type": "display_data"
    },
    {
     "data": {
      "text/html": [
       " View run at <a href='https://wandb.ai/syrkis/neuroscope/runs/ijykspt3' target=\"_blank\">https://wandb.ai/syrkis/neuroscope/runs/ijykspt3</a>"
      ],
      "text/plain": [
       "<IPython.core.display.HTML object>"
      ]
     },
     "metadata": {},
     "output_type": "display_data"
    },
    {
     "name": "stderr",
     "output_type": "stream",
     "text": [
      "100%|██████████| 6000/6000 [01:43<00:00, 57.91it/s]\n"
     ]
    },
    {
     "data": {
      "text/html": [
       "Waiting for W&B process to finish... <strong style=\"color:green\">(success).</strong>"
      ],
      "text/plain": [
       "<IPython.core.display.HTML object>"
      ]
     },
     "metadata": {},
     "output_type": "display_data"
    },
    {
     "data": {
      "text/html": [
       "<style>\n",
       "    table.wandb td:nth-child(1) { padding: 0 10px; text-align: left ; width: auto;} td:nth-child(2) {text-align: left ; width: 100%}\n",
       "    .wandb-row { display: flex; flex-direction: row; flex-wrap: wrap; justify-content: flex-start; width: 100% }\n",
       "    .wandb-col { display: flex; flex-direction: column; flex-basis: 100%; flex: 1; padding: 10px; }\n",
       "    </style>\n",
       "<div class=\"wandb-row\"><div class=\"wandb-col\"><h3>Run history:</h3><br/><table class=\"wandb\"><tr><td>algonauts_train_lh_corr</td><td>▂▃▅▁▆▄▄▅▄▄▂▆█▆▅▅▆▆▇▂▄▆▄▁▂▆▄▆▇▃▄▄▂▂▇▃▄▇▇▇</td></tr><tr><td>algonauts_train_rh_corr</td><td>▁▁▃▁▆▁▃▃▄▄▂▃▅▅▄▃▄▄▆▃▃▆▃▂▁▇▅▅▆▃▆▃▂▂▅▄▆▄█▅</td></tr><tr><td>algonauts_val_lh_corr</td><td>▄▂▁▅▃▂▅▅▄▂▂▅▁▄▅▁▅▁▅▄▁▅▆▅▃▄▁▅█▁▅▄▃▅▆▄▁▄▄▅</td></tr><tr><td>algonauts_val_rh_corr</td><td>▇▅▁▆▅▆▆▆█▅▆▆▅▆▅▄▆▂▆▅▄▆▆▆▃▆▄▆█▁▄▆▅▆█▄▄▅▅▆</td></tr><tr><td>train_cat_loss</td><td>█▁▁▁▁▁▁▁▁▁▁▁▁▁▁▁▁▁▁▁▁▁▁▁▁▁▁▁▁▁▁▁▁▁▁▁▁▁▁▁</td></tr><tr><td>train_lh_corr</td><td>▁▂▄▃▅▅▅▅▅▆▅▆▆▇▅▆▆▇▆▆▆▆▆▆▅▇▇▆▇▆▆▇▅▆█▇▇▇██</td></tr><tr><td>train_lh_loss</td><td>█▃▃▃▂▃▂▂▂▃▂▂▂▂▂▂▂▁▁▁▂▂▁▂▂▂▂▂▁▂▂▁▂▃▂▂▂▁▂▂</td></tr><tr><td>train_loss</td><td>█▂▂▂▁▂▁▁▂▂▁▁▁▁▁▁▁▁▁▁▁▁▁▁▁▁▁▁▁▁▁▁▁▂▁▁▁▁▁▁</td></tr><tr><td>train_rh_corr</td><td>▁▂▄▃▅▄▄▅▅▆▅▆▆▇▅▆▆▇▆▇▆▆▆▆▅▇▇▆▇▆▇▆▅▆▆▇▇▇██</td></tr><tr><td>train_rh_loss</td><td>█▃▃▃▂▂▂▂▃▂▂▂▂▂▂▂▁▁▁▁▂▂▁▂▂▂▂▂▁▂▂▁▂▄▂▂▂▁▂▁</td></tr><tr><td>val_cat_loss</td><td>█▁▁▁▁▁▁▁▁▁▁▁▁▁▁▁▁▂▂▂▂▂▂▁▁▁▁▁▁▁▁▂▁▂▁▁▁▂▂▁</td></tr><tr><td>val_lh_corr</td><td>▁▃▃▄▅▅▇█▆▆▄▆▅▆▆▆▇▅▅▅▄▆▄▅▆▆▃▆▆▃▅▄▅▇▆▃▅▆▅▇</td></tr><tr><td>val_lh_loss</td><td>█▂▄▂▂▁▁▂▃▂▂▂▂▄▃▃▂▂▃▃▂▂▃▂▃▂▃▂▃▃▄▂▃▂▂▃▃▃▄▂</td></tr><tr><td>val_loss</td><td>█▁▁▁▁▁▁▁▁▁▁▁▁▂▁▁▁▂▂▂▂▁▂▁▂▁▂▁▁▂▁▂▂▁▁▂▂▂▂▁</td></tr><tr><td>val_rh_corr</td><td>▁▂▃▅▆▇█▇█▆▆▇▆▇▇█▇▆▅▄▅█▅▆▅▇▄▆▇▂▆▅▆█▆▃▅█▆▇</td></tr><tr><td>val_rh_loss</td><td>█▃▃▂▂▂▁▂▂▂▂▂▂▄▂▃▂▂▃▃▃▁▃▂▄▂▃▃▃▄▃▂▃▂▂▃▄▄▃▂</td></tr></table><br/></div><div class=\"wandb-col\"><h3>Run summary:</h3><br/><table class=\"wandb\"><tr><td>algonauts_train_lh_corr</td><td>0.32083</td></tr><tr><td>algonauts_train_rh_corr</td><td>0.29784</td></tr><tr><td>algonauts_val_lh_corr</td><td>0.3056</td></tr><tr><td>algonauts_val_rh_corr</td><td>0.2948</td></tr><tr><td>train_cat_loss</td><td>2.59196</td></tr><tr><td>train_lh_corr</td><td>0.41065</td></tr><tr><td>train_lh_loss</td><td>0.43485</td></tr><tr><td>train_loss</td><td>0.64212</td></tr><tr><td>train_rh_corr</td><td>0.4218</td></tr><tr><td>train_rh_loss</td><td>0.41609</td></tr><tr><td>val_cat_loss</td><td>3.72012</td></tr><tr><td>val_lh_corr</td><td>0.2206</td></tr><tr><td>val_lh_loss</td><td>0.5029</td></tr><tr><td>val_loss</td><td>0.81801</td></tr><tr><td>val_rh_corr</td><td>0.19974</td></tr><tr><td>val_rh_loss</td><td>0.4882</td></tr></table><br/></div></div>"
      ],
      "text/plain": [
       "<IPython.core.display.HTML object>"
      ]
     },
     "metadata": {},
     "output_type": "display_data"
    },
    {
     "data": {
      "text/html": [
       " View run <strong style=\"color:#cdcd00\">gallant-cloud-150</strong> at: <a href='https://wandb.ai/syrkis/neuroscope/runs/ijykspt3' target=\"_blank\">https://wandb.ai/syrkis/neuroscope/runs/ijykspt3</a><br/>Synced 5 W&B file(s), 0 media file(s), 0 artifact file(s) and 0 other file(s)"
      ],
      "text/plain": [
       "<IPython.core.display.HTML object>"
      ]
     },
     "metadata": {},
     "output_type": "display_data"
    },
    {
     "data": {
      "text/html": [
       "Find logs at: <code>./wandb/run-20230603_223805-ijykspt3/logs</code>"
      ],
      "text/plain": [
       "<IPython.core.display.HTML object>"
      ]
     },
     "metadata": {},
     "output_type": "display_data"
    },
    {
     "data": {
      "text/html": [
       "Tracking run with wandb version 0.15.3"
      ],
      "text/plain": [
       "<IPython.core.display.HTML object>"
      ]
     },
     "metadata": {},
     "output_type": "display_data"
    },
    {
     "data": {
      "text/html": [
       "Run data is saved locally in <code>/home/nobr/neuroscope/wandb/run-20230603_223955-dnaeyhco</code>"
      ],
      "text/plain": [
       "<IPython.core.display.HTML object>"
      ]
     },
     "metadata": {},
     "output_type": "display_data"
    },
    {
     "data": {
      "text/html": [
       "Syncing run <strong><a href='https://wandb.ai/syrkis/neuroscope/runs/dnaeyhco' target=\"_blank\">sandy-dust-151</a></strong> to <a href='https://wandb.ai/syrkis/neuroscope' target=\"_blank\">Weights & Biases</a> (<a href='https://wandb.me/run' target=\"_blank\">docs</a>)<br/>"
      ],
      "text/plain": [
       "<IPython.core.display.HTML object>"
      ]
     },
     "metadata": {},
     "output_type": "display_data"
    },
    {
     "data": {
      "text/html": [
       " View project at <a href='https://wandb.ai/syrkis/neuroscope' target=\"_blank\">https://wandb.ai/syrkis/neuroscope</a>"
      ],
      "text/plain": [
       "<IPython.core.display.HTML object>"
      ]
     },
     "metadata": {},
     "output_type": "display_data"
    },
    {
     "data": {
      "text/html": [
       " View run at <a href='https://wandb.ai/syrkis/neuroscope/runs/dnaeyhco' target=\"_blank\">https://wandb.ai/syrkis/neuroscope/runs/dnaeyhco</a>"
      ],
      "text/plain": [
       "<IPython.core.display.HTML object>"
      ]
     },
     "metadata": {},
     "output_type": "display_data"
    },
    {
     "name": "stderr",
     "output_type": "stream",
     "text": [
      "100%|██████████| 6000/6000 [01:43<00:00, 57.91it/s]\n"
     ]
    },
    {
     "data": {
      "text/html": [
       "Waiting for W&B process to finish... <strong style=\"color:green\">(success).</strong>"
      ],
      "text/plain": [
       "<IPython.core.display.HTML object>"
      ]
     },
     "metadata": {},
     "output_type": "display_data"
    },
    {
     "data": {
      "text/html": [
       "<style>\n",
       "    table.wandb td:nth-child(1) { padding: 0 10px; text-align: left ; width: auto;} td:nth-child(2) {text-align: left ; width: 100%}\n",
       "    .wandb-row { display: flex; flex-direction: row; flex-wrap: wrap; justify-content: flex-start; width: 100% }\n",
       "    .wandb-col { display: flex; flex-direction: column; flex-basis: 100%; flex: 1; padding: 10px; }\n",
       "    </style>\n",
       "<div class=\"wandb-row\"><div class=\"wandb-col\"><h3>Run history:</h3><br/><table class=\"wandb\"><tr><td>algonauts_train_lh_corr</td><td>█▄▅▃▅▃▄▃▇▅▄▃▅▅▅▅▂▄▅▆▆█▃▁▄▄▅▅▅▅▄▆▆▅▃▅▄▄▄▃</td></tr><tr><td>algonauts_train_rh_corr</td><td>█▄▇▂▅▁▄▄▇▂▃▂▆▅▅▄▂▅▂▅▅█▂▂▆▃▇▃▂▃▄▅█▅▁▄▄▄▅▂</td></tr><tr><td>algonauts_val_lh_corr</td><td>▁▁▆▂▄▆▃▂▁▅▄▅▄█▃▆▆▄▂▄█▄▇▆▅▄▄▅▃▇▃▅▂▁▃▄▂▁▃▅</td></tr><tr><td>algonauts_val_rh_corr</td><td>▄▃▆▂▇▆▄▃▂▆▃▆▅▇▅▅█▅▅▅▇▃█▇▅▆▅▆▁▆▅▄▅▄▃▇▄▃▄▄</td></tr><tr><td>train_cat_loss</td><td>█▁▂▁▂▁▁▁▁▁▁▁▁▁▁▁▁▁▁▁▁▁▁▁▁▁▁▁▁▁▁▁▁▁▁▁▁▁▁▁</td></tr><tr><td>train_lh_corr</td><td>▁▃▄▄▅▅▅▄▇▆▆▅▇▆▆▆▆▆▇▇▇▇▆▅▆▆█▇█▇▆█▇█▆▇▇▆▇▇</td></tr><tr><td>train_lh_loss</td><td>█▂▂▂▂▃▃▂▃▃▂▂▂▂▂▂▂▂▂▂▁▂▁▃▁▂▂▂▂▁▂▁▁▂▁▃▁▂▂▁</td></tr><tr><td>train_loss</td><td>█▂▂▂▂▂▂▁▂▁▁▁▁▁▁▁▁▁▁▁▁▁▁▁▁▁▁▁▁▁▁▁▁▁▁▁▁▁▁▁</td></tr><tr><td>train_rh_corr</td><td>▁▃▄▄▅▅▅▄▆▅▆▅▇▇▆▅▅▆▅▇▇▇▇▅▇▆█▇▇▇▆▇▇█▅▇▇▆▇▇</td></tr><tr><td>train_rh_loss</td><td>█▃▂▃▃▃▃▃▃▂▂▂▂▂▂▂▂▂▂▂▂▂▁▃▂▂▃▂▂▂▂▁▁▂▂▃▁▂▂▂</td></tr><tr><td>val_cat_loss</td><td>█▁▁▁▁▁▁▁▂▁▁▂▁▁▁▁▁▁▁▁▂▁▁▁▁▂▂▂▂▂▂▂▂▁▂▂▂▁▂▂</td></tr><tr><td>val_lh_corr</td><td>▁▃▅▄▆▅▅▄▄▆▆▃▅█▇▇▆▆▄▇▇▅█▆▅▅▆▅▅▇▆▇▄▄▇▆▄▅▄▅</td></tr><tr><td>val_lh_loss</td><td>█▂▂▄▃▃▄▂▃▃▂▃▂▁▂▁▃▃▄▃▂▂▂▃▂▂▂▂▃▁▂▂▃▃▂▂▃▂▃▃</td></tr><tr><td>val_loss</td><td>█▁▁▁▁▁▁▁▂▁▁▂▁▁▁▁▁▁▂▁▂▁▁▁▁▂▁▂▂▂▂▂▂▁▂▂▂▁▂▂</td></tr><tr><td>val_rh_corr</td><td>▁▃▆▄▇▅▅▅▄▆▄▄▆▇▆▆█▅▄▅▅▃▇▆▅▆▆▆▄▇▄▆▅▄▅▇▅▅▄▅</td></tr><tr><td>val_rh_loss</td><td>█▂▂▄▂▃▂▁▂▂▂▂▂▂▂▁▂▃▄▃▃▃▂▃▂▂▂▂▃▁▂▃▃▂▃▁▃▂▂▂</td></tr></table><br/></div><div class=\"wandb-col\"><h3>Run summary:</h3><br/><table class=\"wandb\"><tr><td>algonauts_train_lh_corr</td><td>0.24522</td></tr><tr><td>algonauts_train_rh_corr</td><td>0.23537</td></tr><tr><td>algonauts_val_lh_corr</td><td>0.29704</td></tr><tr><td>algonauts_val_rh_corr</td><td>0.27485</td></tr><tr><td>train_cat_loss</td><td>2.37325</td></tr><tr><td>train_lh_corr</td><td>0.34039</td></tr><tr><td>train_lh_loss</td><td>0.42294</td></tr><tr><td>train_loss</td><td>0.62553</td></tr><tr><td>train_rh_corr</td><td>0.37171</td></tr><tr><td>train_rh_loss</td><td>0.43974</td></tr><tr><td>val_cat_loss</td><td>3.81671</td></tr><tr><td>val_lh_corr</td><td>0.1747</td></tr><tr><td>val_lh_loss</td><td>0.5272</td></tr><tr><td>val_loss</td><td>0.8511</td></tr><tr><td>val_rh_corr</td><td>0.1704</td></tr><tr><td>val_rh_loss</td><td>0.51596</td></tr></table><br/></div></div>"
      ],
      "text/plain": [
       "<IPython.core.display.HTML object>"
      ]
     },
     "metadata": {},
     "output_type": "display_data"
    },
    {
     "data": {
      "text/html": [
       " View run <strong style=\"color:#cdcd00\">sandy-dust-151</strong> at: <a href='https://wandb.ai/syrkis/neuroscope/runs/dnaeyhco' target=\"_blank\">https://wandb.ai/syrkis/neuroscope/runs/dnaeyhco</a><br/>Synced 5 W&B file(s), 0 media file(s), 0 artifact file(s) and 0 other file(s)"
      ],
      "text/plain": [
       "<IPython.core.display.HTML object>"
      ]
     },
     "metadata": {},
     "output_type": "display_data"
    },
    {
     "data": {
      "text/html": [
       "Find logs at: <code>./wandb/run-20230603_223955-dnaeyhco/logs</code>"
      ],
      "text/plain": [
       "<IPython.core.display.HTML object>"
      ]
     },
     "metadata": {},
     "output_type": "display_data"
    },
    {
     "data": {
      "text/html": [
       "Tracking run with wandb version 0.15.3"
      ],
      "text/plain": [
       "<IPython.core.display.HTML object>"
      ]
     },
     "metadata": {},
     "output_type": "display_data"
    },
    {
     "data": {
      "text/html": [
       "Run data is saved locally in <code>/home/nobr/neuroscope/wandb/run-20230603_224144-n091jtik</code>"
      ],
      "text/plain": [
       "<IPython.core.display.HTML object>"
      ]
     },
     "metadata": {},
     "output_type": "display_data"
    },
    {
     "data": {
      "text/html": [
       "Syncing run <strong><a href='https://wandb.ai/syrkis/neuroscope/runs/n091jtik' target=\"_blank\">cerulean-brook-152</a></strong> to <a href='https://wandb.ai/syrkis/neuroscope' target=\"_blank\">Weights & Biases</a> (<a href='https://wandb.me/run' target=\"_blank\">docs</a>)<br/>"
      ],
      "text/plain": [
       "<IPython.core.display.HTML object>"
      ]
     },
     "metadata": {},
     "output_type": "display_data"
    },
    {
     "data": {
      "text/html": [
       " View project at <a href='https://wandb.ai/syrkis/neuroscope' target=\"_blank\">https://wandb.ai/syrkis/neuroscope</a>"
      ],
      "text/plain": [
       "<IPython.core.display.HTML object>"
      ]
     },
     "metadata": {},
     "output_type": "display_data"
    },
    {
     "data": {
      "text/html": [
       " View run at <a href='https://wandb.ai/syrkis/neuroscope/runs/n091jtik' target=\"_blank\">https://wandb.ai/syrkis/neuroscope/runs/n091jtik</a>"
      ],
      "text/plain": [
       "<IPython.core.display.HTML object>"
      ]
     },
     "metadata": {},
     "output_type": "display_data"
    },
    {
     "name": "stderr",
     "output_type": "stream",
     "text": [
      "100%|██████████| 6000/6000 [01:44<00:00, 57.15it/s]\n"
     ]
    },
    {
     "data": {
      "text/html": [
       "Waiting for W&B process to finish... <strong style=\"color:green\">(success).</strong>"
      ],
      "text/plain": [
       "<IPython.core.display.HTML object>"
      ]
     },
     "metadata": {},
     "output_type": "display_data"
    },
    {
     "data": {
      "text/html": [
       "<style>\n",
       "    table.wandb td:nth-child(1) { padding: 0 10px; text-align: left ; width: auto;} td:nth-child(2) {text-align: left ; width: 100%}\n",
       "    .wandb-row { display: flex; flex-direction: row; flex-wrap: wrap; justify-content: flex-start; width: 100% }\n",
       "    .wandb-col { display: flex; flex-direction: column; flex-basis: 100%; flex: 1; padding: 10px; }\n",
       "    </style>\n",
       "<div class=\"wandb-row\"><div class=\"wandb-col\"><h3>Run history:</h3><br/><table class=\"wandb\"><tr><td>algonauts_train_lh_corr</td><td>▇▆▄▅▄▃▄▄▃▅▅▁▇▃▃▇▃▄▇▄▄█▂▂▆▆▇▅▆▅▁▆▂▆▂▄▇▅▅▁</td></tr><tr><td>algonauts_train_rh_corr</td><td>▆▄▄▄▅▁▄▄▂▄▄▄▇▆▄▄▃▂▅▅▄▆▃▄▄▄▅▃▆▆▁▄▂▆▃▄█▅▄▂</td></tr><tr><td>algonauts_val_lh_corr</td><td>▄▄▅▄▅▄▁▅▁▃▆▄▆▄▅▂█▅▄▃▃▆▅▄▆▅▄▆▄▇▅▃▃▃▄▆▄▆▆▅</td></tr><tr><td>algonauts_val_rh_corr</td><td>▄▃▄▃▅▅▁▆▂▁▅▄█▄▆▃▇▆▃▃▂▆▃▂▆▃▄▆▃▆▃▃▂▂▄▅▄▅▆▅</td></tr><tr><td>train_cat_loss</td><td>█▂▁▂▁▁▁▁▁▁▁▁▁▁▁▁▁▁▁▁▁▁▁▁▁▁▁▁▁▁▁▁▁▁▁▁▁▁▁▁</td></tr><tr><td>train_lh_corr</td><td>▁▃▄▅▅▄▆▆▅▅▇▅▆▅▆▆▆▆▇▆▆▇▆▇▇▇▇▆▇▇▇▇▇█▆▇█▇▇▆</td></tr><tr><td>train_lh_loss</td><td>█▄▂▂▂▂▂▂▂▂▂▃▂▂▂▃▂▁▂▁▃▂▂▂▂▁▁▁▂▂▂▂▁▂▁▂▂▂▁▁</td></tr><tr><td>train_loss</td><td>█▂▁▂▁▂▁▂▁▁▁▁▁▁▁▁▁▁▁▁▁▁▁▁▁▁▁▁▁▁▁▁▁▁▁▁▁▁▁▁</td></tr><tr><td>train_rh_corr</td><td>▁▂▄▅▅▄▅▅▅▅▆▅▇▆▆▆▅▆▆▆▆▆▆▇▆▆▆▆▇█▆▆▆▇▆▆█▇▆▆</td></tr><tr><td>train_rh_loss</td><td>█▃▂▃▂▃▂▃▂▃▂▃▂▂▂▃▂▂▂▁▃▃▂▂▂▂▁▂▂▂▂▂▂▂▁▂▂▂▁▂</td></tr><tr><td>val_cat_loss</td><td>█▁▁▁▁▁▁▁▁▁▁▁▁▁▁▁▁▂▂▁▂▁▁▁▁▁▁▁▂▁▁▂▁▁▁▁▁▂▁▂</td></tr><tr><td>val_lh_corr</td><td>▁▃▆▄▆▇▃▄▄▅▆▆▆▆▇▅█▆▃▃▆▇▆▃▆▃▅█▄▇▇▆▄▅▅▅▅▄▅▆</td></tr><tr><td>val_lh_loss</td><td>█▂▂▂▁▂▅▂▃▁▂▁▃▂▂▃▁▁▃▂▁▂▁▂▂▃▃▂▂▃▂▂▃▂▂▂▃▃▃▂</td></tr><tr><td>val_loss</td><td>█▁▁▁▁▁▂▁▁▁▁▁▁▁▁▂▁▁▂▁▁▁▁▁▁▂▁▁▂▁▁▂▂▁▁▁▁▂▁▂</td></tr><tr><td>val_rh_corr</td><td>▁▄▆▅▇█▄▆▆▄▆▆▇▆█▆▇█▄▅▇▇▇▄▆▃▅█▄▇▇▆▄▅▅▆▅▅▆▆</td></tr><tr><td>val_rh_loss</td><td>█▂▂▂▂▂▆▂▃▂▂▁▃▂▂▃▂▂▂▂▂▂▁▃▂▄▃▂▂▃▂▂▃▃▃▂▄▃▃▃</td></tr></table><br/></div><div class=\"wandb-col\"><h3>Run summary:</h3><br/><table class=\"wandb\"><tr><td>algonauts_train_lh_corr</td><td>0.21927</td></tr><tr><td>algonauts_train_rh_corr</td><td>0.24465</td></tr><tr><td>algonauts_val_lh_corr</td><td>0.29679</td></tr><tr><td>algonauts_val_rh_corr</td><td>0.28432</td></tr><tr><td>train_cat_loss</td><td>2.69598</td></tr><tr><td>train_lh_corr</td><td>0.30407</td></tr><tr><td>train_lh_loss</td><td>0.43649</td></tr><tr><td>train_loss</td><td>0.664</td></tr><tr><td>train_rh_corr</td><td>0.33361</td></tr><tr><td>train_rh_loss</td><td>0.43996</td></tr><tr><td>val_cat_loss</td><td>4.19103</td></tr><tr><td>val_lh_corr</td><td>0.2033</td></tr><tr><td>val_lh_loss</td><td>0.48499</td></tr><tr><td>val_loss</td><td>0.86905</td></tr><tr><td>val_rh_corr</td><td>0.16453</td></tr><tr><td>val_rh_loss</td><td>0.51491</td></tr></table><br/></div></div>"
      ],
      "text/plain": [
       "<IPython.core.display.HTML object>"
      ]
     },
     "metadata": {},
     "output_type": "display_data"
    },
    {
     "data": {
      "text/html": [
       " View run <strong style=\"color:#cdcd00\">cerulean-brook-152</strong> at: <a href='https://wandb.ai/syrkis/neuroscope/runs/n091jtik' target=\"_blank\">https://wandb.ai/syrkis/neuroscope/runs/n091jtik</a><br/>Synced 5 W&B file(s), 0 media file(s), 0 artifact file(s) and 0 other file(s)"
      ],
      "text/plain": [
       "<IPython.core.display.HTML object>"
      ]
     },
     "metadata": {},
     "output_type": "display_data"
    },
    {
     "data": {
      "text/html": [
       "Find logs at: <code>./wandb/run-20230603_224144-n091jtik/logs</code>"
      ],
      "text/plain": [
       "<IPython.core.display.HTML object>"
      ]
     },
     "metadata": {},
     "output_type": "display_data"
    },
    {
     "data": {
      "text/html": [
       "Tracking run with wandb version 0.15.3"
      ],
      "text/plain": [
       "<IPython.core.display.HTML object>"
      ]
     },
     "metadata": {},
     "output_type": "display_data"
    },
    {
     "data": {
      "text/html": [
       "Run data is saved locally in <code>/home/nobr/neuroscope/wandb/run-20230603_224335-5gkeulix</code>"
      ],
      "text/plain": [
       "<IPython.core.display.HTML object>"
      ]
     },
     "metadata": {},
     "output_type": "display_data"
    },
    {
     "data": {
      "text/html": [
       "Syncing run <strong><a href='https://wandb.ai/syrkis/neuroscope/runs/5gkeulix' target=\"_blank\">vocal-haze-153</a></strong> to <a href='https://wandb.ai/syrkis/neuroscope' target=\"_blank\">Weights & Biases</a> (<a href='https://wandb.me/run' target=\"_blank\">docs</a>)<br/>"
      ],
      "text/plain": [
       "<IPython.core.display.HTML object>"
      ]
     },
     "metadata": {},
     "output_type": "display_data"
    },
    {
     "data": {
      "text/html": [
       " View project at <a href='https://wandb.ai/syrkis/neuroscope' target=\"_blank\">https://wandb.ai/syrkis/neuroscope</a>"
      ],
      "text/plain": [
       "<IPython.core.display.HTML object>"
      ]
     },
     "metadata": {},
     "output_type": "display_data"
    },
    {
     "data": {
      "text/html": [
       " View run at <a href='https://wandb.ai/syrkis/neuroscope/runs/5gkeulix' target=\"_blank\">https://wandb.ai/syrkis/neuroscope/runs/5gkeulix</a>"
      ],
      "text/plain": [
       "<IPython.core.display.HTML object>"
      ]
     },
     "metadata": {},
     "output_type": "display_data"
    },
    {
     "name": "stderr",
     "output_type": "stream",
     "text": [
      "100%|██████████| 6000/6000 [01:42<00:00, 58.37it/s]\n"
     ]
    },
    {
     "data": {
      "text/html": [
       "Waiting for W&B process to finish... <strong style=\"color:green\">(success).</strong>"
      ],
      "text/plain": [
       "<IPython.core.display.HTML object>"
      ]
     },
     "metadata": {},
     "output_type": "display_data"
    },
    {
     "data": {
      "text/html": [
       "<style>\n",
       "    table.wandb td:nth-child(1) { padding: 0 10px; text-align: left ; width: auto;} td:nth-child(2) {text-align: left ; width: 100%}\n",
       "    .wandb-row { display: flex; flex-direction: row; flex-wrap: wrap; justify-content: flex-start; width: 100% }\n",
       "    .wandb-col { display: flex; flex-direction: column; flex-basis: 100%; flex: 1; padding: 10px; }\n",
       "    </style>\n",
       "<div class=\"wandb-row\"><div class=\"wandb-col\"><h3>Run history:</h3><br/><table class=\"wandb\"><tr><td>algonauts_train_lh_corr</td><td>▆▅▄▂▃▅▆▄▂▅▂▆▄▆▄▅▄▃▃▂▇▄▆▆▃▁▄▆▄▆▅▄▄▆█▆▄▆▂▃</td></tr><tr><td>algonauts_train_rh_corr</td><td>▆▇▄▃▂▄▇▂▃▅▄▅▅▅▄▄▅▃▃▂▆▃▄▇▃▁▅█▅▅▆▅▅▅█▅▄▇▂▃</td></tr><tr><td>algonauts_val_lh_corr</td><td>▁▃▅▄▅▂▅▄▃▃▄▅▅▅▇▃▄▃▅▄▅▄▇▇▅▅▅▆▆▆▅▅█▃▁▄▇▅▅▅</td></tr><tr><td>algonauts_val_rh_corr</td><td>▁▃▅▃▅▁▃▃▃▂▄▄▃▄▆▃▂▄▄▃▄▂▅▅▃▅▄▅▆▅▃▄█▃▂▄▄▄▅▄</td></tr><tr><td>train_cat_loss</td><td>█▂▁▂▁▁▁▁▁▂▁▁▁▁▁▁▁▁▁▁▁▁▁▁▁▁▁▁▁▁▁▁▂▁▁▁▁▁▁▁</td></tr><tr><td>train_lh_corr</td><td>▁▃▃▄▅▅▆▅▅▇▅▇▆▆▆▇▆▅▆▆▇▇▆█▆▇▇█▇▇▇▇▇▇▇█▇▇▆▇</td></tr><tr><td>train_lh_loss</td><td>█▂▂▂▁▂▁▂▂▁▂▁▂▂▂▂▂▂▂▃▂▃▁▂▁▁▁▂▁▁▁▂▂▁▂▂▂▂▁▂</td></tr><tr><td>train_loss</td><td>█▂▁▂▁▁▁▂▁▁▁▁▁▁▁▁▁▁▁▁▁▁▁▁▁▁▁▁▁▁▁▁▂▁▁▁▁▁▁▁</td></tr><tr><td>train_rh_corr</td><td>▁▂▃▅▅▅▆▄▆▆▆▇▆▇▆▇▆▆▆▆▆▇▆█▇▇███▇█▇▇▆█▇▇▇▇█</td></tr><tr><td>train_rh_loss</td><td>█▂▂▂▁▂▂▂▂▂▂▁▂▁▂▂▂▂▂▃▂▂▁▁▁▁▁▂▁▁▂▂▂▁▁▂▂▃▁▁</td></tr><tr><td>val_cat_loss</td><td>█▁▁▁▁▁▁▁▁▁▁▂▁▁▁▂▁▁▁▁▁▁▂▂▁▂▁▁▂▁▂▁▁▂▁▁▂▂▂▂</td></tr><tr><td>val_lh_corr</td><td>▁▃▄▅▅▄▆▅▅▆▅▆▇▆█▅▅▅▆▇▅▄▇▇▇▆▆█▆▆▆██▄▄▆▅▆▇▄</td></tr><tr><td>val_lh_loss</td><td>█▂▂▂▃▁▂▃▂▂▂▁▁▂▂▂▂▂▂▂▃▄▁▂▁▂▂▁▂▂▃▁▂▃▃▃▃▂▂▂</td></tr><tr><td>val_loss</td><td>█▁▁▁▁▁▁▁▁▁▁▁▁▁▁▂▁▁▁▁▂▂▁▂▁▂▁▁▂▁▂▁▁▂▂▁▂▁▁▂</td></tr><tr><td>val_rh_corr</td><td>▁▃▅▆▅▄▅▆▆▆▆▆▇▅▇▅▄▅▇█▃▂▇▇▆▇▇█▆▆▅██▅▆▇▆▆▇▄</td></tr><tr><td>val_rh_loss</td><td>█▂▂▂▃▁▂▂▂▂▂▂▁▃▂▂▂▂▂▂▃▃▁▂▂▂▂▁▂▂▃▂▂▃▂▃▂▂▂▂</td></tr></table><br/></div><div class=\"wandb-col\"><h3>Run summary:</h3><br/><table class=\"wandb\"><tr><td>algonauts_train_lh_corr</td><td>0.23724</td></tr><tr><td>algonauts_train_rh_corr</td><td>0.24412</td></tr><tr><td>algonauts_val_lh_corr</td><td>0.29281</td></tr><tr><td>algonauts_val_rh_corr</td><td>0.29227</td></tr><tr><td>train_cat_loss</td><td>2.64842</td></tr><tr><td>train_lh_corr</td><td>0.32275</td></tr><tr><td>train_lh_loss</td><td>0.44602</td></tr><tr><td>train_loss</td><td>0.65472</td></tr><tr><td>train_rh_corr</td><td>0.35432</td></tr><tr><td>train_rh_loss</td><td>0.42038</td></tr><tr><td>val_cat_loss</td><td>4.20781</td></tr><tr><td>val_lh_corr</td><td>0.1028</td></tr><tr><td>val_lh_loss</td><td>0.51307</td></tr><tr><td>val_loss</td><td>0.88246</td></tr><tr><td>val_rh_corr</td><td>0.10635</td></tr><tr><td>val_rh_loss</td><td>0.51289</td></tr></table><br/></div></div>"
      ],
      "text/plain": [
       "<IPython.core.display.HTML object>"
      ]
     },
     "metadata": {},
     "output_type": "display_data"
    },
    {
     "data": {
      "text/html": [
       " View run <strong style=\"color:#cdcd00\">vocal-haze-153</strong> at: <a href='https://wandb.ai/syrkis/neuroscope/runs/5gkeulix' target=\"_blank\">https://wandb.ai/syrkis/neuroscope/runs/5gkeulix</a><br/>Synced 5 W&B file(s), 0 media file(s), 0 artifact file(s) and 0 other file(s)"
      ],
      "text/plain": [
       "<IPython.core.display.HTML object>"
      ]
     },
     "metadata": {},
     "output_type": "display_data"
    },
    {
     "data": {
      "text/html": [
       "Find logs at: <code>./wandb/run-20230603_224335-5gkeulix/logs</code>"
      ],
      "text/plain": [
       "<IPython.core.display.HTML object>"
      ]
     },
     "metadata": {},
     "output_type": "display_data"
    },
    {
     "data": {
      "text/html": [
       "Tracking run with wandb version 0.15.3"
      ],
      "text/plain": [
       "<IPython.core.display.HTML object>"
      ]
     },
     "metadata": {},
     "output_type": "display_data"
    },
    {
     "data": {
      "text/html": [
       "Run data is saved locally in <code>/home/nobr/neuroscope/wandb/run-20230603_224525-qxh0iuk6</code>"
      ],
      "text/plain": [
       "<IPython.core.display.HTML object>"
      ]
     },
     "metadata": {},
     "output_type": "display_data"
    },
    {
     "data": {
      "text/html": [
       "Syncing run <strong><a href='https://wandb.ai/syrkis/neuroscope/runs/qxh0iuk6' target=\"_blank\">rosy-river-154</a></strong> to <a href='https://wandb.ai/syrkis/neuroscope' target=\"_blank\">Weights & Biases</a> (<a href='https://wandb.me/run' target=\"_blank\">docs</a>)<br/>"
      ],
      "text/plain": [
       "<IPython.core.display.HTML object>"
      ]
     },
     "metadata": {},
     "output_type": "display_data"
    },
    {
     "data": {
      "text/html": [
       " View project at <a href='https://wandb.ai/syrkis/neuroscope' target=\"_blank\">https://wandb.ai/syrkis/neuroscope</a>"
      ],
      "text/plain": [
       "<IPython.core.display.HTML object>"
      ]
     },
     "metadata": {},
     "output_type": "display_data"
    },
    {
     "data": {
      "text/html": [
       " View run at <a href='https://wandb.ai/syrkis/neuroscope/runs/qxh0iuk6' target=\"_blank\">https://wandb.ai/syrkis/neuroscope/runs/qxh0iuk6</a>"
      ],
      "text/plain": [
       "<IPython.core.display.HTML object>"
      ]
     },
     "metadata": {},
     "output_type": "display_data"
    },
    {
     "name": "stderr",
     "output_type": "stream",
     "text": [
      "100%|██████████| 6000/6000 [01:44<00:00, 57.59it/s]\n"
     ]
    },
    {
     "data": {
      "text/html": [
       "Waiting for W&B process to finish... <strong style=\"color:green\">(success).</strong>"
      ],
      "text/plain": [
       "<IPython.core.display.HTML object>"
      ]
     },
     "metadata": {},
     "output_type": "display_data"
    },
    {
     "data": {
      "text/html": [
       "<style>\n",
       "    table.wandb td:nth-child(1) { padding: 0 10px; text-align: left ; width: auto;} td:nth-child(2) {text-align: left ; width: 100%}\n",
       "    .wandb-row { display: flex; flex-direction: row; flex-wrap: wrap; justify-content: flex-start; width: 100% }\n",
       "    .wandb-col { display: flex; flex-direction: column; flex-basis: 100%; flex: 1; padding: 10px; }\n",
       "    </style>\n",
       "<div class=\"wandb-row\"><div class=\"wandb-col\"><h3>Run history:</h3><br/><table class=\"wandb\"><tr><td>algonauts_train_lh_corr</td><td>▄▃▄▅▅▅▅▆▃▅█▄▆▄▅▄▇▃▄▄▅▅▇▁▆▆▅▄▅▅▇▄▃▆█▆▅▃▄▄</td></tr><tr><td>algonauts_train_rh_corr</td><td>▅▅▃▅▃▂▅▆▁▃█▃▇▅▆▄▇▄▂▄▅▆▇▂█▄▆▅▆▄█▃▂▇█▅▂▁▃▆</td></tr><tr><td>algonauts_val_lh_corr</td><td>▇▄▇▄▅▆▅▆▄█▃█▂▁▂▂▄▄▆▃▅▃▆▅▄▅▄▃▆▆▅▄▇▅▇▂▆▃▃▁</td></tr><tr><td>algonauts_val_rh_corr</td><td>▇▅▇▆▄▅▆▅▂█▃▄▃▁▄▃▄▇▇▃▅▃▆▆▅▇▇▅▇▅▇▆▆▅▆▅▆▁▄▂</td></tr><tr><td>train_cat_loss</td><td>█▂▁▁▁▁▁▁▁▁▁▁▁▁▁▁▁▁▁▁▁▁▁▁▁▁▁▁▁▁▁▁▁▁▁▁▁▁▁▁</td></tr><tr><td>train_lh_corr</td><td>▁▃▃▅▄▆▅▆▅▅█▇▆▇▇██▆▅▆▆█▇▇█▇█▇█▇▇▇▇▇▇▆█▇▇▇</td></tr><tr><td>train_lh_loss</td><td>█▄▃▂▂▂▂▁▂▂▂▂▁▂▂▁▂▂▂▂▃▁▂▂▁▂▂▁▂▂▂▃▁▂▂▁▁▁▁▁</td></tr><tr><td>train_loss</td><td>█▂▂▁▁▂▂▁▂▁▁▁▁▁▂▁▁▁▁▁▂▁▂▁▁▁▁▁▁▁▁▁▁▁▁▁▁▁▁▁</td></tr><tr><td>train_rh_corr</td><td>▁▃▃▅▄▄▅▅▄▄▇▇▆▇▇█▇▆▅▅▆█▇▇▇▆███▇▇▇▆▇█▆▇▇▆▇</td></tr><tr><td>train_rh_loss</td><td>█▃▃▂▃▃▂▂▃▂▂▂▂▂▂▂▃▂▃▃▃▂▂▂▂▂▂▁▂▂▃▃▂▂▂▂▂▁▂▁</td></tr><tr><td>val_cat_loss</td><td>█▁▁▁▁▁▁▁▁▁▁▁▂▁▁▁▁▂▁▂▁▂▁▁▁▁▁▁▁▂▂▁▁▁▁▂▁▁▁▂</td></tr><tr><td>val_lh_corr</td><td>▁▃▆▆▇▇▆▇▆▇▅▇▆▅▄▄▄▆█▆▇▆▆▇▇▅▆▅▅▆▇▆▆▆▇▆▇▅▅▆</td></tr><tr><td>val_lh_loss</td><td>█▃▃▂▁▂▂▂▃▂▂▂▂▃▃▃▄▃▁▂▂▂▃▃▂▃▃▄▃▂▃▂▂▂▃▂▃▄▂▃</td></tr><tr><td>val_loss</td><td>█▁▁▁▁▁▁▁▁▁▁▁▂▁▁▁▂▂▁▂▁▂▁▁▁▁▁▂▁▂▂▁▁▁▂▂▁▂▁▂</td></tr><tr><td>val_rh_corr</td><td>▁▃▅▇▇▆▅▅▅▇▄▅▆▅▅▄▃▇▆▅▆▆▅▇▇▅█▅▆▆▇▆▆▅▅▆▆▃▆▅</td></tr><tr><td>val_rh_loss</td><td>█▃▂▁▁▁▂▂▂▂▃▂▂▂▃▃▄▃▁▂▂▃▃▂▁▃▂▄▂▂▃▁▂▂▃▂▃▄▂▃</td></tr></table><br/></div><div class=\"wandb-col\"><h3>Run summary:</h3><br/><table class=\"wandb\"><tr><td>algonauts_train_lh_corr</td><td>0.26417</td></tr><tr><td>algonauts_train_rh_corr</td><td>0.29581</td></tr><tr><td>algonauts_val_lh_corr</td><td>0.23794</td></tr><tr><td>algonauts_val_rh_corr</td><td>0.2146</td></tr><tr><td>train_cat_loss</td><td>2.40359</td></tr><tr><td>train_lh_corr</td><td>0.34189</td></tr><tr><td>train_lh_loss</td><td>0.40148</td></tr><tr><td>train_loss</td><td>0.60363</td></tr><tr><td>train_rh_corr</td><td>0.36138</td></tr><tr><td>train_rh_loss</td><td>0.40579</td></tr><tr><td>val_cat_loss</td><td>4.48918</td></tr><tr><td>val_lh_corr</td><td>0.18138</td></tr><tr><td>val_lh_loss</td><td>0.5359</td></tr><tr><td>val_loss</td><td>0.92772</td></tr><tr><td>val_rh_corr</td><td>0.15784</td></tr><tr><td>val_rh_loss</td><td>0.5281</td></tr></table><br/></div></div>"
      ],
      "text/plain": [
       "<IPython.core.display.HTML object>"
      ]
     },
     "metadata": {},
     "output_type": "display_data"
    },
    {
     "data": {
      "text/html": [
       " View run <strong style=\"color:#cdcd00\">rosy-river-154</strong> at: <a href='https://wandb.ai/syrkis/neuroscope/runs/qxh0iuk6' target=\"_blank\">https://wandb.ai/syrkis/neuroscope/runs/qxh0iuk6</a><br/>Synced 5 W&B file(s), 0 media file(s), 0 artifact file(s) and 0 other file(s)"
      ],
      "text/plain": [
       "<IPython.core.display.HTML object>"
      ]
     },
     "metadata": {},
     "output_type": "display_data"
    },
    {
     "data": {
      "text/html": [
       "Find logs at: <code>./wandb/run-20230603_224525-qxh0iuk6/logs</code>"
      ],
      "text/plain": [
       "<IPython.core.display.HTML object>"
      ]
     },
     "metadata": {},
     "output_type": "display_data"
    },
    {
     "data": {
      "text/html": [
       "Tracking run with wandb version 0.15.3"
      ],
      "text/plain": [
       "<IPython.core.display.HTML object>"
      ]
     },
     "metadata": {},
     "output_type": "display_data"
    },
    {
     "data": {
      "text/html": [
       "Run data is saved locally in <code>/home/nobr/neuroscope/wandb/run-20230603_224717-t1dvgv3c</code>"
      ],
      "text/plain": [
       "<IPython.core.display.HTML object>"
      ]
     },
     "metadata": {},
     "output_type": "display_data"
    },
    {
     "data": {
      "text/html": [
       "Syncing run <strong><a href='https://wandb.ai/syrkis/neuroscope/runs/t1dvgv3c' target=\"_blank\">sleek-firefly-155</a></strong> to <a href='https://wandb.ai/syrkis/neuroscope' target=\"_blank\">Weights & Biases</a> (<a href='https://wandb.me/run' target=\"_blank\">docs</a>)<br/>"
      ],
      "text/plain": [
       "<IPython.core.display.HTML object>"
      ]
     },
     "metadata": {},
     "output_type": "display_data"
    },
    {
     "data": {
      "text/html": [
       " View project at <a href='https://wandb.ai/syrkis/neuroscope' target=\"_blank\">https://wandb.ai/syrkis/neuroscope</a>"
      ],
      "text/plain": [
       "<IPython.core.display.HTML object>"
      ]
     },
     "metadata": {},
     "output_type": "display_data"
    },
    {
     "data": {
      "text/html": [
       " View run at <a href='https://wandb.ai/syrkis/neuroscope/runs/t1dvgv3c' target=\"_blank\">https://wandb.ai/syrkis/neuroscope/runs/t1dvgv3c</a>"
      ],
      "text/plain": [
       "<IPython.core.display.HTML object>"
      ]
     },
     "metadata": {},
     "output_type": "display_data"
    },
    {
     "name": "stderr",
     "output_type": "stream",
     "text": [
      "100%|██████████| 6000/6000 [01:44<00:00, 57.26it/s]\n"
     ]
    },
    {
     "data": {
      "text/html": [
       "Waiting for W&B process to finish... <strong style=\"color:green\">(success).</strong>"
      ],
      "text/plain": [
       "<IPython.core.display.HTML object>"
      ]
     },
     "metadata": {},
     "output_type": "display_data"
    },
    {
     "data": {
      "text/html": [
       "<style>\n",
       "    table.wandb td:nth-child(1) { padding: 0 10px; text-align: left ; width: auto;} td:nth-child(2) {text-align: left ; width: 100%}\n",
       "    .wandb-row { display: flex; flex-direction: row; flex-wrap: wrap; justify-content: flex-start; width: 100% }\n",
       "    .wandb-col { display: flex; flex-direction: column; flex-basis: 100%; flex: 1; padding: 10px; }\n",
       "    </style>\n",
       "<div class=\"wandb-row\"><div class=\"wandb-col\"><h3>Run history:</h3><br/><table class=\"wandb\"><tr><td>algonauts_train_lh_corr</td><td>▄▆█▄▇▃▅▄▅▅▄▇▄▄▂█▃▅▅▆▄▇▆▁▆▄▃▃▆▅▅▄▄▅▅▄▆▅▂▅</td></tr><tr><td>algonauts_train_rh_corr</td><td>▅▆█▆▇▃▃▄▆▅▄▆▅▅▄▆▄▄▂▆▄█▅▂▇▅▄▂▃▅▃▄▄▄▆▂█▇▁▅</td></tr><tr><td>algonauts_val_lh_corr</td><td>█▃▆▆▄▇▆▇▄▄▅▄▅▄▆▄▅▅▄▅▄▅▃▄▄▂▅▁▇▃▆▅▆▇▅▅▇▆▆▆</td></tr><tr><td>algonauts_val_rh_corr</td><td>█▄▅▃▃▆▆▆▄▄▆▄▆▄▆▃▄▅▄▅▄▃▃▆▄▃▅▁▆▃▅▄▅▇▃▅▇▆▅▄</td></tr><tr><td>train_cat_loss</td><td>█▁▁▁▁▁▁▁▁▁▁▁▁▁▁▁▁▁▁▁▁▁▁▁▁▁▁▁▁▁▁▁▁▁▁▁▁▁▁▁</td></tr><tr><td>train_lh_corr</td><td>▁▃▄▃▄▄▄▄▅▆▅▆▆▅▄▆▆▆▅▇█▆▆▆▇▇▆▅█▆▇▆▇▇██▆▇█▇</td></tr><tr><td>train_lh_loss</td><td>█▄▃▃▃▃▅▃▃▃▂▂▃▃▂▂▂▃▃▂▂▃▂▂▁▃▂▃▁▂▁▂▁▂▃▂▂▂▃▁</td></tr><tr><td>train_loss</td><td>█▂▂▂▂▁▂▂▁▂▁▁▁▁▁▁▁▂▂▁▁▁▁▁▁▂▁▁▁▁▁▁▁▁▁▁▁▁▁▁</td></tr><tr><td>train_rh_corr</td><td>▁▂▄▄▅▄▄▄▅▅▅▆▆▆▅▆▆▆▅▇█▇▆▆█▇▆▆█▆▇▇▇▇█▇▇▇█▆</td></tr><tr><td>train_rh_loss</td><td>█▄▄▃▄▃▅▃▂▄▂▂▂▃▂▂▂▃▄▂▃▃▂▂▁▃▂▃▁▂▁▂▁▂▃▂▂▃▃▁</td></tr><tr><td>val_cat_loss</td><td>█▁▁▁▁▁▁▁▁▁▁▁▁▂▁▁▁▂▁▁▁▂▂▂▂▁▁▂▁▁▂▁▁▂▂▂▁▁▁▂</td></tr><tr><td>val_lh_corr</td><td>▂▄▇▆▄▇█▆▇▅▅▄█▃▇▆█▄▂▆▆▇▃▄▃▄▄▁▇▄█▆▅▅█▃▅██▄</td></tr><tr><td>val_lh_loss</td><td>█▄▃▁▃▁▁▂▂▁▃▅▁▄▃▂▂▄▄▃▃▂▄▄▄▃▃▄▃▅▃▆▃▂▄▄▃▂▃▄</td></tr><tr><td>val_loss</td><td>█▂▁▁▂▁▁▁▁▁▂▂▁▂▁▁▁▂▂▂▁▂▂▂▂▂▁▂▁▂▂▂▁▂▂▂▂▁▂▂</td></tr><tr><td>val_rh_corr</td><td>▂▃▆▅▄▅█▆▇▄▆▂█▄▆▅▆▅▃▅▇▆▄▄▂▃▄▁▇▃█▇▅▆▇▃▆▇▇▄</td></tr><tr><td>val_rh_loss</td><td>█▄▂▁▄▁▁▂▂▁▄▄▂▃▃▃▃▃▅▄▂▂▄▅▃▃▃▅▃▆▃▅▃▂▄▃▄▂▄▅</td></tr></table><br/></div><div class=\"wandb-col\"><h3>Run summary:</h3><br/><table class=\"wandb\"><tr><td>algonauts_train_lh_corr</td><td>0.24859</td></tr><tr><td>algonauts_train_rh_corr</td><td>0.24614</td></tr><tr><td>algonauts_val_lh_corr</td><td>0.28275</td></tr><tr><td>algonauts_val_rh_corr</td><td>0.20856</td></tr><tr><td>train_cat_loss</td><td>2.87066</td></tr><tr><td>train_lh_corr</td><td>0.36825</td></tr><tr><td>train_lh_loss</td><td>0.43045</td></tr><tr><td>train_loss</td><td>0.67145</td></tr><tr><td>train_rh_corr</td><td>0.34535</td></tr><tr><td>train_rh_loss</td><td>0.42374</td></tr><tr><td>val_cat_loss</td><td>4.61662</td></tr><tr><td>val_lh_corr</td><td>0.09485</td></tr><tr><td>val_lh_loss</td><td>0.65696</td></tr><tr><td>val_loss</td><td>1.06509</td></tr><tr><td>val_rh_corr</td><td>0.0688</td></tr><tr><td>val_rh_loss</td><td>0.684</td></tr></table><br/></div></div>"
      ],
      "text/plain": [
       "<IPython.core.display.HTML object>"
      ]
     },
     "metadata": {},
     "output_type": "display_data"
    },
    {
     "data": {
      "text/html": [
       " View run <strong style=\"color:#cdcd00\">sleek-firefly-155</strong> at: <a href='https://wandb.ai/syrkis/neuroscope/runs/t1dvgv3c' target=\"_blank\">https://wandb.ai/syrkis/neuroscope/runs/t1dvgv3c</a><br/>Synced 5 W&B file(s), 0 media file(s), 0 artifact file(s) and 0 other file(s)"
      ],
      "text/plain": [
       "<IPython.core.display.HTML object>"
      ]
     },
     "metadata": {},
     "output_type": "display_data"
    },
    {
     "data": {
      "text/html": [
       "Find logs at: <code>./wandb/run-20230603_224717-t1dvgv3c/logs</code>"
      ],
      "text/plain": [
       "<IPython.core.display.HTML object>"
      ]
     },
     "metadata": {},
     "output_type": "display_data"
    },
    {
     "data": {
      "text/html": [
       "Tracking run with wandb version 0.15.3"
      ],
      "text/plain": [
       "<IPython.core.display.HTML object>"
      ]
     },
     "metadata": {},
     "output_type": "display_data"
    },
    {
     "data": {
      "text/html": [
       "Run data is saved locally in <code>/home/nobr/neuroscope/wandb/run-20230603_224907-wyxhptk8</code>"
      ],
      "text/plain": [
       "<IPython.core.display.HTML object>"
      ]
     },
     "metadata": {},
     "output_type": "display_data"
    },
    {
     "data": {
      "text/html": [
       "Syncing run <strong><a href='https://wandb.ai/syrkis/neuroscope/runs/wyxhptk8' target=\"_blank\">silver-water-156</a></strong> to <a href='https://wandb.ai/syrkis/neuroscope' target=\"_blank\">Weights & Biases</a> (<a href='https://wandb.me/run' target=\"_blank\">docs</a>)<br/>"
      ],
      "text/plain": [
       "<IPython.core.display.HTML object>"
      ]
     },
     "metadata": {},
     "output_type": "display_data"
    },
    {
     "data": {
      "text/html": [
       " View project at <a href='https://wandb.ai/syrkis/neuroscope' target=\"_blank\">https://wandb.ai/syrkis/neuroscope</a>"
      ],
      "text/plain": [
       "<IPython.core.display.HTML object>"
      ]
     },
     "metadata": {},
     "output_type": "display_data"
    },
    {
     "data": {
      "text/html": [
       " View run at <a href='https://wandb.ai/syrkis/neuroscope/runs/wyxhptk8' target=\"_blank\">https://wandb.ai/syrkis/neuroscope/runs/wyxhptk8</a>"
      ],
      "text/plain": [
       "<IPython.core.display.HTML object>"
      ]
     },
     "metadata": {},
     "output_type": "display_data"
    },
    {
     "name": "stderr",
     "output_type": "stream",
     "text": [
      "100%|██████████| 6000/6000 [02:16<00:00, 44.00it/s]\n"
     ]
    },
    {
     "data": {
      "text/html": [
       "Waiting for W&B process to finish... <strong style=\"color:green\">(success).</strong>"
      ],
      "text/plain": [
       "<IPython.core.display.HTML object>"
      ]
     },
     "metadata": {},
     "output_type": "display_data"
    },
    {
     "data": {
      "text/html": [
       "<style>\n",
       "    table.wandb td:nth-child(1) { padding: 0 10px; text-align: left ; width: auto;} td:nth-child(2) {text-align: left ; width: 100%}\n",
       "    .wandb-row { display: flex; flex-direction: row; flex-wrap: wrap; justify-content: flex-start; width: 100% }\n",
       "    .wandb-col { display: flex; flex-direction: column; flex-basis: 100%; flex: 1; padding: 10px; }\n",
       "    </style>\n",
       "<div class=\"wandb-row\"><div class=\"wandb-col\"><h3>Run history:</h3><br/><table class=\"wandb\"><tr><td>algonauts_train_lh_corr</td><td>▃▅▄▆▆▆▅▇▆▃▆▄▃▅▄▃▇▂▄▅▅▄▅▁█▇▃▄▆▄▆▅▅▄▆▄▃▆▅▅</td></tr><tr><td>algonauts_train_rh_corr</td><td>▃▃▅▄▄▅▃▅▅▃▇▅▅▅▃▃▆▄▄▅▄▅▅▁█▆▅▅▅▃▅▅▅▅▆▆▃▆▅▆</td></tr><tr><td>algonauts_val_lh_corr</td><td>▇▅▇▇▅▇▆▄▄▇▆▃▆▄▅▅▅█▇▁▅█▇▅▇▅▆▇▅▆▆▄▃█▇▇▆▅▅▅</td></tr><tr><td>algonauts_val_rh_corr</td><td>█▆▆▇▅▇▆▄▄▆▆▄▆▆▅▆▅▅▆▁▅▇▇▆▆▆▅▆▅▅▅▅▄█▆▇▅▅▅▆</td></tr><tr><td>train_cat_loss</td><td>█▂▂▁▁▁▁▁▁▁▁▁▁▁▁▁▁▁▁▁▁▁▁▁▁▁▁▁▁▁▁▁▁▁▁▁▁▁▁▁</td></tr><tr><td>train_lh_corr</td><td>▁▂▃▄▅▆▄▅▅▅▇▅▅▆▇█▆▆▆▇▇▇▆▇███▇██▇████▇▇▇▇▇</td></tr><tr><td>train_lh_loss</td><td>█▃▃▄▂▁▃▁▃▂▂▂▂▄▂▁▁▁▁▂▂▂▂▂▂▂▂▂▁▁▂▂▁▂▂▁▂▁▂▁</td></tr><tr><td>train_loss</td><td>█▂▂▂▁▁▂▁▁▁▁▂▁▂▁▁▁▁▁▁▂▂▁▁▁▁▁▁▁▁▁▁▁▁▁▁▁▁▁▁</td></tr><tr><td>train_rh_corr</td><td>▁▂▄▃▅▅▃▅▄▄▇▆▆▆▇▇▆▇▅▇▇▇▆▇▇█▇▇██▇███▇▇▇█▇▇</td></tr><tr><td>train_rh_loss</td><td>█▃▃▃▂▂▃▂▂▂▂▂▂▄▂▁▁▁▁▂▂▂▂▂▂▂▂▂▁▁▂▂▁▂▂▁▂▁▂▁</td></tr><tr><td>val_cat_loss</td><td>█▁▁▁▁▁▁▁▁▁▁▁▁▁▁▁▁▁▁▁▁▁▁▁▁▁▂▁▁▁▁▂▂▂▂▁▂▁▁▁</td></tr><tr><td>val_lh_corr</td><td>▁▃▇▆▅▆▇▂▅▆▆▁▄▇▇▇▄▅▆▂▄▅▇▅▆▅▄█▄▆▆▅▁██▂▆▆▆▁</td></tr><tr><td>val_lh_loss</td><td>█▂▄▂▁▃▃▂▄▃▃▄▄▂▃▃▃▃▂▅▂▆▂▂▃▃▃▃▃▅▄▂▄▃▂▄▁▃▄▅</td></tr><tr><td>val_loss</td><td>█▁▁▁▁▁▁▁▂▁▁▂▁▁▁▂▁▁▁▂▁▂▁▁▁▁▂▁▁▂▁▂▂▂▂▂▁▁▂▂</td></tr><tr><td>val_rh_corr</td><td>▁▃▆▆█▆▆▂▃▆▆▃▅▇▇▇▅▅▆▁▂▃▇▆▅▅▃▇▅▇▇▆▂█▇▁▆▆▃▁</td></tr><tr><td>val_rh_loss</td><td>█▂▃▂▁▃▃▂▄▃▃▄▃▂▃▃▂▂▂▅▂▆▂▂▄▃▃▃▃▄▃▂▄▃▃▃▁▃▄▄</td></tr></table><br/></div><div class=\"wandb-col\"><h3>Run summary:</h3><br/><table class=\"wandb\"><tr><td>algonauts_train_lh_corr</td><td>0.25623</td></tr><tr><td>algonauts_train_rh_corr</td><td>0.2756</td></tr><tr><td>algonauts_val_lh_corr</td><td>0.2395</td></tr><tr><td>algonauts_val_rh_corr</td><td>0.24557</td></tr><tr><td>train_cat_loss</td><td>2.33696</td></tr><tr><td>train_lh_corr</td><td>0.38638</td></tr><tr><td>train_lh_loss</td><td>0.46804</td></tr><tr><td>train_loss</td><td>0.65213</td></tr><tr><td>train_rh_corr</td><td>0.39673</td></tr><tr><td>train_rh_loss</td><td>0.46181</td></tr><tr><td>val_cat_loss</td><td>3.54548</td></tr><tr><td>val_lh_corr</td><td>-0.01087</td></tr><tr><td>val_lh_loss</td><td>0.67484</td></tr><tr><td>val_loss</td><td>0.9563</td></tr><tr><td>val_rh_corr</td><td>-0.00324</td></tr><tr><td>val_rh_loss</td><td>0.66239</td></tr></table><br/></div></div>"
      ],
      "text/plain": [
       "<IPython.core.display.HTML object>"
      ]
     },
     "metadata": {},
     "output_type": "display_data"
    },
    {
     "data": {
      "text/html": [
       " View run <strong style=\"color:#cdcd00\">silver-water-156</strong> at: <a href='https://wandb.ai/syrkis/neuroscope/runs/wyxhptk8' target=\"_blank\">https://wandb.ai/syrkis/neuroscope/runs/wyxhptk8</a><br/>Synced 5 W&B file(s), 0 media file(s), 0 artifact file(s) and 0 other file(s)"
      ],
      "text/plain": [
       "<IPython.core.display.HTML object>"
      ]
     },
     "metadata": {},
     "output_type": "display_data"
    },
    {
     "data": {
      "text/html": [
       "Find logs at: <code>./wandb/run-20230603_224907-wyxhptk8/logs</code>"
      ],
      "text/plain": [
       "<IPython.core.display.HTML object>"
      ]
     },
     "metadata": {},
     "output_type": "display_data"
    },
    {
     "data": {
      "text/html": [
       "Tracking run with wandb version 0.15.3"
      ],
      "text/plain": [
       "<IPython.core.display.HTML object>"
      ]
     },
     "metadata": {},
     "output_type": "display_data"
    },
    {
     "data": {
      "text/html": [
       "Run data is saved locally in <code>/home/nobr/neuroscope/wandb/run-20230603_225130-6s4g9w06</code>"
      ],
      "text/plain": [
       "<IPython.core.display.HTML object>"
      ]
     },
     "metadata": {},
     "output_type": "display_data"
    },
    {
     "data": {
      "text/html": [
       "Syncing run <strong><a href='https://wandb.ai/syrkis/neuroscope/runs/6s4g9w06' target=\"_blank\">wild-sky-157</a></strong> to <a href='https://wandb.ai/syrkis/neuroscope' target=\"_blank\">Weights & Biases</a> (<a href='https://wandb.me/run' target=\"_blank\">docs</a>)<br/>"
      ],
      "text/plain": [
       "<IPython.core.display.HTML object>"
      ]
     },
     "metadata": {},
     "output_type": "display_data"
    },
    {
     "data": {
      "text/html": [
       " View project at <a href='https://wandb.ai/syrkis/neuroscope' target=\"_blank\">https://wandb.ai/syrkis/neuroscope</a>"
      ],
      "text/plain": [
       "<IPython.core.display.HTML object>"
      ]
     },
     "metadata": {},
     "output_type": "display_data"
    },
    {
     "data": {
      "text/html": [
       " View run at <a href='https://wandb.ai/syrkis/neuroscope/runs/6s4g9w06' target=\"_blank\">https://wandb.ai/syrkis/neuroscope/runs/6s4g9w06</a>"
      ],
      "text/plain": [
       "<IPython.core.display.HTML object>"
      ]
     },
     "metadata": {},
     "output_type": "display_data"
    },
    {
     "name": "stderr",
     "output_type": "stream",
     "text": [
      "100%|██████████| 6000/6000 [01:45<00:00, 57.05it/s]\n"
     ]
    },
    {
     "data": {
      "text/html": [
       "Waiting for W&B process to finish... <strong style=\"color:green\">(success).</strong>"
      ],
      "text/plain": [
       "<IPython.core.display.HTML object>"
      ]
     },
     "metadata": {},
     "output_type": "display_data"
    },
    {
     "data": {
      "text/html": [
       "<style>\n",
       "    table.wandb td:nth-child(1) { padding: 0 10px; text-align: left ; width: auto;} td:nth-child(2) {text-align: left ; width: 100%}\n",
       "    .wandb-row { display: flex; flex-direction: row; flex-wrap: wrap; justify-content: flex-start; width: 100% }\n",
       "    .wandb-col { display: flex; flex-direction: column; flex-basis: 100%; flex: 1; padding: 10px; }\n",
       "    </style>\n",
       "<div class=\"wandb-row\"><div class=\"wandb-col\"><h3>Run history:</h3><br/><table class=\"wandb\"><tr><td>algonauts_train_lh_corr</td><td>▁▃▃▆▆▇▇▂▄▃▅▃█▆▄▆▄▅▄▆▂▆▃▅▄▆█▆▇▃▃▄▅▆▃▄▄▆▅▆</td></tr><tr><td>algonauts_train_rh_corr</td><td>▁▄▅▇▄▇▇▄▄▂▄▁▇▅▅▆▃▆▇▇▅▃▂▂▃▅▇▅▆▂▄▃▇▆▄▄▅▅█▇</td></tr><tr><td>algonauts_val_lh_corr</td><td>▆▅▆▆▅▃▁▆▇▅▃▃▄▇▇█▆▃▆▆█▄▆▅▆▅█▅▃▅▄▄▃▇█▆▇█▇▅</td></tr><tr><td>algonauts_val_rh_corr</td><td>▇▅▅▆▆▄▁▇█▅▆▆▅▇▆▆▇▄▆▆▇▆▇▅▆▆▆▅▄▆▄▄▄█▇▅██▇▆</td></tr><tr><td>train_cat_loss</td><td>█▁▁▁▁▁▂▁▁▂▁▁▁▁▁▁▁▁▁▁▁▁▁▁▁▁▁▁▁▁▁▁▁▁▁▁▁▁▁▁</td></tr><tr><td>train_lh_corr</td><td>▁▂▄▅▅▅▆▅▅▅▆▆▆▆▆▇▆▆▆▆▆▇▆▆▇▆▇▇▇▇▆▆█▆▇▇▆▇▇▇</td></tr><tr><td>train_lh_loss</td><td>█▃▄▃▃▂▂▂▂▂▂▂▃▂▂▂▃▁▂▂▂▃▂▃▂▂▂▁▁▂▂▂▂▁▁▁▂▁▂▂</td></tr><tr><td>train_loss</td><td>█▁▂▂▂▁▂▂▁▂▁▁▁▁▁▁▂▁▁▁▁▁▁▂▂▁▁▁▁▁▁▁▁▁▁▁▁▁▁▁</td></tr><tr><td>train_rh_corr</td><td>▁▂▄▄▅▅▆▅▅▅▅▆▅▆▆▇▆▆▆▇▆▆▆▅▇▆▇▇▇█▆▆█▆▇▇▆█▇█</td></tr><tr><td>train_rh_loss</td><td>█▃▄▃▄▂▂▃▂▂▂▂▃▃▃▁▃▁▂▂▂▃▂▄▂▂▂▁▂▂▃▃▂▁▁▂▃▁▂▂</td></tr><tr><td>val_cat_loss</td><td>█▁▁▁▁▁▁▁▁▁▁▁▁▁▁▁▁▁▂▁▁▁▁▁▁▁▁▁▂▂▁▁▁▁▁▁▁▁▁▁</td></tr><tr><td>val_lh_corr</td><td>▁▃▇▇▇▇▃▃▆▃▆▆▆▁▅▆▅▃▅▄▄▄▁▅▅▇▅▆▂▂▅▄▄▅▄█▅▆▄▂</td></tr><tr><td>val_lh_loss</td><td>█▁▅▂▁▂▄▂▁▂▃▄▁▇▃▃▁▂▃▂▁▂▅▂▁▂▃▂▅▄▂▁▃▄▄▅▄▁▆▄</td></tr><tr><td>val_loss</td><td>█▁▂▁▁▁▁▁▁▁▁▁▁▂▁▁▁▁▂▁▁▁▂▁▁▁▂▁▂▂▁▁▁▂▂▁▂▁▂▂</td></tr><tr><td>val_rh_corr</td><td>▂▃▇▆▇▇▁▅▆▂▇█▆▂▅▇▅▃▅▃▅▆▁▄▆█▅▆▃▂▅▃▄▅▄▇▆▆▄▃</td></tr><tr><td>val_rh_loss</td><td>█▂▆▃▂▃▄▃▂▃▃▄▂▇▃▃▁▃▄▂▁▂▅▄▂▃▃▃▅▃▂▂▄▆▅▄▄▃▆▄</td></tr></table><br/></div><div class=\"wandb-col\"><h3>Run summary:</h3><br/><table class=\"wandb\"><tr><td>algonauts_train_lh_corr</td><td>0.27831</td></tr><tr><td>algonauts_train_rh_corr</td><td>0.27497</td></tr><tr><td>algonauts_val_lh_corr</td><td>0.24022</td></tr><tr><td>algonauts_val_rh_corr</td><td>0.25133</td></tr><tr><td>train_cat_loss</td><td>2.42792</td></tr><tr><td>train_lh_corr</td><td>0.40726</td></tr><tr><td>train_lh_loss</td><td>0.45249</td></tr><tr><td>train_loss</td><td>0.65039</td></tr><tr><td>train_rh_corr</td><td>0.40695</td></tr><tr><td>train_rh_loss</td><td>0.45328</td></tr><tr><td>val_cat_loss</td><td>3.73914</td></tr><tr><td>val_lh_corr</td><td>0.02866</td></tr><tr><td>val_lh_loss</td><td>0.64462</td></tr><tr><td>val_loss</td><td>0.95729</td></tr><tr><td>val_rh_corr</td><td>0.03111</td></tr><tr><td>val_rh_loss</td><td>0.65177</td></tr></table><br/></div></div>"
      ],
      "text/plain": [
       "<IPython.core.display.HTML object>"
      ]
     },
     "metadata": {},
     "output_type": "display_data"
    },
    {
     "data": {
      "text/html": [
       " View run <strong style=\"color:#cdcd00\">wild-sky-157</strong> at: <a href='https://wandb.ai/syrkis/neuroscope/runs/6s4g9w06' target=\"_blank\">https://wandb.ai/syrkis/neuroscope/runs/6s4g9w06</a><br/>Synced 5 W&B file(s), 0 media file(s), 0 artifact file(s) and 0 other file(s)"
      ],
      "text/plain": [
       "<IPython.core.display.HTML object>"
      ]
     },
     "metadata": {},
     "output_type": "display_data"
    },
    {
     "data": {
      "text/html": [
       "Find logs at: <code>./wandb/run-20230603_225130-6s4g9w06/logs</code>"
      ],
      "text/plain": [
       "<IPython.core.display.HTML object>"
      ]
     },
     "metadata": {},
     "output_type": "display_data"
    },
    {
     "data": {
      "text/html": [
       "Tracking run with wandb version 0.15.3"
      ],
      "text/plain": [
       "<IPython.core.display.HTML object>"
      ]
     },
     "metadata": {},
     "output_type": "display_data"
    },
    {
     "data": {
      "text/html": [
       "Run data is saved locally in <code>/home/nobr/neuroscope/wandb/run-20230603_225322-qvevdo8d</code>"
      ],
      "text/plain": [
       "<IPython.core.display.HTML object>"
      ]
     },
     "metadata": {},
     "output_type": "display_data"
    },
    {
     "data": {
      "text/html": [
       "Syncing run <strong><a href='https://wandb.ai/syrkis/neuroscope/runs/qvevdo8d' target=\"_blank\">ruby-fire-158</a></strong> to <a href='https://wandb.ai/syrkis/neuroscope' target=\"_blank\">Weights & Biases</a> (<a href='https://wandb.me/run' target=\"_blank\">docs</a>)<br/>"
      ],
      "text/plain": [
       "<IPython.core.display.HTML object>"
      ]
     },
     "metadata": {},
     "output_type": "display_data"
    },
    {
     "data": {
      "text/html": [
       " View project at <a href='https://wandb.ai/syrkis/neuroscope' target=\"_blank\">https://wandb.ai/syrkis/neuroscope</a>"
      ],
      "text/plain": [
       "<IPython.core.display.HTML object>"
      ]
     },
     "metadata": {},
     "output_type": "display_data"
    },
    {
     "data": {
      "text/html": [
       " View run at <a href='https://wandb.ai/syrkis/neuroscope/runs/qvevdo8d' target=\"_blank\">https://wandb.ai/syrkis/neuroscope/runs/qvevdo8d</a>"
      ],
      "text/plain": [
       "<IPython.core.display.HTML object>"
      ]
     },
     "metadata": {},
     "output_type": "display_data"
    },
    {
     "name": "stderr",
     "output_type": "stream",
     "text": [
      "100%|██████████| 6000/6000 [01:44<00:00, 57.35it/s]\n"
     ]
    },
    {
     "data": {
      "text/html": [
       "Waiting for W&B process to finish... <strong style=\"color:green\">(success).</strong>"
      ],
      "text/plain": [
       "<IPython.core.display.HTML object>"
      ]
     },
     "metadata": {},
     "output_type": "display_data"
    },
    {
     "data": {
      "text/html": [
       "<style>\n",
       "    table.wandb td:nth-child(1) { padding: 0 10px; text-align: left ; width: auto;} td:nth-child(2) {text-align: left ; width: 100%}\n",
       "    .wandb-row { display: flex; flex-direction: row; flex-wrap: wrap; justify-content: flex-start; width: 100% }\n",
       "    .wandb-col { display: flex; flex-direction: column; flex-basis: 100%; flex: 1; padding: 10px; }\n",
       "    </style>\n",
       "<div class=\"wandb-row\"><div class=\"wandb-col\"><h3>Run history:</h3><br/><table class=\"wandb\"><tr><td>algonauts_train_lh_corr</td><td>▃▇▆▇▇▅▅▅▃█▇▅▄▃▄▆█▅▆▆▆▅▁▆▅▄▄▄▆▅▄▄▄▇▄▅▇▅▆▃</td></tr><tr><td>algonauts_train_rh_corr</td><td>▃▇▇▇▇▃▄▇▅█▇▆▄▃▅▅▆▄▆▇▅▅▁▆▅▅▅▅▅▇▄▆▄▆▄▄█▆▇▃</td></tr><tr><td>algonauts_val_lh_corr</td><td>▁▆▄▁▃▃▄▃▆▃▅▂▆▃▃▅▄▃▄▅▆▄▄▅▂▂█▃▅▇▆▄▁▁▃▅▃▅▆▆</td></tr><tr><td>algonauts_val_rh_corr</td><td>▁▆▅▁▃▄▅▃▆▃▄▃▅▄▃▇▅▃▆▆█▆▆▆▃▃█▄▄▆▇▆▂▂▅▆▆▄▆▅</td></tr><tr><td>train_cat_loss</td><td>█▂▁▁▁▁▁▁▁▁▁▁▁▁▁▁▁▁▁▁▁▁▁▁▁▁▁▁▁▁▁▁▁▁▁▁▁▁▁▁</td></tr><tr><td>train_lh_corr</td><td>▁▃▃▅▅▄▄▅▄▇▆▅▆▇▆▆▅▇▆▇▇▆▆▆▆▆▇▆▇▇▆▇▇▇▆▇█▇▇▇</td></tr><tr><td>train_lh_loss</td><td>█▃▄▂▃▃▂▃▃▃▂▁▃▂▂▂▁▂▂▃▂▂▂▁▁▂▂▃▂▂▂▂▂▂▁▂▁▂▂▂</td></tr><tr><td>train_loss</td><td>█▂▂▂▂▂▂▂▂▂▁▁▂▁▁▂▁▂▁▂▁▁▁▁▁▁▁▂▁▁▁▁▁▁▁▁▁▁▁▁</td></tr><tr><td>train_rh_corr</td><td>▁▂▄▅▅▄▄▅▆▇▆▅▆▇▆▆▅▇▆▇▇▆▆▇▇█▇▇▇█▇█▇▇▆█████</td></tr><tr><td>train_rh_loss</td><td>█▃▅▃▃▃▃▃▃▃▂▂▃▂▂▂▂▃▃▃▂▃▂▁▂▂▂▃▂▂▂▂▂▂▂▂▁▂▂▃</td></tr><tr><td>val_cat_loss</td><td>█▁▁▁▁▁▁▁▁▁▁▁▁▁▁▂▁▁▁▂▁▁▁▁▁▁▂▁▁▁▁▁▂▂▁▁▁▂▁▁</td></tr><tr><td>val_lh_corr</td><td>▁▃▄▄▅▄▄▇▇▅▆▄▅▅▅▅▅▄▆▄▁▄▃▆▁▃█▆▄▃▅▆▃▄▅▂▄▃▁▆</td></tr><tr><td>val_lh_loss</td><td>█▁▄▁▃▁▂▃▁▃▂▂▁▃▃▃▃▂▁▂▃▂▂▂▆▂▂▂▃▃▃▃▃▂▂▅▂▄▅▃</td></tr><tr><td>val_loss</td><td>█▁▁▁▁▁▁▁▁▁▁▁▁▂▁▂▁▂▁▁▁▁▁▁▂▁▂▁▁▂▁▁▂▂▁▂▁▂▂▂</td></tr><tr><td>val_rh_corr</td><td>▂▃▅▄▅▅▅▇▇▅▇▄▆▆▆▇▇▅▇▅▂▅▄▇▂▄█▆▅▃▆▆▄▅▅▃▄▅▁▆</td></tr><tr><td>val_rh_loss</td><td>█▁▄▁▂▁▂▄▂▃▂▂▁▄▃▃▂▃▁▂▃▂▃▂▇▂▃▂▄▃▃▄▂▂▃▆▃▄▅▄</td></tr></table><br/></div><div class=\"wandb-col\"><h3>Run summary:</h3><br/><table class=\"wandb\"><tr><td>algonauts_train_lh_corr</td><td>0.19919</td></tr><tr><td>algonauts_train_rh_corr</td><td>0.19746</td></tr><tr><td>algonauts_val_lh_corr</td><td>0.2964</td></tr><tr><td>algonauts_val_rh_corr</td><td>0.25735</td></tr><tr><td>train_cat_loss</td><td>2.17574</td></tr><tr><td>train_lh_corr</td><td>0.43572</td></tr><tr><td>train_lh_loss</td><td>0.52314</td></tr><tr><td>train_loss</td><td>0.68536</td></tr><tr><td>train_rh_corr</td><td>0.42362</td></tr><tr><td>train_rh_loss</td><td>0.51638</td></tr><tr><td>val_cat_loss</td><td>3.83478</td></tr><tr><td>val_lh_corr</td><td>0.17321</td></tr><tr><td>val_lh_loss</td><td>0.61759</td></tr><tr><td>val_loss</td><td>0.95167</td></tr><tr><td>val_rh_corr</td><td>0.14637</td></tr><tr><td>val_rh_loss</td><td>0.64505</td></tr></table><br/></div></div>"
      ],
      "text/plain": [
       "<IPython.core.display.HTML object>"
      ]
     },
     "metadata": {},
     "output_type": "display_data"
    },
    {
     "data": {
      "text/html": [
       " View run <strong style=\"color:#cdcd00\">ruby-fire-158</strong> at: <a href='https://wandb.ai/syrkis/neuroscope/runs/qvevdo8d' target=\"_blank\">https://wandb.ai/syrkis/neuroscope/runs/qvevdo8d</a><br/>Synced 5 W&B file(s), 0 media file(s), 0 artifact file(s) and 0 other file(s)"
      ],
      "text/plain": [
       "<IPython.core.display.HTML object>"
      ]
     },
     "metadata": {},
     "output_type": "display_data"
    },
    {
     "data": {
      "text/html": [
       "Find logs at: <code>./wandb/run-20230603_225322-qvevdo8d/logs</code>"
      ],
      "text/plain": [
       "<IPython.core.display.HTML object>"
      ]
     },
     "metadata": {},
     "output_type": "display_data"
    },
    {
     "data": {
      "text/html": [
       "Tracking run with wandb version 0.15.3"
      ],
      "text/plain": [
       "<IPython.core.display.HTML object>"
      ]
     },
     "metadata": {},
     "output_type": "display_data"
    },
    {
     "data": {
      "text/html": [
       "Run data is saved locally in <code>/home/nobr/neuroscope/wandb/run-20230603_225514-js5pwxq2</code>"
      ],
      "text/plain": [
       "<IPython.core.display.HTML object>"
      ]
     },
     "metadata": {},
     "output_type": "display_data"
    },
    {
     "data": {
      "text/html": [
       "Syncing run <strong><a href='https://wandb.ai/syrkis/neuroscope/runs/js5pwxq2' target=\"_blank\">driven-tree-159</a></strong> to <a href='https://wandb.ai/syrkis/neuroscope' target=\"_blank\">Weights & Biases</a> (<a href='https://wandb.me/run' target=\"_blank\">docs</a>)<br/>"
      ],
      "text/plain": [
       "<IPython.core.display.HTML object>"
      ]
     },
     "metadata": {},
     "output_type": "display_data"
    },
    {
     "data": {
      "text/html": [
       " View project at <a href='https://wandb.ai/syrkis/neuroscope' target=\"_blank\">https://wandb.ai/syrkis/neuroscope</a>"
      ],
      "text/plain": [
       "<IPython.core.display.HTML object>"
      ]
     },
     "metadata": {},
     "output_type": "display_data"
    },
    {
     "data": {
      "text/html": [
       " View run at <a href='https://wandb.ai/syrkis/neuroscope/runs/js5pwxq2' target=\"_blank\">https://wandb.ai/syrkis/neuroscope/runs/js5pwxq2</a>"
      ],
      "text/plain": [
       "<IPython.core.display.HTML object>"
      ]
     },
     "metadata": {},
     "output_type": "display_data"
    },
    {
     "name": "stderr",
     "output_type": "stream",
     "text": [
      "100%|██████████| 6000/6000 [02:06<00:00, 47.53it/s]\n"
     ]
    },
    {
     "data": {
      "text/html": [
       "Waiting for W&B process to finish... <strong style=\"color:green\">(success).</strong>"
      ],
      "text/plain": [
       "<IPython.core.display.HTML object>"
      ]
     },
     "metadata": {},
     "output_type": "display_data"
    },
    {
     "data": {
      "text/html": [
       "<style>\n",
       "    table.wandb td:nth-child(1) { padding: 0 10px; text-align: left ; width: auto;} td:nth-child(2) {text-align: left ; width: 100%}\n",
       "    .wandb-row { display: flex; flex-direction: row; flex-wrap: wrap; justify-content: flex-start; width: 100% }\n",
       "    .wandb-col { display: flex; flex-direction: column; flex-basis: 100%; flex: 1; padding: 10px; }\n",
       "    </style>\n",
       "<div class=\"wandb-row\"><div class=\"wandb-col\"><h3>Run history:</h3><br/><table class=\"wandb\"><tr><td>algonauts_train_lh_corr</td><td>▇█▄▆▁▃▆▆▅▅▇▅██▆▄▇▇█▅▅▆▆▅▄▅▇▆▅▅▆▆▅▆▇▇▆▆▇▄</td></tr><tr><td>algonauts_train_rh_corr</td><td>▇▇▃▆▁▁▄▆▄▅▆▄█▇▅▃▅▆█▅▄▅▅▄▅▅▇▅▅▆▅▅▅▄▇▆▅▄▅▄</td></tr><tr><td>algonauts_val_lh_corr</td><td>▅▅▃▃▄▅▃▅▅▅▃▁▂▄▄▅▃▃▅▅▂▃▅▁▆▇▃▄▆▄▂█▃▄▁▇▇▃▆▂</td></tr><tr><td>algonauts_val_rh_corr</td><td>▆█▅▆▄▆▃▅▇▄▃▃▃▇▅▆▃▆▆▆▃▂▆▃▇█▁█▇▆▁▆▁▆▂▇▇▄█▂</td></tr><tr><td>train_cat_loss</td><td>█▁▁▁▁▁▁▁▁▁▁▁▁▂▁▁▁▁▁▁▁▁▁▁▁▁▁▁▁▁▁▁▁▁▁▁▁▁▁▁</td></tr><tr><td>train_lh_corr</td><td>▁▃▃▄▃▂▅▅▄▅▅▅▆▆▆▅▇▆▆▆▆▇▆▆▇██▆▇▆▆▇▆▆█▆▅▇█▇</td></tr><tr><td>train_lh_loss</td><td>█▃▃▃▄▄▃▃▄▂▂▂▂▂▂▃▃▃▂▂▃▃▃▂▂▁▂▂▄▂▂▂▁▂▂▃▂▃▂▂</td></tr><tr><td>train_loss</td><td>█▂▂▁▂▂▂▂▂▁▁▁▁▂▁▁▁▁▁▁▂▁▂▁▁▁▁▁▁▁▁▁▁▁▁▁▁▁▁▁</td></tr><tr><td>train_rh_corr</td><td>▁▃▃▄▃▁▄▅▅▅▆▄▆▆▅▅▇▇▆▆▆▇▆▆▇██▆▇▆▆▇▆▇█▇▆▇█▇</td></tr><tr><td>train_rh_loss</td><td>█▃▃▃▄▄▃▃▃▂▂▂▂▂▃▃▂▂▂▂▃▃▃▂▂▁▂▂▄▂▂▂▁▂▁▃▁▂▂▂</td></tr><tr><td>val_cat_loss</td><td>█▁▁▁▁▁▁▁▁▁▁▁▁▁▁▁▁▁▁▁▁▂▂▁▁▂▂▁▂▂▂▁▂▂▁▁▂▁▂▁</td></tr><tr><td>val_lh_corr</td><td>▁▃▃▄▅▅▃▃▄▄▃▃▃▃▄▃▅▁▆▄▂▂▅▃▅▆▂▄▆▅▃▅▁▁▁█▄▄▂▄</td></tr><tr><td>val_lh_loss</td><td>█▄▃▂▂▁▃▃▁▃▂▃▂▄▂▂▃▅▃▁▄▃▁▃▄▂▃▂▂▂▄▄▄▃▄▃▂▃▅▃</td></tr><tr><td>val_loss</td><td>█▂▁▁▁▁▂▂▁▂▁▂▁▂▁▁▂▂▂▁▂▂▂▂▂▂▂▁▂▂▂▂▂▂▂▂▂▂▂▂</td></tr><tr><td>val_rh_corr</td><td>▁▃▄▆▆▅▄▃▅▃▃▄▄▄▅▄▅▁▇▆▂▂▅▂▅▇▁▅▇▆▃▆▁▂▁█▂▅▃▅</td></tr><tr><td>val_rh_loss</td><td>█▅▃▂▃▂▄▄▂▃▂▄▃▄▂▃▃▅▃▁▄▄▂▄▄▃▃▃▂▃▅▅▄▄▄▄▃▃▅▃</td></tr></table><br/></div><div class=\"wandb-col\"><h3>Run summary:</h3><br/><table class=\"wandb\"><tr><td>algonauts_train_lh_corr</td><td>0.19273</td></tr><tr><td>algonauts_train_rh_corr</td><td>0.19112</td></tr><tr><td>algonauts_val_lh_corr</td><td>0.19597</td></tr><tr><td>algonauts_val_rh_corr</td><td>0.17762</td></tr><tr><td>train_cat_loss</td><td>2.36058</td></tr><tr><td>train_lh_corr</td><td>0.37764</td></tr><tr><td>train_lh_loss</td><td>0.48308</td></tr><tr><td>train_loss</td><td>0.66935</td></tr><tr><td>train_rh_corr</td><td>0.41298</td></tr><tr><td>train_rh_loss</td><td>0.4798</td></tr><tr><td>val_cat_loss</td><td>3.57082</td></tr><tr><td>val_lh_corr</td><td>0.11589</td></tr><tr><td>val_lh_loss</td><td>0.60589</td></tr><tr><td>val_loss</td><td>0.903</td></tr><tr><td>val_rh_corr</td><td>0.12575</td></tr><tr><td>val_rh_loss</td><td>0.60725</td></tr></table><br/></div></div>"
      ],
      "text/plain": [
       "<IPython.core.display.HTML object>"
      ]
     },
     "metadata": {},
     "output_type": "display_data"
    },
    {
     "data": {
      "text/html": [
       " View run <strong style=\"color:#cdcd00\">driven-tree-159</strong> at: <a href='https://wandb.ai/syrkis/neuroscope/runs/js5pwxq2' target=\"_blank\">https://wandb.ai/syrkis/neuroscope/runs/js5pwxq2</a><br/>Synced 5 W&B file(s), 0 media file(s), 0 artifact file(s) and 0 other file(s)"
      ],
      "text/plain": [
       "<IPython.core.display.HTML object>"
      ]
     },
     "metadata": {},
     "output_type": "display_data"
    },
    {
     "data": {
      "text/html": [
       "Find logs at: <code>./wandb/run-20230603_225514-js5pwxq2/logs</code>"
      ],
      "text/plain": [
       "<IPython.core.display.HTML object>"
      ]
     },
     "metadata": {},
     "output_type": "display_data"
    },
    {
     "data": {
      "text/html": [
       "Tracking run with wandb version 0.15.3"
      ],
      "text/plain": [
       "<IPython.core.display.HTML object>"
      ]
     },
     "metadata": {},
     "output_type": "display_data"
    },
    {
     "data": {
      "text/html": [
       "Run data is saved locally in <code>/home/nobr/neuroscope/wandb/run-20230603_225727-ku4w3y9k</code>"
      ],
      "text/plain": [
       "<IPython.core.display.HTML object>"
      ]
     },
     "metadata": {},
     "output_type": "display_data"
    },
    {
     "data": {
      "text/html": [
       "Syncing run <strong><a href='https://wandb.ai/syrkis/neuroscope/runs/ku4w3y9k' target=\"_blank\">dutiful-glade-160</a></strong> to <a href='https://wandb.ai/syrkis/neuroscope' target=\"_blank\">Weights & Biases</a> (<a href='https://wandb.me/run' target=\"_blank\">docs</a>)<br/>"
      ],
      "text/plain": [
       "<IPython.core.display.HTML object>"
      ]
     },
     "metadata": {},
     "output_type": "display_data"
    },
    {
     "data": {
      "text/html": [
       " View project at <a href='https://wandb.ai/syrkis/neuroscope' target=\"_blank\">https://wandb.ai/syrkis/neuroscope</a>"
      ],
      "text/plain": [
       "<IPython.core.display.HTML object>"
      ]
     },
     "metadata": {},
     "output_type": "display_data"
    },
    {
     "data": {
      "text/html": [
       " View run at <a href='https://wandb.ai/syrkis/neuroscope/runs/ku4w3y9k' target=\"_blank\">https://wandb.ai/syrkis/neuroscope/runs/ku4w3y9k</a>"
      ],
      "text/plain": [
       "<IPython.core.display.HTML object>"
      ]
     },
     "metadata": {},
     "output_type": "display_data"
    },
    {
     "name": "stderr",
     "output_type": "stream",
     "text": [
      " 94%|█████████▍| 5628/6000 [01:38<00:04, 79.47it/s]"
     ]
    }
   ],
   "source": [
    "params_lst = train(data, config)"
   ]
  }
 ],
 "metadata": {
  "kernelspec": {
   "display_name": "Python 3 (ipykernel)",
   "language": "python",
   "name": "python3"
  },
  "language_info": {
   "codemirror_mode": {
    "name": "ipython",
    "version": 3
   },
   "file_extension": ".py",
   "mimetype": "text/x-python",
   "name": "python",
   "nbconvert_exporter": "python",
   "pygments_lexer": "ipython3",
   "version": "3.11.3"
  },
  "orig_nbformat": 4
 },
 "nbformat": 4,
 "nbformat_minor": 2
}
