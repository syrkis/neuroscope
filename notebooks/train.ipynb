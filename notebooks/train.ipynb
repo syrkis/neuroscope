{
 "cells": [
  {
   "attachments": {},
   "cell_type": "markdown",
   "metadata": {},
   "source": [
    "# Neuroscape playground"
   ]
  },
  {
   "cell_type": "code",
   "execution_count": null,
   "metadata": {},
   "outputs": [],
   "source": []
  },
  {
   "cell_type": "code",
   "execution_count": 1,
   "metadata": {},
   "outputs": [],
   "source": [
    "import jax\n",
    "import numpy as np\n",
    "from src.data import get_data\n",
    "from src.utils import get_args_and_config\n",
    "from src.train import train\n",
    "from src.model import forward\n",
    "from src.eval import pearsons_corr"
   ]
  },
  {
   "attachments": {},
   "cell_type": "markdown",
   "metadata": {},
   "source": [
    "## data"
   ]
  },
  {
   "cell_type": "code",
   "execution_count": 2,
   "metadata": {},
   "outputs": [
    {
     "name": "stderr",
     "output_type": "stream",
     "text": [
      "100%|██████████| 2/2 [00:17<00:00,  8.73s/it]\n",
      "\u001b[34m\u001b[1mwandb\u001b[0m: Currently logged in as: \u001b[33msyrkis\u001b[0m. Use \u001b[1m`wandb login --relogin`\u001b[0m to force relogin\n"
     ]
    },
    {
     "data": {
      "text/html": [
       "Tracking run with wandb version 0.15.3"
      ],
      "text/plain": [
       "<IPython.core.display.HTML object>"
      ]
     },
     "metadata": {},
     "output_type": "display_data"
    },
    {
     "data": {
      "text/html": [
       "Run data is saved locally in <code>/home/nobr/neuroscope/wandb/run-20230603_110731-mj7kisom</code>"
      ],
      "text/plain": [
       "<IPython.core.display.HTML object>"
      ]
     },
     "metadata": {},
     "output_type": "display_data"
    },
    {
     "data": {
      "text/html": [
       "Syncing run <strong><a href='https://wandb.ai/syrkis/neuroscope/runs/mj7kisom' target=\"_blank\">stellar-morning-72</a></strong> to <a href='https://wandb.ai/syrkis/neuroscope' target=\"_blank\">Weights & Biases</a> (<a href='https://wandb.me/run' target=\"_blank\">docs</a>)<br/>"
      ],
      "text/plain": [
       "<IPython.core.display.HTML object>"
      ]
     },
     "metadata": {},
     "output_type": "display_data"
    },
    {
     "data": {
      "text/html": [
       " View project at <a href='https://wandb.ai/syrkis/neuroscope' target=\"_blank\">https://wandb.ai/syrkis/neuroscope</a>"
      ],
      "text/plain": [
       "<IPython.core.display.HTML object>"
      ]
     },
     "metadata": {},
     "output_type": "display_data"
    },
    {
     "data": {
      "text/html": [
       " View run at <a href='https://wandb.ai/syrkis/neuroscope/runs/mj7kisom' target=\"_blank\">https://wandb.ai/syrkis/neuroscope/runs/mj7kisom</a>"
      ],
      "text/plain": [
       "<IPython.core.display.HTML object>"
      ]
     },
     "metadata": {},
     "output_type": "display_data"
    },
    {
     "name": "stderr",
     "output_type": "stream",
     "text": [
      "100%|██████████| 1000/1000 [00:50<00:00, 19.95it/s]\n"
     ]
    },
    {
     "data": {
      "text/html": [
       "Waiting for W&B process to finish... <strong style=\"color:green\">(success).</strong>"
      ],
      "text/plain": [
       "<IPython.core.display.HTML object>"
      ]
     },
     "metadata": {},
     "output_type": "display_data"
    },
    {
     "data": {
      "text/html": [
       "<style>\n",
       "    table.wandb td:nth-child(1) { padding: 0 10px; text-align: left ; width: auto;} td:nth-child(2) {text-align: left ; width: 100%}\n",
       "    .wandb-row { display: flex; flex-direction: row; flex-wrap: wrap; justify-content: flex-start; width: 100% }\n",
       "    .wandb-col { display: flex; flex-direction: column; flex-basis: 100%; flex: 1; padding: 10px; }\n",
       "    </style>\n",
       "<div class=\"wandb-row\"><div class=\"wandb-col\"><h3>Run history:</h3><br/><table class=\"wandb\"><tr><td>train_cat_loss</td><td>█▆▂▁▁▁▁▁▁▁▁▁▁▁▁▁▁▁▁▁▁▁▁▁▁▁▁▁▁▁▁▁▁▁▁▁▁▁▁▁</td></tr><tr><td>train_lh_loss</td><td>▇▄▅▁▁▄▄▅▅▃▂▅█▅▄▃▇▂▄▄▄▃▄▄▂▇▆▃▆▅▅▄▆▄▇▃▆▃▇▇</td></tr><tr><td>train_loss</td><td>█▅▄▂▂▃▃▄▂▂▂▂▄▂▃▂▄▁▂▂▂▂▂▂▂▃▂▂▃▃▁▂▂▁▂▂▃▁▃▂</td></tr><tr><td>train_rh_loss</td><td>█▃▆▂▂▅▆▇▄▃▃▃█▃▅▄█▁▃▄▂▃▂▃▃▆▄▂▄▅▂▃▃▂▃▃▄▂▅▃</td></tr><tr><td>val_cat_loss</td><td>█▆▁▁▁▁▁▁▁▁▂▁▁▁▁▁▁▁▁▁▁▁▁▁▁▁▁▂▂▁▁▁▁▁▁▁▁▁▁▁</td></tr><tr><td>val_lh_loss</td><td>▅▅▆▇▃▃▅▇▃▄▆▄▅▄▅█▂▆▄▃▁▂▅▆▂▂▄▇▄▄▂▃▅▃▂▁▅▂▅▄</td></tr><tr><td>val_loss</td><td>█▆▃▅▂▃▃▄▂▃▃▂▃▂▃▅▁▄▃▂▂▂▃▃▃▂▂▄▃▃▂▂▃▂▁▂▄▂▂▃</td></tr><tr><td>val_rh_loss</td><td>▇▅▅█▃▄▅▆▃▅▄▃▅▃▆█▁▆▅▃▂▃▅▄▅▃▃▆▄▄▃▃▅▄▂▃▇▃▄▅</td></tr></table><br/></div><div class=\"wandb-col\"><h3>Run summary:</h3><br/><table class=\"wandb\"><tr><td>train_cat_loss</td><td>3.18347</td></tr><tr><td>train_lh_loss</td><td>0.5841</td></tr><tr><td>train_loss</td><td>0.5099</td></tr><tr><td>train_rh_loss</td><td>0.48289</td></tr><tr><td>val_cat_loss</td><td>2.96433</td></tr><tr><td>val_lh_loss</td><td>0.54006</td></tr><tr><td>val_loss</td><td>0.55282</td></tr><tr><td>val_rh_loss</td><td>0.52847</td></tr></table><br/></div></div>"
      ],
      "text/plain": [
       "<IPython.core.display.HTML object>"
      ]
     },
     "metadata": {},
     "output_type": "display_data"
    },
    {
     "data": {
      "text/html": [
       " View run <strong style=\"color:#cdcd00\">stellar-morning-72</strong> at: <a href='https://wandb.ai/syrkis/neuroscope/runs/mj7kisom' target=\"_blank\">https://wandb.ai/syrkis/neuroscope/runs/mj7kisom</a><br/>Synced 5 W&B file(s), 0 media file(s), 0 artifact file(s) and 0 other file(s)"
      ],
      "text/plain": [
       "<IPython.core.display.HTML object>"
      ]
     },
     "metadata": {},
     "output_type": "display_data"
    },
    {
     "data": {
      "text/html": [
       "Find logs at: <code>./wandb/run-20230603_110731-mj7kisom/logs</code>"
      ],
      "text/plain": [
       "<IPython.core.display.HTML object>"
      ]
     },
     "metadata": {},
     "output_type": "display_data"
    },
    {
     "data": {
      "text/html": [
       "Tracking run with wandb version 0.15.3"
      ],
      "text/plain": [
       "<IPython.core.display.HTML object>"
      ]
     },
     "metadata": {},
     "output_type": "display_data"
    },
    {
     "data": {
      "text/html": [
       "Run data is saved locally in <code>/home/nobr/neuroscope/wandb/run-20230603_110830-cnkovqk4</code>"
      ],
      "text/plain": [
       "<IPython.core.display.HTML object>"
      ]
     },
     "metadata": {},
     "output_type": "display_data"
    },
    {
     "data": {
      "text/html": [
       "Syncing run <strong><a href='https://wandb.ai/syrkis/neuroscope/runs/cnkovqk4' target=\"_blank\">hearty-mountain-73</a></strong> to <a href='https://wandb.ai/syrkis/neuroscope' target=\"_blank\">Weights & Biases</a> (<a href='https://wandb.me/run' target=\"_blank\">docs</a>)<br/>"
      ],
      "text/plain": [
       "<IPython.core.display.HTML object>"
      ]
     },
     "metadata": {},
     "output_type": "display_data"
    },
    {
     "data": {
      "text/html": [
       " View project at <a href='https://wandb.ai/syrkis/neuroscope' target=\"_blank\">https://wandb.ai/syrkis/neuroscope</a>"
      ],
      "text/plain": [
       "<IPython.core.display.HTML object>"
      ]
     },
     "metadata": {},
     "output_type": "display_data"
    },
    {
     "data": {
      "text/html": [
       " View run at <a href='https://wandb.ai/syrkis/neuroscope/runs/cnkovqk4' target=\"_blank\">https://wandb.ai/syrkis/neuroscope/runs/cnkovqk4</a>"
      ],
      "text/plain": [
       "<IPython.core.display.HTML object>"
      ]
     },
     "metadata": {},
     "output_type": "display_data"
    },
    {
     "name": "stderr",
     "output_type": "stream",
     "text": [
      "100%|██████████| 1000/1000 [00:42<00:00, 23.55it/s]\n"
     ]
    },
    {
     "data": {
      "text/html": [
       "Waiting for W&B process to finish... <strong style=\"color:green\">(success).</strong>"
      ],
      "text/plain": [
       "<IPython.core.display.HTML object>"
      ]
     },
     "metadata": {},
     "output_type": "display_data"
    },
    {
     "data": {
      "text/html": [
       "<style>\n",
       "    table.wandb td:nth-child(1) { padding: 0 10px; text-align: left ; width: auto;} td:nth-child(2) {text-align: left ; width: 100%}\n",
       "    .wandb-row { display: flex; flex-direction: row; flex-wrap: wrap; justify-content: flex-start; width: 100% }\n",
       "    .wandb-col { display: flex; flex-direction: column; flex-basis: 100%; flex: 1; padding: 10px; }\n",
       "    </style>\n",
       "<div class=\"wandb-row\"><div class=\"wandb-col\"><h3>Run history:</h3><br/><table class=\"wandb\"><tr><td>train_cat_loss</td><td>█▆▂▁▂▁▁▁▁▁▁▁▁▂▁▁▁▁▂▁▁▁▁▁▁▁▁▁▁▁▁▁▁▁▁▁▁▁▁▁</td></tr><tr><td>train_lh_loss</td><td>▅▃▃▅▄▂▄▃▄▃▄▆▄▂▃▁▅▄▂█▄▂▄▄▃▃▃▃▄▄▄▄▅▄▅▂▅▃▄▄</td></tr><tr><td>train_loss</td><td>█▅▃▃▄▃▃▃▃▃▃▄▃▃▃▂▄▃▂▅▃▁▃▂▂▃▂▂▃▂▃▃▃▃▃▁▃▂▃▂</td></tr><tr><td>train_rh_loss</td><td>█▄▄▅▅▄▅▅▅▄▄▆▄▃▄▂▆▅▂█▄▁▅▃▃▄▃▃▄▃▄▄▅▄▅▂▄▃▄▃</td></tr><tr><td>val_cat_loss</td><td>█▆▂▁▁▁▁▁▁▁▁▁▁▁▁▁▁▁▁▁▁▁▁▂▂▁▁▁▁▁▁▁▁▁▁▁▁▁▁▁</td></tr><tr><td>val_lh_loss</td><td>▇▄▅▄▃▄▄▄▅▃▅▄▃█▂▄█▄▇▂▄▇▃▆▄▁▅▂▄▃▅▃▄▅▂▇▃▂▃▅</td></tr><tr><td>val_loss</td><td>█▅▃▃▁▂▂▂▃▂▃▃▂▅▂▂▆▂▄▁▃▄▂▃▃▁▃▁▂▃▃▂▂▃▂▃▂▂▂▃</td></tr><tr><td>val_rh_loss</td><td>▆▃▃▅▁▃▃▃▄▂▄▄▃█▂▂█▂▅▁▃▅▂▄▄▁▄▂▃▄▄▂▃▃▂▅▃▂▃▄</td></tr></table><br/></div><div class=\"wandb-col\"><h3>Run summary:</h3><br/><table class=\"wandb\"><tr><td>train_cat_loss</td><td>3.21621</td></tr><tr><td>train_lh_loss</td><td>0.553</td></tr><tr><td>train_loss</td><td>0.48954</td></tr><tr><td>train_rh_loss</td><td>0.462</td></tr><tr><td>val_cat_loss</td><td>3.24743</td></tr><tr><td>val_lh_loss</td><td>0.56194</td></tr><tr><td>val_loss</td><td>0.56638</td></tr><tr><td>val_rh_loss</td><td>0.5393</td></tr></table><br/></div></div>"
      ],
      "text/plain": [
       "<IPython.core.display.HTML object>"
      ]
     },
     "metadata": {},
     "output_type": "display_data"
    },
    {
     "data": {
      "text/html": [
       " View run <strong style=\"color:#cdcd00\">hearty-mountain-73</strong> at: <a href='https://wandb.ai/syrkis/neuroscope/runs/cnkovqk4' target=\"_blank\">https://wandb.ai/syrkis/neuroscope/runs/cnkovqk4</a><br/>Synced 5 W&B file(s), 0 media file(s), 0 artifact file(s) and 0 other file(s)"
      ],
      "text/plain": [
       "<IPython.core.display.HTML object>"
      ]
     },
     "metadata": {},
     "output_type": "display_data"
    },
    {
     "data": {
      "text/html": [
       "Find logs at: <code>./wandb/run-20230603_110830-cnkovqk4/logs</code>"
      ],
      "text/plain": [
       "<IPython.core.display.HTML object>"
      ]
     },
     "metadata": {},
     "output_type": "display_data"
    },
    {
     "data": {
      "text/html": [
       "Tracking run with wandb version 0.15.3"
      ],
      "text/plain": [
       "<IPython.core.display.HTML object>"
      ]
     },
     "metadata": {},
     "output_type": "display_data"
    },
    {
     "data": {
      "text/html": [
       "Run data is saved locally in <code>/home/nobr/neuroscope/wandb/run-20230603_110919-w4k0mflf</code>"
      ],
      "text/plain": [
       "<IPython.core.display.HTML object>"
      ]
     },
     "metadata": {},
     "output_type": "display_data"
    },
    {
     "data": {
      "text/html": [
       "Syncing run <strong><a href='https://wandb.ai/syrkis/neuroscope/runs/w4k0mflf' target=\"_blank\">zesty-gorge-74</a></strong> to <a href='https://wandb.ai/syrkis/neuroscope' target=\"_blank\">Weights & Biases</a> (<a href='https://wandb.me/run' target=\"_blank\">docs</a>)<br/>"
      ],
      "text/plain": [
       "<IPython.core.display.HTML object>"
      ]
     },
     "metadata": {},
     "output_type": "display_data"
    },
    {
     "data": {
      "text/html": [
       " View project at <a href='https://wandb.ai/syrkis/neuroscope' target=\"_blank\">https://wandb.ai/syrkis/neuroscope</a>"
      ],
      "text/plain": [
       "<IPython.core.display.HTML object>"
      ]
     },
     "metadata": {},
     "output_type": "display_data"
    },
    {
     "data": {
      "text/html": [
       " View run at <a href='https://wandb.ai/syrkis/neuroscope/runs/w4k0mflf' target=\"_blank\">https://wandb.ai/syrkis/neuroscope/runs/w4k0mflf</a>"
      ],
      "text/plain": [
       "<IPython.core.display.HTML object>"
      ]
     },
     "metadata": {},
     "output_type": "display_data"
    },
    {
     "name": "stderr",
     "output_type": "stream",
     "text": [
      "100%|██████████| 1000/1000 [00:42<00:00, 23.65it/s]\n"
     ]
    },
    {
     "data": {
      "text/html": [
       "Waiting for W&B process to finish... <strong style=\"color:green\">(success).</strong>"
      ],
      "text/plain": [
       "<IPython.core.display.HTML object>"
      ]
     },
     "metadata": {},
     "output_type": "display_data"
    },
    {
     "data": {
      "text/html": [
       "<style>\n",
       "    table.wandb td:nth-child(1) { padding: 0 10px; text-align: left ; width: auto;} td:nth-child(2) {text-align: left ; width: 100%}\n",
       "    .wandb-row { display: flex; flex-direction: row; flex-wrap: wrap; justify-content: flex-start; width: 100% }\n",
       "    .wandb-col { display: flex; flex-direction: column; flex-basis: 100%; flex: 1; padding: 10px; }\n",
       "    </style>\n",
       "<div class=\"wandb-row\"><div class=\"wandb-col\"><h3>Run history:</h3><br/><table class=\"wandb\"><tr><td>train_cat_loss</td><td>█▆▂▁▁▁▁▁▁▁▁▁▁▁▁▁▁▁▁▁▁▁▂▁▂▁▁▁▁▁▁▁▁▁▁▁▁▁▂▁</td></tr><tr><td>train_lh_loss</td><td>▅▅▂▆▅▄▄▅▃▃▅█▄▇▁▃▂▅▅▇█▇▄▅▄▆▄▃▄▄▇▅▅▃▇▅▆▅▄▂</td></tr><tr><td>train_loss</td><td>█▆▃▃▃▄▃▄▂▄▄▅▃▄▂▃▂▃▄▆▄▄▂▃▃▃▂▂▂▂▅▂▂▂▃▃▂▃▂▁</td></tr><tr><td>train_rh_loss</td><td>▇▆▃▄▅▅▅▅▂▅▅▇▄▅▂▄▃▄▅█▆▅▃▄▄▄▃▃▃▃▇▃▃▂▄▄▃▃▂▁</td></tr><tr><td>val_cat_loss</td><td>█▆▂▁▁▁▁▂▁▁▁▁▁▁▂▁▁▁▁▁▁▁▁▁▁▁▁▁▁▁▁▁▁▁▁▁▁▁▁▁</td></tr><tr><td>val_lh_loss</td><td>▆▄▂▅▄▄▄▄▁▃▄▁▂▃▄▃▅▄▂▇▄▄▂▅▆▄▄▂▂▄▃▅▄▄▄▃▃▆█▅</td></tr><tr><td>val_loss</td><td>█▄▁▃▂▂▂▂▁▁▂▁▁▂▂▁▃▂▁▃▄▂▁▃▃▃▂▂▁▂▁▃▃▄▂▂▂▄▄▂</td></tr><tr><td>val_rh_loss</td><td>█▃▁▄▄▃▃▃▂▂▃▁▂▄▃▂▄▃▂▆▆▄▁▅▅▄▃▂▁▃▁▅▅▆▃▃▂▇▇▃</td></tr></table><br/></div><div class=\"wandb-col\"><h3>Run summary:</h3><br/><table class=\"wandb\"><tr><td>train_cat_loss</td><td>2.70629</td></tr><tr><td>train_lh_loss</td><td>0.50679</td></tr><tr><td>train_loss</td><td>0.44909</td></tr><tr><td>train_rh_loss</td><td>0.42629</td></tr><tr><td>val_cat_loss</td><td>2.79815</td></tr><tr><td>val_lh_loss</td><td>0.55717</td></tr><tr><td>val_loss</td><td>0.52992</td></tr><tr><td>val_rh_loss</td><td>0.50701</td></tr></table><br/></div></div>"
      ],
      "text/plain": [
       "<IPython.core.display.HTML object>"
      ]
     },
     "metadata": {},
     "output_type": "display_data"
    },
    {
     "data": {
      "text/html": [
       " View run <strong style=\"color:#cdcd00\">zesty-gorge-74</strong> at: <a href='https://wandb.ai/syrkis/neuroscope/runs/w4k0mflf' target=\"_blank\">https://wandb.ai/syrkis/neuroscope/runs/w4k0mflf</a><br/>Synced 5 W&B file(s), 0 media file(s), 0 artifact file(s) and 0 other file(s)"
      ],
      "text/plain": [
       "<IPython.core.display.HTML object>"
      ]
     },
     "metadata": {},
     "output_type": "display_data"
    },
    {
     "data": {
      "text/html": [
       "Find logs at: <code>./wandb/run-20230603_110919-w4k0mflf/logs</code>"
      ],
      "text/plain": [
       "<IPython.core.display.HTML object>"
      ]
     },
     "metadata": {},
     "output_type": "display_data"
    },
    {
     "data": {
      "text/html": [
       "Tracking run with wandb version 0.15.3"
      ],
      "text/plain": [
       "<IPython.core.display.HTML object>"
      ]
     },
     "metadata": {},
     "output_type": "display_data"
    },
    {
     "data": {
      "text/html": [
       "Run data is saved locally in <code>/home/nobr/neuroscope/wandb/run-20230603_111008-fswz80ir</code>"
      ],
      "text/plain": [
       "<IPython.core.display.HTML object>"
      ]
     },
     "metadata": {},
     "output_type": "display_data"
    },
    {
     "data": {
      "text/html": [
       "Syncing run <strong><a href='https://wandb.ai/syrkis/neuroscope/runs/fswz80ir' target=\"_blank\">decent-hill-75</a></strong> to <a href='https://wandb.ai/syrkis/neuroscope' target=\"_blank\">Weights & Biases</a> (<a href='https://wandb.me/run' target=\"_blank\">docs</a>)<br/>"
      ],
      "text/plain": [
       "<IPython.core.display.HTML object>"
      ]
     },
     "metadata": {},
     "output_type": "display_data"
    },
    {
     "data": {
      "text/html": [
       " View project at <a href='https://wandb.ai/syrkis/neuroscope' target=\"_blank\">https://wandb.ai/syrkis/neuroscope</a>"
      ],
      "text/plain": [
       "<IPython.core.display.HTML object>"
      ]
     },
     "metadata": {},
     "output_type": "display_data"
    },
    {
     "data": {
      "text/html": [
       " View run at <a href='https://wandb.ai/syrkis/neuroscope/runs/fswz80ir' target=\"_blank\">https://wandb.ai/syrkis/neuroscope/runs/fswz80ir</a>"
      ],
      "text/plain": [
       "<IPython.core.display.HTML object>"
      ]
     },
     "metadata": {},
     "output_type": "display_data"
    },
    {
     "name": "stderr",
     "output_type": "stream",
     "text": [
      "100%|██████████| 1000/1000 [00:43<00:00, 23.06it/s]\n"
     ]
    },
    {
     "data": {
      "text/html": [
       "Waiting for W&B process to finish... <strong style=\"color:green\">(success).</strong>"
      ],
      "text/plain": [
       "<IPython.core.display.HTML object>"
      ]
     },
     "metadata": {},
     "output_type": "display_data"
    },
    {
     "data": {
      "text/html": [
       "<style>\n",
       "    table.wandb td:nth-child(1) { padding: 0 10px; text-align: left ; width: auto;} td:nth-child(2) {text-align: left ; width: 100%}\n",
       "    .wandb-row { display: flex; flex-direction: row; flex-wrap: wrap; justify-content: flex-start; width: 100% }\n",
       "    .wandb-col { display: flex; flex-direction: column; flex-basis: 100%; flex: 1; padding: 10px; }\n",
       "    </style>\n",
       "<div class=\"wandb-row\"><div class=\"wandb-col\"><h3>Run history:</h3><br/><table class=\"wandb\"><tr><td>train_cat_loss</td><td>█▆▂▁▁▁▁▁▁▁▁▁▁▁▁▁▁▁▁▁▁▁▁▁▁▁▁▁▁▁▁▁▁▁▁▁▁▁▂▂</td></tr><tr><td>train_lh_loss</td><td>▅▃▁▃▄▄▄▄▁▅▄▂▄▇▁▄▅▃▆▆▆▆█▅▅▃▄▄▃▆▅▃▄▃▄▅▄▅▂▄</td></tr><tr><td>train_loss</td><td>█▄▁▂▂▃▃▂▂▃▂▂▃▃▂▃▃▂▃▃▂▄▄▃▃▂▂▂▂▃▂▁▂▁▂▂▂▂▁▁</td></tr><tr><td>train_rh_loss</td><td>█▃▁▃▃▃▄▃▂▄▃▃▄▅▂▄▅▂▄▅▃▅▆▄▄▃▃▂▃▄▂▁▃▁▃▂▃▃▁▁</td></tr><tr><td>val_cat_loss</td><td>█▆▂▂▁▂▁▁▁▁▁▁▁▁▁▁▁▁▁▁▁▁▁▁▁▁▁▁▁▂▁▁▁▁▁▁▁▁▁▁</td></tr><tr><td>val_lh_loss</td><td>▇▄▄▂▃▁▃▅▃▄▅▂▇▁▁▂▇▃▃▂▄▃▃▄▁▆▅▅▂▄▃▅█▂▄▄▃▄▃▂</td></tr><tr><td>val_loss</td><td>█▆▄▃▃▁▃▄▃▄▃▃▅▂▂▂▅▃▃▃▅▃▃▃▂▄▄▂▃▄▂▅▆▁▄▄▂▃▄▃</td></tr><tr><td>val_rh_loss</td><td>▅▃▄▄▄▁▃▅▃▄▃▄▆▂▂▂▆▄▄▄▆▃▄▄▃▅▅▃▄▄▃▇█▁▄▅▂▄▅▃</td></tr></table><br/></div><div class=\"wandb-col\"><h3>Run summary:</h3><br/><table class=\"wandb\"><tr><td>train_cat_loss</td><td>3.40328</td></tr><tr><td>train_lh_loss</td><td>0.55673</td></tr><tr><td>train_loss</td><td>0.49272</td></tr><tr><td>train_rh_loss</td><td>0.46332</td></tr><tr><td>val_cat_loss</td><td>2.98504</td></tr><tr><td>val_lh_loss</td><td>0.52647</td></tr><tr><td>val_loss</td><td>0.53642</td></tr><tr><td>val_rh_loss</td><td>0.51168</td></tr></table><br/></div></div>"
      ],
      "text/plain": [
       "<IPython.core.display.HTML object>"
      ]
     },
     "metadata": {},
     "output_type": "display_data"
    },
    {
     "data": {
      "text/html": [
       " View run <strong style=\"color:#cdcd00\">decent-hill-75</strong> at: <a href='https://wandb.ai/syrkis/neuroscope/runs/fswz80ir' target=\"_blank\">https://wandb.ai/syrkis/neuroscope/runs/fswz80ir</a><br/>Synced 5 W&B file(s), 0 media file(s), 0 artifact file(s) and 0 other file(s)"
      ],
      "text/plain": [
       "<IPython.core.display.HTML object>"
      ]
     },
     "metadata": {},
     "output_type": "display_data"
    },
    {
     "data": {
      "text/html": [
       "Find logs at: <code>./wandb/run-20230603_111008-fswz80ir/logs</code>"
      ],
      "text/plain": [
       "<IPython.core.display.HTML object>"
      ]
     },
     "metadata": {},
     "output_type": "display_data"
    },
    {
     "data": {
      "text/html": [
       "Tracking run with wandb version 0.15.3"
      ],
      "text/plain": [
       "<IPython.core.display.HTML object>"
      ]
     },
     "metadata": {},
     "output_type": "display_data"
    },
    {
     "data": {
      "text/html": [
       "Run data is saved locally in <code>/home/nobr/neuroscope/wandb/run-20230603_111058-s0bguszd</code>"
      ],
      "text/plain": [
       "<IPython.core.display.HTML object>"
      ]
     },
     "metadata": {},
     "output_type": "display_data"
    },
    {
     "data": {
      "text/html": [
       "Syncing run <strong><a href='https://wandb.ai/syrkis/neuroscope/runs/s0bguszd' target=\"_blank\">generous-valley-76</a></strong> to <a href='https://wandb.ai/syrkis/neuroscope' target=\"_blank\">Weights & Biases</a> (<a href='https://wandb.me/run' target=\"_blank\">docs</a>)<br/>"
      ],
      "text/plain": [
       "<IPython.core.display.HTML object>"
      ]
     },
     "metadata": {},
     "output_type": "display_data"
    },
    {
     "data": {
      "text/html": [
       " View project at <a href='https://wandb.ai/syrkis/neuroscope' target=\"_blank\">https://wandb.ai/syrkis/neuroscope</a>"
      ],
      "text/plain": [
       "<IPython.core.display.HTML object>"
      ]
     },
     "metadata": {},
     "output_type": "display_data"
    },
    {
     "data": {
      "text/html": [
       " View run at <a href='https://wandb.ai/syrkis/neuroscope/runs/s0bguszd' target=\"_blank\">https://wandb.ai/syrkis/neuroscope/runs/s0bguszd</a>"
      ],
      "text/plain": [
       "<IPython.core.display.HTML object>"
      ]
     },
     "metadata": {},
     "output_type": "display_data"
    },
    {
     "name": "stderr",
     "output_type": "stream",
     "text": [
      "100%|██████████| 1000/1000 [00:43<00:00, 22.80it/s]\n"
     ]
    },
    {
     "data": {
      "text/html": [
       "Waiting for W&B process to finish... <strong style=\"color:green\">(success).</strong>"
      ],
      "text/plain": [
       "<IPython.core.display.HTML object>"
      ]
     },
     "metadata": {},
     "output_type": "display_data"
    },
    {
     "data": {
      "text/html": [
       "<style>\n",
       "    table.wandb td:nth-child(1) { padding: 0 10px; text-align: left ; width: auto;} td:nth-child(2) {text-align: left ; width: 100%}\n",
       "    .wandb-row { display: flex; flex-direction: row; flex-wrap: wrap; justify-content: flex-start; width: 100% }\n",
       "    .wandb-col { display: flex; flex-direction: column; flex-basis: 100%; flex: 1; padding: 10px; }\n",
       "    </style>\n",
       "<div class=\"wandb-row\"><div class=\"wandb-col\"><h3>Run history:</h3><br/><table class=\"wandb\"><tr><td>train_cat_loss</td><td>█▆▁▁▁▁▁▁▁▁▁▁▁▁▁▁▁▁▁▁▁▁▁▁▁▁▁▁▁▁▁▁▁▁▁▁▁▁▁▁</td></tr><tr><td>train_lh_loss</td><td>█▃▄▂▂▃▃▂▄▅▂▇▅▃▁▆▅▂▅▄▅▂▄▅▆▄▄▅▃▅▅▂▇▅▁▂▅▄▄▅</td></tr><tr><td>train_loss</td><td>█▄▂▂▂▂▂▂▃▃▂▄▃▂▁▃▃▁▃▃▂▃▁▃▂▂▃▂▂▃▃▂▂▁▁▁▂▂▁▂</td></tr><tr><td>train_rh_loss</td><td>█▃▃▂▂▃▃▃▄▅▃▆▅▂▂▅▅▂▄▄▃▄▂▄▃▂▄▂▃▄▄▃▃▂▁▁▃▂▂▃</td></tr><tr><td>val_cat_loss</td><td>█▆▁▂▁▁▁▁▁▁▁▁▁▁▁▁▁▂▁▁▁▁▁▂▁▁▁▁▁▁▁▁▁▁▁▁▁▁▁▁</td></tr><tr><td>val_lh_loss</td><td>▇▄▆▄▅▄▂▂▇▂▃▃▆▃▁▄▄▇▄▅█▇▅▄▄▄▃▁▃▆▄▅▁▅▆▃▅█▂▄</td></tr><tr><td>val_loss</td><td>█▅▄▃▃▃▂▂▅▃▃▃▃▂▁▃▃▄▃▃▄▅▃▃▂▃▄▂▂▃▂▃▁▃▂▂▅▄▃▂</td></tr><tr><td>val_rh_loss</td><td>█▃▆▄▄▅▃▂█▅▅▄▄▃▁▅▄▆▅▅▇█▅▄▃▆▆▃▄▄▄▄▁▅▂▃█▆▅▂</td></tr></table><br/></div><div class=\"wandb-col\"><h3>Run summary:</h3><br/><table class=\"wandb\"><tr><td>train_cat_loss</td><td>3.36653</td></tr><tr><td>train_lh_loss</td><td>0.56362</td></tr><tr><td>train_loss</td><td>0.51205</td></tr><tr><td>train_rh_loss</td><td>0.48322</td></tr><tr><td>val_cat_loss</td><td>3.02007</td></tr><tr><td>val_lh_loss</td><td>0.5404</td></tr><tr><td>val_loss</td><td>0.49265</td></tr><tr><td>val_rh_loss</td><td>0.46712</td></tr></table><br/></div></div>"
      ],
      "text/plain": [
       "<IPython.core.display.HTML object>"
      ]
     },
     "metadata": {},
     "output_type": "display_data"
    },
    {
     "data": {
      "text/html": [
       " View run <strong style=\"color:#cdcd00\">generous-valley-76</strong> at: <a href='https://wandb.ai/syrkis/neuroscope/runs/s0bguszd' target=\"_blank\">https://wandb.ai/syrkis/neuroscope/runs/s0bguszd</a><br/>Synced 5 W&B file(s), 0 media file(s), 0 artifact file(s) and 0 other file(s)"
      ],
      "text/plain": [
       "<IPython.core.display.HTML object>"
      ]
     },
     "metadata": {},
     "output_type": "display_data"
    },
    {
     "data": {
      "text/html": [
       "Find logs at: <code>./wandb/run-20230603_111058-s0bguszd/logs</code>"
      ],
      "text/plain": [
       "<IPython.core.display.HTML object>"
      ]
     },
     "metadata": {},
     "output_type": "display_data"
    },
    {
     "data": {
      "text/html": [
       "Tracking run with wandb version 0.15.3"
      ],
      "text/plain": [
       "<IPython.core.display.HTML object>"
      ]
     },
     "metadata": {},
     "output_type": "display_data"
    },
    {
     "data": {
      "text/html": [
       "Run data is saved locally in <code>/home/nobr/neuroscope/wandb/run-20230603_111151-wzcc5pqi</code>"
      ],
      "text/plain": [
       "<IPython.core.display.HTML object>"
      ]
     },
     "metadata": {},
     "output_type": "display_data"
    },
    {
     "data": {
      "text/html": [
       "Syncing run <strong><a href='https://wandb.ai/syrkis/neuroscope/runs/wzcc5pqi' target=\"_blank\">hopeful-dew-77</a></strong> to <a href='https://wandb.ai/syrkis/neuroscope' target=\"_blank\">Weights & Biases</a> (<a href='https://wandb.me/run' target=\"_blank\">docs</a>)<br/>"
      ],
      "text/plain": [
       "<IPython.core.display.HTML object>"
      ]
     },
     "metadata": {},
     "output_type": "display_data"
    },
    {
     "data": {
      "text/html": [
       " View project at <a href='https://wandb.ai/syrkis/neuroscope' target=\"_blank\">https://wandb.ai/syrkis/neuroscope</a>"
      ],
      "text/plain": [
       "<IPython.core.display.HTML object>"
      ]
     },
     "metadata": {},
     "output_type": "display_data"
    },
    {
     "data": {
      "text/html": [
       " View run at <a href='https://wandb.ai/syrkis/neuroscope/runs/wzcc5pqi' target=\"_blank\">https://wandb.ai/syrkis/neuroscope/runs/wzcc5pqi</a>"
      ],
      "text/plain": [
       "<IPython.core.display.HTML object>"
      ]
     },
     "metadata": {},
     "output_type": "display_data"
    },
    {
     "name": "stderr",
     "output_type": "stream",
     "text": [
      "100%|██████████| 1000/1000 [00:41<00:00, 23.81it/s]\n"
     ]
    },
    {
     "data": {
      "text/html": [
       "Waiting for W&B process to finish... <strong style=\"color:green\">(success).</strong>"
      ],
      "text/plain": [
       "<IPython.core.display.HTML object>"
      ]
     },
     "metadata": {},
     "output_type": "display_data"
    },
    {
     "data": {
      "text/html": [
       "<style>\n",
       "    table.wandb td:nth-child(1) { padding: 0 10px; text-align: left ; width: auto;} td:nth-child(2) {text-align: left ; width: 100%}\n",
       "    .wandb-row { display: flex; flex-direction: row; flex-wrap: wrap; justify-content: flex-start; width: 100% }\n",
       "    .wandb-col { display: flex; flex-direction: column; flex-basis: 100%; flex: 1; padding: 10px; }\n",
       "    </style>\n",
       "<div class=\"wandb-row\"><div class=\"wandb-col\"><h3>Run history:</h3><br/><table class=\"wandb\"><tr><td>train_cat_loss</td><td>█▆▂▁▁▁▁▁▁▁▁▁▁▁▁▁▁▂▁▁▁▁▁▁▁▁▁▁▁▁▁▁▁▁▁▁▁▁▁▁</td></tr><tr><td>train_lh_loss</td><td>▇▄▂▂▂▃▅▆▄▁▅▅▅▄▂▆▃▃▆▄▅▄▃▃▄▃▆▄▄▅▄▄▃█▄▅▃▅▅▄</td></tr><tr><td>train_loss</td><td>█▅▃▁▂▂▄▄▄▂▃▄▄▂▃▄▃▃▄▃▄▄▂▂▃▂▄▂▂▂▂▃▁▄▂▂▂▂▂▃</td></tr><tr><td>train_rh_loss</td><td>█▅▄▁▄▃▆▆▆▃▄▆▇▃▄▅▄▃▆▄▆▆▃▃▄▄▇▃▃▃▂▄▁▅▃▃▂▄▃▄</td></tr><tr><td>val_cat_loss</td><td>█▆▂▁▁▁▁▁▁▁▁▁▁▁▁▁▂▁▁▁▁▁▁▁▁▁▁▁▂▁▁▁▁▁▁▁▁▁▁▁</td></tr><tr><td>val_lh_loss</td><td>▇▅▂▂▂▆▂▂▁▆▂▃▃▄▃▃▅▄▁▅▂▃▃▄▂▆▄▂▅▆█▃▅▃▃▇▄▁▂▄</td></tr><tr><td>val_loss</td><td>█▆▃▂▁▃▁▁▁▄▃▂▂▄▃▃▃▃▂▃▃▃▄▃▁▅▃▂▄▃▄▃▃▂▂▅▃▁▂▃</td></tr><tr><td>val_rh_loss</td><td>▇▅▄▃▂▅▁▂▁▆▄▃▂▆▄▄▃▅▃▅▄▄▅▄▂█▅▂▆▅▆▄▅▃▃▇▅▁▂▄</td></tr></table><br/></div><div class=\"wandb-col\"><h3>Run summary:</h3><br/><table class=\"wandb\"><tr><td>train_cat_loss</td><td>3.29054</td></tr><tr><td>train_lh_loss</td><td>0.55075</td></tr><tr><td>train_loss</td><td>0.52814</td></tr><tr><td>train_rh_loss</td><td>0.50024</td></tr><tr><td>val_cat_loss</td><td>3.0072</td></tr><tr><td>val_lh_loss</td><td>0.55467</td></tr><tr><td>val_loss</td><td>0.54513</td></tr><tr><td>val_rh_loss</td><td>0.52027</td></tr></table><br/></div></div>"
      ],
      "text/plain": [
       "<IPython.core.display.HTML object>"
      ]
     },
     "metadata": {},
     "output_type": "display_data"
    },
    {
     "data": {
      "text/html": [
       " View run <strong style=\"color:#cdcd00\">hopeful-dew-77</strong> at: <a href='https://wandb.ai/syrkis/neuroscope/runs/wzcc5pqi' target=\"_blank\">https://wandb.ai/syrkis/neuroscope/runs/wzcc5pqi</a><br/>Synced 5 W&B file(s), 0 media file(s), 0 artifact file(s) and 0 other file(s)"
      ],
      "text/plain": [
       "<IPython.core.display.HTML object>"
      ]
     },
     "metadata": {},
     "output_type": "display_data"
    },
    {
     "data": {
      "text/html": [
       "Find logs at: <code>./wandb/run-20230603_111151-wzcc5pqi/logs</code>"
      ],
      "text/plain": [
       "<IPython.core.display.HTML object>"
      ]
     },
     "metadata": {},
     "output_type": "display_data"
    },
    {
     "data": {
      "text/html": [
       "Tracking run with wandb version 0.15.3"
      ],
      "text/plain": [
       "<IPython.core.display.HTML object>"
      ]
     },
     "metadata": {},
     "output_type": "display_data"
    },
    {
     "data": {
      "text/html": [
       "Run data is saved locally in <code>/home/nobr/neuroscope/wandb/run-20230603_111241-4zsjdlob</code>"
      ],
      "text/plain": [
       "<IPython.core.display.HTML object>"
      ]
     },
     "metadata": {},
     "output_type": "display_data"
    },
    {
     "data": {
      "text/html": [
       "Syncing run <strong><a href='https://wandb.ai/syrkis/neuroscope/runs/4zsjdlob' target=\"_blank\">ethereal-sun-78</a></strong> to <a href='https://wandb.ai/syrkis/neuroscope' target=\"_blank\">Weights & Biases</a> (<a href='https://wandb.me/run' target=\"_blank\">docs</a>)<br/>"
      ],
      "text/plain": [
       "<IPython.core.display.HTML object>"
      ]
     },
     "metadata": {},
     "output_type": "display_data"
    },
    {
     "data": {
      "text/html": [
       " View project at <a href='https://wandb.ai/syrkis/neuroscope' target=\"_blank\">https://wandb.ai/syrkis/neuroscope</a>"
      ],
      "text/plain": [
       "<IPython.core.display.HTML object>"
      ]
     },
     "metadata": {},
     "output_type": "display_data"
    },
    {
     "data": {
      "text/html": [
       " View run at <a href='https://wandb.ai/syrkis/neuroscope/runs/4zsjdlob' target=\"_blank\">https://wandb.ai/syrkis/neuroscope/runs/4zsjdlob</a>"
      ],
      "text/plain": [
       "<IPython.core.display.HTML object>"
      ]
     },
     "metadata": {},
     "output_type": "display_data"
    },
    {
     "name": "stderr",
     "output_type": "stream",
     "text": [
      "100%|██████████| 1000/1000 [00:42<00:00, 23.56it/s]\n"
     ]
    },
    {
     "data": {
      "text/html": [
       "Waiting for W&B process to finish... <strong style=\"color:green\">(success).</strong>"
      ],
      "text/plain": [
       "<IPython.core.display.HTML object>"
      ]
     },
     "metadata": {},
     "output_type": "display_data"
    },
    {
     "data": {
      "text/html": [
       "<style>\n",
       "    table.wandb td:nth-child(1) { padding: 0 10px; text-align: left ; width: auto;} td:nth-child(2) {text-align: left ; width: 100%}\n",
       "    .wandb-row { display: flex; flex-direction: row; flex-wrap: wrap; justify-content: flex-start; width: 100% }\n",
       "    .wandb-col { display: flex; flex-direction: column; flex-basis: 100%; flex: 1; padding: 10px; }\n",
       "    </style>\n",
       "<div class=\"wandb-row\"><div class=\"wandb-col\"><h3>Run history:</h3><br/><table class=\"wandb\"><tr><td>train_cat_loss</td><td>█▆▂▁▁▁▁▁▁▁▂▁▁▁▁▁▁▁▁▁▁▁▁▁▁▁▁▁▁▁▁▁▁▁▁▂▁▂▁▁</td></tr><tr><td>train_lh_loss</td><td>█▇▄▄▃▃▂▇▄▅▅▃▂█▄▄▅▂▂▄▅▆▁▄▆▅▅▅▄▅▃▇▇▃▄▄▄▅▆▆</td></tr><tr><td>train_loss</td><td>█▆▃▃▂▂▁▃▃▃▃▂▁▆▂▃▃▁▁▂▂▃▂▂▃▂▂▃▁▂▁▄▃▁▂▂▂▂▂▁</td></tr><tr><td>train_rh_loss</td><td>▇▅▄▃▂▃▂▄▄▄▄▃▁█▃▄▄▁▁▃▃▃▂▂▄▂▃▃▁▃▁▅▃▁▃▂▃▂▃▂</td></tr><tr><td>val_cat_loss</td><td>█▆▂▁▁▁▁▁▁▁▁▂▁▁▂▁▁▁▁▁▁▁▂▁▁▁▁▁▂▁▁▁▁▁▂▁▁▁▁▁</td></tr><tr><td>val_lh_loss</td><td>▇▃▇▄▄▅▆▆▃▁▇▃▆▄▄▃▅▅▄▄▅▃▃▃▃█▃▁▇▄▆▆▂▄▄▅▅▅▆█</td></tr><tr><td>val_loss</td><td>█▄▃▃▃▃▃▄▂▁▄▂▃▂▂▂▃▂▂▃▂▁▂▃▂▄▂▂▄▂▄▃▃▂▃▃▂▃▃▅</td></tr><tr><td>val_rh_loss</td><td>█▃▄▄▄▄▄▅▃▁▅▂▅▃▃▂▅▃▃▄▃▁▂▄▂▆▃▂▅▃▅▄▃▃▃▄▂▄▄▇</td></tr></table><br/></div><div class=\"wandb-col\"><h3>Run summary:</h3><br/><table class=\"wandb\"><tr><td>train_cat_loss</td><td>2.664</td></tr><tr><td>train_lh_loss</td><td>0.60425</td></tr><tr><td>train_loss</td><td>0.48973</td></tr><tr><td>train_rh_loss</td><td>0.46777</td></tr><tr><td>val_cat_loss</td><td>3.19619</td></tr><tr><td>val_lh_loss</td><td>0.64179</td></tr><tr><td>val_loss</td><td>0.6661</td></tr><tr><td>val_rh_loss</td><td>0.64054</td></tr></table><br/></div></div>"
      ],
      "text/plain": [
       "<IPython.core.display.HTML object>"
      ]
     },
     "metadata": {},
     "output_type": "display_data"
    },
    {
     "data": {
      "text/html": [
       " View run <strong style=\"color:#cdcd00\">ethereal-sun-78</strong> at: <a href='https://wandb.ai/syrkis/neuroscope/runs/4zsjdlob' target=\"_blank\">https://wandb.ai/syrkis/neuroscope/runs/4zsjdlob</a><br/>Synced 5 W&B file(s), 0 media file(s), 0 artifact file(s) and 0 other file(s)"
      ],
      "text/plain": [
       "<IPython.core.display.HTML object>"
      ]
     },
     "metadata": {},
     "output_type": "display_data"
    },
    {
     "data": {
      "text/html": [
       "Find logs at: <code>./wandb/run-20230603_111241-4zsjdlob/logs</code>"
      ],
      "text/plain": [
       "<IPython.core.display.HTML object>"
      ]
     },
     "metadata": {},
     "output_type": "display_data"
    },
    {
     "data": {
      "text/html": [
       "Tracking run with wandb version 0.15.3"
      ],
      "text/plain": [
       "<IPython.core.display.HTML object>"
      ]
     },
     "metadata": {},
     "output_type": "display_data"
    },
    {
     "data": {
      "text/html": [
       "Run data is saved locally in <code>/home/nobr/neuroscope/wandb/run-20230603_111330-bhs8b02x</code>"
      ],
      "text/plain": [
       "<IPython.core.display.HTML object>"
      ]
     },
     "metadata": {},
     "output_type": "display_data"
    },
    {
     "data": {
      "text/html": [
       "Syncing run <strong><a href='https://wandb.ai/syrkis/neuroscope/runs/bhs8b02x' target=\"_blank\">drawn-terrain-79</a></strong> to <a href='https://wandb.ai/syrkis/neuroscope' target=\"_blank\">Weights & Biases</a> (<a href='https://wandb.me/run' target=\"_blank\">docs</a>)<br/>"
      ],
      "text/plain": [
       "<IPython.core.display.HTML object>"
      ]
     },
     "metadata": {},
     "output_type": "display_data"
    },
    {
     "data": {
      "text/html": [
       " View project at <a href='https://wandb.ai/syrkis/neuroscope' target=\"_blank\">https://wandb.ai/syrkis/neuroscope</a>"
      ],
      "text/plain": [
       "<IPython.core.display.HTML object>"
      ]
     },
     "metadata": {},
     "output_type": "display_data"
    },
    {
     "data": {
      "text/html": [
       " View run at <a href='https://wandb.ai/syrkis/neuroscope/runs/bhs8b02x' target=\"_blank\">https://wandb.ai/syrkis/neuroscope/runs/bhs8b02x</a>"
      ],
      "text/plain": [
       "<IPython.core.display.HTML object>"
      ]
     },
     "metadata": {},
     "output_type": "display_data"
    },
    {
     "name": "stderr",
     "output_type": "stream",
     "text": [
      "100%|██████████| 1000/1000 [00:42<00:00, 23.40it/s]\n"
     ]
    },
    {
     "data": {
      "text/html": [
       "Waiting for W&B process to finish... <strong style=\"color:green\">(success).</strong>"
      ],
      "text/plain": [
       "<IPython.core.display.HTML object>"
      ]
     },
     "metadata": {},
     "output_type": "display_data"
    },
    {
     "data": {
      "text/html": [
       "<style>\n",
       "    table.wandb td:nth-child(1) { padding: 0 10px; text-align: left ; width: auto;} td:nth-child(2) {text-align: left ; width: 100%}\n",
       "    .wandb-row { display: flex; flex-direction: row; flex-wrap: wrap; justify-content: flex-start; width: 100% }\n",
       "    .wandb-col { display: flex; flex-direction: column; flex-basis: 100%; flex: 1; padding: 10px; }\n",
       "    </style>\n",
       "<div class=\"wandb-row\"><div class=\"wandb-col\"><h3>Run history:</h3><br/><table class=\"wandb\"><tr><td>train_cat_loss</td><td>█▆▁▁▁▁▁▂▁▁▁▁▁▁▁▁▁▁▁▁▁▁▁▁▁▁▁▁▁▂▁▁▁▁▁▁▁▁▁▁</td></tr><tr><td>train_lh_loss</td><td>▆▆▃▅▆▄▃▇▆▂▁▇▆▄▃▄▁▂▃▂▂▃▂▄▄█▃▃▃▄▄▅▄▆▄▅▄▇▄▄</td></tr><tr><td>train_loss</td><td>█▆▂▃▃▄▂▃▃▂▂▅▄▃▂▂▂▁▁▁▁▁▂▂▃▄▁▂▂▃▂▃▂▂▃▂▂▃▁▂</td></tr><tr><td>train_rh_loss</td><td>█▆▃▄▅▆▃▅▅▂▂█▆▄▃▃▂▂▂▂▂▁▂▃▄▆▁▃▂▃▃▄▄▄▄▃▂▅▂▃</td></tr><tr><td>val_cat_loss</td><td>█▆▂▁▁▁▁▁▁▁▁▁▁▁▁▁▁▁▁▁▁▁▁▁▁▁▁▁▁▁▁▁▁▁▁▁▁▁▁▁</td></tr><tr><td>val_lh_loss</td><td>▇▄▆▄▅▄▄▄▆▂▅▁▁▄▄▅▃▅▃▄▆▅▇▄▅▄▅▅▅▄▆▅▅▄▇▄█▇▃█</td></tr><tr><td>val_loss</td><td>█▇▆▃▂▃▄▄▄▁▃▁▂▃▂▂▃▄▃▅▄▃▆▃▄▅▃▄▄▄▅▄▅▂▅▅▆▇▃▆</td></tr><tr><td>val_rh_loss</td><td>▅▅▇▃▂▄▄▅▅▁▄▂▃▄▃▂▃▅▃▆▅▄▇▃▅▆▄▅▄▅▆▅▆▃▆▅██▄▇</td></tr></table><br/></div><div class=\"wandb-col\"><h3>Run summary:</h3><br/><table class=\"wandb\"><tr><td>train_cat_loss</td><td>3.23464</td></tr><tr><td>train_lh_loss</td><td>0.56391</td></tr><tr><td>train_loss</td><td>0.50855</td></tr><tr><td>train_rh_loss</td><td>0.48101</td></tr><tr><td>val_cat_loss</td><td>3.447</td></tr><tr><td>val_lh_loss</td><td>0.62101</td></tr><tr><td>val_loss</td><td>0.62928</td></tr><tr><td>val_rh_loss</td><td>0.60082</td></tr></table><br/></div></div>"
      ],
      "text/plain": [
       "<IPython.core.display.HTML object>"
      ]
     },
     "metadata": {},
     "output_type": "display_data"
    },
    {
     "data": {
      "text/html": [
       " View run <strong style=\"color:#cdcd00\">drawn-terrain-79</strong> at: <a href='https://wandb.ai/syrkis/neuroscope/runs/bhs8b02x' target=\"_blank\">https://wandb.ai/syrkis/neuroscope/runs/bhs8b02x</a><br/>Synced 5 W&B file(s), 0 media file(s), 0 artifact file(s) and 0 other file(s)"
      ],
      "text/plain": [
       "<IPython.core.display.HTML object>"
      ]
     },
     "metadata": {},
     "output_type": "display_data"
    },
    {
     "data": {
      "text/html": [
       "Find logs at: <code>./wandb/run-20230603_111330-bhs8b02x/logs</code>"
      ],
      "text/plain": [
       "<IPython.core.display.HTML object>"
      ]
     },
     "metadata": {},
     "output_type": "display_data"
    },
    {
     "data": {
      "text/html": [
       "Tracking run with wandb version 0.15.3"
      ],
      "text/plain": [
       "<IPython.core.display.HTML object>"
      ]
     },
     "metadata": {},
     "output_type": "display_data"
    },
    {
     "data": {
      "text/html": [
       "Run data is saved locally in <code>/home/nobr/neuroscope/wandb/run-20230603_111418-rn64szhe</code>"
      ],
      "text/plain": [
       "<IPython.core.display.HTML object>"
      ]
     },
     "metadata": {},
     "output_type": "display_data"
    },
    {
     "data": {
      "text/html": [
       "Syncing run <strong><a href='https://wandb.ai/syrkis/neuroscope/runs/rn64szhe' target=\"_blank\">balmy-flower-80</a></strong> to <a href='https://wandb.ai/syrkis/neuroscope' target=\"_blank\">Weights & Biases</a> (<a href='https://wandb.me/run' target=\"_blank\">docs</a>)<br/>"
      ],
      "text/plain": [
       "<IPython.core.display.HTML object>"
      ]
     },
     "metadata": {},
     "output_type": "display_data"
    },
    {
     "data": {
      "text/html": [
       " View project at <a href='https://wandb.ai/syrkis/neuroscope' target=\"_blank\">https://wandb.ai/syrkis/neuroscope</a>"
      ],
      "text/plain": [
       "<IPython.core.display.HTML object>"
      ]
     },
     "metadata": {},
     "output_type": "display_data"
    },
    {
     "data": {
      "text/html": [
       " View run at <a href='https://wandb.ai/syrkis/neuroscope/runs/rn64szhe' target=\"_blank\">https://wandb.ai/syrkis/neuroscope/runs/rn64szhe</a>"
      ],
      "text/plain": [
       "<IPython.core.display.HTML object>"
      ]
     },
     "metadata": {},
     "output_type": "display_data"
    },
    {
     "name": "stderr",
     "output_type": "stream",
     "text": [
      "100%|██████████| 1000/1000 [00:42<00:00, 23.36it/s]\n"
     ]
    },
    {
     "data": {
      "text/html": [
       "Waiting for W&B process to finish... <strong style=\"color:green\">(success).</strong>"
      ],
      "text/plain": [
       "<IPython.core.display.HTML object>"
      ]
     },
     "metadata": {},
     "output_type": "display_data"
    },
    {
     "data": {
      "text/html": [
       "<style>\n",
       "    table.wandb td:nth-child(1) { padding: 0 10px; text-align: left ; width: auto;} td:nth-child(2) {text-align: left ; width: 100%}\n",
       "    .wandb-row { display: flex; flex-direction: row; flex-wrap: wrap; justify-content: flex-start; width: 100% }\n",
       "    .wandb-col { display: flex; flex-direction: column; flex-basis: 100%; flex: 1; padding: 10px; }\n",
       "    </style>\n",
       "<div class=\"wandb-row\"><div class=\"wandb-col\"><h3>Run history:</h3><br/><table class=\"wandb\"><tr><td>train_cat_loss</td><td>█▆▂▁▁▁▁▁▁▁▁▁▁▁▁▁▁▂▁▁▁▁▁▁▁▂▁▁▁▁▁▁▁▁▁▁▁▁▁▁</td></tr><tr><td>train_lh_loss</td><td>▇▃▄▄▂▄▃▂▆▄▄▂█▁▅▃▃▄▆▅▅▃▆▄▆▃▄▅▂▅▆▄▅▃█▆▃▃▂▆</td></tr><tr><td>train_loss</td><td>█▄▂▃▂▃▂▂▃▃▃▃▃▁▃▂▂▂▃▃▂▁▂▂▃▁▂▂▂▃▂▂▃▂▃▂▁▁▁▂</td></tr><tr><td>train_rh_loss</td><td>█▂▃▄▂▄▃▃▄▄▄▃▅▁▄▃▃▂▅▄▃▂▃▃▅▁▂▃▂▄▃▂▄▂▄▃▁▁▁▃</td></tr><tr><td>val_cat_loss</td><td>█▆▁▁▁▁▁▁▁▁▁▁▁▂▁▁▁▁▁▁▁▁▁▁▁▁▁▁▁▁▁▁▁▁▁▁▁▁▁▁</td></tr><tr><td>val_lh_loss</td><td>█▂▃▄▂▆▇▆▆▂▂▂▁▃▆▆▄▅▄▃▅▃▃▂▃▇▄▄▆▂▆▄▃▃▂▄▃▂▆▅</td></tr><tr><td>val_loss</td><td>█▄▃▂▂▄▅▄▃▂▃▂▁▃▄▄▄▃▃▂▃▃▃▂▃▅▃▂▄▂▄▂▄▃▂▃▃▃▃▄</td></tr><tr><td>val_rh_loss</td><td>█▂▄▃▃▅▇▆▄▂▄▃▁▅▅▅▅▄▄▃▄▃▅▃▄█▄▃▆▃▆▃▅▅▂▃▄▄▄▅</td></tr></table><br/></div><div class=\"wandb-col\"><h3>Run summary:</h3><br/><table class=\"wandb\"><tr><td>train_cat_loss</td><td>3.07531</td></tr><tr><td>train_lh_loss</td><td>0.60365</td></tr><tr><td>train_loss</td><td>0.53798</td></tr><tr><td>train_rh_loss</td><td>0.51235</td></tr><tr><td>val_cat_loss</td><td>3.20976</td></tr><tr><td>val_lh_loss</td><td>0.57771</td></tr><tr><td>val_loss</td><td>0.57362</td></tr><tr><td>val_rh_loss</td><td>0.54699</td></tr></table><br/></div></div>"
      ],
      "text/plain": [
       "<IPython.core.display.HTML object>"
      ]
     },
     "metadata": {},
     "output_type": "display_data"
    },
    {
     "data": {
      "text/html": [
       " View run <strong style=\"color:#cdcd00\">balmy-flower-80</strong> at: <a href='https://wandb.ai/syrkis/neuroscope/runs/rn64szhe' target=\"_blank\">https://wandb.ai/syrkis/neuroscope/runs/rn64szhe</a><br/>Synced 5 W&B file(s), 0 media file(s), 0 artifact file(s) and 0 other file(s)"
      ],
      "text/plain": [
       "<IPython.core.display.HTML object>"
      ]
     },
     "metadata": {},
     "output_type": "display_data"
    },
    {
     "data": {
      "text/html": [
       "Find logs at: <code>./wandb/run-20230603_111418-rn64szhe/logs</code>"
      ],
      "text/plain": [
       "<IPython.core.display.HTML object>"
      ]
     },
     "metadata": {},
     "output_type": "display_data"
    },
    {
     "data": {
      "text/html": [
       "Tracking run with wandb version 0.15.3"
      ],
      "text/plain": [
       "<IPython.core.display.HTML object>"
      ]
     },
     "metadata": {},
     "output_type": "display_data"
    },
    {
     "data": {
      "text/html": [
       "Run data is saved locally in <code>/home/nobr/neuroscope/wandb/run-20230603_111507-cptsge8v</code>"
      ],
      "text/plain": [
       "<IPython.core.display.HTML object>"
      ]
     },
     "metadata": {},
     "output_type": "display_data"
    },
    {
     "data": {
      "text/html": [
       "Syncing run <strong><a href='https://wandb.ai/syrkis/neuroscope/runs/cptsge8v' target=\"_blank\">vibrant-dust-81</a></strong> to <a href='https://wandb.ai/syrkis/neuroscope' target=\"_blank\">Weights & Biases</a> (<a href='https://wandb.me/run' target=\"_blank\">docs</a>)<br/>"
      ],
      "text/plain": [
       "<IPython.core.display.HTML object>"
      ]
     },
     "metadata": {},
     "output_type": "display_data"
    },
    {
     "data": {
      "text/html": [
       " View project at <a href='https://wandb.ai/syrkis/neuroscope' target=\"_blank\">https://wandb.ai/syrkis/neuroscope</a>"
      ],
      "text/plain": [
       "<IPython.core.display.HTML object>"
      ]
     },
     "metadata": {},
     "output_type": "display_data"
    },
    {
     "data": {
      "text/html": [
       " View run at <a href='https://wandb.ai/syrkis/neuroscope/runs/cptsge8v' target=\"_blank\">https://wandb.ai/syrkis/neuroscope/runs/cptsge8v</a>"
      ],
      "text/plain": [
       "<IPython.core.display.HTML object>"
      ]
     },
     "metadata": {},
     "output_type": "display_data"
    },
    {
     "name": "stderr",
     "output_type": "stream",
     "text": [
      "100%|██████████| 1000/1000 [00:42<00:00, 23.43it/s]\n"
     ]
    },
    {
     "data": {
      "text/html": [
       "Waiting for W&B process to finish... <strong style=\"color:green\">(success).</strong>"
      ],
      "text/plain": [
       "<IPython.core.display.HTML object>"
      ]
     },
     "metadata": {},
     "output_type": "display_data"
    },
    {
     "data": {
      "text/html": [
       "<style>\n",
       "    table.wandb td:nth-child(1) { padding: 0 10px; text-align: left ; width: auto;} td:nth-child(2) {text-align: left ; width: 100%}\n",
       "    .wandb-row { display: flex; flex-direction: row; flex-wrap: wrap; justify-content: flex-start; width: 100% }\n",
       "    .wandb-col { display: flex; flex-direction: column; flex-basis: 100%; flex: 1; padding: 10px; }\n",
       "    </style>\n",
       "<div class=\"wandb-row\"><div class=\"wandb-col\"><h3>Run history:</h3><br/><table class=\"wandb\"><tr><td>train_cat_loss</td><td>█▆▂▁▁▁▂▁▁▁▁▁▂▂▁▁▁▁▁▁▁▁▁▁▁▂▁▁▁▁▁▁▂▁▁▁▁▁▁▁</td></tr><tr><td>train_lh_loss</td><td>█▄▂▅▃▃▄▁▁▄▂▁▂▂▃▄▃▂▁▃▃▂▂▁▂▄▂▂▅▂▂▂▃▂▃▂▃▄▃▂</td></tr><tr><td>train_loss</td><td>█▆▂▃▂▂▃▂▂▃▁▂▂▁▂▂▂▁▂▂▂▂▁▁▁▄▁▁▂▂▂▁▂▁▂▂▁▂▂▁</td></tr><tr><td>train_rh_loss</td><td>█▆▃▅▃▂▄▂▂▄▂▂▂▂▃▂▃▂▂▃▃▂▁▁▁▅▂▁▃▂▂▁▃▁▂▂▁▂▃▂</td></tr><tr><td>val_cat_loss</td><td>█▆▁▁▁▁▁▁▁▁▁▁▁▁▁▁▁▁▁▁▁▁▁▁▁▁▁▁▁▁▁▁▁▁▁▁▁▁▁▁</td></tr><tr><td>val_lh_loss</td><td>█▆▁▁▄▆▂▂▃▅▅▃▆▆▄▂▂▃▄▄▄▇▃▄▂▃▅▆▃█▃▄▃▁▃▆▄▄▄▄</td></tr><tr><td>val_loss</td><td>█▇▁▁▂▄▂▁▂▅▃▂▄▄▂▂▂▁▂▂▂▄▂▂▁▂▄▄▂▅▁▃▃▂▂▄▃▂▃▃</td></tr><tr><td>val_rh_loss</td><td>▇▇▂▂▃▆▃▂▃▇▄▂▇▆▃▃▂▁▃▃▃▆▃▂▁▃▆▅▃█▁▄▄▃▄▆▄▃▅▄</td></tr></table><br/></div><div class=\"wandb-col\"><h3>Run summary:</h3><br/><table class=\"wandb\"><tr><td>train_cat_loss</td><td>2.91193</td></tr><tr><td>train_lh_loss</td><td>0.53436</td></tr><tr><td>train_loss</td><td>0.50453</td></tr><tr><td>train_rh_loss</td><td>0.48021</td></tr><tr><td>val_cat_loss</td><td>3.23615</td></tr><tr><td>val_lh_loss</td><td>0.56069</td></tr><tr><td>val_loss</td><td>0.55954</td></tr><tr><td>val_rh_loss</td><td>0.53251</td></tr></table><br/></div></div>"
      ],
      "text/plain": [
       "<IPython.core.display.HTML object>"
      ]
     },
     "metadata": {},
     "output_type": "display_data"
    },
    {
     "data": {
      "text/html": [
       " View run <strong style=\"color:#cdcd00\">vibrant-dust-81</strong> at: <a href='https://wandb.ai/syrkis/neuroscope/runs/cptsge8v' target=\"_blank\">https://wandb.ai/syrkis/neuroscope/runs/cptsge8v</a><br/>Synced 5 W&B file(s), 0 media file(s), 0 artifact file(s) and 0 other file(s)"
      ],
      "text/plain": [
       "<IPython.core.display.HTML object>"
      ]
     },
     "metadata": {},
     "output_type": "display_data"
    },
    {
     "data": {
      "text/html": [
       "Find logs at: <code>./wandb/run-20230603_111507-cptsge8v/logs</code>"
      ],
      "text/plain": [
       "<IPython.core.display.HTML object>"
      ]
     },
     "metadata": {},
     "output_type": "display_data"
    }
   ],
   "source": [
    "args, config = get_args_and_config()\n",
    "data = get_data(args, config)\n",
    "params_lst = train(data, config)"
   ]
  },
  {
   "cell_type": "code",
   "execution_count": null,
   "metadata": {},
   "outputs": [],
   "source": []
  }
 ],
 "metadata": {
  "kernelspec": {
   "display_name": "Python 3 (ipykernel)",
   "language": "python",
   "name": "python3"
  },
  "language_info": {
   "codemirror_mode": {
    "name": "ipython",
    "version": 3
   },
   "file_extension": ".py",
   "mimetype": "text/x-python",
   "name": "python",
   "nbconvert_exporter": "python",
   "pygments_lexer": "ipython3",
   "version": "3.11.3"
  },
  "orig_nbformat": 4
 },
 "nbformat": 4,
 "nbformat_minor": 2
}
