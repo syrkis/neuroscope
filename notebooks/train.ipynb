{
 "cells": [
  {
   "attachments": {},
   "cell_type": "markdown",
   "metadata": {},
   "source": [
    "# Neuroscape playground"
   ]
  },
  {
   "cell_type": "code",
   "execution_count": null,
   "metadata": {},
   "outputs": [],
   "source": [
    "from src.data import get_data\n",
    "from src.utils import get_args_and_config\n",
    "from src.train import train\n",
    "from src.fmri import plot_brain"
   ]
  },
  {
   "attachments": {},
   "cell_type": "markdown",
   "metadata": {},
   "source": [
    "## data"
   ]
  },
  {
   "cell_type": "code",
   "execution_count": null,
   "metadata": {},
   "outputs": [],
   "source": [
    "args, config = get_args_and_config()\n",
    "data = get_data(args, config)"
   ]
  },
  {
   "cell_type": "code",
   "execution_count": 3,
   "metadata": {},
   "outputs": [
    {
     "name": "stderr",
     "output_type": "stream",
     "text": [
      "100%|██████████| 6000/6000 [01:26<00:00, 69.72it/s] \n"
     ]
    },
    {
     "data": {
      "text/html": [
       "Waiting for W&B process to finish... <strong style=\"color:green\">(success).</strong>"
      ],
      "text/plain": [
       "<IPython.core.display.HTML object>"
      ]
     },
     "metadata": {},
     "output_type": "display_data"
    },
    {
     "data": {
      "text/html": [
       "<style>\n",
       "    table.wandb td:nth-child(1) { padding: 0 10px; text-align: left ; width: auto;} td:nth-child(2) {text-align: left ; width: 100%}\n",
       "    .wandb-row { display: flex; flex-direction: row; flex-wrap: wrap; justify-content: flex-start; width: 100% }\n",
       "    .wandb-col { display: flex; flex-direction: column; flex-basis: 100%; flex: 1; padding: 10px; }\n",
       "    </style>\n",
       "<div class=\"wandb-row\"><div class=\"wandb-col\"><h3>Run history:</h3><br/><table class=\"wandb\"><tr><td>algonauts_lh_baseline_corr</td><td>▁▁▁▁▁▁▁▁▁▁▁▁▁▁▁▁▁▁▁▁▁▁▁▁▁▁▁▁▁▁▁▁▁▁▁▁▁▁▁▁</td></tr><tr><td>algonauts_rh_baseline_corr</td><td>▁▁▁▁▁▁▁▁▁▁▁▁▁▁▁▁▁▁▁▁▁▁▁▁▁▁▁▁▁▁▁▁▁▁▁▁▁▁▁▁</td></tr><tr><td>train_cat_loss</td><td>█▁▂▁▁▁▁▁▁▁▁▂▁▁▁▁▁▁▁▁▁▁▁▁▁▁▁▁▁▁▁▁▁▁▁▁▁▁▁▁</td></tr><tr><td>train_lh_corr</td><td>▁▂▃▄▅▅▅▅▆▅▅▄▇▅▆▇▅▇▆▆▆▆▆▆▇▆▇▇▇▇██▆▆█▆▇▇▇▇</td></tr><tr><td>train_lh_loss</td><td>█▂▂▃▂▃▂▂▂▃▂▂▁▂▁▁▃▂▂▂▂▂▁▂▄▁▂▂▁▂▁▁▁▂▁▁▁▂▁▁</td></tr><tr><td>train_loss</td><td>█▁▂▁▁▂▁▁▂▁▁▂▁▁▁▁▂▁▁▁▁▁▁▁▂▁▁▁▁▁▁▁▁▁▁▁▁▁▁▁</td></tr><tr><td>train_rh_corr</td><td>▁▂▃▄▅▅▅▅▆▄▅▄▇▅▆▇▆▇▆▆▆▆▆▆▇▆▇▇▆▇██▆▆█▇▇▆▇▇</td></tr><tr><td>train_rh_loss</td><td>█▃▂▂▂▃▂▂▂▂▂▂▂▂▂▂▄▂▃▂▃▂▂▂▄▂▂▂▁▂▂▁▂▂▁▁▂▂▁▁</td></tr><tr><td>val_cat_loss</td><td>█▁▁▁▁▁▁▁▁▁▁▁▁▁▁▁▁▁▁▂▁▁▂▂▁▁▂▂▁▁▁▁▁▂▂▂▂▁▂▂</td></tr><tr><td>val_lh_corr</td><td>▁▄▅▆▄▇██▆▅█▅▆▄▆▃█▅▅▄▆▅▅▆▆▆█▅█▄▅▅▇▄▄▅▅▆▇▅</td></tr><tr><td>val_lh_loss</td><td>█▂▃▂▂▁▂▂▂▁▃▂▃▂▂▃▃▃▂▂▃▂▂▂▂▂▃▂▁▂▂▂▂▂▃▃▃▃▂▂</td></tr><tr><td>val_loss</td><td>█▁▂▁▁▁▁▁▁▁▁▁▁▂▁▂▂▁▁▂▂▁▂▂▁▁▂▂▁▁▂▁▁▂▂▂▂▂▂▂</td></tr><tr><td>val_rh_corr</td><td>▁▂▅▆▃▆▇▇▅▅▇▄▅▅▅▂▇▄▄▄▅▄▅▇▅▆█▅▇▄▄▅▆▃▃▄▄▅▆▄</td></tr><tr><td>val_rh_loss</td><td>█▂▃▂▃▂▁▂▂▂▃▃▃▃▃▃▃▃▂▂▃▃▂▂▃▂▃▂▂▂▂▂▃▃▄▃▃▄▂▂</td></tr></table><br/></div><div class=\"wandb-col\"><h3>Run summary:</h3><br/><table class=\"wandb\"><tr><td>algonauts_lh_baseline_corr</td><td>0.21079</td></tr><tr><td>algonauts_rh_baseline_corr</td><td>0.20797</td></tr><tr><td>train_cat_loss</td><td>2.43855</td></tr><tr><td>train_lh_corr</td><td>0.33947</td></tr><tr><td>train_lh_loss</td><td>0.42182</td></tr><tr><td>train_loss</td><td>0.61641</td></tr><tr><td>train_rh_corr</td><td>0.35926</td></tr><tr><td>train_rh_loss</td><td>0.40608</td></tr><tr><td>val_cat_loss</td><td>3.7909</td></tr><tr><td>val_lh_corr</td><td>0.14129</td></tr><tr><td>val_lh_loss</td><td>0.47734</td></tr><tr><td>val_loss</td><td>0.80765</td></tr><tr><td>val_rh_corr</td><td>0.1275</td></tr><tr><td>val_rh_loss</td><td>0.47502</td></tr></table><br/></div></div>"
      ],
      "text/plain": [
       "<IPython.core.display.HTML object>"
      ]
     },
     "metadata": {},
     "output_type": "display_data"
    },
    {
     "data": {
      "text/html": [
       " View run <strong style=\"color:#cdcd00\">treasured-jazz-169</strong> at: <a href='https://wandb.ai/syrkis/neuroscope/runs/3jfi1z5y' target=\"_blank\">https://wandb.ai/syrkis/neuroscope/runs/3jfi1z5y</a><br/>Synced 5 W&B file(s), 0 media file(s), 0 artifact file(s) and 0 other file(s)"
      ],
      "text/plain": [
       "<IPython.core.display.HTML object>"
      ]
     },
     "metadata": {},
     "output_type": "display_data"
    },
    {
     "data": {
      "text/html": [
       "Find logs at: <code>./wandb/run-20230603_232313-3jfi1z5y/logs</code>"
      ],
      "text/plain": [
       "<IPython.core.display.HTML object>"
      ]
     },
     "metadata": {},
     "output_type": "display_data"
    },
    {
     "data": {
      "text/html": [
       "Tracking run with wandb version 0.15.3"
      ],
      "text/plain": [
       "<IPython.core.display.HTML object>"
      ]
     },
     "metadata": {},
     "output_type": "display_data"
    },
    {
     "data": {
      "text/html": [
       "Run data is saved locally in <code>/home/nobr/neuroscope/wandb/run-20230603_232446-7scsawvy</code>"
      ],
      "text/plain": [
       "<IPython.core.display.HTML object>"
      ]
     },
     "metadata": {},
     "output_type": "display_data"
    },
    {
     "data": {
      "text/html": [
       "Syncing run <strong><a href='https://wandb.ai/syrkis/neuroscope/runs/7scsawvy' target=\"_blank\">morning-pond-170</a></strong> to <a href='https://wandb.ai/syrkis/neuroscope' target=\"_blank\">Weights & Biases</a> (<a href='https://wandb.me/run' target=\"_blank\">docs</a>)<br/>"
      ],
      "text/plain": [
       "<IPython.core.display.HTML object>"
      ]
     },
     "metadata": {},
     "output_type": "display_data"
    },
    {
     "data": {
      "text/html": [
       " View project at <a href='https://wandb.ai/syrkis/neuroscope' target=\"_blank\">https://wandb.ai/syrkis/neuroscope</a>"
      ],
      "text/plain": [
       "<IPython.core.display.HTML object>"
      ]
     },
     "metadata": {},
     "output_type": "display_data"
    },
    {
     "data": {
      "text/html": [
       " View run at <a href='https://wandb.ai/syrkis/neuroscope/runs/7scsawvy' target=\"_blank\">https://wandb.ai/syrkis/neuroscope/runs/7scsawvy</a>"
      ],
      "text/plain": [
       "<IPython.core.display.HTML object>"
      ]
     },
     "metadata": {},
     "output_type": "display_data"
    },
    {
     "name": "stderr",
     "output_type": "stream",
     "text": [
      " 40%|███▉      | 2395/6000 [00:34<00:39, 90.55it/s] "
     ]
    }
   ],
   "source": [
    "params_lst = train(data, config)"
   ]
  },
  {
   "cell_type": "code",
   "execution_count": null,
   "metadata": {},
   "outputs": [],
   "source": []
  }
 ],
 "metadata": {
  "kernelspec": {
   "display_name": "Python 3 (ipykernel)",
   "language": "python",
   "name": "python3"
  },
  "language_info": {
   "codemirror_mode": {
    "name": "ipython",
    "version": 3
   },
   "file_extension": ".py",
   "mimetype": "text/x-python",
   "name": "python",
   "nbconvert_exporter": "python",
   "pygments_lexer": "ipython3",
   "version": "3.11.3"
  },
  "orig_nbformat": 4
 },
 "nbformat": 4,
 "nbformat_minor": 2
}
