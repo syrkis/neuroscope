{
 "cells": [
  {
   "attachments": {},
   "cell_type": "markdown",
   "metadata": {},
   "source": [
    "# Neuroscape playground"
   ]
  },
  {
   "cell_type": "code",
   "execution_count": null,
   "metadata": {},
   "outputs": [],
   "source": []
  },
  {
   "cell_type": "code",
   "execution_count": 1,
   "metadata": {},
   "outputs": [
    {
     "name": "stderr",
     "output_type": "stream",
     "text": [
      "100%|██████████| 6/6 [00:00<00:00, 37.85it/s]\n",
      "100%|██████████| 6/6 [00:02<00:00,  2.01it/s]\n"
     ]
    }
   ],
   "source": [
    "import jax\n",
    "import numpy as np\n",
    "from src.data import get_data\n",
    "from src.utils import get_args_and_config\n",
    "from src.train import train\n",
    "from src.model import forward\n",
    "from src.eval import pearsons_corr"
   ]
  },
  {
   "attachments": {},
   "cell_type": "markdown",
   "metadata": {},
   "source": [
    "## data"
   ]
  },
  {
   "cell_type": "code",
   "execution_count": 2,
   "metadata": {},
   "outputs": [
    {
     "name": "stderr",
     "output_type": "stream",
     "text": [
      "100%|██████████| 2/2 [00:09<00:00,  4.93s/it]\n",
      "\u001b[34m\u001b[1mwandb\u001b[0m: Currently logged in as: \u001b[33msyrkis\u001b[0m. Use \u001b[1m`wandb login --relogin`\u001b[0m to force relogin\n"
     ]
    },
    {
     "data": {
      "text/html": [
       "Tracking run with wandb version 0.15.3"
      ],
      "text/plain": [
       "<IPython.core.display.HTML object>"
      ]
     },
     "metadata": {},
     "output_type": "display_data"
    },
    {
     "data": {
      "text/html": [
       "Run data is saved locally in <code>/home/nobr/neuroscope/wandb/run-20230603_135137-9dxkq5nq</code>"
      ],
      "text/plain": [
       "<IPython.core.display.HTML object>"
      ]
     },
     "metadata": {},
     "output_type": "display_data"
    },
    {
     "data": {
      "text/html": [
       "Syncing run <strong><a href='https://wandb.ai/syrkis/neuroscope/runs/9dxkq5nq' target=\"_blank\">exalted-breeze-82</a></strong> to <a href='https://wandb.ai/syrkis/neuroscope' target=\"_blank\">Weights & Biases</a> (<a href='https://wandb.me/run' target=\"_blank\">docs</a>)<br/>"
      ],
      "text/plain": [
       "<IPython.core.display.HTML object>"
      ]
     },
     "metadata": {},
     "output_type": "display_data"
    },
    {
     "data": {
      "text/html": [
       " View project at <a href='https://wandb.ai/syrkis/neuroscope' target=\"_blank\">https://wandb.ai/syrkis/neuroscope</a>"
      ],
      "text/plain": [
       "<IPython.core.display.HTML object>"
      ]
     },
     "metadata": {},
     "output_type": "display_data"
    },
    {
     "data": {
      "text/html": [
       " View run at <a href='https://wandb.ai/syrkis/neuroscope/runs/9dxkq5nq' target=\"_blank\">https://wandb.ai/syrkis/neuroscope/runs/9dxkq5nq</a>"
      ],
      "text/plain": [
       "<IPython.core.display.HTML object>"
      ]
     },
     "metadata": {},
     "output_type": "display_data"
    },
    {
     "name": "stderr",
     "output_type": "stream",
     "text": [
      "100%|██████████| 1000/1000 [00:48<00:00, 20.59it/s]\n"
     ]
    },
    {
     "data": {
      "text/html": [
       "Waiting for W&B process to finish... <strong style=\"color:green\">(success).</strong>"
      ],
      "text/plain": [
       "<IPython.core.display.HTML object>"
      ]
     },
     "metadata": {},
     "output_type": "display_data"
    },
    {
     "data": {
      "text/html": [
       "<style>\n",
       "    table.wandb td:nth-child(1) { padding: 0 10px; text-align: left ; width: auto;} td:nth-child(2) {text-align: left ; width: 100%}\n",
       "    .wandb-row { display: flex; flex-direction: row; flex-wrap: wrap; justify-content: flex-start; width: 100% }\n",
       "    .wandb-col { display: flex; flex-direction: column; flex-basis: 100%; flex: 1; padding: 10px; }\n",
       "    </style>\n",
       "<div class=\"wandb-row\"><div class=\"wandb-col\"><h3>Run history:</h3><br/><table class=\"wandb\"><tr><td>train_cat_loss</td><td>█▆▁▁▁▁▁▁▁▁▁▁▁▁▁▂▁▁▂▁▁▁▁▁▁▁▁▁▁▁▁▁▁▁▁▁▁▁▂▁</td></tr><tr><td>train_lh_loss</td><td>█▃▂▄▃▄▃▂▃▂▂▄▄▁▃▆▁▃▄▄▄▄▄▃▄▃▅▆▂▄▄▄▄▂▅▄▄▄▅▄</td></tr><tr><td>train_loss</td><td>█▄▂▃▂▃▂▂▃▂▂▃▃▁▂▃▁▂▂▂▃▂▂▂▃▂▃▃▁▂▃▂▃▁▂▂▁▂▃▂</td></tr><tr><td>train_rh_loss</td><td>█▄▂▄▃▄▃▂▄▃▃▄▄▁▂▄▁▃▃▃▃▃▃▂▄▃▄▅▂▂▃▃▄▁▃▂▂▂▄▃</td></tr><tr><td>val_cat_loss</td><td>█▆▂▁▁▁▁▁▁▁▂▁▁▁▁▁▁▁▁▁▁▁▁▁▁▁▁▁▁▁▁▁▁▁▁▁▁▂▁▁</td></tr><tr><td>val_lh_loss</td><td>▇▅█▄▇▅▃▅█▁▃▂▃▇▆▄▅▅▁▄▄▅▄▄▁▂▂▆▂▃▂▃▂▆▂▇▅▃▁▄</td></tr><tr><td>val_loss</td><td>█▅▄▂▄▃▃▃▄▁▃▂▃▃▄▃▃▃▂▃▃▃▃▃▁▂▃▄▃▃▂▃▃▄▃▄▃▄▂▃</td></tr><tr><td>val_rh_loss</td><td>█▄▆▃▆▄▄▅▆▂▄▂▅▄▇▄▅▄▃▅▄▅▄▅▁▃▄▆▄▅▃▄▄▇▅▇▅▆▂▄</td></tr></table><br/></div><div class=\"wandb-col\"><h3>Run summary:</h3><br/><table class=\"wandb\"><tr><td>train_cat_loss</td><td>3.08014</td></tr><tr><td>train_lh_loss</td><td>0.54834</td></tr><tr><td>train_loss</td><td>0.50785</td></tr><tr><td>train_rh_loss</td><td>0.48187</td></tr><tr><td>val_cat_loss</td><td>2.60713</td></tr><tr><td>val_lh_loss</td><td>0.54062</td></tr><tr><td>val_loss</td><td>0.53221</td></tr><tr><td>val_rh_loss</td><td>0.51125</td></tr></table><br/></div></div>"
      ],
      "text/plain": [
       "<IPython.core.display.HTML object>"
      ]
     },
     "metadata": {},
     "output_type": "display_data"
    },
    {
     "data": {
      "text/html": [
       " View run <strong style=\"color:#cdcd00\">exalted-breeze-82</strong> at: <a href='https://wandb.ai/syrkis/neuroscope/runs/9dxkq5nq' target=\"_blank\">https://wandb.ai/syrkis/neuroscope/runs/9dxkq5nq</a><br/>Synced 5 W&B file(s), 0 media file(s), 0 artifact file(s) and 0 other file(s)"
      ],
      "text/plain": [
       "<IPython.core.display.HTML object>"
      ]
     },
     "metadata": {},
     "output_type": "display_data"
    },
    {
     "data": {
      "text/html": [
       "Find logs at: <code>./wandb/run-20230603_135137-9dxkq5nq/logs</code>"
      ],
      "text/plain": [
       "<IPython.core.display.HTML object>"
      ]
     },
     "metadata": {},
     "output_type": "display_data"
    },
    {
     "data": {
      "text/html": [
       "Tracking run with wandb version 0.15.3"
      ],
      "text/plain": [
       "<IPython.core.display.HTML object>"
      ]
     },
     "metadata": {},
     "output_type": "display_data"
    },
    {
     "data": {
      "text/html": [
       "Run data is saved locally in <code>/home/nobr/neuroscope/wandb/run-20230603_135234-jo4my7ih</code>"
      ],
      "text/plain": [
       "<IPython.core.display.HTML object>"
      ]
     },
     "metadata": {},
     "output_type": "display_data"
    },
    {
     "data": {
      "text/html": [
       "Syncing run <strong><a href='https://wandb.ai/syrkis/neuroscope/runs/jo4my7ih' target=\"_blank\">snowy-snowball-83</a></strong> to <a href='https://wandb.ai/syrkis/neuroscope' target=\"_blank\">Weights & Biases</a> (<a href='https://wandb.me/run' target=\"_blank\">docs</a>)<br/>"
      ],
      "text/plain": [
       "<IPython.core.display.HTML object>"
      ]
     },
     "metadata": {},
     "output_type": "display_data"
    },
    {
     "data": {
      "text/html": [
       " View project at <a href='https://wandb.ai/syrkis/neuroscope' target=\"_blank\">https://wandb.ai/syrkis/neuroscope</a>"
      ],
      "text/plain": [
       "<IPython.core.display.HTML object>"
      ]
     },
     "metadata": {},
     "output_type": "display_data"
    },
    {
     "data": {
      "text/html": [
       " View run at <a href='https://wandb.ai/syrkis/neuroscope/runs/jo4my7ih' target=\"_blank\">https://wandb.ai/syrkis/neuroscope/runs/jo4my7ih</a>"
      ],
      "text/plain": [
       "<IPython.core.display.HTML object>"
      ]
     },
     "metadata": {},
     "output_type": "display_data"
    },
    {
     "name": "stderr",
     "output_type": "stream",
     "text": [
      " 96%|█████████▌| 960/1000 [00:41<00:01, 23.00it/s]\n"
     ]
    },
    {
     "ename": "KeyboardInterrupt",
     "evalue": "",
     "output_type": "error",
     "traceback": [
      "\u001b[0;31m---------------------------------------------------------------------------\u001b[0m",
      "\u001b[0;31mKeyboardInterrupt\u001b[0m                         Traceback (most recent call last)",
      "Cell \u001b[0;32mIn[2], line 3\u001b[0m\n\u001b[1;32m      1\u001b[0m args, config \u001b[39m=\u001b[39m get_args_and_config()\n\u001b[1;32m      2\u001b[0m data \u001b[39m=\u001b[39m get_data(args, config)\n\u001b[0;32m----> 3\u001b[0m params_lst \u001b[39m=\u001b[39m train(data, config)\n",
      "File \u001b[0;32m~/neuroscope/src/train.py:37\u001b[0m, in \u001b[0;36mtrain\u001b[0;34m(data, config)\u001b[0m\n\u001b[1;32m     35\u001b[0m \u001b[39mfor\u001b[39;00m subject, (folds, _) \u001b[39min\u001b[39;00m data\u001b[39m.\u001b[39mitems():\n\u001b[1;32m     36\u001b[0m     config[\u001b[39m'\u001b[39m\u001b[39msubject\u001b[39m\u001b[39m'\u001b[39m] \u001b[39m=\u001b[39m subject\n\u001b[0;32m---> 37\u001b[0m     params_lst \u001b[39m=\u001b[39m train_subject(folds, config)\n\u001b[1;32m     38\u001b[0m \u001b[39mreturn\u001b[39;00m params_lst\n",
      "File \u001b[0;32m~/neuroscope/src/train.py:48\u001b[0m, in \u001b[0;36mtrain_subject\u001b[0;34m(folds, config)\u001b[0m\n\u001b[1;32m     46\u001b[0m train_fold \u001b[39m=\u001b[39m partial(train_fold_fn, config\u001b[39m=\u001b[39mconfig)\n\u001b[1;32m     47\u001b[0m \u001b[39mfor\u001b[39;00m idx, (params, fold) \u001b[39min\u001b[39;00m \u001b[39menumerate\u001b[39m(\u001b[39mzip\u001b[39m(params_lst, data)):\n\u001b[0;32m---> 48\u001b[0m     params_lst[idx] \u001b[39m=\u001b[39m train_fold(params, fold)\n\u001b[1;32m     49\u001b[0m \u001b[39mreturn\u001b[39;00m params_lst\n",
      "File \u001b[0;32m~/neuroscope/src/train.py:65\u001b[0m, in \u001b[0;36mtrain_fold_fn\u001b[0;34m(params, fold, config)\u001b[0m\n\u001b[1;32m     63\u001b[0m params, opt_state \u001b[39m=\u001b[39m update(params, batch, opt_state)\n\u001b[1;32m     64\u001b[0m \u001b[39mif\u001b[39;00m step \u001b[39m%\u001b[39m (config[\u001b[39m'\u001b[39m\u001b[39mn_steps\u001b[39m\u001b[39m'\u001b[39m] \u001b[39m/\u001b[39m\u001b[39m/\u001b[39m \u001b[39m100\u001b[39m) \u001b[39m==\u001b[39m \u001b[39m0\u001b[39m:\n\u001b[0;32m---> 65\u001b[0m     metrics \u001b[39m=\u001b[39m evaluate(params, train_data, val_data, get_batch, config)\n\u001b[1;32m     66\u001b[0m     best_lh_val_loss \u001b[39m=\u001b[39m save_best_model(params, metrics[\u001b[39m'\u001b[39m\u001b[39mval_lh_loss\u001b[39m\u001b[39m'\u001b[39m], best_lh_val_loss, config[\u001b[39m'\u001b[39m\u001b[39msubject\u001b[39m\u001b[39m'\u001b[39m], \u001b[39m'\u001b[39m\u001b[39mlh\u001b[39m\u001b[39m'\u001b[39m)\n\u001b[1;32m     67\u001b[0m     best_rh_val_loss \u001b[39m=\u001b[39m save_best_model(params, metrics[\u001b[39m'\u001b[39m\u001b[39mval_rh_loss\u001b[39m\u001b[39m'\u001b[39m], best_rh_val_loss, config[\u001b[39m'\u001b[39m\u001b[39msubject\u001b[39m\u001b[39m'\u001b[39m], \u001b[39m'\u001b[39m\u001b[39mrh\u001b[39m\u001b[39m'\u001b[39m)\n",
      "File \u001b[0;32m~/neuroscope/src/eval.py:40\u001b[0m, in \u001b[0;36mevaluate\u001b[0;34m(params, train_data, val_data, get_batch, config, steps)\u001b[0m\n\u001b[1;32m     37\u001b[0m val_lh_loss \u001b[39m=\u001b[39m mse(val_pred[\u001b[39m0\u001b[39m], val_batch[\u001b[39m1\u001b[39m])\n\u001b[1;32m     39\u001b[0m train_rh_loss \u001b[39m=\u001b[39m mse(train_pred[\u001b[39m1\u001b[39m], train_batch[\u001b[39m2\u001b[39m])\n\u001b[0;32m---> 40\u001b[0m val_rh_loss \u001b[39m=\u001b[39m mse(val_pred[\u001b[39m1\u001b[39;49m], val_batch[\u001b[39m2\u001b[39;49m])\n\u001b[1;32m     42\u001b[0m train_cat_loss \u001b[39m=\u001b[39m focal_loss(train_pred[\u001b[39m2\u001b[39m], train_batch[\u001b[39m3\u001b[39m])\n\u001b[1;32m     43\u001b[0m val_cat_loss \u001b[39m=\u001b[39m focal_loss(val_pred[\u001b[39m2\u001b[39m], val_batch[\u001b[39m3\u001b[39m])\n",
      "File \u001b[0;32m~/neuroscope/src/model.py:73\u001b[0m, in \u001b[0;36mmse\u001b[0;34m(pred, target)\u001b[0m\n\u001b[1;32m     71\u001b[0m \u001b[39mdef\u001b[39;00m \u001b[39mmse\u001b[39m(pred, target):\n\u001b[1;32m     72\u001b[0m \u001b[39m    \u001b[39m\u001b[39m\"\"\"loss function\"\"\"\u001b[39;00m\n\u001b[0;32m---> 73\u001b[0m     _mse \u001b[39m=\u001b[39m jnp\u001b[39m.\u001b[39mmean((pred \u001b[39m-\u001b[39;49m target) \u001b[39m*\u001b[39m\u001b[39m*\u001b[39m \u001b[39m2\u001b[39m)\n\u001b[1;32m     74\u001b[0m     \u001b[39mreturn\u001b[39;00m _mse\n",
      "File \u001b[0;32m/usr/local/lib/python3.11/dist-packages/jax/_src/numpy/array_methods.py:258\u001b[0m, in \u001b[0;36m_defer_to_unrecognized_arg.<locals>.deferring_binary_op\u001b[0;34m(self, other)\u001b[0m\n\u001b[1;32m    256\u001b[0m args \u001b[39m=\u001b[39m (other, \u001b[39mself\u001b[39m) \u001b[39mif\u001b[39;00m swap \u001b[39melse\u001b[39;00m (\u001b[39mself\u001b[39m, other)\n\u001b[1;32m    257\u001b[0m \u001b[39mif\u001b[39;00m \u001b[39misinstance\u001b[39m(other, _accepted_binop_types):\n\u001b[0;32m--> 258\u001b[0m   \u001b[39mreturn\u001b[39;00m binary_op(\u001b[39m*\u001b[39;49margs)\n\u001b[1;32m    259\u001b[0m \u001b[39mif\u001b[39;00m \u001b[39misinstance\u001b[39m(other, _rejected_binop_types):\n\u001b[1;32m    260\u001b[0m   \u001b[39mraise\u001b[39;00m \u001b[39mTypeError\u001b[39;00m(\u001b[39mf\u001b[39m\u001b[39m\"\u001b[39m\u001b[39munsupported operand type(s) for \u001b[39m\u001b[39m{\u001b[39;00mopchar\u001b[39m}\u001b[39;00m\u001b[39m: \u001b[39m\u001b[39m\"\u001b[39m\n\u001b[1;32m    261\u001b[0m                   \u001b[39mf\u001b[39m\u001b[39m\"\u001b[39m\u001b[39m{\u001b[39;00m\u001b[39mtype\u001b[39m(args[\u001b[39m0\u001b[39m])\u001b[39m.\u001b[39m\u001b[39m__name__\u001b[39m\u001b[39m!r}\u001b[39;00m\u001b[39m and \u001b[39m\u001b[39m{\u001b[39;00m\u001b[39mtype\u001b[39m(args[\u001b[39m1\u001b[39m])\u001b[39m.\u001b[39m\u001b[39m__name__\u001b[39m\u001b[39m!r}\u001b[39;00m\u001b[39m\"\u001b[39m)\n",
      "\u001b[0;31mKeyboardInterrupt\u001b[0m: "
     ]
    }
   ],
   "source": [
    "args, config = get_args_and_config()\n",
    "data = get_data(args, config)\n",
    "params_lst = train(data, config)"
   ]
  },
  {
   "cell_type": "code",
   "execution_count": null,
   "metadata": {},
   "outputs": [],
   "source": []
  }
 ],
 "metadata": {
  "kernelspec": {
   "display_name": "Python 3 (ipykernel)",
   "language": "python",
   "name": "python3"
  },
  "language_info": {
   "codemirror_mode": {
    "name": "ipython",
    "version": 3
   },
   "file_extension": ".py",
   "mimetype": "text/x-python",
   "name": "python",
   "nbconvert_exporter": "python",
   "pygments_lexer": "ipython3",
   "version": "3.11.3"
  },
  "orig_nbformat": 4
 },
 "nbformat": 4,
 "nbformat_minor": 2
}
