{
 "cells": [
  {
   "attachments": {},
   "cell_type": "markdown",
   "metadata": {},
   "source": [
    "# Neuroscape playground"
   ]
  },
  {
   "cell_type": "code",
   "execution_count": 11,
   "metadata": {},
   "outputs": [],
   "source": [
    "import jax\n",
    "import jax.numpy as jnp\n",
    "from jax import grad, jit, vmap\n",
    "import optax\n",
    "from tqdm import tqdm\n",
    "import haiku as hk\n",
    "import numpy as np\n",
    "import wandb\n",
    "from functools import partial\n",
    "from src.data import get_data\n",
    "from src.utils import get_args_and_config\n",
    "from src.fmri import plot_brain"
   ]
  },
  {
   "attachments": {},
   "cell_type": "markdown",
   "metadata": {},
   "source": [
    "## data"
   ]
  },
  {
   "cell_type": "code",
   "execution_count": 2,
   "metadata": {},
   "outputs": [
    {
     "name": "stderr",
     "output_type": "stream",
     "text": [
      "100%|██████████| 6/6 [00:31<00:00,  5.31s/it]\n"
     ]
    }
   ],
   "source": [
    "args, _ = get_args_and_config()\n",
    "data = get_data(args)"
   ]
  },
  {
   "cell_type": "code",
   "execution_count": 3,
   "metadata": {},
   "outputs": [],
   "source": [
    "opt = optax.adamw(0.001)  # perhaps hyper param search for lr and weight decay"
   ]
  },
  {
   "cell_type": "code",
   "execution_count": 4,
   "metadata": {},
   "outputs": [],
   "source": [
    "def forward(x):\n",
    "    x_mlp = hk.Sequential([\n",
    "        hk.nets.MLP([100] * 1, activation=jnp.tanh),\n",
    "        hk.Linear(100),\n",
    "    ])\n",
    "    lh_ml = hk.Sequential([\n",
    "        hk.nets.MLP([100] * 1, activation=jnp.tanh),\n",
    "        hk.Linear(19004),\n",
    "    ])\n",
    "    rh_ml = hk.Sequential([\n",
    "        hk.nets.MLP([100] * 1, activation=jnp.tanh),\n",
    "        hk.Linear(20544),\n",
    "    ])\n",
    "    x = x_mlp(x)\n",
    "    lh_hat = lh_ml(x)\n",
    "    rh_hat = rh_ml(x)\n",
    "    return lh_hat, rh_hat\n",
    "\n",
    "init_fn, apply_fn = hk.without_apply_rng(hk.transform(forward))\n",
    "\n",
    "\n",
    "def loss_fn(params, batch, hem):\n",
    "    x, lh, rh = batch\n",
    "    lh_hat, rh_hat = apply_fn(params, x)\n",
    "    return jnp.mean((lh_hat - lh) ** 2) if hem == 'lh' else jnp.mean((rh_hat - rh) ** 2)\n",
    "\n",
    "lh_loss_fn = jit(partial(loss_fn, hem='lh'))\n",
    "rh_loss_fn = jit(partial(loss_fn, hem='rh'))"
   ]
  },
  {
   "cell_type": "code",
   "execution_count": 12,
   "metadata": {},
   "outputs": [],
   "source": [
    "def get_fold(fold, fold_idx):\n",
    "    train_data = [fold for idx, fold in enumerate(fold) if idx != fold_idx]\n",
    "    train_data = list(map(jnp.vstack, zip(*train_data)))\n",
    "    val_data = fold[fold_idx]\n",
    "    return train_data, val_data\n",
    "\n",
    "def get_batch(data, batch_size):\n",
    "    while True:\n",
    "        perm = np.random.permutation(data[0].shape[0])\n",
    "        for i in range(0, data[0].shape[0], batch_size):\n",
    "            idx = perm[i:i + batch_size]\n",
    "            x = jnp.concatenate([data[0][idx], data[3][idx]], axis=1)\n",
    "            lh = data[1][idx]\n",
    "            rh = data[2][idx]\n",
    "            yield x, lh, rh\n",
    "            \n",
    "def train(model, data, config):\n",
    "    group = wandb.util.generate_id()\n",
    "    for subject, (folds, _) in data.items():\n",
    "        for i in range(len(folds)):\n",
    "            config['fold'], config['subject'] = i, subject\n",
    "            with wandb.init(project=\"neuroscope\", entity='syrkis', group=group) as run:\n",
    "                train_data, val_data = get_fold(folds, i)\n",
    "                train_fold(model, train_data, val_data, config)\n",
    "\n",
    "def train_fold(model, train_data, val_data, config):\n",
    "    lh_params = init_fn(jax.random.PRNGKey(42), jnp.ones((1, 180)))\n",
    "    rh_params = init_fn(jax.random.PRNGKey(42), jnp.ones((1, 180)))\n",
    "    lh_opt_state = opt.init(lh_params)\n",
    "    rh_opt_state = opt.init(rh_params)\n",
    "    train_batches = get_batch(train_data, config['batch_size'])\n",
    "    val_batches = get_batch(val_data, config['batch_size'])\n",
    "    for step in tqdm(range(config['n_steps'])):\n",
    "        train_batch = next(train_batches)\n",
    "        lh_params, lh_opt_state = lh_update(lh_params, train_batch, lh_opt_state)\n",
    "        rh_params, rh_opt_state = rh_update(rh_params, train_batch, rh_opt_state)\n",
    "        if step % (config['n_steps'] // 100) == 0:\n",
    "            metrics = evaluate(lh_params, rh_params, train_batches, val_batches)\n",
    "            wandb.log(metrics)\n",
    "    wandb.finish()\n",
    "\n",
    "def evaluate(lh_params, rh_params, train_batches, val_batches):\n",
    "    train_metrics = evaluate_fold(lh_params, rh_params, train_batches)\n",
    "    val_metrics = evaluate_fold(lh_params, rh_params, val_batches)\n",
    "    metrics = {f'train_{k}': v for k, v in train_metrics.items()}\n",
    "    metrics.update({f'val_{k}': v for k, v in val_metrics.items()})\n",
    "    return metrics\n",
    "\n",
    "def evaluate_fold(lh_params, rh_params, batches, steps=3):\n",
    "    metrics = {}\n",
    "    for i in range(steps):\n",
    "        batch = next(batches)\n",
    "        batch_metrics = evaluate_batch(lh_params, rh_params, batch)\n",
    "        metrics = {k: metrics.get(k, 0) + v for k, v in batch_metrics.items()}\n",
    "    metrics = {k: v / steps for k, v in metrics.items()}\n",
    "    return metrics\n",
    "    \n",
    "\n",
    "def evaluate_batch(lh_params, rh_params, batch):\n",
    "    metrics = {}\n",
    "    for hem, params in zip(['lh', 'rh'], [lh_params, rh_params]):\n",
    "        mse, corr = evaluate_hem(params, batch, hem)\n",
    "        metrics[f'{hem}_mse'] = mse\n",
    "        metrics[f'{hem}_corr'] = corr\n",
    "    return metrics\n",
    "\n",
    "def evaluate_hem(params, batch, hem):\n",
    "    x, lh, rh = batch\n",
    "    lh_hat, rh_hat = apply_fn(params, x)\n",
    "    mse = jnp.mean((lh_hat - lh) ** 2) if hem == 'lh' else jnp.mean((rh_hat - rh) ** 2)\n",
    "    # compute the median collumn wise correlation\n",
    "    corr = pearsonr(lh_hat, lh) if hem == 'lh' else pearsonr(rh_hat, rh)\n",
    "    return mse, jnp.median(corr)\n",
    "\n",
    "\n",
    "# function for computing pearson's correlation coefficient for each voxel of a subject's fMRI data\n",
    "def pearsonr(pred, target):\n",
    "    def _pearsonr(x, y):\n",
    "        corr = jnp.corrcoef(x, y)\n",
    "        return corr[0, 1]\n",
    "    hem_corr = vmap(_pearsonr)(pred.T, target.T)\n",
    "    return hem_corr\n",
    "\n",
    "\n",
    "\n",
    "def update(params, batch, opt_state, hem):\n",
    "    \"\"\"update function\"\"\"\n",
    "    loss_fn = lh_loss_fn if hem == 'lh' else rh_loss_fn\n",
    "    grads = grad(loss_fn)(params, batch)\n",
    "    updates, opt_state = opt.update(grads, opt_state, params)\n",
    "    new_params = optax.apply_updates(params, updates)\n",
    "    return new_params, opt_state\n",
    "\n",
    "lh_update = jit(partial(update, hem='lh'))\n",
    "rh_update = jit(partial(update, hem='rh'))"
   ]
  },
  {
   "cell_type": "code",
   "execution_count": 13,
   "metadata": {},
   "outputs": [],
   "source": [
    "config = { 'n_steps': 6000, 'batch_size': 32 }"
   ]
  },
  {
   "cell_type": "code",
   "execution_count": 14,
   "metadata": {},
   "outputs": [
    {
     "data": {
      "text/html": [
       "Tracking run with wandb version 0.15.3"
      ],
      "text/plain": [
       "<IPython.core.display.HTML object>"
      ]
     },
     "metadata": {},
     "output_type": "display_data"
    },
    {
     "data": {
      "text/html": [
       "Run data is saved locally in <code>/home/nobr/neuroscope/wandb/run-20230605_230301-pzbc46tc</code>"
      ],
      "text/plain": [
       "<IPython.core.display.HTML object>"
      ]
     },
     "metadata": {},
     "output_type": "display_data"
    },
    {
     "data": {
      "text/html": [
       "Syncing run <strong><a href='https://wandb.ai/syrkis/neuroscope/runs/pzbc46tc' target=\"_blank\">restful-plant-988</a></strong> to <a href='https://wandb.ai/syrkis/neuroscope' target=\"_blank\">Weights & Biases</a> (<a href='https://wandb.me/run' target=\"_blank\">docs</a>)<br/>"
      ],
      "text/plain": [
       "<IPython.core.display.HTML object>"
      ]
     },
     "metadata": {},
     "output_type": "display_data"
    },
    {
     "data": {
      "text/html": [
       " View project at <a href='https://wandb.ai/syrkis/neuroscope' target=\"_blank\">https://wandb.ai/syrkis/neuroscope</a>"
      ],
      "text/plain": [
       "<IPython.core.display.HTML object>"
      ]
     },
     "metadata": {},
     "output_type": "display_data"
    },
    {
     "data": {
      "text/html": [
       " View run at <a href='https://wandb.ai/syrkis/neuroscope/runs/pzbc46tc' target=\"_blank\">https://wandb.ai/syrkis/neuroscope/runs/pzbc46tc</a>"
      ],
      "text/plain": [
       "<IPython.core.display.HTML object>"
      ]
     },
     "metadata": {},
     "output_type": "display_data"
    },
    {
     "name": "stderr",
     "output_type": "stream",
     "text": [
      "100%|██████████| 6000/6000 [00:53<00:00, 112.90it/s]\n"
     ]
    },
    {
     "data": {
      "text/html": [
       "Waiting for W&B process to finish... <strong style=\"color:green\">(success).</strong>"
      ],
      "text/plain": [
       "<IPython.core.display.HTML object>"
      ]
     },
     "metadata": {},
     "output_type": "display_data"
    },
    {
     "data": {
      "text/html": [
       "<style>\n",
       "    table.wandb td:nth-child(1) { padding: 0 10px; text-align: left ; width: auto;} td:nth-child(2) {text-align: left ; width: 100%}\n",
       "    .wandb-row { display: flex; flex-direction: row; flex-wrap: wrap; justify-content: flex-start; width: 100% }\n",
       "    .wandb-col { display: flex; flex-direction: column; flex-basis: 100%; flex: 1; padding: 10px; }\n",
       "    </style>\n",
       "<div class=\"wandb-row\"><div class=\"wandb-col\"><h3>Run history:</h3><br/><table class=\"wandb\"><tr><td>train_lh_corr</td><td>▁▁▂▄▅▅▆▆▇▆▇▆▆▇▆▇▆▆▆▆▆█▇▇▆▇█▇█▇▇██▇█▇█▇▇▇</td></tr><tr><td>train_lh_mse</td><td>█▁▁▁▁▁▁▁▁▁▁▁▁▁▁▁▁▁▁▁▁▁▁▁▁▁▁▁▁▁▁▁▁▁▁▁▁▁▁▁</td></tr><tr><td>train_rh_corr</td><td>▁▁▂▄▅▅▆▆▇▆▇▇▆▇▅▇▆▆▆▆▆▇▇▆▇▇███▇▆██▇█▇█▇▇█</td></tr><tr><td>train_rh_mse</td><td>█▁▁▁▁▁▁▁▁▁▁▁▁▁▁▁▁▁▁▁▁▁▁▁▁▁▁▁▁▁▁▁▁▁▁▁▁▁▁▁</td></tr><tr><td>val_lh_corr</td><td>▁▁▂▃▆▆▇▆▆▇▆▆▆▇▆▆▇▆▆▇▆▇█▆▇▇▇▆▇▇▇▇▇▇▇█▇▆▆▆</td></tr><tr><td>val_lh_mse</td><td>█▁▁▁▁▁▁▁▁▁▁▁▁▁▁▁▁▁▁▁▁▁▁▁▁▁▁▁▁▁▁▁▁▁▁▁▁▁▁▁</td></tr><tr><td>val_rh_corr</td><td>▁▁▂▃▆▅▆▇▆▇▆▆▇▇▆▇▇▇▇▇▆▇█▇▇█▇▇▇▇▇▇▇█▇█▇▇▇▆</td></tr><tr><td>val_rh_mse</td><td>█▁▁▁▁▁▁▁▁▁▁▁▁▁▁▁▁▁▁▁▁▁▁▁▁▁▁▁▁▁▁▁▁▁▁▁▁▁▁▁</td></tr></table><br/></div><div class=\"wandb-col\"><h3>Run summary:</h3><br/><table class=\"wandb\"><tr><td>train_lh_corr</td><td>0.23359</td></tr><tr><td>train_lh_mse</td><td>0.47479</td></tr><tr><td>train_rh_corr</td><td>0.23455</td></tr><tr><td>train_rh_mse</td><td>0.4657</td></tr><tr><td>val_lh_corr</td><td>0.19622</td></tr><tr><td>val_lh_mse</td><td>0.46772</td></tr><tr><td>val_rh_corr</td><td>0.18611</td></tr><tr><td>val_rh_mse</td><td>0.47572</td></tr></table><br/></div></div>"
      ],
      "text/plain": [
       "<IPython.core.display.HTML object>"
      ]
     },
     "metadata": {},
     "output_type": "display_data"
    },
    {
     "data": {
      "text/html": [
       " View run <strong style=\"color:#cdcd00\">restful-plant-988</strong> at: <a href='https://wandb.ai/syrkis/neuroscope/runs/pzbc46tc' target=\"_blank\">https://wandb.ai/syrkis/neuroscope/runs/pzbc46tc</a><br/>Synced 5 W&B file(s), 0 media file(s), 0 artifact file(s) and 0 other file(s)"
      ],
      "text/plain": [
       "<IPython.core.display.HTML object>"
      ]
     },
     "metadata": {},
     "output_type": "display_data"
    },
    {
     "data": {
      "text/html": [
       "Find logs at: <code>./wandb/run-20230605_230301-pzbc46tc/logs</code>"
      ],
      "text/plain": [
       "<IPython.core.display.HTML object>"
      ]
     },
     "metadata": {},
     "output_type": "display_data"
    },
    {
     "data": {
      "text/html": [
       "Tracking run with wandb version 0.15.3"
      ],
      "text/plain": [
       "<IPython.core.display.HTML object>"
      ]
     },
     "metadata": {},
     "output_type": "display_data"
    },
    {
     "data": {
      "text/html": [
       "Run data is saved locally in <code>/home/nobr/neuroscope/wandb/run-20230605_230359-ig9mf2s6</code>"
      ],
      "text/plain": [
       "<IPython.core.display.HTML object>"
      ]
     },
     "metadata": {},
     "output_type": "display_data"
    },
    {
     "data": {
      "text/html": [
       "Syncing run <strong><a href='https://wandb.ai/syrkis/neuroscope/runs/ig9mf2s6' target=\"_blank\">stoic-lion-990</a></strong> to <a href='https://wandb.ai/syrkis/neuroscope' target=\"_blank\">Weights & Biases</a> (<a href='https://wandb.me/run' target=\"_blank\">docs</a>)<br/>"
      ],
      "text/plain": [
       "<IPython.core.display.HTML object>"
      ]
     },
     "metadata": {},
     "output_type": "display_data"
    },
    {
     "data": {
      "text/html": [
       " View project at <a href='https://wandb.ai/syrkis/neuroscope' target=\"_blank\">https://wandb.ai/syrkis/neuroscope</a>"
      ],
      "text/plain": [
       "<IPython.core.display.HTML object>"
      ]
     },
     "metadata": {},
     "output_type": "display_data"
    },
    {
     "data": {
      "text/html": [
       " View run at <a href='https://wandb.ai/syrkis/neuroscope/runs/ig9mf2s6' target=\"_blank\">https://wandb.ai/syrkis/neuroscope/runs/ig9mf2s6</a>"
      ],
      "text/plain": [
       "<IPython.core.display.HTML object>"
      ]
     },
     "metadata": {},
     "output_type": "display_data"
    },
    {
     "name": "stderr",
     "output_type": "stream",
     "text": [
      "100%|██████████| 6000/6000 [00:47<00:00, 127.20it/s]\n"
     ]
    },
    {
     "data": {
      "text/html": [
       "Waiting for W&B process to finish... <strong style=\"color:green\">(success).</strong>"
      ],
      "text/plain": [
       "<IPython.core.display.HTML object>"
      ]
     },
     "metadata": {},
     "output_type": "display_data"
    },
    {
     "data": {
      "text/html": [
       "<style>\n",
       "    table.wandb td:nth-child(1) { padding: 0 10px; text-align: left ; width: auto;} td:nth-child(2) {text-align: left ; width: 100%}\n",
       "    .wandb-row { display: flex; flex-direction: row; flex-wrap: wrap; justify-content: flex-start; width: 100% }\n",
       "    .wandb-col { display: flex; flex-direction: column; flex-basis: 100%; flex: 1; padding: 10px; }\n",
       "    </style>\n",
       "<div class=\"wandb-row\"><div class=\"wandb-col\"><h3>Run history:</h3><br/><table class=\"wandb\"><tr><td>train_lh_corr</td><td>▁▁▂▄▅▆▇▆▇▆▆▆▆▆▆▆▇▆▇▇▆▆▇▇▆▇██▆▅▇▆▇█▇▇▆▆▇█</td></tr><tr><td>train_lh_mse</td><td>█▁▁▁▁▁▁▁▁▁▁▁▁▁▁▁▁▁▁▁▁▁▁▁▁▁▁▁▁▁▁▁▁▁▁▁▁▁▁▁</td></tr><tr><td>train_rh_corr</td><td>▁▁▂▃▅▅▇▆▇▆▆▆▅▆▆▆▇▆▆▇▆▆▇▇▇▇██▅▅█▆▇▇▆▇▆▆▇▇</td></tr><tr><td>train_rh_mse</td><td>█▁▁▁▁▁▁▁▁▁▁▁▁▁▁▁▁▁▁▁▁▁▁▁▁▁▁▁▁▁▁▁▁▁▁▁▁▁▁▁</td></tr><tr><td>val_lh_corr</td><td>▁▁▂▄▅▇▇▆▆▆▇▇▇▆▇▇▆▇▆▇▇▅▇▇▇▇▇▇▇▆▆▇▆▆▆▆▇█▆▇</td></tr><tr><td>val_lh_mse</td><td>█▁▁▁▁▁▁▁▁▁▁▁▁▁▁▁▁▁▁▁▁▁▁▁▁▁▁▁▁▁▁▁▁▁▁▁▁▁▁▁</td></tr><tr><td>val_rh_corr</td><td>▁▁▂▃▅▆▆▆▆▆▇▇▇▆▇▆▆▇▆▇▇▅▅▆▇▇▆▇▇▆▇▇▆▆▇▆▇█▆▆</td></tr><tr><td>val_rh_mse</td><td>█▁▁▁▁▁▁▁▁▁▁▁▁▁▁▁▁▁▁▁▁▁▁▁▁▁▁▁▁▁▁▁▁▁▁▁▁▁▁▁</td></tr></table><br/></div><div class=\"wandb-col\"><h3>Run summary:</h3><br/><table class=\"wandb\"><tr><td>train_lh_corr</td><td>0.26687</td></tr><tr><td>train_lh_mse</td><td>0.45612</td></tr><tr><td>train_rh_corr</td><td>0.25118</td></tr><tr><td>train_rh_mse</td><td>0.45665</td></tr><tr><td>val_lh_corr</td><td>0.19933</td></tr><tr><td>val_lh_mse</td><td>0.47416</td></tr><tr><td>val_rh_corr</td><td>0.18137</td></tr><tr><td>val_rh_mse</td><td>0.48689</td></tr></table><br/></div></div>"
      ],
      "text/plain": [
       "<IPython.core.display.HTML object>"
      ]
     },
     "metadata": {},
     "output_type": "display_data"
    },
    {
     "data": {
      "text/html": [
       " View run <strong style=\"color:#cdcd00\">stoic-lion-990</strong> at: <a href='https://wandb.ai/syrkis/neuroscope/runs/ig9mf2s6' target=\"_blank\">https://wandb.ai/syrkis/neuroscope/runs/ig9mf2s6</a><br/>Synced 5 W&B file(s), 0 media file(s), 0 artifact file(s) and 0 other file(s)"
      ],
      "text/plain": [
       "<IPython.core.display.HTML object>"
      ]
     },
     "metadata": {},
     "output_type": "display_data"
    },
    {
     "data": {
      "text/html": [
       "Find logs at: <code>./wandb/run-20230605_230359-ig9mf2s6/logs</code>"
      ],
      "text/plain": [
       "<IPython.core.display.HTML object>"
      ]
     },
     "metadata": {},
     "output_type": "display_data"
    },
    {
     "data": {
      "text/html": [
       "Tracking run with wandb version 0.15.3"
      ],
      "text/plain": [
       "<IPython.core.display.HTML object>"
      ]
     },
     "metadata": {},
     "output_type": "display_data"
    },
    {
     "data": {
      "text/html": [
       "Run data is saved locally in <code>/home/nobr/neuroscope/wandb/run-20230605_230451-uo7xjb4f</code>"
      ],
      "text/plain": [
       "<IPython.core.display.HTML object>"
      ]
     },
     "metadata": {},
     "output_type": "display_data"
    },
    {
     "data": {
      "text/html": [
       "Syncing run <strong><a href='https://wandb.ai/syrkis/neuroscope/runs/uo7xjb4f' target=\"_blank\">fluent-capybara-992</a></strong> to <a href='https://wandb.ai/syrkis/neuroscope' target=\"_blank\">Weights & Biases</a> (<a href='https://wandb.me/run' target=\"_blank\">docs</a>)<br/>"
      ],
      "text/plain": [
       "<IPython.core.display.HTML object>"
      ]
     },
     "metadata": {},
     "output_type": "display_data"
    },
    {
     "data": {
      "text/html": [
       " View project at <a href='https://wandb.ai/syrkis/neuroscope' target=\"_blank\">https://wandb.ai/syrkis/neuroscope</a>"
      ],
      "text/plain": [
       "<IPython.core.display.HTML object>"
      ]
     },
     "metadata": {},
     "output_type": "display_data"
    },
    {
     "data": {
      "text/html": [
       " View run at <a href='https://wandb.ai/syrkis/neuroscope/runs/uo7xjb4f' target=\"_blank\">https://wandb.ai/syrkis/neuroscope/runs/uo7xjb4f</a>"
      ],
      "text/plain": [
       "<IPython.core.display.HTML object>"
      ]
     },
     "metadata": {},
     "output_type": "display_data"
    },
    {
     "name": "stderr",
     "output_type": "stream",
     "text": [
      "100%|██████████| 6000/6000 [00:52<00:00, 114.38it/s]\n"
     ]
    },
    {
     "data": {
      "text/html": [
       "Waiting for W&B process to finish... <strong style=\"color:green\">(success).</strong>"
      ],
      "text/plain": [
       "<IPython.core.display.HTML object>"
      ]
     },
     "metadata": {},
     "output_type": "display_data"
    },
    {
     "data": {
      "text/html": [
       "<style>\n",
       "    table.wandb td:nth-child(1) { padding: 0 10px; text-align: left ; width: auto;} td:nth-child(2) {text-align: left ; width: 100%}\n",
       "    .wandb-row { display: flex; flex-direction: row; flex-wrap: wrap; justify-content: flex-start; width: 100% }\n",
       "    .wandb-col { display: flex; flex-direction: column; flex-basis: 100%; flex: 1; padding: 10px; }\n",
       "    </style>\n",
       "<div class=\"wandb-row\"><div class=\"wandb-col\"><h3>Run history:</h3><br/><table class=\"wandb\"><tr><td>train_lh_corr</td><td>▁▁▃▄▅▇▆▇▆▇▆▅▇▇▇▇▆▆▆▇▆▆▇▇▇▇▇▇▇▆█▇█▇█▆▆▇█▆</td></tr><tr><td>train_lh_mse</td><td>█▁▁▁▁▁▁▁▁▁▁▁▁▁▁▁▁▁▁▁▁▁▁▁▁▁▁▁▁▁▁▁▁▁▁▁▁▁▁▁</td></tr><tr><td>train_rh_corr</td><td>▁▁▂▄▅▆▆▆▆▇▆▅▇▇▆▇▆▆▆▆▆▆▆▆▆▇▇▆▇▇▆▇▆▆▇▆▆█▇▇</td></tr><tr><td>train_rh_mse</td><td>█▁▁▁▁▁▁▁▁▁▁▁▁▁▁▁▁▁▁▁▁▁▁▁▁▁▁▁▁▁▁▁▁▁▁▁▁▁▁▁</td></tr><tr><td>val_lh_corr</td><td>▁▁▂▄▄▅▆▇▅▆▅█▆▆▆▇▆▆▆▆▇▆▇▆▇▆▆▇▇▇▆█▆▅▇▇▆▇▇▇</td></tr><tr><td>val_lh_mse</td><td>█▁▁▁▁▁▁▁▁▁▁▁▁▁▁▁▁▁▁▁▁▁▁▁▁▁▁▁▁▁▁▁▁▁▁▁▁▁▁▁</td></tr><tr><td>val_rh_corr</td><td>▁▁▂▃▄▄▆█▅▇▅█▇▆▇▇▆▆▆▆▇▇▇▆▆▆▇▇▇▇▆█▆▆▇▇▆▇█▇</td></tr><tr><td>val_rh_mse</td><td>█▁▁▁▁▁▁▁▁▁▁▁▁▁▁▁▁▁▁▁▁▁▁▁▁▁▁▁▁▁▁▁▁▁▁▁▁▁▁▁</td></tr></table><br/></div><div class=\"wandb-col\"><h3>Run summary:</h3><br/><table class=\"wandb\"><tr><td>train_lh_corr</td><td>0.20718</td></tr><tr><td>train_lh_mse</td><td>0.46447</td></tr><tr><td>train_rh_corr</td><td>0.22604</td></tr><tr><td>train_rh_mse</td><td>0.45139</td></tr><tr><td>val_lh_corr</td><td>0.22924</td></tr><tr><td>val_lh_mse</td><td>0.46685</td></tr><tr><td>val_rh_corr</td><td>0.22754</td></tr><tr><td>val_rh_mse</td><td>0.46586</td></tr></table><br/></div></div>"
      ],
      "text/plain": [
       "<IPython.core.display.HTML object>"
      ]
     },
     "metadata": {},
     "output_type": "display_data"
    },
    {
     "data": {
      "text/html": [
       " View run <strong style=\"color:#cdcd00\">fluent-capybara-992</strong> at: <a href='https://wandb.ai/syrkis/neuroscope/runs/uo7xjb4f' target=\"_blank\">https://wandb.ai/syrkis/neuroscope/runs/uo7xjb4f</a><br/>Synced 5 W&B file(s), 0 media file(s), 0 artifact file(s) and 0 other file(s)"
      ],
      "text/plain": [
       "<IPython.core.display.HTML object>"
      ]
     },
     "metadata": {},
     "output_type": "display_data"
    },
    {
     "data": {
      "text/html": [
       "Find logs at: <code>./wandb/run-20230605_230451-uo7xjb4f/logs</code>"
      ],
      "text/plain": [
       "<IPython.core.display.HTML object>"
      ]
     },
     "metadata": {},
     "output_type": "display_data"
    },
    {
     "data": {
      "text/html": [
       "Tracking run with wandb version 0.15.3"
      ],
      "text/plain": [
       "<IPython.core.display.HTML object>"
      ]
     },
     "metadata": {},
     "output_type": "display_data"
    },
    {
     "data": {
      "text/html": [
       "Run data is saved locally in <code>/home/nobr/neuroscope/wandb/run-20230605_230550-fpdysgbz</code>"
      ],
      "text/plain": [
       "<IPython.core.display.HTML object>"
      ]
     },
     "metadata": {},
     "output_type": "display_data"
    },
    {
     "data": {
      "text/html": [
       "Syncing run <strong><a href='https://wandb.ai/syrkis/neuroscope/runs/fpdysgbz' target=\"_blank\">driven-plant-994</a></strong> to <a href='https://wandb.ai/syrkis/neuroscope' target=\"_blank\">Weights & Biases</a> (<a href='https://wandb.me/run' target=\"_blank\">docs</a>)<br/>"
      ],
      "text/plain": [
       "<IPython.core.display.HTML object>"
      ]
     },
     "metadata": {},
     "output_type": "display_data"
    },
    {
     "data": {
      "text/html": [
       " View project at <a href='https://wandb.ai/syrkis/neuroscope' target=\"_blank\">https://wandb.ai/syrkis/neuroscope</a>"
      ],
      "text/plain": [
       "<IPython.core.display.HTML object>"
      ]
     },
     "metadata": {},
     "output_type": "display_data"
    },
    {
     "data": {
      "text/html": [
       " View run at <a href='https://wandb.ai/syrkis/neuroscope/runs/fpdysgbz' target=\"_blank\">https://wandb.ai/syrkis/neuroscope/runs/fpdysgbz</a>"
      ],
      "text/plain": [
       "<IPython.core.display.HTML object>"
      ]
     },
     "metadata": {},
     "output_type": "display_data"
    },
    {
     "name": "stderr",
     "output_type": "stream",
     "text": [
      "100%|██████████| 6000/6000 [00:47<00:00, 127.48it/s]\n"
     ]
    },
    {
     "data": {
      "text/html": [
       "Waiting for W&B process to finish... <strong style=\"color:green\">(success).</strong>"
      ],
      "text/plain": [
       "<IPython.core.display.HTML object>"
      ]
     },
     "metadata": {},
     "output_type": "display_data"
    },
    {
     "data": {
      "text/html": [
       "<style>\n",
       "    table.wandb td:nth-child(1) { padding: 0 10px; text-align: left ; width: auto;} td:nth-child(2) {text-align: left ; width: 100%}\n",
       "    .wandb-row { display: flex; flex-direction: row; flex-wrap: wrap; justify-content: flex-start; width: 100% }\n",
       "    .wandb-col { display: flex; flex-direction: column; flex-basis: 100%; flex: 1; padding: 10px; }\n",
       "    </style>\n",
       "<div class=\"wandb-row\"><div class=\"wandb-col\"><h3>Run history:</h3><br/><table class=\"wandb\"><tr><td>train_lh_corr</td><td>▁▁▂▄▅▅▅▅▆▇▆▆▆▆▇▆▇▆▇▅▆▇▇▇▇▆▆▆▇▇▇▇▇▇▆▆▇█▆▇</td></tr><tr><td>train_lh_mse</td><td>█▁▁▁▁▁▁▁▁▁▁▁▁▁▁▁▁▁▁▁▁▁▁▁▁▁▁▁▁▁▁▁▁▁▁▁▁▁▁▁</td></tr><tr><td>train_rh_corr</td><td>▁▁▂▃▅▅▆▅▇▇▆▆▆▆▆▇▇▇▇▆▆▇▇█▇▆▆▅▇▇█▇▇█▆▆▇█▇▇</td></tr><tr><td>train_rh_mse</td><td>█▁▁▁▁▁▁▁▁▁▁▁▁▁▁▁▁▁▁▁▁▁▁▁▁▁▁▁▁▁▁▁▁▁▁▁▁▁▁▁</td></tr><tr><td>val_lh_corr</td><td>▁▁▂▃▅▆▇▆▆▇▆▇▇▇▇▇▆▇█▇▇▇▆▇▆▇▆▆▆▆▇▇█▆▇▇▆▇▆▇</td></tr><tr><td>val_lh_mse</td><td>█▁▁▁▁▁▁▁▁▁▁▁▁▁▁▁▁▁▁▁▁▁▁▁▁▁▁▁▁▁▁▁▁▁▁▁▁▁▁▁</td></tr><tr><td>val_rh_corr</td><td>▁▁▂▃▅▆█▆▇▇▆▇▇▇▇▇▆██▇▇▇▆▆▆▇▆▆▇▆▇▇█▆▇▇▆█▇█</td></tr><tr><td>val_rh_mse</td><td>█▁▁▁▁▁▁▁▁▁▁▁▁▁▁▁▁▁▁▁▁▁▁▁▁▁▁▁▁▁▁▁▁▁▁▁▁▁▁▁</td></tr></table><br/></div><div class=\"wandb-col\"><h3>Run summary:</h3><br/><table class=\"wandb\"><tr><td>train_lh_corr</td><td>0.24721</td></tr><tr><td>train_lh_mse</td><td>0.48731</td></tr><tr><td>train_rh_corr</td><td>0.23708</td></tr><tr><td>train_rh_mse</td><td>0.48206</td></tr><tr><td>val_lh_corr</td><td>0.24248</td></tr><tr><td>val_lh_mse</td><td>0.45116</td></tr><tr><td>val_rh_corr</td><td>0.24638</td></tr><tr><td>val_rh_mse</td><td>0.44129</td></tr></table><br/></div></div>"
      ],
      "text/plain": [
       "<IPython.core.display.HTML object>"
      ]
     },
     "metadata": {},
     "output_type": "display_data"
    },
    {
     "data": {
      "text/html": [
       " View run <strong style=\"color:#cdcd00\">driven-plant-994</strong> at: <a href='https://wandb.ai/syrkis/neuroscope/runs/fpdysgbz' target=\"_blank\">https://wandb.ai/syrkis/neuroscope/runs/fpdysgbz</a><br/>Synced 5 W&B file(s), 0 media file(s), 0 artifact file(s) and 0 other file(s)"
      ],
      "text/plain": [
       "<IPython.core.display.HTML object>"
      ]
     },
     "metadata": {},
     "output_type": "display_data"
    },
    {
     "data": {
      "text/html": [
       "Find logs at: <code>./wandb/run-20230605_230550-fpdysgbz/logs</code>"
      ],
      "text/plain": [
       "<IPython.core.display.HTML object>"
      ]
     },
     "metadata": {},
     "output_type": "display_data"
    },
    {
     "data": {
      "text/html": [
       "Tracking run with wandb version 0.15.3"
      ],
      "text/plain": [
       "<IPython.core.display.HTML object>"
      ]
     },
     "metadata": {},
     "output_type": "display_data"
    },
    {
     "data": {
      "text/html": [
       "Run data is saved locally in <code>/home/nobr/neuroscope/wandb/run-20230605_230642-08z4opqj</code>"
      ],
      "text/plain": [
       "<IPython.core.display.HTML object>"
      ]
     },
     "metadata": {},
     "output_type": "display_data"
    },
    {
     "data": {
      "text/html": [
       "Syncing run <strong><a href='https://wandb.ai/syrkis/neuroscope/runs/08z4opqj' target=\"_blank\">smooth-jazz-995</a></strong> to <a href='https://wandb.ai/syrkis/neuroscope' target=\"_blank\">Weights & Biases</a> (<a href='https://wandb.me/run' target=\"_blank\">docs</a>)<br/>"
      ],
      "text/plain": [
       "<IPython.core.display.HTML object>"
      ]
     },
     "metadata": {},
     "output_type": "display_data"
    },
    {
     "data": {
      "text/html": [
       " View project at <a href='https://wandb.ai/syrkis/neuroscope' target=\"_blank\">https://wandb.ai/syrkis/neuroscope</a>"
      ],
      "text/plain": [
       "<IPython.core.display.HTML object>"
      ]
     },
     "metadata": {},
     "output_type": "display_data"
    },
    {
     "data": {
      "text/html": [
       " View run at <a href='https://wandb.ai/syrkis/neuroscope/runs/08z4opqj' target=\"_blank\">https://wandb.ai/syrkis/neuroscope/runs/08z4opqj</a>"
      ],
      "text/plain": [
       "<IPython.core.display.HTML object>"
      ]
     },
     "metadata": {},
     "output_type": "display_data"
    },
    {
     "name": "stderr",
     "output_type": "stream",
     "text": [
      "100%|██████████| 6000/6000 [00:46<00:00, 128.65it/s]\n"
     ]
    },
    {
     "data": {
      "text/html": [
       "Waiting for W&B process to finish... <strong style=\"color:green\">(success).</strong>"
      ],
      "text/plain": [
       "<IPython.core.display.HTML object>"
      ]
     },
     "metadata": {},
     "output_type": "display_data"
    },
    {
     "data": {
      "text/html": [
       "<style>\n",
       "    table.wandb td:nth-child(1) { padding: 0 10px; text-align: left ; width: auto;} td:nth-child(2) {text-align: left ; width: 100%}\n",
       "    .wandb-row { display: flex; flex-direction: row; flex-wrap: wrap; justify-content: flex-start; width: 100% }\n",
       "    .wandb-col { display: flex; flex-direction: column; flex-basis: 100%; flex: 1; padding: 10px; }\n",
       "    </style>\n",
       "<div class=\"wandb-row\"><div class=\"wandb-col\"><h3>Run history:</h3><br/><table class=\"wandb\"><tr><td>train_lh_corr</td><td>▁▁▂▄▅▆▆▆▇▆▆▅▆█▆▆▇█▇▇▇▇▆▅▇▆▇▇▇▇▇▇▇▇▇▇▇█▆▇</td></tr><tr><td>train_lh_mse</td><td>█▁▁▁▁▁▁▁▁▁▁▁▁▁▁▁▁▁▁▁▁▁▁▁▁▁▁▁▁▁▁▁▁▁▁▁▁▁▁▁</td></tr><tr><td>train_rh_corr</td><td>▁▁▂▃▄▆▆▆▇▆▆▅▆█▆▆▇▇▇▆▆▇▆▅▆▇██▇▇▇▆▇▇▇▇▇█▆▇</td></tr><tr><td>train_rh_mse</td><td>█▁▁▁▁▁▁▁▁▁▁▁▁▁▁▁▁▁▁▁▁▁▁▁▁▁▁▁▁▁▁▁▁▁▁▁▁▁▁▁</td></tr><tr><td>val_lh_corr</td><td>▁▁▂▄▆▇▆▅▆▇▇▇▆▇▇▇▆▇▇▇▆▇▇▇▇▇▇▆▇█▆█▇▅▇▇▇▇▇▇</td></tr><tr><td>val_lh_mse</td><td>█▁▁▁▁▁▁▁▁▁▁▁▁▁▁▁▁▁▁▁▁▁▁▁▁▁▁▁▁▁▁▁▁▁▁▁▁▁▁▁</td></tr><tr><td>val_rh_corr</td><td>▁▁▂▄▅▆▆▅▆▇▆▇▆▇▇▇▆▆▆▇▇▆▆▇▆▇▇▆▇█▆█▇▆▇▇▇█▇▇</td></tr><tr><td>val_rh_mse</td><td>█▁▁▁▁▁▁▁▁▁▁▁▁▁▁▁▁▁▁▁▁▁▁▁▁▁▁▁▁▁▁▁▁▁▁▁▁▁▁▁</td></tr></table><br/></div><div class=\"wandb-col\"><h3>Run summary:</h3><br/><table class=\"wandb\"><tr><td>train_lh_corr</td><td>0.23235</td></tr><tr><td>train_lh_mse</td><td>0.45992</td></tr><tr><td>train_rh_corr</td><td>0.24345</td></tr><tr><td>train_rh_mse</td><td>0.44821</td></tr><tr><td>val_lh_corr</td><td>0.20639</td></tr><tr><td>val_lh_mse</td><td>0.47406</td></tr><tr><td>val_rh_corr</td><td>0.19784</td></tr><tr><td>val_rh_mse</td><td>0.4858</td></tr></table><br/></div></div>"
      ],
      "text/plain": [
       "<IPython.core.display.HTML object>"
      ]
     },
     "metadata": {},
     "output_type": "display_data"
    },
    {
     "data": {
      "text/html": [
       " View run <strong style=\"color:#cdcd00\">smooth-jazz-995</strong> at: <a href='https://wandb.ai/syrkis/neuroscope/runs/08z4opqj' target=\"_blank\">https://wandb.ai/syrkis/neuroscope/runs/08z4opqj</a><br/>Synced 5 W&B file(s), 0 media file(s), 0 artifact file(s) and 0 other file(s)"
      ],
      "text/plain": [
       "<IPython.core.display.HTML object>"
      ]
     },
     "metadata": {},
     "output_type": "display_data"
    },
    {
     "data": {
      "text/html": [
       "Find logs at: <code>./wandb/run-20230605_230642-08z4opqj/logs</code>"
      ],
      "text/plain": [
       "<IPython.core.display.HTML object>"
      ]
     },
     "metadata": {},
     "output_type": "display_data"
    },
    {
     "data": {
      "text/html": [
       "Tracking run with wandb version 0.15.3"
      ],
      "text/plain": [
       "<IPython.core.display.HTML object>"
      ]
     },
     "metadata": {},
     "output_type": "display_data"
    },
    {
     "data": {
      "text/html": [
       "Run data is saved locally in <code>/home/nobr/neuroscope/wandb/run-20230605_230736-vkuvmt87</code>"
      ],
      "text/plain": [
       "<IPython.core.display.HTML object>"
      ]
     },
     "metadata": {},
     "output_type": "display_data"
    },
    {
     "data": {
      "text/html": [
       "Syncing run <strong><a href='https://wandb.ai/syrkis/neuroscope/runs/vkuvmt87' target=\"_blank\">devout-flower-997</a></strong> to <a href='https://wandb.ai/syrkis/neuroscope' target=\"_blank\">Weights & Biases</a> (<a href='https://wandb.me/run' target=\"_blank\">docs</a>)<br/>"
      ],
      "text/plain": [
       "<IPython.core.display.HTML object>"
      ]
     },
     "metadata": {},
     "output_type": "display_data"
    },
    {
     "data": {
      "text/html": [
       " View project at <a href='https://wandb.ai/syrkis/neuroscope' target=\"_blank\">https://wandb.ai/syrkis/neuroscope</a>"
      ],
      "text/plain": [
       "<IPython.core.display.HTML object>"
      ]
     },
     "metadata": {},
     "output_type": "display_data"
    },
    {
     "data": {
      "text/html": [
       " View run at <a href='https://wandb.ai/syrkis/neuroscope/runs/vkuvmt87' target=\"_blank\">https://wandb.ai/syrkis/neuroscope/runs/vkuvmt87</a>"
      ],
      "text/plain": [
       "<IPython.core.display.HTML object>"
      ]
     },
     "metadata": {},
     "output_type": "display_data"
    },
    {
     "name": "stderr",
     "output_type": "stream",
     "text": [
      "100%|██████████| 6000/6000 [00:46<00:00, 127.92it/s]\n"
     ]
    },
    {
     "data": {
      "text/html": [
       "Waiting for W&B process to finish... <strong style=\"color:green\">(success).</strong>"
      ],
      "text/plain": [
       "<IPython.core.display.HTML object>"
      ]
     },
     "metadata": {},
     "output_type": "display_data"
    },
    {
     "data": {
      "text/html": [
       "<style>\n",
       "    table.wandb td:nth-child(1) { padding: 0 10px; text-align: left ; width: auto;} td:nth-child(2) {text-align: left ; width: 100%}\n",
       "    .wandb-row { display: flex; flex-direction: row; flex-wrap: wrap; justify-content: flex-start; width: 100% }\n",
       "    .wandb-col { display: flex; flex-direction: column; flex-basis: 100%; flex: 1; padding: 10px; }\n",
       "    </style>\n",
       "<div class=\"wandb-row\"><div class=\"wandb-col\"><h3>Run history:</h3><br/><table class=\"wandb\"><tr><td>train_lh_corr</td><td>▁▁▂▃▅▅▆▆▆▆▇▆▅▆▆▅▆▆▇▆▆▅▆▇▇▆▆▆▆▇▆▇▇▆▇▇▆█▇▇</td></tr><tr><td>train_lh_mse</td><td>█▁▁▁▁▁▁▁▁▁▁▁▁▁▁▁▁▁▁▁▁▁▁▁▁▁▁▁▁▁▁▁▁▁▁▁▁▁▁▁</td></tr><tr><td>train_rh_corr</td><td>▁▁▂▃▅▅▅█▆▇█▆▆▇▇▆▇▆▇▆█▆▇▇▇▆▇▇▆█▆▇▆▆█▇▇█▇▇</td></tr><tr><td>train_rh_mse</td><td>█▁▁▁▁▁▁▁▁▁▁▁▁▁▁▁▁▁▁▁▁▁▁▁▁▁▁▁▁▁▁▁▁▁▁▁▁▁▁▁</td></tr><tr><td>val_lh_corr</td><td>▁▁▃▄▆▆▅▇▇▆▇▇▇█▆██▇█▇▇▇▇█▇▇█▇▇█▆▆██▇▇▇██▇</td></tr><tr><td>val_lh_mse</td><td>█▁▁▁▁▁▁▁▁▁▁▁▁▁▁▁▁▁▁▁▁▁▁▁▁▁▁▁▁▁▁▁▁▁▁▁▁▁▁▁</td></tr><tr><td>val_rh_corr</td><td>▁▁▂▄▆▅▄▇▆▆█▇▆▇▇▇▇▆█▆█▆█▇▇▇█▆▆█▆▅▆▇▆▇▅▇▇▇</td></tr><tr><td>val_rh_mse</td><td>█▁▁▁▁▁▁▁▁▁▁▁▁▁▁▁▁▁▁▁▁▁▁▁▁▁▁▁▁▁▁▁▁▁▁▁▁▁▁▁</td></tr></table><br/></div><div class=\"wandb-col\"><h3>Run summary:</h3><br/><table class=\"wandb\"><tr><td>train_lh_corr</td><td>0.24658</td></tr><tr><td>train_lh_mse</td><td>0.4758</td></tr><tr><td>train_rh_corr</td><td>0.24611</td></tr><tr><td>train_rh_mse</td><td>0.46533</td></tr><tr><td>val_lh_corr</td><td>0.21466</td></tr><tr><td>val_lh_mse</td><td>0.47034</td></tr><tr><td>val_rh_corr</td><td>0.23222</td></tr><tr><td>val_rh_mse</td><td>0.46207</td></tr></table><br/></div></div>"
      ],
      "text/plain": [
       "<IPython.core.display.HTML object>"
      ]
     },
     "metadata": {},
     "output_type": "display_data"
    },
    {
     "data": {
      "text/html": [
       " View run <strong style=\"color:#cdcd00\">devout-flower-997</strong> at: <a href='https://wandb.ai/syrkis/neuroscope/runs/vkuvmt87' target=\"_blank\">https://wandb.ai/syrkis/neuroscope/runs/vkuvmt87</a><br/>Synced 5 W&B file(s), 0 media file(s), 0 artifact file(s) and 0 other file(s)"
      ],
      "text/plain": [
       "<IPython.core.display.HTML object>"
      ]
     },
     "metadata": {},
     "output_type": "display_data"
    },
    {
     "data": {
      "text/html": [
       "Find logs at: <code>./wandb/run-20230605_230736-vkuvmt87/logs</code>"
      ],
      "text/plain": [
       "<IPython.core.display.HTML object>"
      ]
     },
     "metadata": {},
     "output_type": "display_data"
    },
    {
     "data": {
      "text/html": [
       "Tracking run with wandb version 0.15.3"
      ],
      "text/plain": [
       "<IPython.core.display.HTML object>"
      ]
     },
     "metadata": {},
     "output_type": "display_data"
    },
    {
     "data": {
      "text/html": [
       "Run data is saved locally in <code>/home/nobr/neuroscope/wandb/run-20230605_230828-r5vuvwle</code>"
      ],
      "text/plain": [
       "<IPython.core.display.HTML object>"
      ]
     },
     "metadata": {},
     "output_type": "display_data"
    },
    {
     "data": {
      "text/html": [
       "Syncing run <strong><a href='https://wandb.ai/syrkis/neuroscope/runs/r5vuvwle' target=\"_blank\">comic-elevator-999</a></strong> to <a href='https://wandb.ai/syrkis/neuroscope' target=\"_blank\">Weights & Biases</a> (<a href='https://wandb.me/run' target=\"_blank\">docs</a>)<br/>"
      ],
      "text/plain": [
       "<IPython.core.display.HTML object>"
      ]
     },
     "metadata": {},
     "output_type": "display_data"
    },
    {
     "data": {
      "text/html": [
       " View project at <a href='https://wandb.ai/syrkis/neuroscope' target=\"_blank\">https://wandb.ai/syrkis/neuroscope</a>"
      ],
      "text/plain": [
       "<IPython.core.display.HTML object>"
      ]
     },
     "metadata": {},
     "output_type": "display_data"
    },
    {
     "data": {
      "text/html": [
       " View run at <a href='https://wandb.ai/syrkis/neuroscope/runs/r5vuvwle' target=\"_blank\">https://wandb.ai/syrkis/neuroscope/runs/r5vuvwle</a>"
      ],
      "text/plain": [
       "<IPython.core.display.HTML object>"
      ]
     },
     "metadata": {},
     "output_type": "display_data"
    },
    {
     "name": "stderr",
     "output_type": "stream",
     "text": [
      "100%|██████████| 6000/6000 [00:45<00:00, 131.11it/s]\n"
     ]
    },
    {
     "data": {
      "text/html": [
       "Waiting for W&B process to finish... <strong style=\"color:green\">(success).</strong>"
      ],
      "text/plain": [
       "<IPython.core.display.HTML object>"
      ]
     },
     "metadata": {},
     "output_type": "display_data"
    },
    {
     "data": {
      "text/html": [
       "<style>\n",
       "    table.wandb td:nth-child(1) { padding: 0 10px; text-align: left ; width: auto;} td:nth-child(2) {text-align: left ; width: 100%}\n",
       "    .wandb-row { display: flex; flex-direction: row; flex-wrap: wrap; justify-content: flex-start; width: 100% }\n",
       "    .wandb-col { display: flex; flex-direction: column; flex-basis: 100%; flex: 1; padding: 10px; }\n",
       "    </style>\n",
       "<div class=\"wandb-row\"><div class=\"wandb-col\"><h3>Run history:</h3><br/><table class=\"wandb\"><tr><td>train_lh_corr</td><td>▁▁▂▄▄▅▄▇▆▆▆▆▆▇▇▇▇▇▆▆▇▇█▇█▇▇▆▇▅▇▇▇▆▇▇▇▆▇▅</td></tr><tr><td>train_lh_mse</td><td>█▁▁▁▁▁▁▁▁▁▁▁▁▁▁▁▁▁▁▁▁▁▁▁▁▁▁▁▁▁▁▁▁▁▁▁▁▁▁▁</td></tr><tr><td>train_rh_corr</td><td>▁▁▂▃▄▅▅▆▆▇▆▆▇▇▇▆▆▇▆▆▆▇▇▆█▇▇▆▇▇▆▆▇▇▇▇▇▆▇▆</td></tr><tr><td>train_rh_mse</td><td>█▁▁▁▁▁▁▁▁▁▁▁▁▁▁▁▁▁▁▁▁▁▁▁▁▁▁▁▁▁▁▁▁▁▁▁▁▁▁▁</td></tr><tr><td>val_lh_corr</td><td>▁▁▃▄▅▇▇▆▆▆▇▆▇▆▆▇▆▇▇█▆▇▇▆▇▆█▆▅▆▅▇▆▇▆▇█▇▇▆</td></tr><tr><td>val_lh_mse</td><td>█▁▁▁▁▁▁▁▁▁▁▁▁▁▁▁▁▁▁▁▁▁▁▁▁▁▁▁▁▁▁▁▁▁▁▁▁▁▁▁</td></tr><tr><td>val_rh_corr</td><td>▁▁▃▃▅▆▆▆▆▅▆▆▆▆▆▆▆▆▆█▆▆▆▆▇▆▆▆▅▆▅▆▆▇▅▇▇▇▆▆</td></tr><tr><td>val_rh_mse</td><td>█▁▁▁▁▁▁▁▁▁▁▁▁▁▁▁▁▁▁▁▁▁▁▁▁▁▁▁▁▁▁▁▁▁▁▁▁▁▁▁</td></tr></table><br/></div><div class=\"wandb-col\"><h3>Run summary:</h3><br/><table class=\"wandb\"><tr><td>train_lh_corr</td><td>0.18327</td></tr><tr><td>train_lh_mse</td><td>0.52699</td></tr><tr><td>train_rh_corr</td><td>0.217</td></tr><tr><td>train_rh_mse</td><td>0.52217</td></tr><tr><td>val_lh_corr</td><td>0.1935</td></tr><tr><td>val_lh_mse</td><td>0.46606</td></tr><tr><td>val_rh_corr</td><td>0.20117</td></tr><tr><td>val_rh_mse</td><td>0.46582</td></tr></table><br/></div></div>"
      ],
      "text/plain": [
       "<IPython.core.display.HTML object>"
      ]
     },
     "metadata": {},
     "output_type": "display_data"
    },
    {
     "data": {
      "text/html": [
       " View run <strong style=\"color:#cdcd00\">comic-elevator-999</strong> at: <a href='https://wandb.ai/syrkis/neuroscope/runs/r5vuvwle' target=\"_blank\">https://wandb.ai/syrkis/neuroscope/runs/r5vuvwle</a><br/>Synced 5 W&B file(s), 0 media file(s), 0 artifact file(s) and 0 other file(s)"
      ],
      "text/plain": [
       "<IPython.core.display.HTML object>"
      ]
     },
     "metadata": {},
     "output_type": "display_data"
    },
    {
     "data": {
      "text/html": [
       "Find logs at: <code>./wandb/run-20230605_230828-r5vuvwle/logs</code>"
      ],
      "text/plain": [
       "<IPython.core.display.HTML object>"
      ]
     },
     "metadata": {},
     "output_type": "display_data"
    },
    {
     "data": {
      "text/html": [
       "Tracking run with wandb version 0.15.3"
      ],
      "text/plain": [
       "<IPython.core.display.HTML object>"
      ]
     },
     "metadata": {},
     "output_type": "display_data"
    },
    {
     "data": {
      "text/html": [
       "Run data is saved locally in <code>/home/nobr/neuroscope/wandb/run-20230605_230921-73961y0p</code>"
      ],
      "text/plain": [
       "<IPython.core.display.HTML object>"
      ]
     },
     "metadata": {},
     "output_type": "display_data"
    },
    {
     "data": {
      "text/html": [
       "Syncing run <strong><a href='https://wandb.ai/syrkis/neuroscope/runs/73961y0p' target=\"_blank\">good-oath-1000</a></strong> to <a href='https://wandb.ai/syrkis/neuroscope' target=\"_blank\">Weights & Biases</a> (<a href='https://wandb.me/run' target=\"_blank\">docs</a>)<br/>"
      ],
      "text/plain": [
       "<IPython.core.display.HTML object>"
      ]
     },
     "metadata": {},
     "output_type": "display_data"
    },
    {
     "data": {
      "text/html": [
       " View project at <a href='https://wandb.ai/syrkis/neuroscope' target=\"_blank\">https://wandb.ai/syrkis/neuroscope</a>"
      ],
      "text/plain": [
       "<IPython.core.display.HTML object>"
      ]
     },
     "metadata": {},
     "output_type": "display_data"
    },
    {
     "data": {
      "text/html": [
       " View run at <a href='https://wandb.ai/syrkis/neuroscope/runs/73961y0p' target=\"_blank\">https://wandb.ai/syrkis/neuroscope/runs/73961y0p</a>"
      ],
      "text/plain": [
       "<IPython.core.display.HTML object>"
      ]
     },
     "metadata": {},
     "output_type": "display_data"
    },
    {
     "name": "stderr",
     "output_type": "stream",
     "text": [
      "100%|██████████| 6000/6000 [00:47<00:00, 127.08it/s]\n"
     ]
    },
    {
     "data": {
      "text/html": [
       "Waiting for W&B process to finish... <strong style=\"color:green\">(success).</strong>"
      ],
      "text/plain": [
       "<IPython.core.display.HTML object>"
      ]
     },
     "metadata": {},
     "output_type": "display_data"
    },
    {
     "data": {
      "text/html": [
       "<style>\n",
       "    table.wandb td:nth-child(1) { padding: 0 10px; text-align: left ; width: auto;} td:nth-child(2) {text-align: left ; width: 100%}\n",
       "    .wandb-row { display: flex; flex-direction: row; flex-wrap: wrap; justify-content: flex-start; width: 100% }\n",
       "    .wandb-col { display: flex; flex-direction: column; flex-basis: 100%; flex: 1; padding: 10px; }\n",
       "    </style>\n",
       "<div class=\"wandb-row\"><div class=\"wandb-col\"><h3>Run history:</h3><br/><table class=\"wandb\"><tr><td>train_lh_corr</td><td>▁▁▂▄▅▅▆▅▅▆▇▆▇▇▆▆▇▇▆█▇▆▇▆▇▆▆▇█▆▇▇▇▇▆▇▆▇▆▇</td></tr><tr><td>train_lh_mse</td><td>█▁▁▁▁▁▁▁▁▁▁▁▁▁▁▁▁▁▁▁▁▁▁▁▁▁▁▁▁▁▁▁▁▁▁▁▁▁▁▁</td></tr><tr><td>train_rh_corr</td><td>▁▁▃▄▅▇▆▅▇▇▆▆█▆▆▇▆▇▆█▇▇█▆▇▇▇▇█▇▇▇▇▇▇█▆█▇▇</td></tr><tr><td>train_rh_mse</td><td>█▁▁▁▁▁▁▁▁▁▁▁▁▁▁▁▁▁▁▁▁▁▁▁▁▁▁▁▁▁▁▁▁▁▁▁▁▁▁▁</td></tr><tr><td>val_lh_corr</td><td>▁▁▂▄▆▇▆▇▇▇▆▇█▇▇▇▇█▆██▇▆▇██▇▆█▇██▇███▇█▇▇</td></tr><tr><td>val_lh_mse</td><td>█▁▁▁▁▁▁▁▁▁▁▁▁▁▁▁▁▁▁▁▁▁▁▁▁▁▁▁▁▁▁▁▁▁▁▁▁▁▁▁</td></tr><tr><td>val_rh_corr</td><td>▁▁▂▄▆▆▇▆▇█▆▆▇▇▇▇▆▇▅▇█▇▇▇█▇▇▆▇▇▇▇▇█▇█▇▇▇█</td></tr><tr><td>val_rh_mse</td><td>█▁▁▁▁▁▁▁▁▁▁▁▁▁▁▁▁▁▁▁▁▁▁▁▁▁▁▁▁▁▁▁▁▁▁▁▁▁▁▁</td></tr></table><br/></div><div class=\"wandb-col\"><h3>Run summary:</h3><br/><table class=\"wandb\"><tr><td>train_lh_corr</td><td>0.25582</td></tr><tr><td>train_lh_mse</td><td>0.43675</td></tr><tr><td>train_rh_corr</td><td>0.24142</td></tr><tr><td>train_rh_mse</td><td>0.43951</td></tr><tr><td>val_lh_corr</td><td>0.22297</td></tr><tr><td>val_lh_mse</td><td>0.46094</td></tr><tr><td>val_rh_corr</td><td>0.25061</td></tr><tr><td>val_rh_mse</td><td>0.46058</td></tr></table><br/></div></div>"
      ],
      "text/plain": [
       "<IPython.core.display.HTML object>"
      ]
     },
     "metadata": {},
     "output_type": "display_data"
    },
    {
     "data": {
      "text/html": [
       " View run <strong style=\"color:#cdcd00\">good-oath-1000</strong> at: <a href='https://wandb.ai/syrkis/neuroscope/runs/73961y0p' target=\"_blank\">https://wandb.ai/syrkis/neuroscope/runs/73961y0p</a><br/>Synced 5 W&B file(s), 0 media file(s), 0 artifact file(s) and 0 other file(s)"
      ],
      "text/plain": [
       "<IPython.core.display.HTML object>"
      ]
     },
     "metadata": {},
     "output_type": "display_data"
    },
    {
     "data": {
      "text/html": [
       "Find logs at: <code>./wandb/run-20230605_230921-73961y0p/logs</code>"
      ],
      "text/plain": [
       "<IPython.core.display.HTML object>"
      ]
     },
     "metadata": {},
     "output_type": "display_data"
    },
    {
     "data": {
      "text/html": [
       "Tracking run with wandb version 0.15.3"
      ],
      "text/plain": [
       "<IPython.core.display.HTML object>"
      ]
     },
     "metadata": {},
     "output_type": "display_data"
    },
    {
     "data": {
      "text/html": [
       "Run data is saved locally in <code>/home/nobr/neuroscope/wandb/run-20230605_231017-0chx2jnm</code>"
      ],
      "text/plain": [
       "<IPython.core.display.HTML object>"
      ]
     },
     "metadata": {},
     "output_type": "display_data"
    },
    {
     "data": {
      "text/html": [
       "Syncing run <strong><a href='https://wandb.ai/syrkis/neuroscope/runs/0chx2jnm' target=\"_blank\">young-dust-1002</a></strong> to <a href='https://wandb.ai/syrkis/neuroscope' target=\"_blank\">Weights & Biases</a> (<a href='https://wandb.me/run' target=\"_blank\">docs</a>)<br/>"
      ],
      "text/plain": [
       "<IPython.core.display.HTML object>"
      ]
     },
     "metadata": {},
     "output_type": "display_data"
    },
    {
     "data": {
      "text/html": [
       " View project at <a href='https://wandb.ai/syrkis/neuroscope' target=\"_blank\">https://wandb.ai/syrkis/neuroscope</a>"
      ],
      "text/plain": [
       "<IPython.core.display.HTML object>"
      ]
     },
     "metadata": {},
     "output_type": "display_data"
    },
    {
     "data": {
      "text/html": [
       " View run at <a href='https://wandb.ai/syrkis/neuroscope/runs/0chx2jnm' target=\"_blank\">https://wandb.ai/syrkis/neuroscope/runs/0chx2jnm</a>"
      ],
      "text/plain": [
       "<IPython.core.display.HTML object>"
      ]
     },
     "metadata": {},
     "output_type": "display_data"
    },
    {
     "name": "stderr",
     "output_type": "stream",
     "text": [
      "100%|██████████| 6000/6000 [00:49<00:00, 122.18it/s]\n"
     ]
    },
    {
     "data": {
      "text/html": [
       "Waiting for W&B process to finish... <strong style=\"color:green\">(success).</strong>"
      ],
      "text/plain": [
       "<IPython.core.display.HTML object>"
      ]
     },
     "metadata": {},
     "output_type": "display_data"
    },
    {
     "data": {
      "text/html": [
       "<style>\n",
       "    table.wandb td:nth-child(1) { padding: 0 10px; text-align: left ; width: auto;} td:nth-child(2) {text-align: left ; width: 100%}\n",
       "    .wandb-row { display: flex; flex-direction: row; flex-wrap: wrap; justify-content: flex-start; width: 100% }\n",
       "    .wandb-col { display: flex; flex-direction: column; flex-basis: 100%; flex: 1; padding: 10px; }\n",
       "    </style>\n",
       "<div class=\"wandb-row\"><div class=\"wandb-col\"><h3>Run history:</h3><br/><table class=\"wandb\"><tr><td>train_lh_corr</td><td>▁▁▃▅▆▅▆▆▇▆▆▇▇▇▇▇▅▆▇▆▇▇▆▇▇▆▆▆▇█▆█▇▇▇▆▇▆▇█</td></tr><tr><td>train_lh_mse</td><td>█▁▁▁▁▁▁▁▁▁▁▁▁▁▁▁▁▁▁▁▁▁▁▁▁▁▁▁▁▁▁▁▁▁▁▁▁▁▁▁</td></tr><tr><td>train_rh_corr</td><td>▁▁▂▄▆▅▇▇█▆▆▇▆▇▇▇▆▅▇▆█▇▆▇▆▇▆▇▇█▆███▇▆▇▆▇█</td></tr><tr><td>train_rh_mse</td><td>█▁▁▁▁▁▁▁▁▁▁▁▁▁▁▁▁▁▁▁▁▁▁▁▁▁▁▁▁▁▁▁▁▁▁▁▁▁▁▁</td></tr><tr><td>val_lh_corr</td><td>▁▁▂▄▄▅▆▆▆▇▆▆▆▆▆▇▇▇▆▆▇▆█▇▆▇▆▆▇▆▆▇▆▅▆▆▆▆▆▇</td></tr><tr><td>val_lh_mse</td><td>█▁▁▁▁▁▁▁▁▁▁▁▁▁▁▁▁▁▁▁▁▁▁▁▁▁▁▁▁▁▁▁▁▁▁▁▁▁▁▁</td></tr><tr><td>val_rh_corr</td><td>▁▁▂▄▅▆▆▆▆▇▇▆▇▆▆▇█▆▅▇▇▇█▆▆▇▆▆▇▇▆▆▆▅▆▆▇▆▆▇</td></tr><tr><td>val_rh_mse</td><td>█▁▁▁▁▁▁▁▁▁▁▁▁▁▁▁▁▁▁▁▁▁▁▁▁▁▁▁▁▁▁▁▁▁▁▁▁▁▁▁</td></tr></table><br/></div><div class=\"wandb-col\"><h3>Run summary:</h3><br/><table class=\"wandb\"><tr><td>train_lh_corr</td><td>0.29255</td></tr><tr><td>train_lh_mse</td><td>0.45863</td></tr><tr><td>train_rh_corr</td><td>0.26969</td></tr><tr><td>train_rh_mse</td><td>0.4648</td></tr><tr><td>val_lh_corr</td><td>0.24724</td></tr><tr><td>val_lh_mse</td><td>0.46673</td></tr><tr><td>val_rh_corr</td><td>0.24979</td></tr><tr><td>val_rh_mse</td><td>0.472</td></tr></table><br/></div></div>"
      ],
      "text/plain": [
       "<IPython.core.display.HTML object>"
      ]
     },
     "metadata": {},
     "output_type": "display_data"
    },
    {
     "data": {
      "text/html": [
       " View run <strong style=\"color:#cdcd00\">young-dust-1002</strong> at: <a href='https://wandb.ai/syrkis/neuroscope/runs/0chx2jnm' target=\"_blank\">https://wandb.ai/syrkis/neuroscope/runs/0chx2jnm</a><br/>Synced 5 W&B file(s), 0 media file(s), 0 artifact file(s) and 0 other file(s)"
      ],
      "text/plain": [
       "<IPython.core.display.HTML object>"
      ]
     },
     "metadata": {},
     "output_type": "display_data"
    },
    {
     "data": {
      "text/html": [
       "Find logs at: <code>./wandb/run-20230605_231017-0chx2jnm/logs</code>"
      ],
      "text/plain": [
       "<IPython.core.display.HTML object>"
      ]
     },
     "metadata": {},
     "output_type": "display_data"
    },
    {
     "data": {
      "text/html": [
       "Tracking run with wandb version 0.15.3"
      ],
      "text/plain": [
       "<IPython.core.display.HTML object>"
      ]
     },
     "metadata": {},
     "output_type": "display_data"
    },
    {
     "data": {
      "text/html": [
       "Run data is saved locally in <code>/home/nobr/neuroscope/wandb/run-20230605_231113-bhr2iwnb</code>"
      ],
      "text/plain": [
       "<IPython.core.display.HTML object>"
      ]
     },
     "metadata": {},
     "output_type": "display_data"
    },
    {
     "data": {
      "text/html": [
       "Syncing run <strong><a href='https://wandb.ai/syrkis/neuroscope/runs/bhr2iwnb' target=\"_blank\">trim-sky-1004</a></strong> to <a href='https://wandb.ai/syrkis/neuroscope' target=\"_blank\">Weights & Biases</a> (<a href='https://wandb.me/run' target=\"_blank\">docs</a>)<br/>"
      ],
      "text/plain": [
       "<IPython.core.display.HTML object>"
      ]
     },
     "metadata": {},
     "output_type": "display_data"
    },
    {
     "data": {
      "text/html": [
       " View project at <a href='https://wandb.ai/syrkis/neuroscope' target=\"_blank\">https://wandb.ai/syrkis/neuroscope</a>"
      ],
      "text/plain": [
       "<IPython.core.display.HTML object>"
      ]
     },
     "metadata": {},
     "output_type": "display_data"
    },
    {
     "data": {
      "text/html": [
       " View run at <a href='https://wandb.ai/syrkis/neuroscope/runs/bhr2iwnb' target=\"_blank\">https://wandb.ai/syrkis/neuroscope/runs/bhr2iwnb</a>"
      ],
      "text/plain": [
       "<IPython.core.display.HTML object>"
      ]
     },
     "metadata": {},
     "output_type": "display_data"
    },
    {
     "name": "stderr",
     "output_type": "stream",
     "text": [
      "100%|██████████| 6000/6000 [00:46<00:00, 128.14it/s]\n"
     ]
    },
    {
     "data": {
      "text/html": [
       "Waiting for W&B process to finish... <strong style=\"color:green\">(success).</strong>"
      ],
      "text/plain": [
       "<IPython.core.display.HTML object>"
      ]
     },
     "metadata": {},
     "output_type": "display_data"
    },
    {
     "data": {
      "text/html": [
       "<style>\n",
       "    table.wandb td:nth-child(1) { padding: 0 10px; text-align: left ; width: auto;} td:nth-child(2) {text-align: left ; width: 100%}\n",
       "    .wandb-row { display: flex; flex-direction: row; flex-wrap: wrap; justify-content: flex-start; width: 100% }\n",
       "    .wandb-col { display: flex; flex-direction: column; flex-basis: 100%; flex: 1; padding: 10px; }\n",
       "    </style>\n",
       "<div class=\"wandb-row\"><div class=\"wandb-col\"><h3>Run history:</h3><br/><table class=\"wandb\"><tr><td>train_lh_corr</td><td>▁▁▃▃▅▅▆▅▇▆▇▆▆▆▆█▆▇▆▆▇▇▆▆▆▆▇▇▆▇▇▆▇█▇▆▆▆▇▇</td></tr><tr><td>train_lh_mse</td><td>█▁▁▁▁▁▁▁▁▁▁▁▁▁▁▁▁▁▁▁▁▁▁▁▁▁▁▁▁▁▁▁▁▁▁▁▁▁▁▁</td></tr><tr><td>train_rh_corr</td><td>▁▁▂▄▄▆▆▅▇▆▇▇▆▆▆█▆▆▇▆▇▇▅▇▇▆▆▇▆▇▆▆▇█▇▇▆▅▇▇</td></tr><tr><td>train_rh_mse</td><td>█▁▁▁▁▁▁▁▁▁▁▁▁▁▁▁▁▁▁▁▁▁▁▁▁▁▁▁▁▁▁▁▁▁▁▁▁▁▁▁</td></tr><tr><td>val_lh_corr</td><td>▁▁▃▄▅▆▆▇▇▆▇▇▆▆█▅▇▇▇▆▆█▅▅▆▆▆▆▇▆▆▇▇▇▇▆▇█▆▆</td></tr><tr><td>val_lh_mse</td><td>█▁▁▁▁▁▁▁▁▁▁▁▁▁▁▁▁▁▁▁▁▁▁▁▁▁▁▁▁▁▁▁▁▁▁▁▁▁▁▁</td></tr><tr><td>val_rh_corr</td><td>▁▁▂▄▅▇▇▆▇▇▆▇▆▆█▆▆█▇▆▇█▆▅▇▆▇▆▇▇▆▇▇▇▆▇▇█▇▆</td></tr><tr><td>val_rh_mse</td><td>█▁▁▁▁▁▁▁▁▁▁▁▁▁▁▁▁▁▁▁▁▁▁▁▁▁▁▁▁▁▁▁▁▁▁▁▁▁▁▁</td></tr></table><br/></div><div class=\"wandb-col\"><h3>Run summary:</h3><br/><table class=\"wandb\"><tr><td>train_lh_corr</td><td>0.2343</td></tr><tr><td>train_lh_mse</td><td>0.47399</td></tr><tr><td>train_rh_corr</td><td>0.23716</td></tr><tr><td>train_rh_mse</td><td>0.48393</td></tr><tr><td>val_lh_corr</td><td>0.19164</td></tr><tr><td>val_lh_mse</td><td>0.48374</td></tr><tr><td>val_rh_corr</td><td>0.20267</td></tr><tr><td>val_rh_mse</td><td>0.48377</td></tr></table><br/></div></div>"
      ],
      "text/plain": [
       "<IPython.core.display.HTML object>"
      ]
     },
     "metadata": {},
     "output_type": "display_data"
    },
    {
     "data": {
      "text/html": [
       " View run <strong style=\"color:#cdcd00\">trim-sky-1004</strong> at: <a href='https://wandb.ai/syrkis/neuroscope/runs/bhr2iwnb' target=\"_blank\">https://wandb.ai/syrkis/neuroscope/runs/bhr2iwnb</a><br/>Synced 5 W&B file(s), 0 media file(s), 0 artifact file(s) and 0 other file(s)"
      ],
      "text/plain": [
       "<IPython.core.display.HTML object>"
      ]
     },
     "metadata": {},
     "output_type": "display_data"
    },
    {
     "data": {
      "text/html": [
       "Find logs at: <code>./wandb/run-20230605_231113-bhr2iwnb/logs</code>"
      ],
      "text/plain": [
       "<IPython.core.display.HTML object>"
      ]
     },
     "metadata": {},
     "output_type": "display_data"
    },
    {
     "data": {
      "text/html": [
       "Tracking run with wandb version 0.15.3"
      ],
      "text/plain": [
       "<IPython.core.display.HTML object>"
      ]
     },
     "metadata": {},
     "output_type": "display_data"
    },
    {
     "data": {
      "text/html": [
       "Run data is saved locally in <code>/home/nobr/neuroscope/wandb/run-20230605_231205-u30n2tri</code>"
      ],
      "text/plain": [
       "<IPython.core.display.HTML object>"
      ]
     },
     "metadata": {},
     "output_type": "display_data"
    },
    {
     "data": {
      "text/html": [
       "Syncing run <strong><a href='https://wandb.ai/syrkis/neuroscope/runs/u30n2tri' target=\"_blank\">splendid-gorge-1006</a></strong> to <a href='https://wandb.ai/syrkis/neuroscope' target=\"_blank\">Weights & Biases</a> (<a href='https://wandb.me/run' target=\"_blank\">docs</a>)<br/>"
      ],
      "text/plain": [
       "<IPython.core.display.HTML object>"
      ]
     },
     "metadata": {},
     "output_type": "display_data"
    },
    {
     "data": {
      "text/html": [
       " View project at <a href='https://wandb.ai/syrkis/neuroscope' target=\"_blank\">https://wandb.ai/syrkis/neuroscope</a>"
      ],
      "text/plain": [
       "<IPython.core.display.HTML object>"
      ]
     },
     "metadata": {},
     "output_type": "display_data"
    },
    {
     "data": {
      "text/html": [
       " View run at <a href='https://wandb.ai/syrkis/neuroscope/runs/u30n2tri' target=\"_blank\">https://wandb.ai/syrkis/neuroscope/runs/u30n2tri</a>"
      ],
      "text/plain": [
       "<IPython.core.display.HTML object>"
      ]
     },
     "metadata": {},
     "output_type": "display_data"
    },
    {
     "name": "stderr",
     "output_type": "stream",
     "text": [
      "100%|██████████| 6000/6000 [00:55<00:00, 108.74it/s]\n"
     ]
    },
    {
     "data": {
      "text/html": [
       "Waiting for W&B process to finish... <strong style=\"color:green\">(success).</strong>"
      ],
      "text/plain": [
       "<IPython.core.display.HTML object>"
      ]
     },
     "metadata": {},
     "output_type": "display_data"
    },
    {
     "data": {
      "text/html": [
       "<style>\n",
       "    table.wandb td:nth-child(1) { padding: 0 10px; text-align: left ; width: auto;} td:nth-child(2) {text-align: left ; width: 100%}\n",
       "    .wandb-row { display: flex; flex-direction: row; flex-wrap: wrap; justify-content: flex-start; width: 100% }\n",
       "    .wandb-col { display: flex; flex-direction: column; flex-basis: 100%; flex: 1; padding: 10px; }\n",
       "    </style>\n",
       "<div class=\"wandb-row\"><div class=\"wandb-col\"><h3>Run history:</h3><br/><table class=\"wandb\"><tr><td>train_lh_corr</td><td>▁▁▃▅▇▅▅▆▆█▆█▇▇▅█▆▇▆▇█▇█▇▅▇▇█▅▆█▆█▅▆█▇▇▇█</td></tr><tr><td>train_lh_mse</td><td>█▁▁▁▁▁▁▁▁▁▁▁▁▁▁▁▁▁▁▁▁▁▁▁▁▁▁▁▁▁▁▁▁▁▁▁▁▁▁▁</td></tr><tr><td>train_rh_corr</td><td>▁▁▂▅▆▅▅▆▇▇▇▇▇▇▅▇▆▆▅▇█▇▇▇▅▇▇▇▅▆█▇▇▆▆▇▇▆▇█</td></tr><tr><td>train_rh_mse</td><td>█▁▁▁▁▁▁▁▁▁▁▁▁▁▁▁▁▁▁▁▁▁▁▁▁▁▁▁▁▁▁▁▁▁▁▁▁▁▁▁</td></tr><tr><td>val_lh_corr</td><td>▁▁▂▂▃▃▃▇▃▃▄▄▄▄▄▃▄▄▄▂▄▃▃▃▃▃▃▃▄▄▃▄▄▄█▃▄▄▄▃</td></tr><tr><td>val_lh_mse</td><td>█▁▁▁▁▁▁▁▁▁▁▁▁▁▁▁▁▁▁▁▁▁▁▁▁▁▁▁▁▁▁▁▁▁▁▁▁▁▁▁</td></tr><tr><td>val_rh_corr</td><td>▁▁▂▂▃▃▃▇▃▃▄▄▃▄▄▄▄▃▄▂▄▃▃▄▃▃▃▃▄▄▄▄▄▄█▃▄▃▄▃</td></tr><tr><td>val_rh_mse</td><td>█▁▁▁▁▁▁▁▁▁▁▁▁▁▁▁▁▁▁▁▁▁▁▁▁▁▁▁▁▁▁▁▁▁▁▁▁▁▁▁</td></tr></table><br/></div><div class=\"wandb-col\"><h3>Run summary:</h3><br/><table class=\"wandb\"><tr><td>train_lh_corr</td><td>0.21725</td></tr><tr><td>train_lh_mse</td><td>0.51052</td></tr><tr><td>train_rh_corr</td><td>0.21844</td></tr><tr><td>train_rh_mse</td><td>0.52894</td></tr><tr><td>val_lh_corr</td><td>0.15726</td></tr><tr><td>val_lh_mse</td><td>0.51388</td></tr><tr><td>val_rh_corr</td><td>0.16783</td></tr><tr><td>val_rh_mse</td><td>0.52071</td></tr></table><br/></div></div>"
      ],
      "text/plain": [
       "<IPython.core.display.HTML object>"
      ]
     },
     "metadata": {},
     "output_type": "display_data"
    },
    {
     "data": {
      "text/html": [
       " View run <strong style=\"color:#cdcd00\">splendid-gorge-1006</strong> at: <a href='https://wandb.ai/syrkis/neuroscope/runs/u30n2tri' target=\"_blank\">https://wandb.ai/syrkis/neuroscope/runs/u30n2tri</a><br/>Synced 5 W&B file(s), 0 media file(s), 0 artifact file(s) and 0 other file(s)"
      ],
      "text/plain": [
       "<IPython.core.display.HTML object>"
      ]
     },
     "metadata": {},
     "output_type": "display_data"
    },
    {
     "data": {
      "text/html": [
       "Find logs at: <code>./wandb/run-20230605_231205-u30n2tri/logs</code>"
      ],
      "text/plain": [
       "<IPython.core.display.HTML object>"
      ]
     },
     "metadata": {},
     "output_type": "display_data"
    },
    {
     "data": {
      "text/html": [
       "Tracking run with wandb version 0.15.3"
      ],
      "text/plain": [
       "<IPython.core.display.HTML object>"
      ]
     },
     "metadata": {},
     "output_type": "display_data"
    },
    {
     "data": {
      "text/html": [
       "Run data is saved locally in <code>/home/nobr/neuroscope/wandb/run-20230605_231307-wmihmjl9</code>"
      ],
      "text/plain": [
       "<IPython.core.display.HTML object>"
      ]
     },
     "metadata": {},
     "output_type": "display_data"
    },
    {
     "data": {
      "text/html": [
       "Syncing run <strong><a href='https://wandb.ai/syrkis/neuroscope/runs/wmihmjl9' target=\"_blank\">efficient-fire-1007</a></strong> to <a href='https://wandb.ai/syrkis/neuroscope' target=\"_blank\">Weights & Biases</a> (<a href='https://wandb.me/run' target=\"_blank\">docs</a>)<br/>"
      ],
      "text/plain": [
       "<IPython.core.display.HTML object>"
      ]
     },
     "metadata": {},
     "output_type": "display_data"
    },
    {
     "data": {
      "text/html": [
       " View project at <a href='https://wandb.ai/syrkis/neuroscope' target=\"_blank\">https://wandb.ai/syrkis/neuroscope</a>"
      ],
      "text/plain": [
       "<IPython.core.display.HTML object>"
      ]
     },
     "metadata": {},
     "output_type": "display_data"
    },
    {
     "data": {
      "text/html": [
       " View run at <a href='https://wandb.ai/syrkis/neuroscope/runs/wmihmjl9' target=\"_blank\">https://wandb.ai/syrkis/neuroscope/runs/wmihmjl9</a>"
      ],
      "text/plain": [
       "<IPython.core.display.HTML object>"
      ]
     },
     "metadata": {},
     "output_type": "display_data"
    },
    {
     "name": "stderr",
     "output_type": "stream",
     "text": [
      "100%|██████████| 6000/6000 [00:47<00:00, 127.59it/s]\n"
     ]
    },
    {
     "data": {
      "text/html": [
       "Waiting for W&B process to finish... <strong style=\"color:green\">(success).</strong>"
      ],
      "text/plain": [
       "<IPython.core.display.HTML object>"
      ]
     },
     "metadata": {},
     "output_type": "display_data"
    },
    {
     "data": {
      "text/html": [
       "<style>\n",
       "    table.wandb td:nth-child(1) { padding: 0 10px; text-align: left ; width: auto;} td:nth-child(2) {text-align: left ; width: 100%}\n",
       "    .wandb-row { display: flex; flex-direction: row; flex-wrap: wrap; justify-content: flex-start; width: 100% }\n",
       "    .wandb-col { display: flex; flex-direction: column; flex-basis: 100%; flex: 1; padding: 10px; }\n",
       "    </style>\n",
       "<div class=\"wandb-row\"><div class=\"wandb-col\"><h3>Run history:</h3><br/><table class=\"wandb\"><tr><td>train_lh_corr</td><td>▁▁▃▄▃▅▆▆▅▇▅▇▆▆▅▅▆▆▇▆▆▆▇▇▇▇▅▆▇▆▅▅▆▇▇█▅▇▆▆</td></tr><tr><td>train_lh_mse</td><td>█▁▁▁▁▁▁▁▁▁▁▁▁▁▁▁▁▁▁▁▁▁▁▁▁▁▁▁▁▁▁▁▁▁▁▁▁▁▁▁</td></tr><tr><td>train_rh_corr</td><td>▁▁▃▄▄▅▆▇▆█▅▇▆▆▆▆▇▆▇▆▆▇▇▇▇▇▆▇█▆▆▅▆▇▆█▆▇▇▇</td></tr><tr><td>train_rh_mse</td><td>█▁▁▁▁▁▁▁▁▁▁▁▁▁▁▁▁▁▁▁▁▁▁▁▁▁▁▁▁▁▁▁▁▁▁▁▁▁▁▁</td></tr><tr><td>val_lh_corr</td><td>▁▁▂▃▃▄▃█▄▃▄▄▄▄▄▃▄▄▄▄▄▄▄▄▄▄▄▄▄▄▃▄▄▃█▄▃▄▄▃</td></tr><tr><td>val_lh_mse</td><td>█▁▁▁▁▁▁▁▁▁▁▁▁▁▁▁▁▁▁▁▁▁▁▁▁▁▁▁▁▁▁▁▁▁▁▁▁▁▁▁</td></tr><tr><td>val_rh_corr</td><td>▁▁▂▃▄▄▄█▄▃▄▄▄▄▄▃▄▄▄▄▄▄▃▄▄▄▄▄▄▄▃▄▄▄█▄▃▅▄▂</td></tr><tr><td>val_rh_mse</td><td>█▁▁▁▁▁▁▁▁▁▁▁▁▁▁▁▁▁▁▁▁▁▁▁▁▁▁▁▁▁▁▁▁▁▁▁▁▁▁▁</td></tr></table><br/></div><div class=\"wandb-col\"><h3>Run summary:</h3><br/><table class=\"wandb\"><tr><td>train_lh_corr</td><td>0.19973</td></tr><tr><td>train_lh_mse</td><td>0.51185</td></tr><tr><td>train_rh_corr</td><td>0.18961</td></tr><tr><td>train_rh_mse</td><td>0.53102</td></tr><tr><td>val_lh_corr</td><td>0.10412</td></tr><tr><td>val_lh_mse</td><td>0.5318</td></tr><tr><td>val_rh_corr</td><td>0.09166</td></tr><tr><td>val_rh_mse</td><td>0.55146</td></tr></table><br/></div></div>"
      ],
      "text/plain": [
       "<IPython.core.display.HTML object>"
      ]
     },
     "metadata": {},
     "output_type": "display_data"
    },
    {
     "data": {
      "text/html": [
       " View run <strong style=\"color:#cdcd00\">efficient-fire-1007</strong> at: <a href='https://wandb.ai/syrkis/neuroscope/runs/wmihmjl9' target=\"_blank\">https://wandb.ai/syrkis/neuroscope/runs/wmihmjl9</a><br/>Synced 5 W&B file(s), 0 media file(s), 0 artifact file(s) and 0 other file(s)"
      ],
      "text/plain": [
       "<IPython.core.display.HTML object>"
      ]
     },
     "metadata": {},
     "output_type": "display_data"
    },
    {
     "data": {
      "text/html": [
       "Find logs at: <code>./wandb/run-20230605_231307-wmihmjl9/logs</code>"
      ],
      "text/plain": [
       "<IPython.core.display.HTML object>"
      ]
     },
     "metadata": {},
     "output_type": "display_data"
    },
    {
     "data": {
      "text/html": [
       "Tracking run with wandb version 0.15.3"
      ],
      "text/plain": [
       "<IPython.core.display.HTML object>"
      ]
     },
     "metadata": {},
     "output_type": "display_data"
    },
    {
     "data": {
      "text/html": [
       "Run data is saved locally in <code>/home/nobr/neuroscope/wandb/run-20230605_231359-htwcxq47</code>"
      ],
      "text/plain": [
       "<IPython.core.display.HTML object>"
      ]
     },
     "metadata": {},
     "output_type": "display_data"
    },
    {
     "data": {
      "text/html": [
       "Syncing run <strong><a href='https://wandb.ai/syrkis/neuroscope/runs/htwcxq47' target=\"_blank\">prime-dream-1009</a></strong> to <a href='https://wandb.ai/syrkis/neuroscope' target=\"_blank\">Weights & Biases</a> (<a href='https://wandb.me/run' target=\"_blank\">docs</a>)<br/>"
      ],
      "text/plain": [
       "<IPython.core.display.HTML object>"
      ]
     },
     "metadata": {},
     "output_type": "display_data"
    },
    {
     "data": {
      "text/html": [
       " View project at <a href='https://wandb.ai/syrkis/neuroscope' target=\"_blank\">https://wandb.ai/syrkis/neuroscope</a>"
      ],
      "text/plain": [
       "<IPython.core.display.HTML object>"
      ]
     },
     "metadata": {},
     "output_type": "display_data"
    },
    {
     "data": {
      "text/html": [
       " View run at <a href='https://wandb.ai/syrkis/neuroscope/runs/htwcxq47' target=\"_blank\">https://wandb.ai/syrkis/neuroscope/runs/htwcxq47</a>"
      ],
      "text/plain": [
       "<IPython.core.display.HTML object>"
      ]
     },
     "metadata": {},
     "output_type": "display_data"
    },
    {
     "name": "stderr",
     "output_type": "stream",
     "text": [
      "100%|██████████| 6000/6000 [00:46<00:00, 128.19it/s]\n"
     ]
    },
    {
     "data": {
      "text/html": [
       "Waiting for W&B process to finish... <strong style=\"color:green\">(success).</strong>"
      ],
      "text/plain": [
       "<IPython.core.display.HTML object>"
      ]
     },
     "metadata": {},
     "output_type": "display_data"
    },
    {
     "data": {
      "text/html": [
       "<style>\n",
       "    table.wandb td:nth-child(1) { padding: 0 10px; text-align: left ; width: auto;} td:nth-child(2) {text-align: left ; width: 100%}\n",
       "    .wandb-row { display: flex; flex-direction: row; flex-wrap: wrap; justify-content: flex-start; width: 100% }\n",
       "    .wandb-col { display: flex; flex-direction: column; flex-basis: 100%; flex: 1; padding: 10px; }\n",
       "    </style>\n",
       "<div class=\"wandb-row\"><div class=\"wandb-col\"><h3>Run history:</h3><br/><table class=\"wandb\"><tr><td>train_lh_corr</td><td>▁▁▂▄▅▅▇▅▆▇▆▆▅▇▆▇▅█▆▆█▇▇▆▆▇▆▇▇█▅▆▆█▆█▇▆▆▆</td></tr><tr><td>train_lh_mse</td><td>█▁▁▁▁▁▁▁▁▁▁▁▁▁▁▁▁▁▁▁▁▁▁▁▁▁▁▁▁▁▁▁▁▁▁▁▁▁▁▁</td></tr><tr><td>train_rh_corr</td><td>▁▁▂▃▅▅▆▅▆▇▅▇▆▇▆▇▅█▇▆█▆▇▆▆▇▅█▇▇▅▇▆█▆█▇▇▅▆</td></tr><tr><td>train_rh_mse</td><td>█▁▁▁▁▁▁▁▁▁▁▁▁▁▁▁▁▁▁▁▁▁▁▁▁▁▁▁▁▁▁▁▁▁▁▁▁▁▁▁</td></tr><tr><td>val_lh_corr</td><td>▁▁▂▃▂▃▄█▄▃▄▃▄▃▄▄▄▃▄▄▄▄▄▃▄▄▄▄▄▃▄▄▄▄█▃▄▄▄▄</td></tr><tr><td>val_lh_mse</td><td>█▁▁▁▁▁▁▁▁▁▁▁▁▁▁▁▁▁▁▁▁▁▁▁▁▁▁▁▁▁▁▁▁▁▁▁▁▁▁▁</td></tr><tr><td>val_rh_corr</td><td>▁▁▂▃▃▃▄█▄▃▃▃▄▃▄▄▄▃▃▄▃▃▃▃▃▄▄▄▄▃▄▃▄▄█▃▄▄▄▄</td></tr><tr><td>val_rh_mse</td><td>█▁▁▁▁▁▁▁▁▁▁▁▁▁▁▁▁▁▁▁▁▁▁▁▁▁▁▁▁▁▁▁▁▁▁▁▁▁▁▁</td></tr></table><br/></div><div class=\"wandb-col\"><h3>Run summary:</h3><br/><table class=\"wandb\"><tr><td>train_lh_corr</td><td>0.17134</td></tr><tr><td>train_lh_mse</td><td>0.53674</td></tr><tr><td>train_rh_corr</td><td>0.16683</td></tr><tr><td>train_rh_mse</td><td>0.51975</td></tr><tr><td>val_lh_corr</td><td>0.19467</td></tr><tr><td>val_lh_mse</td><td>0.56812</td></tr><tr><td>val_rh_corr</td><td>0.20105</td></tr><tr><td>val_rh_mse</td><td>0.56186</td></tr></table><br/></div></div>"
      ],
      "text/plain": [
       "<IPython.core.display.HTML object>"
      ]
     },
     "metadata": {},
     "output_type": "display_data"
    },
    {
     "data": {
      "text/html": [
       " View run <strong style=\"color:#cdcd00\">prime-dream-1009</strong> at: <a href='https://wandb.ai/syrkis/neuroscope/runs/htwcxq47' target=\"_blank\">https://wandb.ai/syrkis/neuroscope/runs/htwcxq47</a><br/>Synced 5 W&B file(s), 0 media file(s), 0 artifact file(s) and 0 other file(s)"
      ],
      "text/plain": [
       "<IPython.core.display.HTML object>"
      ]
     },
     "metadata": {},
     "output_type": "display_data"
    },
    {
     "data": {
      "text/html": [
       "Find logs at: <code>./wandb/run-20230605_231359-htwcxq47/logs</code>"
      ],
      "text/plain": [
       "<IPython.core.display.HTML object>"
      ]
     },
     "metadata": {},
     "output_type": "display_data"
    },
    {
     "data": {
      "text/html": [
       "Tracking run with wandb version 0.15.3"
      ],
      "text/plain": [
       "<IPython.core.display.HTML object>"
      ]
     },
     "metadata": {},
     "output_type": "display_data"
    },
    {
     "data": {
      "text/html": [
       "Run data is saved locally in <code>/home/nobr/neuroscope/wandb/run-20230605_231452-awxsudpt</code>"
      ],
      "text/plain": [
       "<IPython.core.display.HTML object>"
      ]
     },
     "metadata": {},
     "output_type": "display_data"
    },
    {
     "data": {
      "text/html": [
       "Syncing run <strong><a href='https://wandb.ai/syrkis/neuroscope/runs/awxsudpt' target=\"_blank\">solar-water-1011</a></strong> to <a href='https://wandb.ai/syrkis/neuroscope' target=\"_blank\">Weights & Biases</a> (<a href='https://wandb.me/run' target=\"_blank\">docs</a>)<br/>"
      ],
      "text/plain": [
       "<IPython.core.display.HTML object>"
      ]
     },
     "metadata": {},
     "output_type": "display_data"
    },
    {
     "data": {
      "text/html": [
       " View project at <a href='https://wandb.ai/syrkis/neuroscope' target=\"_blank\">https://wandb.ai/syrkis/neuroscope</a>"
      ],
      "text/plain": [
       "<IPython.core.display.HTML object>"
      ]
     },
     "metadata": {},
     "output_type": "display_data"
    },
    {
     "data": {
      "text/html": [
       " View run at <a href='https://wandb.ai/syrkis/neuroscope/runs/awxsudpt' target=\"_blank\">https://wandb.ai/syrkis/neuroscope/runs/awxsudpt</a>"
      ],
      "text/plain": [
       "<IPython.core.display.HTML object>"
      ]
     },
     "metadata": {},
     "output_type": "display_data"
    },
    {
     "name": "stderr",
     "output_type": "stream",
     "text": [
      "100%|██████████| 6000/6000 [00:52<00:00, 113.94it/s]\n"
     ]
    },
    {
     "data": {
      "text/html": [
       "Waiting for W&B process to finish... <strong style=\"color:green\">(success).</strong>"
      ],
      "text/plain": [
       "<IPython.core.display.HTML object>"
      ]
     },
     "metadata": {},
     "output_type": "display_data"
    },
    {
     "data": {
      "text/html": [
       "<style>\n",
       "    table.wandb td:nth-child(1) { padding: 0 10px; text-align: left ; width: auto;} td:nth-child(2) {text-align: left ; width: 100%}\n",
       "    .wandb-row { display: flex; flex-direction: row; flex-wrap: wrap; justify-content: flex-start; width: 100% }\n",
       "    .wandb-col { display: flex; flex-direction: column; flex-basis: 100%; flex: 1; padding: 10px; }\n",
       "    </style>\n",
       "<div class=\"wandb-row\"><div class=\"wandb-col\"><h3>Run history:</h3><br/><table class=\"wandb\"><tr><td>train_lh_corr</td><td>▁▁▂▅▃▅▅▅▆▆▆▆▅▆▆▅▅▅▆▆▇▄▇▅▆▆▅▆▅▇▆▅▆▇▆▇█▇█▆</td></tr><tr><td>train_lh_mse</td><td>█▁▁▁▁▁▁▁▁▁▁▁▁▁▁▁▁▁▁▁▁▁▁▁▁▁▁▁▁▁▁▁▁▁▁▁▁▁▁▁</td></tr><tr><td>train_rh_corr</td><td>▁▁▂▄▄▅▆▅▆▆▆▆▆▇▆▆▅▅▆▆▇▅▇▅▇▆▅▇▅▇▆▆▆▆▆▇█▇▇▆</td></tr><tr><td>train_rh_mse</td><td>█▁▁▁▁▁▁▁▁▁▁▁▁▁▁▁▁▁▁▁▁▁▁▁▁▁▁▁▁▁▁▁▁▁▁▁▁▁▁▁</td></tr><tr><td>val_lh_corr</td><td>▅▅▅▆▇▇▇▁▆██▆▇██▇▆██▇▇▇▇▇███▆▇▇███▇▁▇▇▇▇█</td></tr><tr><td>val_lh_mse</td><td>█▁▁▁▁▁▁▁▁▁▁▁▁▁▁▁▁▁▁▁▁▁▁▁▁▁▁▁▁▁▁▁▁▁▁▁▁▁▁▁</td></tr><tr><td>val_rh_corr</td><td>▅▅▅▆▇▇▇▁▆▇█▆▇██▇▇██▇█▇▇████▇██▇█▇█▁▇▇▇██</td></tr><tr><td>val_rh_mse</td><td>█▁▁▁▁▁▁▁▁▁▁▁▁▁▁▁▁▁▁▁▁▁▁▁▁▁▁▁▁▁▁▁▁▁▁▁▁▁▁▁</td></tr></table><br/></div><div class=\"wandb-col\"><h3>Run summary:</h3><br/><table class=\"wandb\"><tr><td>train_lh_corr</td><td>0.1844</td></tr><tr><td>train_lh_mse</td><td>0.50719</td></tr><tr><td>train_rh_corr</td><td>0.18295</td></tr><tr><td>train_rh_mse</td><td>0.51559</td></tr><tr><td>val_lh_corr</td><td>0.18528</td></tr><tr><td>val_lh_mse</td><td>0.56962</td></tr><tr><td>val_rh_corr</td><td>0.19114</td></tr><tr><td>val_rh_mse</td><td>0.5476</td></tr></table><br/></div></div>"
      ],
      "text/plain": [
       "<IPython.core.display.HTML object>"
      ]
     },
     "metadata": {},
     "output_type": "display_data"
    },
    {
     "data": {
      "text/html": [
       " View run <strong style=\"color:#cdcd00\">solar-water-1011</strong> at: <a href='https://wandb.ai/syrkis/neuroscope/runs/awxsudpt' target=\"_blank\">https://wandb.ai/syrkis/neuroscope/runs/awxsudpt</a><br/>Synced 5 W&B file(s), 0 media file(s), 0 artifact file(s) and 0 other file(s)"
      ],
      "text/plain": [
       "<IPython.core.display.HTML object>"
      ]
     },
     "metadata": {},
     "output_type": "display_data"
    },
    {
     "data": {
      "text/html": [
       "Find logs at: <code>./wandb/run-20230605_231452-awxsudpt/logs</code>"
      ],
      "text/plain": [
       "<IPython.core.display.HTML object>"
      ]
     },
     "metadata": {},
     "output_type": "display_data"
    },
    {
     "data": {
      "text/html": [
       "Tracking run with wandb version 0.15.3"
      ],
      "text/plain": [
       "<IPython.core.display.HTML object>"
      ]
     },
     "metadata": {},
     "output_type": "display_data"
    },
    {
     "data": {
      "text/html": [
       "Run data is saved locally in <code>/home/nobr/neuroscope/wandb/run-20230605_231551-cdbgiapv</code>"
      ],
      "text/plain": [
       "<IPython.core.display.HTML object>"
      ]
     },
     "metadata": {},
     "output_type": "display_data"
    },
    {
     "data": {
      "text/html": [
       "Syncing run <strong><a href='https://wandb.ai/syrkis/neuroscope/runs/cdbgiapv' target=\"_blank\">helpful-dew-1013</a></strong> to <a href='https://wandb.ai/syrkis/neuroscope' target=\"_blank\">Weights & Biases</a> (<a href='https://wandb.me/run' target=\"_blank\">docs</a>)<br/>"
      ],
      "text/plain": [
       "<IPython.core.display.HTML object>"
      ]
     },
     "metadata": {},
     "output_type": "display_data"
    },
    {
     "data": {
      "text/html": [
       " View project at <a href='https://wandb.ai/syrkis/neuroscope' target=\"_blank\">https://wandb.ai/syrkis/neuroscope</a>"
      ],
      "text/plain": [
       "<IPython.core.display.HTML object>"
      ]
     },
     "metadata": {},
     "output_type": "display_data"
    },
    {
     "data": {
      "text/html": [
       " View run at <a href='https://wandb.ai/syrkis/neuroscope/runs/cdbgiapv' target=\"_blank\">https://wandb.ai/syrkis/neuroscope/runs/cdbgiapv</a>"
      ],
      "text/plain": [
       "<IPython.core.display.HTML object>"
      ]
     },
     "metadata": {},
     "output_type": "display_data"
    },
    {
     "name": "stderr",
     "output_type": "stream",
     "text": [
      "100%|██████████| 6000/6000 [00:46<00:00, 128.14it/s]\n"
     ]
    },
    {
     "data": {
      "text/html": [
       "Waiting for W&B process to finish... <strong style=\"color:green\">(success).</strong>"
      ],
      "text/plain": [
       "<IPython.core.display.HTML object>"
      ]
     },
     "metadata": {},
     "output_type": "display_data"
    },
    {
     "data": {
      "text/html": [
       "<style>\n",
       "    table.wandb td:nth-child(1) { padding: 0 10px; text-align: left ; width: auto;} td:nth-child(2) {text-align: left ; width: 100%}\n",
       "    .wandb-row { display: flex; flex-direction: row; flex-wrap: wrap; justify-content: flex-start; width: 100% }\n",
       "    .wandb-col { display: flex; flex-direction: column; flex-basis: 100%; flex: 1; padding: 10px; }\n",
       "    </style>\n",
       "<div class=\"wandb-row\"><div class=\"wandb-col\"><h3>Run history:</h3><br/><table class=\"wandb\"><tr><td>train_lh_corr</td><td>▁▁▂▄▅▅▅▆▇▅▅▆▆█▆▅▇▆▆▇▇▆▆▇▆▇▅▆▇▆█▆▆▆▅▆▆▇▆▆</td></tr><tr><td>train_lh_mse</td><td>█▁▁▁▁▁▁▁▁▁▁▁▁▁▁▁▁▁▁▁▁▁▁▁▁▁▁▁▁▁▁▁▁▁▁▁▁▁▁▁</td></tr><tr><td>train_rh_corr</td><td>▁▁▂▅▅▅▅▆▇▅▅▆▆█▅▆▇▆▆▇▇▆▆▆▆▇▆▆▇▇█▆▅▆▅█▆▆▇▇</td></tr><tr><td>train_rh_mse</td><td>█▁▁▁▁▁▁▁▁▁▁▁▁▁▁▁▁▁▁▁▁▁▁▁▁▁▁▁▁▁▁▁▁▁▁▁▁▁▁▁</td></tr><tr><td>val_lh_corr</td><td>▃▄▄▄▅▅▅▁▅▆▅▆▅▅▆▅▆▅▅▅▅▅▆▆▅▆▅▆▅▆▆▅▆▅█▅▆▅▆▅</td></tr><tr><td>val_lh_mse</td><td>█▁▁▁▁▁▁▁▁▁▁▁▁▁▁▁▁▁▁▁▁▁▁▁▁▁▁▁▁▁▁▁▁▁▁▁▁▁▁▁</td></tr><tr><td>val_rh_corr</td><td>▄▄▄▅▅▅▅▁▅▅▅▅▅▅▅▅▅▅▅▅▅▅▆▅▅▆▅▆▅▆▅▅▅▆█▅▆▅▆▅</td></tr><tr><td>val_rh_mse</td><td>█▁▁▁▁▁▁▁▁▁▁▁▁▁▁▁▁▁▁▁▁▁▁▁▁▁▁▁▁▁▁▁▁▁▁▁▁▁▁▁</td></tr></table><br/></div><div class=\"wandb-col\"><h3>Run summary:</h3><br/><table class=\"wandb\"><tr><td>train_lh_corr</td><td>0.20082</td></tr><tr><td>train_lh_mse</td><td>0.55561</td></tr><tr><td>train_rh_corr</td><td>0.22686</td></tr><tr><td>train_rh_mse</td><td>0.56923</td></tr><tr><td>val_lh_corr</td><td>0.13074</td></tr><tr><td>val_lh_mse</td><td>0.57108</td></tr><tr><td>val_rh_corr</td><td>0.13334</td></tr><tr><td>val_rh_mse</td><td>0.59073</td></tr></table><br/></div></div>"
      ],
      "text/plain": [
       "<IPython.core.display.HTML object>"
      ]
     },
     "metadata": {},
     "output_type": "display_data"
    },
    {
     "data": {
      "text/html": [
       " View run <strong style=\"color:#cdcd00\">helpful-dew-1013</strong> at: <a href='https://wandb.ai/syrkis/neuroscope/runs/cdbgiapv' target=\"_blank\">https://wandb.ai/syrkis/neuroscope/runs/cdbgiapv</a><br/>Synced 5 W&B file(s), 0 media file(s), 0 artifact file(s) and 0 other file(s)"
      ],
      "text/plain": [
       "<IPython.core.display.HTML object>"
      ]
     },
     "metadata": {},
     "output_type": "display_data"
    },
    {
     "data": {
      "text/html": [
       "Find logs at: <code>./wandb/run-20230605_231551-cdbgiapv/logs</code>"
      ],
      "text/plain": [
       "<IPython.core.display.HTML object>"
      ]
     },
     "metadata": {},
     "output_type": "display_data"
    },
    {
     "data": {
      "text/html": [
       "Tracking run with wandb version 0.15.3"
      ],
      "text/plain": [
       "<IPython.core.display.HTML object>"
      ]
     },
     "metadata": {},
     "output_type": "display_data"
    },
    {
     "data": {
      "text/html": [
       "Run data is saved locally in <code>/home/nobr/neuroscope/wandb/run-20230605_231644-fckbyc2g</code>"
      ],
      "text/plain": [
       "<IPython.core.display.HTML object>"
      ]
     },
     "metadata": {},
     "output_type": "display_data"
    },
    {
     "data": {
      "text/html": [
       "Syncing run <strong><a href='https://wandb.ai/syrkis/neuroscope/runs/fckbyc2g' target=\"_blank\">fanciful-galaxy-1014</a></strong> to <a href='https://wandb.ai/syrkis/neuroscope' target=\"_blank\">Weights & Biases</a> (<a href='https://wandb.me/run' target=\"_blank\">docs</a>)<br/>"
      ],
      "text/plain": [
       "<IPython.core.display.HTML object>"
      ]
     },
     "metadata": {},
     "output_type": "display_data"
    },
    {
     "data": {
      "text/html": [
       " View project at <a href='https://wandb.ai/syrkis/neuroscope' target=\"_blank\">https://wandb.ai/syrkis/neuroscope</a>"
      ],
      "text/plain": [
       "<IPython.core.display.HTML object>"
      ]
     },
     "metadata": {},
     "output_type": "display_data"
    },
    {
     "data": {
      "text/html": [
       " View run at <a href='https://wandb.ai/syrkis/neuroscope/runs/fckbyc2g' target=\"_blank\">https://wandb.ai/syrkis/neuroscope/runs/fckbyc2g</a>"
      ],
      "text/plain": [
       "<IPython.core.display.HTML object>"
      ]
     },
     "metadata": {},
     "output_type": "display_data"
    },
    {
     "name": "stderr",
     "output_type": "stream",
     "text": [
      "100%|██████████| 6000/6000 [00:51<00:00, 117.49it/s]\n"
     ]
    },
    {
     "data": {
      "text/html": [
       "Waiting for W&B process to finish... <strong style=\"color:green\">(success).</strong>"
      ],
      "text/plain": [
       "<IPython.core.display.HTML object>"
      ]
     },
     "metadata": {},
     "output_type": "display_data"
    },
    {
     "data": {
      "text/html": [
       "<style>\n",
       "    table.wandb td:nth-child(1) { padding: 0 10px; text-align: left ; width: auto;} td:nth-child(2) {text-align: left ; width: 100%}\n",
       "    .wandb-row { display: flex; flex-direction: row; flex-wrap: wrap; justify-content: flex-start; width: 100% }\n",
       "    .wandb-col { display: flex; flex-direction: column; flex-basis: 100%; flex: 1; padding: 10px; }\n",
       "    </style>\n",
       "<div class=\"wandb-row\"><div class=\"wandb-col\"><h3>Run history:</h3><br/><table class=\"wandb\"><tr><td>train_lh_corr</td><td>▁▁▂▄▄▅▆▅▆▆▅▅▆▅▆▅▆▆▆▆▅▆▆▆▇▇▆▆▆▆▅▆▆▇▅█▆▆▆▇</td></tr><tr><td>train_lh_mse</td><td>█▁▁▁▁▁▁▁▁▁▁▁▁▁▁▁▁▁▁▁▁▁▁▁▁▁▁▁▁▁▁▁▁▁▁▁▁▁▁▁</td></tr><tr><td>train_rh_corr</td><td>▁▁▂▃▄▅▅▅▇▆▆▆▆▅▆▅▇▆▆▇▆▆▆▆▇▆▇▆▇▆▆▇▆▇▅█▆▆▆▇</td></tr><tr><td>train_rh_mse</td><td>█▁▁▁▁▁▁▁▁▁▁▁▁▁▁▁▁▁▁▁▁▁▁▁▁▁▁▁▁▁▁▁▁▁▁▁▁▁▁▁</td></tr><tr><td>val_lh_corr</td><td>▁▁▂▃▅▆▇▆▆▆▇▇▆▆█▇█▅▇▇▆▇█▆▇▆▆▆▆▆█▇▇▇▅▆█▇▆▇</td></tr><tr><td>val_lh_mse</td><td>█▁▁▁▁▁▁▁▁▁▁▁▁▁▁▁▁▁▁▁▁▁▁▁▁▁▁▁▁▁▁▁▁▁▁▁▁▁▁▁</td></tr><tr><td>val_rh_corr</td><td>▁▁▂▃▅▆█▆▅▅▆▇▆▆█▇▇▆▆▇▇▇█▆▇▆▆▇▆▆▇▇▇▆▅▆█▆▆█</td></tr><tr><td>val_rh_mse</td><td>█▁▁▁▁▁▁▁▁▁▁▁▁▁▁▁▁▁▁▁▁▁▁▁▁▁▁▁▁▁▁▁▁▁▁▁▁▁▁▁</td></tr></table><br/></div><div class=\"wandb-col\"><h3>Run summary:</h3><br/><table class=\"wandb\"><tr><td>train_lh_corr</td><td>0.20811</td></tr><tr><td>train_lh_mse</td><td>0.60968</td></tr><tr><td>train_rh_corr</td><td>0.23117</td></tr><tr><td>train_rh_mse</td><td>0.62058</td></tr><tr><td>val_lh_corr</td><td>0.16463</td></tr><tr><td>val_lh_mse</td><td>0.55735</td></tr><tr><td>val_rh_corr</td><td>0.20586</td></tr><tr><td>val_rh_mse</td><td>0.54774</td></tr></table><br/></div></div>"
      ],
      "text/plain": [
       "<IPython.core.display.HTML object>"
      ]
     },
     "metadata": {},
     "output_type": "display_data"
    },
    {
     "data": {
      "text/html": [
       " View run <strong style=\"color:#cdcd00\">fanciful-galaxy-1014</strong> at: <a href='https://wandb.ai/syrkis/neuroscope/runs/fckbyc2g' target=\"_blank\">https://wandb.ai/syrkis/neuroscope/runs/fckbyc2g</a><br/>Synced 5 W&B file(s), 0 media file(s), 0 artifact file(s) and 0 other file(s)"
      ],
      "text/plain": [
       "<IPython.core.display.HTML object>"
      ]
     },
     "metadata": {},
     "output_type": "display_data"
    },
    {
     "data": {
      "text/html": [
       "Find logs at: <code>./wandb/run-20230605_231644-fckbyc2g/logs</code>"
      ],
      "text/plain": [
       "<IPython.core.display.HTML object>"
      ]
     },
     "metadata": {},
     "output_type": "display_data"
    },
    {
     "data": {
      "text/html": [
       "Tracking run with wandb version 0.15.3"
      ],
      "text/plain": [
       "<IPython.core.display.HTML object>"
      ]
     },
     "metadata": {},
     "output_type": "display_data"
    },
    {
     "data": {
      "text/html": [
       "Run data is saved locally in <code>/home/nobr/neuroscope/wandb/run-20230605_231742-r2z10e94</code>"
      ],
      "text/plain": [
       "<IPython.core.display.HTML object>"
      ]
     },
     "metadata": {},
     "output_type": "display_data"
    },
    {
     "data": {
      "text/html": [
       "Syncing run <strong><a href='https://wandb.ai/syrkis/neuroscope/runs/r2z10e94' target=\"_blank\">colorful-glitter-1016</a></strong> to <a href='https://wandb.ai/syrkis/neuroscope' target=\"_blank\">Weights & Biases</a> (<a href='https://wandb.me/run' target=\"_blank\">docs</a>)<br/>"
      ],
      "text/plain": [
       "<IPython.core.display.HTML object>"
      ]
     },
     "metadata": {},
     "output_type": "display_data"
    },
    {
     "data": {
      "text/html": [
       " View project at <a href='https://wandb.ai/syrkis/neuroscope' target=\"_blank\">https://wandb.ai/syrkis/neuroscope</a>"
      ],
      "text/plain": [
       "<IPython.core.display.HTML object>"
      ]
     },
     "metadata": {},
     "output_type": "display_data"
    },
    {
     "data": {
      "text/html": [
       " View run at <a href='https://wandb.ai/syrkis/neuroscope/runs/r2z10e94' target=\"_blank\">https://wandb.ai/syrkis/neuroscope/runs/r2z10e94</a>"
      ],
      "text/plain": [
       "<IPython.core.display.HTML object>"
      ]
     },
     "metadata": {},
     "output_type": "display_data"
    },
    {
     "name": "stderr",
     "output_type": "stream",
     "text": [
      "100%|██████████| 6000/6000 [00:46<00:00, 130.21it/s]\n"
     ]
    },
    {
     "data": {
      "text/html": [
       "Waiting for W&B process to finish... <strong style=\"color:green\">(success).</strong>"
      ],
      "text/plain": [
       "<IPython.core.display.HTML object>"
      ]
     },
     "metadata": {},
     "output_type": "display_data"
    },
    {
     "data": {
      "text/html": [
       "<style>\n",
       "    table.wandb td:nth-child(1) { padding: 0 10px; text-align: left ; width: auto;} td:nth-child(2) {text-align: left ; width: 100%}\n",
       "    .wandb-row { display: flex; flex-direction: row; flex-wrap: wrap; justify-content: flex-start; width: 100% }\n",
       "    .wandb-col { display: flex; flex-direction: column; flex-basis: 100%; flex: 1; padding: 10px; }\n",
       "    </style>\n",
       "<div class=\"wandb-row\"><div class=\"wandb-col\"><h3>Run history:</h3><br/><table class=\"wandb\"><tr><td>train_lh_corr</td><td>▁▁▂▃▅▅▆▆▆▆▆▆▇▆▆▇▆▆▇▆▇▆▇▇▇▆█▇▇▇▆▇▇▇▇▇█▇▇▇</td></tr><tr><td>train_lh_mse</td><td>█▁▁▁▁▁▁▁▁▁▁▁▁▁▁▁▁▁▁▁▁▁▁▁▁▁▁▁▁▁▁▁▁▁▁▁▁▁▁▁</td></tr><tr><td>train_rh_corr</td><td>▁▁▂▃▄▄▅▆▆▆▆▅▆▅▆▇▅▆▇▇▇▅▆▇▇▆█▆▇▇▆▇▆▇▇▆█▇▆▆</td></tr><tr><td>train_rh_mse</td><td>█▁▁▁▁▁▁▁▁▁▁▁▁▁▁▁▁▁▁▁▁▁▁▁▁▁▁▁▁▁▁▁▁▁▁▁▁▁▁▁</td></tr><tr><td>val_lh_corr</td><td>▁▁▂▃▅▆▆▆▆▅▆▇▇▇▅▆▆█▆▆▆█▅▇▅▆▇▇█▆▆▆▆▇▆▇▇▇▆▇</td></tr><tr><td>val_lh_mse</td><td>█▁▁▁▁▁▁▁▁▁▁▁▁▁▁▁▁▁▁▁▁▁▁▁▁▁▁▁▁▁▁▁▁▁▁▁▁▁▁▁</td></tr><tr><td>val_rh_corr</td><td>▁▁▂▃▄▆▆▇▆▅▇▇▇█▅▇▅█▆▆▇█▇▇▆▆▆▇█▆▇▇▆▆▇▇▇▇▇▇</td></tr><tr><td>val_rh_mse</td><td>█▁▁▁▁▁▁▁▁▁▁▁▁▁▁▁▁▁▁▁▁▁▁▁▁▁▁▁▁▁▁▁▁▁▁▁▁▁▁▁</td></tr></table><br/></div><div class=\"wandb-col\"><h3>Run summary:</h3><br/><table class=\"wandb\"><tr><td>train_lh_corr</td><td>0.19189</td></tr><tr><td>train_lh_mse</td><td>0.62759</td></tr><tr><td>train_rh_corr</td><td>0.17736</td></tr><tr><td>train_rh_mse</td><td>0.63785</td></tr><tr><td>val_lh_corr</td><td>0.18907</td></tr><tr><td>val_lh_mse</td><td>0.57405</td></tr><tr><td>val_rh_corr</td><td>0.18934</td></tr><tr><td>val_rh_mse</td><td>0.61202</td></tr></table><br/></div></div>"
      ],
      "text/plain": [
       "<IPython.core.display.HTML object>"
      ]
     },
     "metadata": {},
     "output_type": "display_data"
    },
    {
     "data": {
      "text/html": [
       " View run <strong style=\"color:#cdcd00\">colorful-glitter-1016</strong> at: <a href='https://wandb.ai/syrkis/neuroscope/runs/r2z10e94' target=\"_blank\">https://wandb.ai/syrkis/neuroscope/runs/r2z10e94</a><br/>Synced 5 W&B file(s), 0 media file(s), 0 artifact file(s) and 0 other file(s)"
      ],
      "text/plain": [
       "<IPython.core.display.HTML object>"
      ]
     },
     "metadata": {},
     "output_type": "display_data"
    },
    {
     "data": {
      "text/html": [
       "Find logs at: <code>./wandb/run-20230605_231742-r2z10e94/logs</code>"
      ],
      "text/plain": [
       "<IPython.core.display.HTML object>"
      ]
     },
     "metadata": {},
     "output_type": "display_data"
    },
    {
     "data": {
      "text/html": [
       "Tracking run with wandb version 0.15.3"
      ],
      "text/plain": [
       "<IPython.core.display.HTML object>"
      ]
     },
     "metadata": {},
     "output_type": "display_data"
    },
    {
     "data": {
      "text/html": [
       "Run data is saved locally in <code>/home/nobr/neuroscope/wandb/run-20230605_231835-2mdzqcvi</code>"
      ],
      "text/plain": [
       "<IPython.core.display.HTML object>"
      ]
     },
     "metadata": {},
     "output_type": "display_data"
    },
    {
     "data": {
      "text/html": [
       "Syncing run <strong><a href='https://wandb.ai/syrkis/neuroscope/runs/2mdzqcvi' target=\"_blank\">spring-frog-1018</a></strong> to <a href='https://wandb.ai/syrkis/neuroscope' target=\"_blank\">Weights & Biases</a> (<a href='https://wandb.me/run' target=\"_blank\">docs</a>)<br/>"
      ],
      "text/plain": [
       "<IPython.core.display.HTML object>"
      ]
     },
     "metadata": {},
     "output_type": "display_data"
    },
    {
     "data": {
      "text/html": [
       " View project at <a href='https://wandb.ai/syrkis/neuroscope' target=\"_blank\">https://wandb.ai/syrkis/neuroscope</a>"
      ],
      "text/plain": [
       "<IPython.core.display.HTML object>"
      ]
     },
     "metadata": {},
     "output_type": "display_data"
    },
    {
     "data": {
      "text/html": [
       " View run at <a href='https://wandb.ai/syrkis/neuroscope/runs/2mdzqcvi' target=\"_blank\">https://wandb.ai/syrkis/neuroscope/runs/2mdzqcvi</a>"
      ],
      "text/plain": [
       "<IPython.core.display.HTML object>"
      ]
     },
     "metadata": {},
     "output_type": "display_data"
    },
    {
     "name": "stderr",
     "output_type": "stream",
     "text": [
      "100%|██████████| 6000/6000 [00:47<00:00, 125.91it/s]\n"
     ]
    },
    {
     "data": {
      "text/html": [
       "Waiting for W&B process to finish... <strong style=\"color:green\">(success).</strong>"
      ],
      "text/plain": [
       "<IPython.core.display.HTML object>"
      ]
     },
     "metadata": {},
     "output_type": "display_data"
    },
    {
     "data": {
      "text/html": [
       "<style>\n",
       "    table.wandb td:nth-child(1) { padding: 0 10px; text-align: left ; width: auto;} td:nth-child(2) {text-align: left ; width: 100%}\n",
       "    .wandb-row { display: flex; flex-direction: row; flex-wrap: wrap; justify-content: flex-start; width: 100% }\n",
       "    .wandb-col { display: flex; flex-direction: column; flex-basis: 100%; flex: 1; padding: 10px; }\n",
       "    </style>\n",
       "<div class=\"wandb-row\"><div class=\"wandb-col\"><h3>Run history:</h3><br/><table class=\"wandb\"><tr><td>train_lh_corr</td><td>▁▁▂▃▆▅▅▆▆▆▇▅▇▅▇▆▆▆█▇▆▇▅▆▇▇▇▇▆▇▇▇▇▆▇▆▇▆▆▆</td></tr><tr><td>train_lh_mse</td><td>█▁▁▁▁▁▁▁▁▁▁▁▁▁▁▁▁▁▁▁▁▁▁▁▁▁▁▁▁▁▁▁▁▁▁▁▁▁▁▁</td></tr><tr><td>train_rh_corr</td><td>▁▁▂▃▇▆▅▆▆▆▇▅▇▆▇▆▇▆██▆▆▅▆▇▇▇▇▇▇▇▇▇▆▇▆█▆▇▆</td></tr><tr><td>train_rh_mse</td><td>█▁▁▁▁▁▁▁▁▁▁▁▁▁▁▁▁▁▁▁▁▁▁▁▁▁▁▁▁▁▁▁▁▁▁▁▁▁▁▁</td></tr><tr><td>val_lh_corr</td><td>▁▁▂▄▄▅▅▆▅▇▇▅▅▆▅▆▅▇▅▆▆▆▇▆▆▆█▄▆▆▆▆█▇▅▇▇▆▇▅</td></tr><tr><td>val_lh_mse</td><td>█▁▁▁▁▁▁▁▁▁▁▁▁▁▁▁▁▁▁▁▁▁▁▁▁▁▁▁▁▁▁▁▁▁▁▁▁▁▁▁</td></tr><tr><td>val_rh_corr</td><td>▁▁▂▄▄▅▅▆▅▆█▅▅▅▆▆▅▇▅▆▆▅▇▆▆▅█▄▅▆▅▆█▇▅▇▆▇▆▅</td></tr><tr><td>val_rh_mse</td><td>█▁▁▁▁▁▁▁▁▁▁▁▁▁▁▁▁▁▁▁▁▁▁▁▁▁▁▁▁▁▁▁▁▁▁▁▁▁▁▁</td></tr></table><br/></div><div class=\"wandb-col\"><h3>Run summary:</h3><br/><table class=\"wandb\"><tr><td>train_lh_corr</td><td>0.15419</td></tr><tr><td>train_lh_mse</td><td>0.56947</td></tr><tr><td>train_rh_corr</td><td>0.16189</td></tr><tr><td>train_rh_mse</td><td>0.59292</td></tr><tr><td>val_lh_corr</td><td>0.12754</td></tr><tr><td>val_lh_mse</td><td>0.52542</td></tr><tr><td>val_rh_corr</td><td>0.15213</td></tr><tr><td>val_rh_mse</td><td>0.53202</td></tr></table><br/></div></div>"
      ],
      "text/plain": [
       "<IPython.core.display.HTML object>"
      ]
     },
     "metadata": {},
     "output_type": "display_data"
    },
    {
     "data": {
      "text/html": [
       " View run <strong style=\"color:#cdcd00\">spring-frog-1018</strong> at: <a href='https://wandb.ai/syrkis/neuroscope/runs/2mdzqcvi' target=\"_blank\">https://wandb.ai/syrkis/neuroscope/runs/2mdzqcvi</a><br/>Synced 5 W&B file(s), 0 media file(s), 0 artifact file(s) and 0 other file(s)"
      ],
      "text/plain": [
       "<IPython.core.display.HTML object>"
      ]
     },
     "metadata": {},
     "output_type": "display_data"
    },
    {
     "data": {
      "text/html": [
       "Find logs at: <code>./wandb/run-20230605_231835-2mdzqcvi/logs</code>"
      ],
      "text/plain": [
       "<IPython.core.display.HTML object>"
      ]
     },
     "metadata": {},
     "output_type": "display_data"
    },
    {
     "data": {
      "text/html": [
       "Tracking run with wandb version 0.15.3"
      ],
      "text/plain": [
       "<IPython.core.display.HTML object>"
      ]
     },
     "metadata": {},
     "output_type": "display_data"
    },
    {
     "data": {
      "text/html": [
       "Run data is saved locally in <code>/home/nobr/neuroscope/wandb/run-20230605_231928-982erbmj</code>"
      ],
      "text/plain": [
       "<IPython.core.display.HTML object>"
      ]
     },
     "metadata": {},
     "output_type": "display_data"
    },
    {
     "data": {
      "text/html": [
       "Syncing run <strong><a href='https://wandb.ai/syrkis/neuroscope/runs/982erbmj' target=\"_blank\">lemon-hill-1019</a></strong> to <a href='https://wandb.ai/syrkis/neuroscope' target=\"_blank\">Weights & Biases</a> (<a href='https://wandb.me/run' target=\"_blank\">docs</a>)<br/>"
      ],
      "text/plain": [
       "<IPython.core.display.HTML object>"
      ]
     },
     "metadata": {},
     "output_type": "display_data"
    },
    {
     "data": {
      "text/html": [
       " View project at <a href='https://wandb.ai/syrkis/neuroscope' target=\"_blank\">https://wandb.ai/syrkis/neuroscope</a>"
      ],
      "text/plain": [
       "<IPython.core.display.HTML object>"
      ]
     },
     "metadata": {},
     "output_type": "display_data"
    },
    {
     "data": {
      "text/html": [
       " View run at <a href='https://wandb.ai/syrkis/neuroscope/runs/982erbmj' target=\"_blank\">https://wandb.ai/syrkis/neuroscope/runs/982erbmj</a>"
      ],
      "text/plain": [
       "<IPython.core.display.HTML object>"
      ]
     },
     "metadata": {},
     "output_type": "display_data"
    },
    {
     "name": "stderr",
     "output_type": "stream",
     "text": [
      "100%|██████████| 6000/6000 [00:50<00:00, 117.77it/s]\n"
     ]
    },
    {
     "data": {
      "text/html": [
       "Waiting for W&B process to finish... <strong style=\"color:green\">(success).</strong>"
      ],
      "text/plain": [
       "<IPython.core.display.HTML object>"
      ]
     },
     "metadata": {},
     "output_type": "display_data"
    },
    {
     "data": {
      "text/html": [
       "<style>\n",
       "    table.wandb td:nth-child(1) { padding: 0 10px; text-align: left ; width: auto;} td:nth-child(2) {text-align: left ; width: 100%}\n",
       "    .wandb-row { display: flex; flex-direction: row; flex-wrap: wrap; justify-content: flex-start; width: 100% }\n",
       "    .wandb-col { display: flex; flex-direction: column; flex-basis: 100%; flex: 1; padding: 10px; }\n",
       "    </style>\n",
       "<div class=\"wandb-row\"><div class=\"wandb-col\"><h3>Run history:</h3><br/><table class=\"wandb\"><tr><td>train_lh_corr</td><td>▁▁▂▃▅▅▅▆▅▆▆▆▅▅▆▆▆▇▇▇▅▇▅▇▇█▇▆▇▆▆▆▅▅██▅▇▇▇</td></tr><tr><td>train_lh_mse</td><td>█▁▁▁▁▁▁▁▁▁▁▁▁▁▁▁▁▁▁▁▁▁▁▁▁▁▁▁▁▁▁▁▁▁▁▁▁▁▁▁</td></tr><tr><td>train_rh_corr</td><td>▁▁▂▄▅▆▄▆▆▆▆▆▅▅▆▇▆▇▇▇▅▆▅▆▆█▇▆▆▅▇▆▆▅▇█▅▇▇▇</td></tr><tr><td>train_rh_mse</td><td>█▁▁▁▁▁▁▁▁▁▁▁▁▁▁▁▁▁▁▁▁▁▁▁▁▁▁▁▁▁▁▁▁▁▁▁▁▁▁▁</td></tr><tr><td>val_lh_corr</td><td>▁▁▂▃▅▆▅▅▅▇▆▆▇▇▆█▅▇▅▆▆▆▅▇▅▅▆▅▆▇█▇▆▅▆▇▆▇▇▄</td></tr><tr><td>val_lh_mse</td><td>█▁▁▁▁▁▁▁▁▁▁▁▁▁▁▁▁▁▁▁▁▁▁▁▁▁▁▁▁▁▁▁▁▁▁▁▁▁▁▁</td></tr><tr><td>val_rh_corr</td><td>▁▁▂▃▅▇▆▆▆▇▇▇▆▇▅█▅▇▅▅▆▆▅▇▅▅▇▅▆▆█▇▆▆▅▇▆▇▇▅</td></tr><tr><td>val_rh_mse</td><td>█▁▁▁▁▁▁▁▁▁▁▁▁▁▁▁▁▁▁▁▁▁▁▁▁▁▁▁▁▁▁▁▁▁▁▁▁▁▁▁</td></tr></table><br/></div><div class=\"wandb-col\"><h3>Run summary:</h3><br/><table class=\"wandb\"><tr><td>train_lh_corr</td><td>0.2188</td></tr><tr><td>train_lh_mse</td><td>0.53019</td></tr><tr><td>train_rh_corr</td><td>0.20599</td></tr><tr><td>train_rh_mse</td><td>0.55049</td></tr><tr><td>val_lh_corr</td><td>0.0932</td></tr><tr><td>val_lh_mse</td><td>0.60295</td></tr><tr><td>val_rh_corr</td><td>0.11256</td></tr><tr><td>val_rh_mse</td><td>0.61848</td></tr></table><br/></div></div>"
      ],
      "text/plain": [
       "<IPython.core.display.HTML object>"
      ]
     },
     "metadata": {},
     "output_type": "display_data"
    },
    {
     "data": {
      "text/html": [
       " View run <strong style=\"color:#cdcd00\">lemon-hill-1019</strong> at: <a href='https://wandb.ai/syrkis/neuroscope/runs/982erbmj' target=\"_blank\">https://wandb.ai/syrkis/neuroscope/runs/982erbmj</a><br/>Synced 5 W&B file(s), 0 media file(s), 0 artifact file(s) and 0 other file(s)"
      ],
      "text/plain": [
       "<IPython.core.display.HTML object>"
      ]
     },
     "metadata": {},
     "output_type": "display_data"
    },
    {
     "data": {
      "text/html": [
       "Find logs at: <code>./wandb/run-20230605_231928-982erbmj/logs</code>"
      ],
      "text/plain": [
       "<IPython.core.display.HTML object>"
      ]
     },
     "metadata": {},
     "output_type": "display_data"
    },
    {
     "data": {
      "text/html": [
       "Tracking run with wandb version 0.15.3"
      ],
      "text/plain": [
       "<IPython.core.display.HTML object>"
      ]
     },
     "metadata": {},
     "output_type": "display_data"
    },
    {
     "data": {
      "text/html": [
       "Run data is saved locally in <code>/home/nobr/neuroscope/wandb/run-20230605_232025-4akey0bt</code>"
      ],
      "text/plain": [
       "<IPython.core.display.HTML object>"
      ]
     },
     "metadata": {},
     "output_type": "display_data"
    },
    {
     "data": {
      "text/html": [
       "Syncing run <strong><a href='https://wandb.ai/syrkis/neuroscope/runs/4akey0bt' target=\"_blank\">tough-brook-1021</a></strong> to <a href='https://wandb.ai/syrkis/neuroscope' target=\"_blank\">Weights & Biases</a> (<a href='https://wandb.me/run' target=\"_blank\">docs</a>)<br/>"
      ],
      "text/plain": [
       "<IPython.core.display.HTML object>"
      ]
     },
     "metadata": {},
     "output_type": "display_data"
    },
    {
     "data": {
      "text/html": [
       " View project at <a href='https://wandb.ai/syrkis/neuroscope' target=\"_blank\">https://wandb.ai/syrkis/neuroscope</a>"
      ],
      "text/plain": [
       "<IPython.core.display.HTML object>"
      ]
     },
     "metadata": {},
     "output_type": "display_data"
    },
    {
     "data": {
      "text/html": [
       " View run at <a href='https://wandb.ai/syrkis/neuroscope/runs/4akey0bt' target=\"_blank\">https://wandb.ai/syrkis/neuroscope/runs/4akey0bt</a>"
      ],
      "text/plain": [
       "<IPython.core.display.HTML object>"
      ]
     },
     "metadata": {},
     "output_type": "display_data"
    },
    {
     "name": "stderr",
     "output_type": "stream",
     "text": [
      "100%|██████████| 6000/6000 [00:47<00:00, 126.78it/s]\n"
     ]
    },
    {
     "data": {
      "text/html": [
       "Waiting for W&B process to finish... <strong style=\"color:green\">(success).</strong>"
      ],
      "text/plain": [
       "<IPython.core.display.HTML object>"
      ]
     },
     "metadata": {},
     "output_type": "display_data"
    },
    {
     "data": {
      "text/html": [
       "<style>\n",
       "    table.wandb td:nth-child(1) { padding: 0 10px; text-align: left ; width: auto;} td:nth-child(2) {text-align: left ; width: 100%}\n",
       "    .wandb-row { display: flex; flex-direction: row; flex-wrap: wrap; justify-content: flex-start; width: 100% }\n",
       "    .wandb-col { display: flex; flex-direction: column; flex-basis: 100%; flex: 1; padding: 10px; }\n",
       "    </style>\n",
       "<div class=\"wandb-row\"><div class=\"wandb-col\"><h3>Run history:</h3><br/><table class=\"wandb\"><tr><td>train_lh_corr</td><td>▁▁▂▃▆▆▆▆▇▆▅▇▆▆█▇▆▆▇█▆▆▇▆▇▆▇▆▅▇▇▆▆██▇▇▇▇▇</td></tr><tr><td>train_lh_mse</td><td>█▁▁▁▁▁▁▁▁▁▁▁▁▁▁▁▁▁▁▁▁▁▁▁▁▁▁▁▁▁▁▁▁▁▁▁▁▁▁▁</td></tr><tr><td>train_rh_corr</td><td>▁▁▂▃▆▆▆▆▇▆▅▇▆▇██▇▆▇█▇▆▇▆█▇▇▆▅▇▇▆▆██▇▇▇▇▇</td></tr><tr><td>train_rh_mse</td><td>█▁▁▁▁▁▁▁▁▁▁▁▁▁▁▁▁▁▁▁▁▁▁▁▁▁▁▁▁▁▁▁▁▁▁▁▁▁▁▁</td></tr><tr><td>val_lh_corr</td><td>▁▁▂▃▄▆▅▆▇▆▆▄▇▆█▆▆▇▆▆▆▆▆▆▅▆▇▅▄▆▇▇▆▅█▅▆▅▇▆</td></tr><tr><td>val_lh_mse</td><td>█▁▁▁▁▁▁▁▁▁▁▁▁▁▁▁▁▁▁▁▁▁▁▁▁▁▁▁▁▁▁▁▁▁▁▁▁▁▁▁</td></tr><tr><td>val_rh_corr</td><td>▁▁▂▄▅▆▅▅▇▆▆▄▆▆█▆▆▇▆▇▆▆▆▇▅▇▇▆▅▅█▇▆▅█▅▇▆▇▇</td></tr><tr><td>val_rh_mse</td><td>█▁▁▁▁▁▁▁▁▁▁▁▁▁▁▁▁▁▁▁▁▁▁▁▁▁▁▁▁▁▁▁▁▁▁▁▁▁▁▁</td></tr></table><br/></div><div class=\"wandb-col\"><h3>Run summary:</h3><br/><table class=\"wandb\"><tr><td>train_lh_corr</td><td>0.18527</td></tr><tr><td>train_lh_mse</td><td>0.55812</td></tr><tr><td>train_rh_corr</td><td>0.21203</td></tr><tr><td>train_rh_mse</td><td>0.56899</td></tr><tr><td>val_lh_corr</td><td>0.1509</td></tr><tr><td>val_lh_mse</td><td>0.53703</td></tr><tr><td>val_rh_corr</td><td>0.203</td></tr><tr><td>val_rh_mse</td><td>0.54886</td></tr></table><br/></div></div>"
      ],
      "text/plain": [
       "<IPython.core.display.HTML object>"
      ]
     },
     "metadata": {},
     "output_type": "display_data"
    },
    {
     "data": {
      "text/html": [
       " View run <strong style=\"color:#cdcd00\">tough-brook-1021</strong> at: <a href='https://wandb.ai/syrkis/neuroscope/runs/4akey0bt' target=\"_blank\">https://wandb.ai/syrkis/neuroscope/runs/4akey0bt</a><br/>Synced 5 W&B file(s), 0 media file(s), 0 artifact file(s) and 0 other file(s)"
      ],
      "text/plain": [
       "<IPython.core.display.HTML object>"
      ]
     },
     "metadata": {},
     "output_type": "display_data"
    },
    {
     "data": {
      "text/html": [
       "Find logs at: <code>./wandb/run-20230605_232025-4akey0bt/logs</code>"
      ],
      "text/plain": [
       "<IPython.core.display.HTML object>"
      ]
     },
     "metadata": {},
     "output_type": "display_data"
    },
    {
     "data": {
      "text/html": [
       "Tracking run with wandb version 0.15.3"
      ],
      "text/plain": [
       "<IPython.core.display.HTML object>"
      ]
     },
     "metadata": {},
     "output_type": "display_data"
    },
    {
     "data": {
      "text/html": [
       "Run data is saved locally in <code>/home/nobr/neuroscope/wandb/run-20230605_232117-2tqt7viy</code>"
      ],
      "text/plain": [
       "<IPython.core.display.HTML object>"
      ]
     },
     "metadata": {},
     "output_type": "display_data"
    },
    {
     "data": {
      "text/html": [
       "Syncing run <strong><a href='https://wandb.ai/syrkis/neuroscope/runs/2tqt7viy' target=\"_blank\">stellar-capybara-1023</a></strong> to <a href='https://wandb.ai/syrkis/neuroscope' target=\"_blank\">Weights & Biases</a> (<a href='https://wandb.me/run' target=\"_blank\">docs</a>)<br/>"
      ],
      "text/plain": [
       "<IPython.core.display.HTML object>"
      ]
     },
     "metadata": {},
     "output_type": "display_data"
    },
    {
     "data": {
      "text/html": [
       " View project at <a href='https://wandb.ai/syrkis/neuroscope' target=\"_blank\">https://wandb.ai/syrkis/neuroscope</a>"
      ],
      "text/plain": [
       "<IPython.core.display.HTML object>"
      ]
     },
     "metadata": {},
     "output_type": "display_data"
    },
    {
     "data": {
      "text/html": [
       " View run at <a href='https://wandb.ai/syrkis/neuroscope/runs/2tqt7viy' target=\"_blank\">https://wandb.ai/syrkis/neuroscope/runs/2tqt7viy</a>"
      ],
      "text/plain": [
       "<IPython.core.display.HTML object>"
      ]
     },
     "metadata": {},
     "output_type": "display_data"
    },
    {
     "name": "stderr",
     "output_type": "stream",
     "text": [
      "100%|██████████| 6000/6000 [00:47<00:00, 127.27it/s]\n"
     ]
    },
    {
     "data": {
      "text/html": [
       "Waiting for W&B process to finish... <strong style=\"color:green\">(success).</strong>"
      ],
      "text/plain": [
       "<IPython.core.display.HTML object>"
      ]
     },
     "metadata": {},
     "output_type": "display_data"
    },
    {
     "data": {
      "text/html": [
       "<style>\n",
       "    table.wandb td:nth-child(1) { padding: 0 10px; text-align: left ; width: auto;} td:nth-child(2) {text-align: left ; width: 100%}\n",
       "    .wandb-row { display: flex; flex-direction: row; flex-wrap: wrap; justify-content: flex-start; width: 100% }\n",
       "    .wandb-col { display: flex; flex-direction: column; flex-basis: 100%; flex: 1; padding: 10px; }\n",
       "    </style>\n",
       "<div class=\"wandb-row\"><div class=\"wandb-col\"><h3>Run history:</h3><br/><table class=\"wandb\"><tr><td>train_lh_corr</td><td>▁▁▄▅▆▆▆▆▅▇▆██▇▆▇▆▇▇▆▇▇▇▇▇█▇▇▇▇▇█▇▇▇▇▇██▇</td></tr><tr><td>train_lh_mse</td><td>█▁▁▁▁▁▁▁▁▁▁▁▁▁▁▁▁▁▁▁▁▁▁▁▁▁▁▁▁▁▁▁▁▁▁▁▁▁▁▁</td></tr><tr><td>train_rh_corr</td><td>▁▁▄▅▅▆▆▆▅▇▅▇▇▇▆▆▆▆▆▆▇▇▆▇▇█▇▇▇▇▇▇▇▇▇▇▇█▇▇</td></tr><tr><td>train_rh_mse</td><td>█▁▁▁▁▁▁▁▁▁▁▁▁▁▁▁▁▁▁▁▁▁▁▁▁▁▁▁▁▁▁▁▁▁▁▁▁▁▁▁</td></tr><tr><td>val_lh_corr</td><td>▁▁▂▄▆▆▆▆█▇▅▆▇▇▇▇▇█▆▆▇▇▆▇▇▇▅█▇▆▇▅▆▇▇▆▇▆▇▆</td></tr><tr><td>val_lh_mse</td><td>█▁▁▁▁▁▁▁▁▁▁▁▁▁▁▁▁▁▁▁▁▁▁▁▁▁▁▁▁▁▁▁▁▁▁▁▁▁▁▁</td></tr><tr><td>val_rh_corr</td><td>▁▁▃▄▆▆▇▆▇▇▆▆▇▇▇▇▇█▆▆▇▇▆▇█▇▅█▇▆▇▅▆▇▇▇▇▅▇▆</td></tr><tr><td>val_rh_mse</td><td>█▁▁▁▁▁▁▁▁▁▁▁▁▁▁▁▁▁▁▁▁▁▁▁▁▁▁▁▁▁▁▁▁▁▁▁▁▁▁▁</td></tr></table><br/></div><div class=\"wandb-col\"><h3>Run summary:</h3><br/><table class=\"wandb\"><tr><td>train_lh_corr</td><td>0.23754</td></tr><tr><td>train_lh_mse</td><td>0.45492</td></tr><tr><td>train_rh_corr</td><td>0.25418</td></tr><tr><td>train_rh_mse</td><td>0.44722</td></tr><tr><td>val_lh_corr</td><td>0.19812</td></tr><tr><td>val_lh_mse</td><td>0.48655</td></tr><tr><td>val_rh_corr</td><td>0.1877</td></tr><tr><td>val_rh_mse</td><td>0.48112</td></tr></table><br/></div></div>"
      ],
      "text/plain": [
       "<IPython.core.display.HTML object>"
      ]
     },
     "metadata": {},
     "output_type": "display_data"
    },
    {
     "data": {
      "text/html": [
       " View run <strong style=\"color:#cdcd00\">stellar-capybara-1023</strong> at: <a href='https://wandb.ai/syrkis/neuroscope/runs/2tqt7viy' target=\"_blank\">https://wandb.ai/syrkis/neuroscope/runs/2tqt7viy</a><br/>Synced 5 W&B file(s), 0 media file(s), 0 artifact file(s) and 0 other file(s)"
      ],
      "text/plain": [
       "<IPython.core.display.HTML object>"
      ]
     },
     "metadata": {},
     "output_type": "display_data"
    },
    {
     "data": {
      "text/html": [
       "Find logs at: <code>./wandb/run-20230605_232117-2tqt7viy/logs</code>"
      ],
      "text/plain": [
       "<IPython.core.display.HTML object>"
      ]
     },
     "metadata": {},
     "output_type": "display_data"
    },
    {
     "data": {
      "text/html": [
       "Tracking run with wandb version 0.15.3"
      ],
      "text/plain": [
       "<IPython.core.display.HTML object>"
      ]
     },
     "metadata": {},
     "output_type": "display_data"
    },
    {
     "data": {
      "text/html": [
       "Run data is saved locally in <code>/home/nobr/neuroscope/wandb/run-20230605_232211-u4954brd</code>"
      ],
      "text/plain": [
       "<IPython.core.display.HTML object>"
      ]
     },
     "metadata": {},
     "output_type": "display_data"
    },
    {
     "data": {
      "text/html": [
       "Syncing run <strong><a href='https://wandb.ai/syrkis/neuroscope/runs/u4954brd' target=\"_blank\">clear-snowflake-1024</a></strong> to <a href='https://wandb.ai/syrkis/neuroscope' target=\"_blank\">Weights & Biases</a> (<a href='https://wandb.me/run' target=\"_blank\">docs</a>)<br/>"
      ],
      "text/plain": [
       "<IPython.core.display.HTML object>"
      ]
     },
     "metadata": {},
     "output_type": "display_data"
    },
    {
     "data": {
      "text/html": [
       " View project at <a href='https://wandb.ai/syrkis/neuroscope' target=\"_blank\">https://wandb.ai/syrkis/neuroscope</a>"
      ],
      "text/plain": [
       "<IPython.core.display.HTML object>"
      ]
     },
     "metadata": {},
     "output_type": "display_data"
    },
    {
     "data": {
      "text/html": [
       " View run at <a href='https://wandb.ai/syrkis/neuroscope/runs/u4954brd' target=\"_blank\">https://wandb.ai/syrkis/neuroscope/runs/u4954brd</a>"
      ],
      "text/plain": [
       "<IPython.core.display.HTML object>"
      ]
     },
     "metadata": {},
     "output_type": "display_data"
    },
    {
     "name": "stderr",
     "output_type": "stream",
     "text": [
      "100%|██████████| 6000/6000 [00:47<00:00, 126.97it/s]\n"
     ]
    },
    {
     "data": {
      "text/html": [
       "Waiting for W&B process to finish... <strong style=\"color:green\">(success).</strong>"
      ],
      "text/plain": [
       "<IPython.core.display.HTML object>"
      ]
     },
     "metadata": {},
     "output_type": "display_data"
    },
    {
     "data": {
      "text/html": [
       "<style>\n",
       "    table.wandb td:nth-child(1) { padding: 0 10px; text-align: left ; width: auto;} td:nth-child(2) {text-align: left ; width: 100%}\n",
       "    .wandb-row { display: flex; flex-direction: row; flex-wrap: wrap; justify-content: flex-start; width: 100% }\n",
       "    .wandb-col { display: flex; flex-direction: column; flex-basis: 100%; flex: 1; padding: 10px; }\n",
       "    </style>\n",
       "<div class=\"wandb-row\"><div class=\"wandb-col\"><h3>Run history:</h3><br/><table class=\"wandb\"><tr><td>train_lh_corr</td><td>▁▁▃▅▅▆▆▆▆▆▆▇▆▇▆▆▇▆▆▆▆█▇▆▆▆▆▇▆▅▆▇▇▆▇▆▆▇▇▆</td></tr><tr><td>train_lh_mse</td><td>█▁▁▁▁▁▁▁▁▁▁▁▁▁▁▁▁▁▁▁▁▁▁▁▁▁▁▁▁▁▁▁▁▁▁▁▁▁▁▁</td></tr><tr><td>train_rh_corr</td><td>▁▁▃▄▅▆▆▅▆▆▇▇▆▇▆▆▇▆▆▆▆█▆▇▆▆▆▇▆▅▆▆█▆▇▆▆█▇▆</td></tr><tr><td>train_rh_mse</td><td>█▁▁▁▁▁▁▁▁▁▁▁▁▁▁▁▁▁▁▁▁▁▁▁▁▁▁▁▁▁▁▁▁▁▁▁▁▁▁▁</td></tr><tr><td>val_lh_corr</td><td>▁▁▄▆▆▆▆▇▇▇▆▇▆█▇▇▆▇▆▆▆▇█▆▇▇▆▆▇▇▇▆▆▅▆▆▆▅▆█</td></tr><tr><td>val_lh_mse</td><td>█▁▁▁▁▁▁▁▁▁▁▁▁▁▁▁▁▁▁▁▁▁▁▁▁▁▁▁▁▁▁▁▁▁▁▁▁▁▁▁</td></tr><tr><td>val_rh_corr</td><td>▁▁▃▅▆▆▆▇▇▇▅▇▆█▇▇▆▇▇▇▆▇█▆▇▇▆▆▇▇▇▇▇▅▆▆▆▅▆█</td></tr><tr><td>val_rh_mse</td><td>█▁▁▁▁▁▁▁▁▁▁▁▁▁▁▁▁▁▁▁▁▁▁▁▁▁▁▁▁▁▁▁▁▁▁▁▁▁▁▁</td></tr></table><br/></div><div class=\"wandb-col\"><h3>Run summary:</h3><br/><table class=\"wandb\"><tr><td>train_lh_corr</td><td>0.24333</td></tr><tr><td>train_lh_mse</td><td>0.49237</td></tr><tr><td>train_rh_corr</td><td>0.211</td></tr><tr><td>train_rh_mse</td><td>0.49037</td></tr><tr><td>val_lh_corr</td><td>0.27963</td></tr><tr><td>val_lh_mse</td><td>0.48013</td></tr><tr><td>val_rh_corr</td><td>0.25498</td></tr><tr><td>val_rh_mse</td><td>0.48532</td></tr></table><br/></div></div>"
      ],
      "text/plain": [
       "<IPython.core.display.HTML object>"
      ]
     },
     "metadata": {},
     "output_type": "display_data"
    },
    {
     "data": {
      "text/html": [
       " View run <strong style=\"color:#cdcd00\">clear-snowflake-1024</strong> at: <a href='https://wandb.ai/syrkis/neuroscope/runs/u4954brd' target=\"_blank\">https://wandb.ai/syrkis/neuroscope/runs/u4954brd</a><br/>Synced 5 W&B file(s), 0 media file(s), 0 artifact file(s) and 0 other file(s)"
      ],
      "text/plain": [
       "<IPython.core.display.HTML object>"
      ]
     },
     "metadata": {},
     "output_type": "display_data"
    },
    {
     "data": {
      "text/html": [
       "Find logs at: <code>./wandb/run-20230605_232211-u4954brd/logs</code>"
      ],
      "text/plain": [
       "<IPython.core.display.HTML object>"
      ]
     },
     "metadata": {},
     "output_type": "display_data"
    },
    {
     "data": {
      "text/html": [
       "Tracking run with wandb version 0.15.3"
      ],
      "text/plain": [
       "<IPython.core.display.HTML object>"
      ]
     },
     "metadata": {},
     "output_type": "display_data"
    },
    {
     "data": {
      "text/html": [
       "Run data is saved locally in <code>/home/nobr/neuroscope/wandb/run-20230605_232303-uzcis7z1</code>"
      ],
      "text/plain": [
       "<IPython.core.display.HTML object>"
      ]
     },
     "metadata": {},
     "output_type": "display_data"
    },
    {
     "data": {
      "text/html": [
       "Syncing run <strong><a href='https://wandb.ai/syrkis/neuroscope/runs/uzcis7z1' target=\"_blank\">easy-valley-1026</a></strong> to <a href='https://wandb.ai/syrkis/neuroscope' target=\"_blank\">Weights & Biases</a> (<a href='https://wandb.me/run' target=\"_blank\">docs</a>)<br/>"
      ],
      "text/plain": [
       "<IPython.core.display.HTML object>"
      ]
     },
     "metadata": {},
     "output_type": "display_data"
    },
    {
     "data": {
      "text/html": [
       " View project at <a href='https://wandb.ai/syrkis/neuroscope' target=\"_blank\">https://wandb.ai/syrkis/neuroscope</a>"
      ],
      "text/plain": [
       "<IPython.core.display.HTML object>"
      ]
     },
     "metadata": {},
     "output_type": "display_data"
    },
    {
     "data": {
      "text/html": [
       " View run at <a href='https://wandb.ai/syrkis/neuroscope/runs/uzcis7z1' target=\"_blank\">https://wandb.ai/syrkis/neuroscope/runs/uzcis7z1</a>"
      ],
      "text/plain": [
       "<IPython.core.display.HTML object>"
      ]
     },
     "metadata": {},
     "output_type": "display_data"
    },
    {
     "name": "stderr",
     "output_type": "stream",
     "text": [
      "100%|██████████| 6000/6000 [00:47<00:00, 127.12it/s]\n"
     ]
    },
    {
     "data": {
      "text/html": [
       "Waiting for W&B process to finish... <strong style=\"color:green\">(success).</strong>"
      ],
      "text/plain": [
       "<IPython.core.display.HTML object>"
      ]
     },
     "metadata": {},
     "output_type": "display_data"
    },
    {
     "data": {
      "text/html": [
       "<style>\n",
       "    table.wandb td:nth-child(1) { padding: 0 10px; text-align: left ; width: auto;} td:nth-child(2) {text-align: left ; width: 100%}\n",
       "    .wandb-row { display: flex; flex-direction: row; flex-wrap: wrap; justify-content: flex-start; width: 100% }\n",
       "    .wandb-col { display: flex; flex-direction: column; flex-basis: 100%; flex: 1; padding: 10px; }\n",
       "    </style>\n",
       "<div class=\"wandb-row\"><div class=\"wandb-col\"><h3>Run history:</h3><br/><table class=\"wandb\"><tr><td>train_lh_corr</td><td>▁▁▃▅▆▇▇▇▆▇▇▆▆▇█▇▇▇▇▇▆▇▇▆▇▆▇▇▆▇▇▇▅▇▇█▆▆▇▇</td></tr><tr><td>train_lh_mse</td><td>█▁▁▁▁▁▁▁▁▁▁▁▁▁▁▁▁▁▁▁▁▁▁▁▁▁▁▁▁▁▁▁▁▁▁▁▁▁▁▁</td></tr><tr><td>train_rh_corr</td><td>▁▁▃▅▆▇▇▇▇█▇▆▆▇█▇▆▇▇▇▆▇▆▆▇▆▇█▇▆█▇▅▇▇█▇▆▇▇</td></tr><tr><td>train_rh_mse</td><td>█▁▁▁▁▁▁▁▁▁▁▁▁▁▁▁▁▁▁▁▁▁▁▁▁▁▁▁▁▁▁▁▁▁▁▁▁▁▁▁</td></tr><tr><td>val_lh_corr</td><td>▁▁▃▅▆▆▆▇▅▇▆▆▆▇▇▇▇▆▇▇▆▆▆█▇▅▇▆▆▇▆▇▇▇▇▆██▆▇</td></tr><tr><td>val_lh_mse</td><td>█▁▁▁▁▁▁▁▁▁▁▁▁▁▁▁▁▁▁▁▁▁▁▁▁▁▁▁▁▁▁▁▁▁▁▁▁▁▁▁</td></tr><tr><td>val_rh_corr</td><td>▁▁▃▅▆▆▆▆▆▇▆▆▆▆▆▆▆▇▆▇▅▆▅▇▇▅▇▆▆▆▆▆▆▇▇▆▇█▅▆</td></tr><tr><td>val_rh_mse</td><td>█▁▁▁▁▁▁▁▁▁▁▁▁▁▁▁▁▁▁▁▁▁▁▁▁▁▁▁▁▁▁▁▁▁▁▁▁▁▁▁</td></tr></table><br/></div><div class=\"wandb-col\"><h3>Run summary:</h3><br/><table class=\"wandb\"><tr><td>train_lh_corr</td><td>0.25785</td></tr><tr><td>train_lh_mse</td><td>0.51278</td></tr><tr><td>train_rh_corr</td><td>0.24484</td></tr><tr><td>train_rh_mse</td><td>0.5161</td></tr><tr><td>val_lh_corr</td><td>0.22149</td></tr><tr><td>val_lh_mse</td><td>0.47771</td></tr><tr><td>val_rh_corr</td><td>0.21316</td></tr><tr><td>val_rh_mse</td><td>0.48494</td></tr></table><br/></div></div>"
      ],
      "text/plain": [
       "<IPython.core.display.HTML object>"
      ]
     },
     "metadata": {},
     "output_type": "display_data"
    },
    {
     "data": {
      "text/html": [
       " View run <strong style=\"color:#cdcd00\">easy-valley-1026</strong> at: <a href='https://wandb.ai/syrkis/neuroscope/runs/uzcis7z1' target=\"_blank\">https://wandb.ai/syrkis/neuroscope/runs/uzcis7z1</a><br/>Synced 5 W&B file(s), 0 media file(s), 0 artifact file(s) and 0 other file(s)"
      ],
      "text/plain": [
       "<IPython.core.display.HTML object>"
      ]
     },
     "metadata": {},
     "output_type": "display_data"
    },
    {
     "data": {
      "text/html": [
       "Find logs at: <code>./wandb/run-20230605_232303-uzcis7z1/logs</code>"
      ],
      "text/plain": [
       "<IPython.core.display.HTML object>"
      ]
     },
     "metadata": {},
     "output_type": "display_data"
    },
    {
     "data": {
      "text/html": [
       "Tracking run with wandb version 0.15.3"
      ],
      "text/plain": [
       "<IPython.core.display.HTML object>"
      ]
     },
     "metadata": {},
     "output_type": "display_data"
    },
    {
     "data": {
      "text/html": [
       "Run data is saved locally in <code>/home/nobr/neuroscope/wandb/run-20230605_232356-wn0f563g</code>"
      ],
      "text/plain": [
       "<IPython.core.display.HTML object>"
      ]
     },
     "metadata": {},
     "output_type": "display_data"
    },
    {
     "data": {
      "text/html": [
       "Syncing run <strong><a href='https://wandb.ai/syrkis/neuroscope/runs/wn0f563g' target=\"_blank\">zany-brook-1028</a></strong> to <a href='https://wandb.ai/syrkis/neuroscope' target=\"_blank\">Weights & Biases</a> (<a href='https://wandb.me/run' target=\"_blank\">docs</a>)<br/>"
      ],
      "text/plain": [
       "<IPython.core.display.HTML object>"
      ]
     },
     "metadata": {},
     "output_type": "display_data"
    },
    {
     "data": {
      "text/html": [
       " View project at <a href='https://wandb.ai/syrkis/neuroscope' target=\"_blank\">https://wandb.ai/syrkis/neuroscope</a>"
      ],
      "text/plain": [
       "<IPython.core.display.HTML object>"
      ]
     },
     "metadata": {},
     "output_type": "display_data"
    },
    {
     "data": {
      "text/html": [
       " View run at <a href='https://wandb.ai/syrkis/neuroscope/runs/wn0f563g' target=\"_blank\">https://wandb.ai/syrkis/neuroscope/runs/wn0f563g</a>"
      ],
      "text/plain": [
       "<IPython.core.display.HTML object>"
      ]
     },
     "metadata": {},
     "output_type": "display_data"
    },
    {
     "name": "stderr",
     "output_type": "stream",
     "text": [
      "100%|██████████| 6000/6000 [00:47<00:00, 127.21it/s]\n"
     ]
    },
    {
     "data": {
      "text/html": [
       "Waiting for W&B process to finish... <strong style=\"color:green\">(success).</strong>"
      ],
      "text/plain": [
       "<IPython.core.display.HTML object>"
      ]
     },
     "metadata": {},
     "output_type": "display_data"
    },
    {
     "data": {
      "text/html": [
       "<style>\n",
       "    table.wandb td:nth-child(1) { padding: 0 10px; text-align: left ; width: auto;} td:nth-child(2) {text-align: left ; width: 100%}\n",
       "    .wandb-row { display: flex; flex-direction: row; flex-wrap: wrap; justify-content: flex-start; width: 100% }\n",
       "    .wandb-col { display: flex; flex-direction: column; flex-basis: 100%; flex: 1; padding: 10px; }\n",
       "    </style>\n",
       "<div class=\"wandb-row\"><div class=\"wandb-col\"><h3>Run history:</h3><br/><table class=\"wandb\"><tr><td>train_lh_corr</td><td>▁▁▃▆▅▇▇▇▆█▇▆▇▆▇▇▇▆▆▇▇▇▇▆▇▇▆▇█▇▆▆▆▇▆▆▅▇▇▇</td></tr><tr><td>train_lh_mse</td><td>█▁▁▁▁▁▁▁▁▁▁▁▁▁▁▁▁▁▁▁▁▁▁▁▁▁▁▁▁▁▁▁▁▁▁▁▁▁▁▁</td></tr><tr><td>train_rh_corr</td><td>▁▁▃▆▅▇▇▇▅█▇▇▇▆▇▇█▆▆█▇▇▇▆▇▇▆▇█▆▇▆▆▆▆▆▅▇▇▇</td></tr><tr><td>train_rh_mse</td><td>█▁▁▁▁▁▁▁▁▁▁▁▁▁▁▁▁▁▁▁▁▁▁▁▁▁▁▁▁▁▁▁▁▁▁▁▁▁▁▁</td></tr><tr><td>val_lh_corr</td><td>▁▁▄▄▆▆▆▇▆▆▆▆▆▇▆▇▆▆██▇▆▇▅▇▇▇▆▆▇▆▆▇█▆▇▇▆▇█</td></tr><tr><td>val_lh_mse</td><td>█▁▁▁▁▁▁▁▁▁▁▁▁▁▁▁▁▁▁▁▁▁▁▁▁▁▁▁▁▁▁▁▁▁▁▁▁▁▁▁</td></tr><tr><td>val_rh_corr</td><td>▁▁▄▃▆▆▅▇▆▅▇▆▆▇▆▇▆▆██▇▆▇▅▇▇▆▇▇▇▆▆▇█▆▆▇▆▇▇</td></tr><tr><td>val_rh_mse</td><td>█▁▁▁▁▁▁▁▁▁▁▁▁▁▁▁▁▁▁▁▁▁▁▁▁▁▁▁▁▁▁▁▁▁▁▁▁▁▁▁</td></tr></table><br/></div><div class=\"wandb-col\"><h3>Run summary:</h3><br/><table class=\"wandb\"><tr><td>train_lh_corr</td><td>0.24646</td></tr><tr><td>train_lh_mse</td><td>0.48029</td></tr><tr><td>train_rh_corr</td><td>0.23983</td></tr><tr><td>train_rh_mse</td><td>0.48435</td></tr><tr><td>val_lh_corr</td><td>0.27116</td></tr><tr><td>val_lh_mse</td><td>0.48117</td></tr><tr><td>val_rh_corr</td><td>0.24571</td></tr><tr><td>val_rh_mse</td><td>0.48184</td></tr></table><br/></div></div>"
      ],
      "text/plain": [
       "<IPython.core.display.HTML object>"
      ]
     },
     "metadata": {},
     "output_type": "display_data"
    },
    {
     "data": {
      "text/html": [
       " View run <strong style=\"color:#cdcd00\">zany-brook-1028</strong> at: <a href='https://wandb.ai/syrkis/neuroscope/runs/wn0f563g' target=\"_blank\">https://wandb.ai/syrkis/neuroscope/runs/wn0f563g</a><br/>Synced 5 W&B file(s), 0 media file(s), 0 artifact file(s) and 0 other file(s)"
      ],
      "text/plain": [
       "<IPython.core.display.HTML object>"
      ]
     },
     "metadata": {},
     "output_type": "display_data"
    },
    {
     "data": {
      "text/html": [
       "Find logs at: <code>./wandb/run-20230605_232356-wn0f563g/logs</code>"
      ],
      "text/plain": [
       "<IPython.core.display.HTML object>"
      ]
     },
     "metadata": {},
     "output_type": "display_data"
    },
    {
     "data": {
      "text/html": [
       "Tracking run with wandb version 0.15.3"
      ],
      "text/plain": [
       "<IPython.core.display.HTML object>"
      ]
     },
     "metadata": {},
     "output_type": "display_data"
    },
    {
     "data": {
      "text/html": [
       "Run data is saved locally in <code>/home/nobr/neuroscope/wandb/run-20230605_232449-q888dbdh</code>"
      ],
      "text/plain": [
       "<IPython.core.display.HTML object>"
      ]
     },
     "metadata": {},
     "output_type": "display_data"
    },
    {
     "data": {
      "text/html": [
       "Syncing run <strong><a href='https://wandb.ai/syrkis/neuroscope/runs/q888dbdh' target=\"_blank\">helpful-wood-1030</a></strong> to <a href='https://wandb.ai/syrkis/neuroscope' target=\"_blank\">Weights & Biases</a> (<a href='https://wandb.me/run' target=\"_blank\">docs</a>)<br/>"
      ],
      "text/plain": [
       "<IPython.core.display.HTML object>"
      ]
     },
     "metadata": {},
     "output_type": "display_data"
    },
    {
     "data": {
      "text/html": [
       " View project at <a href='https://wandb.ai/syrkis/neuroscope' target=\"_blank\">https://wandb.ai/syrkis/neuroscope</a>"
      ],
      "text/plain": [
       "<IPython.core.display.HTML object>"
      ]
     },
     "metadata": {},
     "output_type": "display_data"
    },
    {
     "data": {
      "text/html": [
       " View run at <a href='https://wandb.ai/syrkis/neuroscope/runs/q888dbdh' target=\"_blank\">https://wandb.ai/syrkis/neuroscope/runs/q888dbdh</a>"
      ],
      "text/plain": [
       "<IPython.core.display.HTML object>"
      ]
     },
     "metadata": {},
     "output_type": "display_data"
    },
    {
     "name": "stderr",
     "output_type": "stream",
     "text": [
      "100%|██████████| 6000/6000 [00:53<00:00, 112.54it/s]\n"
     ]
    },
    {
     "data": {
      "text/html": [
       "Waiting for W&B process to finish... <strong style=\"color:green\">(success).</strong>"
      ],
      "text/plain": [
       "<IPython.core.display.HTML object>"
      ]
     },
     "metadata": {},
     "output_type": "display_data"
    },
    {
     "data": {
      "text/html": [
       "<style>\n",
       "    table.wandb td:nth-child(1) { padding: 0 10px; text-align: left ; width: auto;} td:nth-child(2) {text-align: left ; width: 100%}\n",
       "    .wandb-row { display: flex; flex-direction: row; flex-wrap: wrap; justify-content: flex-start; width: 100% }\n",
       "    .wandb-col { display: flex; flex-direction: column; flex-basis: 100%; flex: 1; padding: 10px; }\n",
       "    </style>\n",
       "<div class=\"wandb-row\"><div class=\"wandb-col\"><h3>Run history:</h3><br/><table class=\"wandb\"><tr><td>train_lh_corr</td><td>▁▁▃▆▆▆▅▅▆▇▇▇▅▆▆▇▆▇▆█▇█▆▇▇▇▇█▆▇▆▇▇▆█▆▇▇▆▇</td></tr><tr><td>train_lh_mse</td><td>█▁▁▁▁▁▁▁▁▁▁▁▁▁▁▁▁▁▁▁▁▁▁▁▁▁▁▁▁▁▁▁▁▁▁▁▁▁▁▁</td></tr><tr><td>train_rh_corr</td><td>▁▁▃▆▄▅▅▅▅▇▇▇▄▅▆▆▆▇▆▇▇▇▆▇▇▇▇▇▆█▆▇▇▇█▆▆▇▆▇</td></tr><tr><td>train_rh_mse</td><td>█▁▁▁▁▁▁▁▁▁▁▁▁▁▁▁▁▁▁▁▁▁▁▁▁▁▁▁▁▁▁▁▁▁▁▁▁▁▁▁</td></tr><tr><td>val_lh_corr</td><td>▁▁▃▅▅▆▄▆█▇▇▅█▅▇▇▇▆▇▇▅▆▇▆▆▇▆▇▆▆▇▇▅▆▇▇▆▆▆▅</td></tr><tr><td>val_lh_mse</td><td>█▁▁▁▁▁▁▁▁▁▁▁▁▁▁▁▁▁▁▁▁▁▁▁▁▁▁▁▁▁▁▁▁▁▁▁▁▁▁▁</td></tr><tr><td>val_rh_corr</td><td>▁▁▃▆▅▆▄▆█▇▇▅█▆▇▇▇▇▇█▅▆▆▆▆▇▆▇▆▆▇▇▆▆▇▇▆▅▆▅</td></tr><tr><td>val_rh_mse</td><td>█▁▁▁▁▁▁▁▁▁▁▁▁▁▁▁▁▁▁▁▁▁▁▁▁▁▁▁▁▁▁▁▁▁▁▁▁▁▁▁</td></tr></table><br/></div><div class=\"wandb-col\"><h3>Run summary:</h3><br/><table class=\"wandb\"><tr><td>train_lh_corr</td><td>0.26573</td></tr><tr><td>train_lh_mse</td><td>0.45078</td></tr><tr><td>train_rh_corr</td><td>0.2345</td></tr><tr><td>train_rh_mse</td><td>0.45352</td></tr><tr><td>val_lh_corr</td><td>0.14183</td></tr><tr><td>val_lh_mse</td><td>0.49126</td></tr><tr><td>val_rh_corr</td><td>0.14122</td></tr><tr><td>val_rh_mse</td><td>0.49534</td></tr></table><br/></div></div>"
      ],
      "text/plain": [
       "<IPython.core.display.HTML object>"
      ]
     },
     "metadata": {},
     "output_type": "display_data"
    },
    {
     "data": {
      "text/html": [
       " View run <strong style=\"color:#cdcd00\">helpful-wood-1030</strong> at: <a href='https://wandb.ai/syrkis/neuroscope/runs/q888dbdh' target=\"_blank\">https://wandb.ai/syrkis/neuroscope/runs/q888dbdh</a><br/>Synced 5 W&B file(s), 0 media file(s), 0 artifact file(s) and 0 other file(s)"
      ],
      "text/plain": [
       "<IPython.core.display.HTML object>"
      ]
     },
     "metadata": {},
     "output_type": "display_data"
    },
    {
     "data": {
      "text/html": [
       "Find logs at: <code>./wandb/run-20230605_232449-q888dbdh/logs</code>"
      ],
      "text/plain": [
       "<IPython.core.display.HTML object>"
      ]
     },
     "metadata": {},
     "output_type": "display_data"
    },
    {
     "data": {
      "text/html": [
       "Tracking run with wandb version 0.15.3"
      ],
      "text/plain": [
       "<IPython.core.display.HTML object>"
      ]
     },
     "metadata": {},
     "output_type": "display_data"
    },
    {
     "data": {
      "text/html": [
       "Run data is saved locally in <code>/home/nobr/neuroscope/wandb/run-20230605_232548-w912nrod</code>"
      ],
      "text/plain": [
       "<IPython.core.display.HTML object>"
      ]
     },
     "metadata": {},
     "output_type": "display_data"
    },
    {
     "data": {
      "text/html": [
       "Syncing run <strong><a href='https://wandb.ai/syrkis/neuroscope/runs/w912nrod' target=\"_blank\">dulcet-universe-1031</a></strong> to <a href='https://wandb.ai/syrkis/neuroscope' target=\"_blank\">Weights & Biases</a> (<a href='https://wandb.me/run' target=\"_blank\">docs</a>)<br/>"
      ],
      "text/plain": [
       "<IPython.core.display.HTML object>"
      ]
     },
     "metadata": {},
     "output_type": "display_data"
    },
    {
     "data": {
      "text/html": [
       " View project at <a href='https://wandb.ai/syrkis/neuroscope' target=\"_blank\">https://wandb.ai/syrkis/neuroscope</a>"
      ],
      "text/plain": [
       "<IPython.core.display.HTML object>"
      ]
     },
     "metadata": {},
     "output_type": "display_data"
    },
    {
     "data": {
      "text/html": [
       " View run at <a href='https://wandb.ai/syrkis/neuroscope/runs/w912nrod' target=\"_blank\">https://wandb.ai/syrkis/neuroscope/runs/w912nrod</a>"
      ],
      "text/plain": [
       "<IPython.core.display.HTML object>"
      ]
     },
     "metadata": {},
     "output_type": "display_data"
    },
    {
     "name": "stderr",
     "output_type": "stream",
     "text": [
      "100%|██████████| 6000/6000 [00:47<00:00, 126.77it/s]\n"
     ]
    },
    {
     "data": {
      "text/html": [
       "Waiting for W&B process to finish... <strong style=\"color:green\">(success).</strong>"
      ],
      "text/plain": [
       "<IPython.core.display.HTML object>"
      ]
     },
     "metadata": {},
     "output_type": "display_data"
    },
    {
     "data": {
      "text/html": [
       "<style>\n",
       "    table.wandb td:nth-child(1) { padding: 0 10px; text-align: left ; width: auto;} td:nth-child(2) {text-align: left ; width: 100%}\n",
       "    .wandb-row { display: flex; flex-direction: row; flex-wrap: wrap; justify-content: flex-start; width: 100% }\n",
       "    .wandb-col { display: flex; flex-direction: column; flex-basis: 100%; flex: 1; padding: 10px; }\n",
       "    </style>\n",
       "<div class=\"wandb-row\"><div class=\"wandb-col\"><h3>Run history:</h3><br/><table class=\"wandb\"><tr><td>train_lh_corr</td><td>▁▁▂▄▆▅▆▆▅▇▆▇▆▇▆▆▇▆▇█▇▇▆▇▆▇▆▇▅▇▇▇█▆▅▅▇█▇▇</td></tr><tr><td>train_lh_mse</td><td>█▁▁▁▁▁▁▁▁▁▁▁▁▁▁▁▁▁▁▁▁▁▁▁▁▁▁▁▁▁▁▁▁▁▁▁▁▁▁▁</td></tr><tr><td>train_rh_corr</td><td>▁▁▃▄▆▅▆▆▅▇▇█▆▇▆▆▇▆▇▇▇▆▆▆▆▇▆▇▆▇▇▇▇▆▆▆▆█▇▇</td></tr><tr><td>train_rh_mse</td><td>█▁▁▁▁▁▁▁▁▁▁▁▁▁▁▁▁▁▁▁▁▁▁▁▁▁▁▁▁▁▁▁▁▁▁▁▁▁▁▁</td></tr><tr><td>val_lh_corr</td><td>▁▁▂▃▅▆▆▆█▆▇▇▆▇▇▆▇▇█▆▇▇█▆▆▇▇▆▇▆▇▇▇▇█▇▇▆▆▇</td></tr><tr><td>val_lh_mse</td><td>█▁▁▁▁▁▁▁▁▁▁▁▁▁▁▁▁▁▁▁▁▁▁▁▁▁▁▁▁▁▁▁▁▁▁▁▁▁▁▁</td></tr><tr><td>val_rh_corr</td><td>▁▁▂▄▅▇▇▆▇▆▇▇▇▆▆▇▇▇▇▅▆█▇▅▆▇▇▆▆▅▇▇▇█▇▆▇▇▇▇</td></tr><tr><td>val_rh_mse</td><td>█▁▁▁▁▁▁▁▁▁▁▁▁▁▁▁▁▁▁▁▁▁▁▁▁▁▁▁▁▁▁▁▁▁▁▁▁▁▁▁</td></tr></table><br/></div><div class=\"wandb-col\"><h3>Run summary:</h3><br/><table class=\"wandb\"><tr><td>train_lh_corr</td><td>0.18878</td></tr><tr><td>train_lh_mse</td><td>0.41271</td></tr><tr><td>train_rh_corr</td><td>0.19592</td></tr><tr><td>train_rh_mse</td><td>0.40681</td></tr><tr><td>val_lh_corr</td><td>0.1871</td></tr><tr><td>val_lh_mse</td><td>0.42516</td></tr><tr><td>val_rh_corr</td><td>0.1779</td></tr><tr><td>val_rh_mse</td><td>0.42624</td></tr></table><br/></div></div>"
      ],
      "text/plain": [
       "<IPython.core.display.HTML object>"
      ]
     },
     "metadata": {},
     "output_type": "display_data"
    },
    {
     "data": {
      "text/html": [
       " View run <strong style=\"color:#cdcd00\">dulcet-universe-1031</strong> at: <a href='https://wandb.ai/syrkis/neuroscope/runs/w912nrod' target=\"_blank\">https://wandb.ai/syrkis/neuroscope/runs/w912nrod</a><br/>Synced 5 W&B file(s), 0 media file(s), 0 artifact file(s) and 0 other file(s)"
      ],
      "text/plain": [
       "<IPython.core.display.HTML object>"
      ]
     },
     "metadata": {},
     "output_type": "display_data"
    },
    {
     "data": {
      "text/html": [
       "Find logs at: <code>./wandb/run-20230605_232548-w912nrod/logs</code>"
      ],
      "text/plain": [
       "<IPython.core.display.HTML object>"
      ]
     },
     "metadata": {},
     "output_type": "display_data"
    },
    {
     "data": {
      "text/html": [
       "Tracking run with wandb version 0.15.3"
      ],
      "text/plain": [
       "<IPython.core.display.HTML object>"
      ]
     },
     "metadata": {},
     "output_type": "display_data"
    },
    {
     "data": {
      "text/html": [
       "Run data is saved locally in <code>/home/nobr/neuroscope/wandb/run-20230605_232641-mbhr4xm0</code>"
      ],
      "text/plain": [
       "<IPython.core.display.HTML object>"
      ]
     },
     "metadata": {},
     "output_type": "display_data"
    },
    {
     "data": {
      "text/html": [
       "Syncing run <strong><a href='https://wandb.ai/syrkis/neuroscope/runs/mbhr4xm0' target=\"_blank\">glad-tree-1033</a></strong> to <a href='https://wandb.ai/syrkis/neuroscope' target=\"_blank\">Weights & Biases</a> (<a href='https://wandb.me/run' target=\"_blank\">docs</a>)<br/>"
      ],
      "text/plain": [
       "<IPython.core.display.HTML object>"
      ]
     },
     "metadata": {},
     "output_type": "display_data"
    },
    {
     "data": {
      "text/html": [
       " View project at <a href='https://wandb.ai/syrkis/neuroscope' target=\"_blank\">https://wandb.ai/syrkis/neuroscope</a>"
      ],
      "text/plain": [
       "<IPython.core.display.HTML object>"
      ]
     },
     "metadata": {},
     "output_type": "display_data"
    },
    {
     "data": {
      "text/html": [
       " View run at <a href='https://wandb.ai/syrkis/neuroscope/runs/mbhr4xm0' target=\"_blank\">https://wandb.ai/syrkis/neuroscope/runs/mbhr4xm0</a>"
      ],
      "text/plain": [
       "<IPython.core.display.HTML object>"
      ]
     },
     "metadata": {},
     "output_type": "display_data"
    },
    {
     "name": "stderr",
     "output_type": "stream",
     "text": [
      " 72%|███████▏  | 4311/6000 [00:34<00:12, 132.91it/s]"
     ]
    }
   ],
   "source": [
    "train(apply_fn, data, config)"
   ]
  },
  {
   "cell_type": "code",
   "execution_count": null,
   "metadata": {},
   "outputs": [],
   "source": []
  }
 ],
 "metadata": {
  "kernelspec": {
   "display_name": "Python 3 (ipykernel)",
   "language": "python",
   "name": "python3"
  },
  "language_info": {
   "codemirror_mode": {
    "name": "ipython",
    "version": 3
   },
   "file_extension": ".py",
   "mimetype": "text/x-python",
   "name": "python",
   "nbconvert_exporter": "python",
   "pygments_lexer": "ipython3",
   "version": "3.11.3"
  },
  "orig_nbformat": 4
 },
 "nbformat": 4,
 "nbformat_minor": 2
}
