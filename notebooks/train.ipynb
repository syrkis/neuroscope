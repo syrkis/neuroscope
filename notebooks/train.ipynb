{
 "cells": [
  {
   "attachments": {},
   "cell_type": "markdown",
   "metadata": {},
   "source": [
    "# Neuroscape playground"
   ]
  },
  {
   "cell_type": "code",
   "execution_count": 1,
   "metadata": {},
   "outputs": [
    {
     "name": "stderr",
     "output_type": "stream",
     "text": [
      "100%|██████████| 6/6 [00:00<00:00, 51.13it/s]\n",
      "100%|██████████| 6/6 [00:02<00:00,  2.02it/s]\n"
     ]
    }
   ],
   "source": [
    "from src.data import get_data\n",
    "from src.utils import get_args_and_config\n",
    "from src.train import train\n",
    "from src.fmri import plot_brain"
   ]
  },
  {
   "cell_type": "code",
   "execution_count": null,
   "metadata": {},
   "outputs": [],
   "source": []
  },
  {
   "attachments": {},
   "cell_type": "markdown",
   "metadata": {},
   "source": [
    "## data"
   ]
  },
  {
   "cell_type": "code",
   "execution_count": 2,
   "metadata": {},
   "outputs": [
    {
     "name": "stderr",
     "output_type": "stream",
     "text": [
      "100%|██████████| 1/1 [00:08<00:00,  8.77s/it]\n"
     ]
    }
   ],
   "source": [
    "args, config = get_args_and_config()\n",
    "data = get_data(args, config)"
   ]
  },
  {
   "cell_type": "code",
   "execution_count": 3,
   "metadata": {},
   "outputs": [
    {
     "name": "stderr",
     "output_type": "stream",
     "text": [
      "\u001b[34m\u001b[1mwandb\u001b[0m: Currently logged in as: \u001b[33msyrkis\u001b[0m. Use \u001b[1m`wandb login --relogin`\u001b[0m to force relogin\n"
     ]
    },
    {
     "data": {
      "text/html": [
       "Tracking run with wandb version 0.15.3"
      ],
      "text/plain": [
       "<IPython.core.display.HTML object>"
      ]
     },
     "metadata": {},
     "output_type": "display_data"
    },
    {
     "data": {
      "text/html": [
       "Run data is saved locally in <code>/home/nobr/neuroscope/wandb/run-20230604_170206-6xzdtcqi</code>"
      ],
      "text/plain": [
       "<IPython.core.display.HTML object>"
      ]
     },
     "metadata": {},
     "output_type": "display_data"
    },
    {
     "data": {
      "text/html": [
       "Syncing run <strong><a href='https://wandb.ai/syrkis/neuroscope/runs/6xzdtcqi' target=\"_blank\">major-moon-293</a></strong> to <a href='https://wandb.ai/syrkis/neuroscope' target=\"_blank\">Weights & Biases</a> (<a href='https://wandb.me/run' target=\"_blank\">docs</a>)<br/>"
      ],
      "text/plain": [
       "<IPython.core.display.HTML object>"
      ]
     },
     "metadata": {},
     "output_type": "display_data"
    },
    {
     "data": {
      "text/html": [
       " View project at <a href='https://wandb.ai/syrkis/neuroscope' target=\"_blank\">https://wandb.ai/syrkis/neuroscope</a>"
      ],
      "text/plain": [
       "<IPython.core.display.HTML object>"
      ]
     },
     "metadata": {},
     "output_type": "display_data"
    },
    {
     "data": {
      "text/html": [
       " View run at <a href='https://wandb.ai/syrkis/neuroscope/runs/6xzdtcqi' target=\"_blank\">https://wandb.ai/syrkis/neuroscope/runs/6xzdtcqi</a>"
      ],
      "text/plain": [
       "<IPython.core.display.HTML object>"
      ]
     },
     "metadata": {},
     "output_type": "display_data"
    },
    {
     "name": "stderr",
     "output_type": "stream",
     "text": [
      "100%|██████████| 6000/6000 [01:34<00:00, 63.48it/s] \n"
     ]
    },
    {
     "data": {
      "text/html": [
       "Waiting for W&B process to finish... <strong style=\"color:green\">(success).</strong>"
      ],
      "text/plain": [
       "<IPython.core.display.HTML object>"
      ]
     },
     "metadata": {},
     "output_type": "display_data"
    },
    {
     "data": {
      "text/html": [
       "<style>\n",
       "    table.wandb td:nth-child(1) { padding: 0 10px; text-align: left ; width: auto;} td:nth-child(2) {text-align: left ; width: 100%}\n",
       "    .wandb-row { display: flex; flex-direction: row; flex-wrap: wrap; justify-content: flex-start; width: 100% }\n",
       "    .wandb-col { display: flex; flex-direction: column; flex-basis: 100%; flex: 1; padding: 10px; }\n",
       "    </style>\n",
       "<div class=\"wandb-row\"><div class=\"wandb-col\"><h3>Run history:</h3><br/><table class=\"wandb\"><tr><td>linear_lh_train_corr</td><td>▁▁▁▁▁▁▁▁▁▁▁▁▁▁▁▁▁▁▁▁▁▁▁▁▁▁▁▁▁▁▁▁▁▁▁▁▁▁▁▁</td></tr><tr><td>linear_lh_val_corr</td><td>▁▁▁▁▁▁▁▁▁▁▁▁▁▁▁▁▁▁▁▁▁▁▁▁▁▁▁▁▁▁▁▁▁▁▁▁▁▁▁▁</td></tr><tr><td>linear_rh_train_corr</td><td>▁▁▁▁▁▁▁▁▁▁▁▁▁▁▁▁▁▁▁▁▁▁▁▁▁▁▁▁▁▁▁▁▁▁▁▁▁▁▁▁</td></tr><tr><td>linear_rh_val_corr</td><td>▁▁▁▁▁▁▁▁▁▁▁▁▁▁▁▁▁▁▁▁▁▁▁▁▁▁▁▁▁▁▁▁▁▁▁▁▁▁▁▁</td></tr><tr><td>train_cat_loss</td><td>█▁▁▁▁▁▁▁▁▂▂▂▂▂▂▁▂▂▃▃▂▃▁▃▃▃▂▃▃▃▃▃▃▃▃▃▃▃▃▃</td></tr><tr><td>train_lh_corr</td><td>▁▂▅▅▆▅▃▅▄▅▅▇▆▆▇▃▇▆▆▇▆▇▇▆▄▇▆▆█▅▇▇▇▇▅▆▇▅▇▇</td></tr><tr><td>train_lh_loss</td><td>█▂▂▂▂▂▂▃▂▁▁▂▂▁▂▂▃▁▂▂▁▂▁▂▂▂▂▂▂▂▃▁▂▂▂▂▁▂▃▃</td></tr><tr><td>train_loss</td><td>█▂▂▂▂▂▂▃▂▁▁▂▂▁▂▂▃▁▂▂▁▂▁▂▂▂▂▂▂▂▃▁▂▂▂▂▁▂▃▃</td></tr><tr><td>train_rh_corr</td><td>▃▃▄▅▅▆▃▃▅▄▇▂▃▆▅▅▃▃▆█▁▅▃▇▅▂▃▁▆▂▅▃▄█▂▂▄▇▆▄</td></tr><tr><td>train_rh_loss</td><td>█▃▂▂▂▂▂▃▂▁▂▄▄▃▄▄▅▃▅▄▃▄▃▃▃▄▃▄▅▄▅▃▄▅▄▅▃▅▅▆</td></tr><tr><td>val_cat_loss</td><td>█▁▁▁▁▁▁▂▂▂▂▂▂▂▃▂▂▂▂▂▂▂▂▃▂▂▂▃▃▃▃▃▃▃▃▃▃▃▃▂</td></tr><tr><td>val_lh_corr</td><td>▁▂▆▅▅▅▄▆▅▇▄█▄▆▆▅▇▆▅▅▅▅▇▇▆▆▇▆▆▆▇▄▇▅▅▆█▇▅▅</td></tr><tr><td>val_lh_loss</td><td>█▂▁▃▃▂▂▂▂▂▂▁▂▂▂▃▁▁▃▂▃▃▂▂▂▃▁▂▂▂▂▃▃▂▂▂▁▂▂▂</td></tr><tr><td>val_loss</td><td>█▂▂▃▃▂▂▂▂▂▂▁▂▂▂▃▂▁▃▂▃▂▂▂▂▃▂▂▂▂▂▃▃▃▂▂▁▂▂▂</td></tr><tr><td>val_rh_corr</td><td>▅▄▁▆▃▃▁▄▅▄▃▁▆▄▃▄▆▄▂▃▅▇▅▆▅▇▇▅▅▇▅▃▆▄▃█▄▄▆▅</td></tr><tr><td>val_rh_loss</td><td>█▁▁▂▂▂▂▂▂▃▃▂▂▃▃▃▂▂▄▂▃▃▃▄▂▃▂▄▃▃▄▅▅▄▄▄▃▄▃▂</td></tr></table><br/></div><div class=\"wandb-col\"><h3>Run summary:</h3><br/><table class=\"wandb\"><tr><td>linear_lh_train_corr</td><td>0.25676</td></tr><tr><td>linear_lh_val_corr</td><td>0.20096</td></tr><tr><td>linear_rh_train_corr</td><td>0.25216</td></tr><tr><td>linear_rh_val_corr</td><td>0.19477</td></tr><tr><td>train_cat_loss</td><td>15.83876</td></tr><tr><td>train_lh_corr</td><td>0.27834</td></tr><tr><td>train_lh_loss</td><td>0.54039</td></tr><tr><td>train_loss</td><td>0.54039</td></tr><tr><td>train_rh_corr</td><td>0.00016</td></tr><tr><td>train_rh_loss</td><td>0.76022</td></tr><tr><td>val_cat_loss</td><td>15.293</td></tr><tr><td>val_lh_corr</td><td>0.13625</td></tr><tr><td>val_lh_loss</td><td>0.46251</td></tr><tr><td>val_loss</td><td>0.47677</td></tr><tr><td>val_rh_corr</td><td>0.0002</td></tr><tr><td>val_rh_loss</td><td>0.58024</td></tr></table><br/></div></div>"
      ],
      "text/plain": [
       "<IPython.core.display.HTML object>"
      ]
     },
     "metadata": {},
     "output_type": "display_data"
    },
    {
     "data": {
      "text/html": [
       " View run <strong style=\"color:#cdcd00\">major-moon-293</strong> at: <a href='https://wandb.ai/syrkis/neuroscope/runs/6xzdtcqi' target=\"_blank\">https://wandb.ai/syrkis/neuroscope/runs/6xzdtcqi</a><br/>Synced 5 W&B file(s), 0 media file(s), 0 artifact file(s) and 0 other file(s)"
      ],
      "text/plain": [
       "<IPython.core.display.HTML object>"
      ]
     },
     "metadata": {},
     "output_type": "display_data"
    },
    {
     "data": {
      "text/html": [
       "Find logs at: <code>./wandb/run-20230604_170206-6xzdtcqi/logs</code>"
      ],
      "text/plain": [
       "<IPython.core.display.HTML object>"
      ]
     },
     "metadata": {},
     "output_type": "display_data"
    },
    {
     "data": {
      "text/html": [
       "Tracking run with wandb version 0.15.3"
      ],
      "text/plain": [
       "<IPython.core.display.HTML object>"
      ]
     },
     "metadata": {},
     "output_type": "display_data"
    },
    {
     "data": {
      "text/html": [
       "Run data is saved locally in <code>/home/nobr/neuroscope/wandb/run-20230604_170405-2r0faycv</code>"
      ],
      "text/plain": [
       "<IPython.core.display.HTML object>"
      ]
     },
     "metadata": {},
     "output_type": "display_data"
    },
    {
     "data": {
      "text/html": [
       "Syncing run <strong><a href='https://wandb.ai/syrkis/neuroscope/runs/2r0faycv' target=\"_blank\">serene-armadillo-294</a></strong> to <a href='https://wandb.ai/syrkis/neuroscope' target=\"_blank\">Weights & Biases</a> (<a href='https://wandb.me/run' target=\"_blank\">docs</a>)<br/>"
      ],
      "text/plain": [
       "<IPython.core.display.HTML object>"
      ]
     },
     "metadata": {},
     "output_type": "display_data"
    },
    {
     "data": {
      "text/html": [
       " View project at <a href='https://wandb.ai/syrkis/neuroscope' target=\"_blank\">https://wandb.ai/syrkis/neuroscope</a>"
      ],
      "text/plain": [
       "<IPython.core.display.HTML object>"
      ]
     },
     "metadata": {},
     "output_type": "display_data"
    },
    {
     "data": {
      "text/html": [
       " View run at <a href='https://wandb.ai/syrkis/neuroscope/runs/2r0faycv' target=\"_blank\">https://wandb.ai/syrkis/neuroscope/runs/2r0faycv</a>"
      ],
      "text/plain": [
       "<IPython.core.display.HTML object>"
      ]
     },
     "metadata": {},
     "output_type": "display_data"
    },
    {
     "name": "stderr",
     "output_type": "stream",
     "text": [
      "100%|██████████| 6000/6000 [01:27<00:00, 68.69it/s] \n"
     ]
    },
    {
     "data": {
      "text/html": [
       "Waiting for W&B process to finish... <strong style=\"color:green\">(success).</strong>"
      ],
      "text/plain": [
       "<IPython.core.display.HTML object>"
      ]
     },
     "metadata": {},
     "output_type": "display_data"
    },
    {
     "data": {
      "text/html": [
       "<style>\n",
       "    table.wandb td:nth-child(1) { padding: 0 10px; text-align: left ; width: auto;} td:nth-child(2) {text-align: left ; width: 100%}\n",
       "    .wandb-row { display: flex; flex-direction: row; flex-wrap: wrap; justify-content: flex-start; width: 100% }\n",
       "    .wandb-col { display: flex; flex-direction: column; flex-basis: 100%; flex: 1; padding: 10px; }\n",
       "    </style>\n",
       "<div class=\"wandb-row\"><div class=\"wandb-col\"><h3>Run history:</h3><br/><table class=\"wandb\"><tr><td>linear_lh_train_corr</td><td>▁▁▁▁▁▁▁▁▁▁▁▁▁▁▁▁▁▁▁▁▁▁▁▁▁▁▁▁▁▁▁▁▁▁▁▁▁▁▁▁</td></tr><tr><td>linear_lh_val_corr</td><td>▁▁▁▁▁▁▁▁▁▁▁▁▁▁▁▁▁▁▁▁▁▁▁▁▁▁▁▁▁▁▁▁▁▁▁▁▁▁▁▁</td></tr><tr><td>linear_rh_train_corr</td><td>▁▁▁▁▁▁▁▁▁▁▁▁▁▁▁▁▁▁▁▁▁▁▁▁▁▁▁▁▁▁▁▁▁▁▁▁▁▁▁▁</td></tr><tr><td>linear_rh_val_corr</td><td>▁▁▁▁▁▁▁▁▁▁▁▁▁▁▁▁▁▁▁▁▁▁▁▁▁▁▁▁▁▁▁▁▁▁▁▁▁▁▁▁</td></tr><tr><td>train_cat_loss</td><td>█▁▁▂▁▂▁▂▁▂▂▂▃▃▂▂▃▃▂▃▂▄▄▃▂▃▃▄▄▃▃▄▄▃▄▃▄▃▃▅</td></tr><tr><td>train_lh_corr</td><td>▁▂▅▅▅▅▅▇▅▇▆▅▇▆▇▇█▅▆▆▇█▆▄█▅█▆▇▆▇▆▇█▇█▇▆▇▇</td></tr><tr><td>train_lh_loss</td><td>█▃▂▂▂▂▂▁▂▂▂▂▁▂▂▂▂▂▁▂▁▂▂▂▁▁▁▃▂▁▂▂▂▁▂▂▂▃▂▂</td></tr><tr><td>train_loss</td><td>█▃▂▂▂▂▂▁▂▂▂▂▁▂▂▂▂▂▁▂▁▂▂▂▁▁▁▃▂▁▂▂▂▁▂▂▂▃▂▂</td></tr><tr><td>train_rh_corr</td><td>▅▃▄▄▁▆▁▆▄▄▄▅▄▅▅▆▃▆▆▆▅▄▅▇▄▅▃▄▆▅▅▆▃▅█▃▅▄▆▆</td></tr><tr><td>train_rh_loss</td><td>█▂▂▂▁▂▂▁▁▁▃▂▂▄▃▃▃▃▂▂▃▄▃▃▂▂▃▄▄▃▄▄▄▂▃▃▅▅▃▄</td></tr><tr><td>val_cat_loss</td><td>█▂▁▁▂▂▂▂▂▂▃▂▂▃▂▂▂▂▃▃▂▂▃▂▃▃▃▃▃▂▂▃▃▃▂▃▃▄▃▃</td></tr><tr><td>val_lh_corr</td><td>▁▂▅▄▅▇▆▅█▆▆▇▇▆▆▄▅▅▆▆▇▅▇▅▆█▅▆▆▃▆▆▇▇▆▆▅▆▅▅</td></tr><tr><td>val_lh_loss</td><td>█▃▂▁▁▂▂▂▂▃▁▁▂▁▁▂▁▂▂▂▁▂▂▂▂▂▃▂▂▂▂▂▂▃▂▂▂▂▁▃</td></tr><tr><td>val_loss</td><td>█▂▂▁▁▂▂▂▂▂▁▁▂▁▁▂▁▂▁▂▁▂▂▂▂▂▂▂▂▂▂▂▂▂▂▂▂▂▁▂</td></tr><tr><td>val_rh_corr</td><td>▃▆▃▄▆▃▅▅▄▅▄▇▅▆▆█▅▆▇▅▅▄▆▅▆▁▅▄▄▄▆▅▁▅▃▄▅▄▅▆</td></tr><tr><td>val_rh_loss</td><td>█▂▃▁▁▂▂▁▃▄▁▂▂▂▂▂▂▂▂▃▂▂▃▃▃▅▄▄▃▃▃▃▂▅▃▃▃▄▂▃</td></tr></table><br/></div><div class=\"wandb-col\"><h3>Run summary:</h3><br/><table class=\"wandb\"><tr><td>linear_lh_train_corr</td><td>0.25483</td></tr><tr><td>linear_lh_val_corr</td><td>0.20758</td></tr><tr><td>linear_rh_train_corr</td><td>0.25131</td></tr><tr><td>linear_rh_val_corr</td><td>0.19915</td></tr><tr><td>train_cat_loss</td><td>16.6017</td></tr><tr><td>train_lh_corr</td><td>0.24404</td></tr><tr><td>train_lh_loss</td><td>0.45619</td></tr><tr><td>train_loss</td><td>0.45619</td></tr><tr><td>train_rh_corr</td><td>0.0017</td></tr><tr><td>train_rh_loss</td><td>0.66157</td></tr><tr><td>val_cat_loss</td><td>15.26282</td></tr><tr><td>val_lh_corr</td><td>0.16997</td></tr><tr><td>val_lh_loss</td><td>0.50835</td></tr><tr><td>val_loss</td><td>0.52148</td></tr><tr><td>val_rh_corr</td><td>0.00135</td></tr><tr><td>val_rh_loss</td><td>0.61258</td></tr></table><br/></div></div>"
      ],
      "text/plain": [
       "<IPython.core.display.HTML object>"
      ]
     },
     "metadata": {},
     "output_type": "display_data"
    },
    {
     "data": {
      "text/html": [
       " View run <strong style=\"color:#cdcd00\">serene-armadillo-294</strong> at: <a href='https://wandb.ai/syrkis/neuroscope/runs/2r0faycv' target=\"_blank\">https://wandb.ai/syrkis/neuroscope/runs/2r0faycv</a><br/>Synced 5 W&B file(s), 0 media file(s), 0 artifact file(s) and 0 other file(s)"
      ],
      "text/plain": [
       "<IPython.core.display.HTML object>"
      ]
     },
     "metadata": {},
     "output_type": "display_data"
    },
    {
     "data": {
      "text/html": [
       "Find logs at: <code>./wandb/run-20230604_170405-2r0faycv/logs</code>"
      ],
      "text/plain": [
       "<IPython.core.display.HTML object>"
      ]
     },
     "metadata": {},
     "output_type": "display_data"
    },
    {
     "data": {
      "text/html": [
       "Tracking run with wandb version 0.15.3"
      ],
      "text/plain": [
       "<IPython.core.display.HTML object>"
      ]
     },
     "metadata": {},
     "output_type": "display_data"
    },
    {
     "data": {
      "text/html": [
       "Run data is saved locally in <code>/home/nobr/neuroscope/wandb/run-20230604_170548-c2ffr7ws</code>"
      ],
      "text/plain": [
       "<IPython.core.display.HTML object>"
      ]
     },
     "metadata": {},
     "output_type": "display_data"
    },
    {
     "data": {
      "text/html": [
       "Syncing run <strong><a href='https://wandb.ai/syrkis/neuroscope/runs/c2ffr7ws' target=\"_blank\">swept-smoke-295</a></strong> to <a href='https://wandb.ai/syrkis/neuroscope' target=\"_blank\">Weights & Biases</a> (<a href='https://wandb.me/run' target=\"_blank\">docs</a>)<br/>"
      ],
      "text/plain": [
       "<IPython.core.display.HTML object>"
      ]
     },
     "metadata": {},
     "output_type": "display_data"
    },
    {
     "data": {
      "text/html": [
       " View project at <a href='https://wandb.ai/syrkis/neuroscope' target=\"_blank\">https://wandb.ai/syrkis/neuroscope</a>"
      ],
      "text/plain": [
       "<IPython.core.display.HTML object>"
      ]
     },
     "metadata": {},
     "output_type": "display_data"
    },
    {
     "data": {
      "text/html": [
       " View run at <a href='https://wandb.ai/syrkis/neuroscope/runs/c2ffr7ws' target=\"_blank\">https://wandb.ai/syrkis/neuroscope/runs/c2ffr7ws</a>"
      ],
      "text/plain": [
       "<IPython.core.display.HTML object>"
      ]
     },
     "metadata": {},
     "output_type": "display_data"
    },
    {
     "name": "stderr",
     "output_type": "stream",
     "text": [
      " 91%|█████████ | 5458/6000 [01:20<00:05, 101.08it/s]"
     ]
    }
   ],
   "source": [
    "params_lst = train(data, config)"
   ]
  }
 ],
 "metadata": {
  "kernelspec": {
   "display_name": "Python 3 (ipykernel)",
   "language": "python",
   "name": "python3"
  },
  "language_info": {
   "codemirror_mode": {
    "name": "ipython",
    "version": 3
   },
   "file_extension": ".py",
   "mimetype": "text/x-python",
   "name": "python",
   "nbconvert_exporter": "python",
   "pygments_lexer": "ipython3",
   "version": "3.11.3"
  },
  "orig_nbformat": 4
 },
 "nbformat": 4,
 "nbformat_minor": 2
}
