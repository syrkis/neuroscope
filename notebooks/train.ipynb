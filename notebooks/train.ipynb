{
 "cells": [
  {
   "attachments": {},
   "cell_type": "markdown",
   "metadata": {},
   "source": [
    "# Neuroscape playground"
   ]
  },
  {
   "cell_type": "code",
   "execution_count": null,
   "metadata": {},
   "outputs": [],
   "source": [
    "import jax\n",
    "import jax.numpy as jnp\n",
    "from jax import grad, jit, vmap\n",
    "import optax\n",
    "from tqdm import tqdm\n",
    "import haiku as hk\n",
    "import numpy as np\n",
    "import wandb\n",
    "from functools import partial\n",
    "from src.data import get_data\n",
    "from src.utils import get_args_and_config\n",
    "from src.fmri import plot_brain\n",
    "from src.model import network_fn, mse, focal_loss, loss_fn_base"
   ]
  },
  {
   "attachments": {},
   "cell_type": "markdown",
   "metadata": {},
   "source": [
    "## Train with final hyperparameters (and alpha and beta set to 0 (baseline))"
   ]
  },
  {
   "cell_type": "code",
   "execution_count": null,
   "metadata": {},
   "outputs": [],
   "source": [
    "args, _ = get_args_and_config()\n",
    "data = get_data(args)"
   ]
  },
  {
   "cell_type": "code",
   "execution_count": null,
   "metadata": {},
   "outputs": [],
   "source": [
    "opt = optax.adamw(0.001)  # perhaps hyper param search for lr and weight decay"
   ]
  },
  {
   "cell_type": "code",
   "execution_count": null,
   "metadata": {},
   "outputs": [],
   "source": [
    "config = {\n",
    "    'alpha': 0,\n",
    "    'beta': 0,\n",
    "    'n_steps': 6000,\n",
    "    'batch_size': 32,\n",
    "    'n_units': 100,\n",
    "    'n_layers': 2,\n",
    "    'latent_dim': 100,\n",
    "    'dropout': 0.15,\n",
    "    }"
   ]
  },
  {
   "cell_type": "code",
   "execution_count": null,
   "metadata": {},
   "outputs": [],
   "source": [
    "\n",
    "forward = hk.transform(partial(network_fn, config=config))\n",
    "rng = jax.random.PRNGKey(42)\n",
    "\n",
    "\n",
    "def loss_fn(params, rng, batch, hem, config):\n",
    "    alpha = config['alpha']\n",
    "    beta = config['beta']\n",
    "    x, lh, rh, cat = batch\n",
    "    lh_hat, rh_hat, cat_hat = forward.apply(params, rng, x)\n",
    "    lh_loss = mse(lh_hat, lh)\n",
    "    rh_loss = mse(rh_hat, rh)\n",
    "    cat_loss = focal_loss(cat_hat, cat)\n",
    "    hem_loss = lh_loss if hem == 'lh' else rh_loss\n",
    "    not_hem_loss = rh_loss if hem == 'lh' else lh_loss\n",
    "    fmri_loss = (1 - beta) * hem_loss + beta * not_hem_loss\n",
    "    loss = (1 - alpha) * fmri_loss + alpha * cat_loss\n",
    "    return loss\n",
    "\n",
    "lh_loss_fn = jit(partial(loss_fn, hem='lh', config=config))\n",
    "rh_loss_fn = jit(partial(loss_fn, hem='rh', config=config))"
   ]
  },
  {
   "cell_type": "code",
   "execution_count": null,
   "metadata": {},
   "outputs": [],
   "source": [
    "def get_fold(fold, fold_idx):\n",
    "    train_data = [fold for idx, fold in enumerate(fold) if idx != fold_idx]\n",
    "    train_data = list(map(jnp.vstack, zip(*train_data)))\n",
    "    val_data = fold[fold_idx]\n",
    "    return train_data, val_data\n",
    "\n",
    "def get_batch(data, batch_size):\n",
    "    while True:\n",
    "        perm = np.random.permutation(data[0].shape[0])\n",
    "        for i in range(0, data[0].shape[0], batch_size):\n",
    "            idx = perm[i:i + batch_size]\n",
    "            x = data[0][idx]\n",
    "            lh = data[1][idx]\n",
    "            rh = data[2][idx]\n",
    "            cat = data[3][idx]\n",
    "            yield x, lh, rh, cat\n",
    "            \n",
    "def train(data, config):\n",
    "    group = wandb.util.generate_id()\n",
    "    for subject, (folds, test_data) in data.items():\n",
    "        train_data = list(map(jnp.vstack, zip(*folds)))\n",
    "        with wandb.init(project=\"neuroscope\", entity='syrkis', group=group, config=config) as run:\n",
    "            train_fold(train_data, test_data, config)\n",
    "\n",
    "def train_fold(train_data, val_data, config):\n",
    "    lh_params = forward.init(jax.random.PRNGKey(42), jnp.ones((1, 100)))\n",
    "    rh_params = forward.init(jax.random.PRNGKey(42), jnp.ones((1, 100)))\n",
    "    lh_opt_state = opt.init(lh_params)\n",
    "    rh_opt_state = opt.init(rh_params)\n",
    "    train_batches = get_batch(train_data, config['batch_size'])\n",
    "    val_batches = get_batch(val_data, config['batch_size'])\n",
    "    for step in tqdm(range(config['n_steps'])):\n",
    "        train_batch = next(train_batches)\n",
    "        lh_params, lh_opt_state = lh_update(lh_params, train_batch, lh_opt_state)\n",
    "        rh_params, rh_opt_state = rh_update(rh_params, train_batch, rh_opt_state)\n",
    "        if step % (config['n_steps'] // 100) == 0:\n",
    "            metrics = evaluate(lh_params, rh_params, train_batches, val_batches)\n",
    "            wandb.log(metrics)\n",
    "    metrics = evaluate(lh_params, rh_params, train_batches, val_batches, steps=50)\n",
    "    wandb.finish()\n",
    "\n",
    "def evaluate(lh_params, rh_params, train_batches, val_batches, steps=3):\n",
    "    train_metrics = evaluate_fold(lh_params, rh_params, train_batches, steps)\n",
    "    val_metrics = evaluate_fold(lh_params, rh_params, val_batches, steps, training=False)\n",
    "    metrics = {f'train_{k}': v for k, v in train_metrics.items()}\n",
    "    metrics.update({f'val_{k}': v for k, v in val_metrics.items()})\n",
    "    return metrics\n",
    "\n",
    "def evaluate_fold(lh_params, rh_params, batches, steps, training=True):\n",
    "    metrics = {}\n",
    "    for i in range(steps):\n",
    "        batch = next(batches)\n",
    "        batch_metrics = evaluate_batch(lh_params, rh_params, batch, training)\n",
    "        metrics = {k: metrics.get(k, 0) + v for k, v in batch_metrics.items()}\n",
    "    metrics = {k: v / steps for k, v in metrics.items()}\n",
    "    return metrics\n",
    "    \n",
    "\n",
    "def evaluate_batch(lh_params, rh_params, batch, training):\n",
    "    metrics = {}\n",
    "    for hem, params in zip(['lh', 'rh'], [lh_params, rh_params]):\n",
    "        mse, corr = evaluate_hem(params, batch, hem, training)\n",
    "        metrics[f'{hem}_mse'] = mse\n",
    "        metrics[f'{hem}_corr'] = corr\n",
    "    return metrics\n",
    "\n",
    "def evaluate_hem(params, batch, hem, training):\n",
    "    x, lh, rh, _ = batch\n",
    "    lh_hat, rh_hat, _ = forward.apply(params, rng, x, training=training)\n",
    "    mse = jnp.mean((lh_hat - lh) ** 2) if hem == 'lh' else jnp.mean((rh_hat - rh) ** 2)\n",
    "    # compute the median collumn wise correlation\n",
    "    corr = pearsonr(lh_hat, lh) if hem == 'lh' else pearsonr(rh_hat, rh)\n",
    "    return mse, jnp.median(corr)\n",
    "\n",
    "\n",
    "# function for computing pearson's correlation coefficient for each voxel of a subject's fMRI data\n",
    "def pearsonr(pred, target):\n",
    "    def _pearsonr(x, y):\n",
    "        corr = jnp.corrcoef(x, y)\n",
    "        return corr[0, 1]\n",
    "    hem_corr = vmap(_pearsonr)(pred.T, target.T)\n",
    "    return hem_corr\n",
    "\n",
    "\n",
    "\n",
    "def update(params, batch, opt_state, hem):\n",
    "    \"\"\"update function\"\"\"\n",
    "    loss_fn = lh_loss_fn if hem == 'lh' else rh_loss_fn\n",
    "    grads = grad(loss_fn)(params, rng, batch)\n",
    "    updates, opt_state = opt.update(grads, opt_state, params)\n",
    "    new_params = optax.apply_updates(params, updates)\n",
    "    return new_params, opt_state\n",
    "\n",
    "lh_update = jit(partial(update, hem='lh'))\n",
    "rh_update = jit(partial(update, hem='rh'))"
   ]
  },
  {
   "cell_type": "code",
   "execution_count": null,
   "metadata": {},
   "outputs": [],
   "source": [
    "train(data, config)"
   ]
  },
  {
   "cell_type": "code",
   "execution_count": null,
   "metadata": {},
   "outputs": [],
   "source": []
  },
  {
   "cell_type": "code",
   "execution_count": null,
   "metadata": {},
   "outputs": [],
   "source": []
  },
  {
   "cell_type": "code",
   "execution_count": null,
   "metadata": {},
   "outputs": [],
   "source": []
  }
 ],
 "metadata": {
  "kernelspec": {
   "display_name": "Python 3 (ipykernel)",
   "language": "python",
   "name": "python3"
  },
  "language_info": {
   "codemirror_mode": {
    "name": "ipython",
    "version": 3
   },
   "file_extension": ".py",
   "mimetype": "text/x-python",
   "name": "python",
   "nbconvert_exporter": "python",
   "pygments_lexer": "ipython3",
   "version": "3.11.3"
  },
  "orig_nbformat": 4
 },
 "nbformat": 4,
 "nbformat_minor": 2
}
