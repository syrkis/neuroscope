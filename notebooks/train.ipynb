{
 "cells": [
  {
   "attachments": {},
   "cell_type": "markdown",
   "metadata": {},
   "source": [
    "# Neuroscape playground"
   ]
  },
  {
   "cell_type": "code",
   "execution_count": 1,
   "metadata": {},
   "outputs": [
    {
     "name": "stderr",
     "output_type": "stream",
     "text": [
      "100%|██████████| 6/6 [00:00<00:00, 37.12it/s]\n",
      "100%|██████████| 6/6 [00:03<00:00,  1.98it/s]\n"
     ]
    }
   ],
   "source": [
    "from src.data import get_data\n",
    "from src.utils import get_args_and_config\n",
    "from src.train import train\n",
    "from src.fmri import plot_brain"
   ]
  },
  {
   "attachments": {},
   "cell_type": "markdown",
   "metadata": {},
   "source": [
    "## data"
   ]
  },
  {
   "cell_type": "code",
   "execution_count": 2,
   "metadata": {},
   "outputs": [
    {
     "name": "stderr",
     "output_type": "stream",
     "text": [
      "100%|██████████| 6/6 [00:32<00:00,  5.49s/it]\n"
     ]
    }
   ],
   "source": [
    "args, config = get_args_and_config()\n",
    "data = get_data(args, config)"
   ]
  },
  {
   "cell_type": "code",
   "execution_count": 3,
   "metadata": {},
   "outputs": [
    {
     "name": "stderr",
     "output_type": "stream",
     "text": [
      "\u001b[34m\u001b[1mwandb\u001b[0m: Currently logged in as: \u001b[33msyrkis\u001b[0m. Use \u001b[1m`wandb login --relogin`\u001b[0m to force relogin\n"
     ]
    },
    {
     "data": {
      "text/html": [
       "Tracking run with wandb version 0.15.3"
      ],
      "text/plain": [
       "<IPython.core.display.HTML object>"
      ]
     },
     "metadata": {},
     "output_type": "display_data"
    },
    {
     "data": {
      "text/html": [
       "Run data is saved locally in <code>/home/nobr/neuroscope/wandb/run-20230603_171404-cd7g757y</code>"
      ],
      "text/plain": [
       "<IPython.core.display.HTML object>"
      ]
     },
     "metadata": {},
     "output_type": "display_data"
    },
    {
     "data": {
      "text/html": [
       "Syncing run <strong><a href='https://wandb.ai/syrkis/neuroscope/runs/cd7g757y' target=\"_blank\">glad-butterfly-139</a></strong> to <a href='https://wandb.ai/syrkis/neuroscope' target=\"_blank\">Weights & Biases</a> (<a href='https://wandb.me/run' target=\"_blank\">docs</a>)<br/>"
      ],
      "text/plain": [
       "<IPython.core.display.HTML object>"
      ]
     },
     "metadata": {},
     "output_type": "display_data"
    },
    {
     "data": {
      "text/html": [
       " View project at <a href='https://wandb.ai/syrkis/neuroscope' target=\"_blank\">https://wandb.ai/syrkis/neuroscope</a>"
      ],
      "text/plain": [
       "<IPython.core.display.HTML object>"
      ]
     },
     "metadata": {},
     "output_type": "display_data"
    },
    {
     "data": {
      "text/html": [
       " View run at <a href='https://wandb.ai/syrkis/neuroscope/runs/cd7g757y' target=\"_blank\">https://wandb.ai/syrkis/neuroscope/runs/cd7g757y</a>"
      ],
      "text/plain": [
       "<IPython.core.display.HTML object>"
      ]
     },
     "metadata": {},
     "output_type": "display_data"
    },
    {
     "name": "stderr",
     "output_type": "stream",
     "text": [
      "100%|██████████| 6000/6000 [01:33<00:00, 64.20it/s] \n"
     ]
    },
    {
     "data": {
      "text/html": [
       "Waiting for W&B process to finish... <strong style=\"color:green\">(success).</strong>"
      ],
      "text/plain": [
       "<IPython.core.display.HTML object>"
      ]
     },
     "metadata": {},
     "output_type": "display_data"
    },
    {
     "data": {
      "text/html": [
       "<style>\n",
       "    table.wandb td:nth-child(1) { padding: 0 10px; text-align: left ; width: auto;} td:nth-child(2) {text-align: left ; width: 100%}\n",
       "    .wandb-row { display: flex; flex-direction: row; flex-wrap: wrap; justify-content: flex-start; width: 100% }\n",
       "    .wandb-col { display: flex; flex-direction: column; flex-basis: 100%; flex: 1; padding: 10px; }\n",
       "    </style>\n",
       "<div class=\"wandb-row\"><div class=\"wandb-col\"><h3>Run history:</h3><br/><table class=\"wandb\"><tr><td>train_cat_loss</td><td>█▁▁▂▁▁▁▁▁▁▁▁▁▁▁▁▁▁▁▁▁▁▁▁▁▁▁▁▁▁▁▁▁▁▁▁▁▁▁▁</td></tr><tr><td>train_lh_corr</td><td>▁▂▄▄▄▄▄▆▅▅▅▆▇▇▆▅▇▆▆▆▇▆▆▆▆▇▆▇▇█▇█▇▇▇██▆▆▇</td></tr><tr><td>train_lh_loss</td><td>█▃▃▃▃▂▃▂▁▃▂▁▁▃▂▂▂▂▂▂▁▃▁▂▂▁▁▂▁▂▁▂▂▂▂▂▂▂▂▁</td></tr><tr><td>train_loss</td><td>█▁▂▂▂▁▁▁▁▁▁▁▁▂▁▁▁▁▁▁▁▁▁▁▁▁▁▁▁▁▁▁▁▁▁▁▁▁▁▁</td></tr><tr><td>train_rh_corr</td><td>▁▂▄▃▄▄▃▅▅▄▅▆▆▆▅▅▆▆▆▅▇▆▅▇▆▇▆▇▇▇▇▇▇▇▆█▇▆▇▇</td></tr><tr><td>train_rh_loss</td><td>█▃▃▃▄▃▂▂▁▃▂▂▁▃▂▂▂▂▂▂▂▂▂▂▂▁▁▂▁▁▂▂▂▂▂▁▂▁▂▁</td></tr><tr><td>val_cat_loss</td><td>█▂▁▁▁▁▁▁▁▁▁▁▁▁▁▁▁▂▁▁▁▁▂▂▂▁▁▁▁▂▁▁▁▂▁▂▂▂▁▂</td></tr><tr><td>val_lh_corr</td><td>▁▃▆▆▆█▇▅▇▄▆▆▄▅▄▆▇▄▅▆▇▆▄▆▇▄▆▆▂▆▇▆▅▆▆▆▆▂▆▂</td></tr><tr><td>val_lh_loss</td><td>█▂▂▁▂▁▂▁▂▃▂▁▂▂▁▂▂▃▃▂▃▄▂▁▂▃▁▃▃▂▂▂▂▂▂▃▃▄▂▃</td></tr><tr><td>val_loss</td><td>█▂▂▁▁▁▁▁▁▂▁▁▁▂▁▁▁▂▁▁▁▂▂▂▂▂▁▁▂▂▂▂▂▂▁▂▂▂▁▂</td></tr><tr><td>val_rh_corr</td><td>▁▃▆▆▆█▆▅█▅▆▆▄▆▄▇▇▄▄▇█▅▄▇▇▄▇▅▂▆█▅▆▇▆▇▅▃▇▄</td></tr><tr><td>val_rh_loss</td><td>█▂▃▁▂▁▂▁▁▃▃▁▃▂▂▃▁▃▃▂▃▄▂▂▂▃▁▃▃▂▂▃▃▃▂▃▃▅▂▃</td></tr></table><br/></div><div class=\"wandb-col\"><h3>Run summary:</h3><br/><table class=\"wandb\"><tr><td>train_cat_loss</td><td>2.86621</td></tr><tr><td>train_lh_corr</td><td>0.39202</td></tr><tr><td>train_lh_loss</td><td>0.40342</td></tr><tr><td>train_loss</td><td>0.64261</td></tr><tr><td>train_rh_corr</td><td>0.43206</td></tr><tr><td>train_rh_loss</td><td>0.38767</td></tr><tr><td>val_cat_loss</td><td>4.20217</td></tr><tr><td>val_lh_corr</td><td>0.02706</td></tr><tr><td>val_lh_loss</td><td>0.54004</td></tr><tr><td>val_loss</td><td>0.90202</td></tr><tr><td>val_rh_corr</td><td>0.10523</td></tr><tr><td>val_rh_loss</td><td>0.53062</td></tr></table><br/></div></div>"
      ],
      "text/plain": [
       "<IPython.core.display.HTML object>"
      ]
     },
     "metadata": {},
     "output_type": "display_data"
    },
    {
     "data": {
      "text/html": [
       " View run <strong style=\"color:#cdcd00\">glad-butterfly-139</strong> at: <a href='https://wandb.ai/syrkis/neuroscope/runs/cd7g757y' target=\"_blank\">https://wandb.ai/syrkis/neuroscope/runs/cd7g757y</a><br/>Synced 5 W&B file(s), 0 media file(s), 0 artifact file(s) and 0 other file(s)"
      ],
      "text/plain": [
       "<IPython.core.display.HTML object>"
      ]
     },
     "metadata": {},
     "output_type": "display_data"
    },
    {
     "data": {
      "text/html": [
       "Find logs at: <code>./wandb/run-20230603_171404-cd7g757y/logs</code>"
      ],
      "text/plain": [
       "<IPython.core.display.HTML object>"
      ]
     },
     "metadata": {},
     "output_type": "display_data"
    },
    {
     "data": {
      "text/html": [
       "Tracking run with wandb version 0.15.3"
      ],
      "text/plain": [
       "<IPython.core.display.HTML object>"
      ]
     },
     "metadata": {},
     "output_type": "display_data"
    },
    {
     "data": {
      "text/html": [
       "Run data is saved locally in <code>/home/nobr/neuroscope/wandb/run-20230603_171543-aqji825z</code>"
      ],
      "text/plain": [
       "<IPython.core.display.HTML object>"
      ]
     },
     "metadata": {},
     "output_type": "display_data"
    },
    {
     "data": {
      "text/html": [
       "Syncing run <strong><a href='https://wandb.ai/syrkis/neuroscope/runs/aqji825z' target=\"_blank\">polished-donkey-140</a></strong> to <a href='https://wandb.ai/syrkis/neuroscope' target=\"_blank\">Weights & Biases</a> (<a href='https://wandb.me/run' target=\"_blank\">docs</a>)<br/>"
      ],
      "text/plain": [
       "<IPython.core.display.HTML object>"
      ]
     },
     "metadata": {},
     "output_type": "display_data"
    },
    {
     "data": {
      "text/html": [
       " View project at <a href='https://wandb.ai/syrkis/neuroscope' target=\"_blank\">https://wandb.ai/syrkis/neuroscope</a>"
      ],
      "text/plain": [
       "<IPython.core.display.HTML object>"
      ]
     },
     "metadata": {},
     "output_type": "display_data"
    },
    {
     "data": {
      "text/html": [
       " View run at <a href='https://wandb.ai/syrkis/neuroscope/runs/aqji825z' target=\"_blank\">https://wandb.ai/syrkis/neuroscope/runs/aqji825z</a>"
      ],
      "text/plain": [
       "<IPython.core.display.HTML object>"
      ]
     },
     "metadata": {},
     "output_type": "display_data"
    },
    {
     "name": "stderr",
     "output_type": "stream",
     "text": [
      "100%|██████████| 6000/6000 [01:25<00:00, 70.47it/s] \n"
     ]
    },
    {
     "data": {
      "text/html": [
       "Waiting for W&B process to finish... <strong style=\"color:green\">(success).</strong>"
      ],
      "text/plain": [
       "<IPython.core.display.HTML object>"
      ]
     },
     "metadata": {},
     "output_type": "display_data"
    },
    {
     "data": {
      "text/html": [
       "<style>\n",
       "    table.wandb td:nth-child(1) { padding: 0 10px; text-align: left ; width: auto;} td:nth-child(2) {text-align: left ; width: 100%}\n",
       "    .wandb-row { display: flex; flex-direction: row; flex-wrap: wrap; justify-content: flex-start; width: 100% }\n",
       "    .wandb-col { display: flex; flex-direction: column; flex-basis: 100%; flex: 1; padding: 10px; }\n",
       "    </style>\n",
       "<div class=\"wandb-row\"><div class=\"wandb-col\"><h3>Run history:</h3><br/><table class=\"wandb\"><tr><td>train_cat_loss</td><td>█▁▁▁▁▁▁▁▁▁▁▁▁▁▁▁▁▁▁▁▁▁▁▁▁▁▁▁▁▁▁▁▁▁▁▁▁▁▁▁</td></tr><tr><td>train_lh_corr</td><td>▁▃▄▆▅▅▅▅▇▆▅▆▆▆▇▆▆▆▇▇█▆▇██▆▇▇▆▇▆▇▆▇▇▇▇██▆</td></tr><tr><td>train_lh_loss</td><td>█▃▃▂▂▂▃▃▂▂▂▃▃▂▁▂▃▂▂▃▁▂▂▁▁▂▂▂▃▂▂▁▂▁▂▂▂▂▂▂</td></tr><tr><td>train_loss</td><td>█▂▂▁▁▁▂▁▁▁▁▂▁▂▁▁▁▁▁▁▁▁▁▁▁▁▁▁▁▁▁▁▁▁▂▁▁▁▁▁</td></tr><tr><td>train_rh_corr</td><td>▁▂▃▅▅▅▅▄▆▆▅▆▅▆▇▆▅▆▆▇█▆▇▇▇▆▇▆▇▇▇▇▆▇▆▇▇▇█▆</td></tr><tr><td>train_rh_loss</td><td>█▃▃▂▃▂▃▃▂▃▂▃▄▂▂▂▃▂▂▃▁▂▂▂▁▂▃▂▂▂▂▂▂▁▃▂▂▂▂▂</td></tr><tr><td>val_cat_loss</td><td>█▁▁▁▁▁▁▁▁▁▁▁▁▁▁▁▁▁▁▁▁▁▁▂▁▁▂▁▂▁▁▂▁▁▁▁▁▁▂▂</td></tr><tr><td>val_lh_corr</td><td>▁▃▅▅▄▆▄▅▆▄▅█▄▆▅▇▆▅▆▆▄▄▅▅▇▆▃▆▆▃▅▆▄▃▆▄▅▄▄▃</td></tr><tr><td>val_lh_loss</td><td>█▂▂▂▂▁▃▂▁▃▂▁▃▂▂▂▂▃▂▂▃▂▂▃▂▁▄▂▃▂▂▂▃▂▂▃▃▃▃▄</td></tr><tr><td>val_loss</td><td>█▁▁▁▁▁▂▁▁▁▁▁▁▁▁▁▁▂▂▁▂▁▁▂▁▁▂▁▂▁▁▂▂▁▁▂▂▂▂▂</td></tr><tr><td>val_rh_corr</td><td>▁▄▅▅▂▅▄▅▆▆▅█▄▆▄▇▅▆▇▅▄▄▅▅█▇▂▇▅▄▆▅▄▄▇▅▄▄▄▃</td></tr><tr><td>val_rh_loss</td><td>█▂▂▂▂▂▃▂▁▃▂▂▃▂▂▂▂▃▂▂▄▂▂▃▂▁▃▁▃▃▃▃▃▃▂▃▄▃▃▄</td></tr></table><br/></div><div class=\"wandb-col\"><h3>Run summary:</h3><br/><table class=\"wandb\"><tr><td>train_cat_loss</td><td>2.27791</td></tr><tr><td>train_lh_corr</td><td>0.292</td></tr><tr><td>train_lh_loss</td><td>0.42179</td></tr><tr><td>train_loss</td><td>0.60319</td></tr><tr><td>train_rh_corr</td><td>0.27694</td></tr><tr><td>train_rh_loss</td><td>0.41243</td></tr><tr><td>val_cat_loss</td><td>4.05931</td></tr><tr><td>val_lh_corr</td><td>0.07698</td></tr><tr><td>val_lh_loss</td><td>0.56886</td></tr><tr><td>val_loss</td><td>0.92397</td></tr><tr><td>val_rh_corr</td><td>0.05702</td></tr><tr><td>val_rh_loss</td><td>0.58234</td></tr></table><br/></div></div>"
      ],
      "text/plain": [
       "<IPython.core.display.HTML object>"
      ]
     },
     "metadata": {},
     "output_type": "display_data"
    },
    {
     "data": {
      "text/html": [
       " View run <strong style=\"color:#cdcd00\">polished-donkey-140</strong> at: <a href='https://wandb.ai/syrkis/neuroscope/runs/aqji825z' target=\"_blank\">https://wandb.ai/syrkis/neuroscope/runs/aqji825z</a><br/>Synced 5 W&B file(s), 0 media file(s), 0 artifact file(s) and 0 other file(s)"
      ],
      "text/plain": [
       "<IPython.core.display.HTML object>"
      ]
     },
     "metadata": {},
     "output_type": "display_data"
    },
    {
     "data": {
      "text/html": [
       "Find logs at: <code>./wandb/run-20230603_171543-aqji825z/logs</code>"
      ],
      "text/plain": [
       "<IPython.core.display.HTML object>"
      ]
     },
     "metadata": {},
     "output_type": "display_data"
    },
    {
     "data": {
      "text/html": [
       "Tracking run with wandb version 0.15.3"
      ],
      "text/plain": [
       "<IPython.core.display.HTML object>"
      ]
     },
     "metadata": {},
     "output_type": "display_data"
    },
    {
     "data": {
      "text/html": [
       "Run data is saved locally in <code>/home/nobr/neuroscope/wandb/run-20230603_171715-yd7o2p9n</code>"
      ],
      "text/plain": [
       "<IPython.core.display.HTML object>"
      ]
     },
     "metadata": {},
     "output_type": "display_data"
    },
    {
     "data": {
      "text/html": [
       "Syncing run <strong><a href='https://wandb.ai/syrkis/neuroscope/runs/yd7o2p9n' target=\"_blank\">usual-pine-141</a></strong> to <a href='https://wandb.ai/syrkis/neuroscope' target=\"_blank\">Weights & Biases</a> (<a href='https://wandb.me/run' target=\"_blank\">docs</a>)<br/>"
      ],
      "text/plain": [
       "<IPython.core.display.HTML object>"
      ]
     },
     "metadata": {},
     "output_type": "display_data"
    },
    {
     "data": {
      "text/html": [
       " View project at <a href='https://wandb.ai/syrkis/neuroscope' target=\"_blank\">https://wandb.ai/syrkis/neuroscope</a>"
      ],
      "text/plain": [
       "<IPython.core.display.HTML object>"
      ]
     },
     "metadata": {},
     "output_type": "display_data"
    },
    {
     "data": {
      "text/html": [
       " View run at <a href='https://wandb.ai/syrkis/neuroscope/runs/yd7o2p9n' target=\"_blank\">https://wandb.ai/syrkis/neuroscope/runs/yd7o2p9n</a>"
      ],
      "text/plain": [
       "<IPython.core.display.HTML object>"
      ]
     },
     "metadata": {},
     "output_type": "display_data"
    },
    {
     "name": "stderr",
     "output_type": "stream",
     "text": [
      "100%|██████████| 6000/6000 [01:23<00:00, 71.82it/s] \n"
     ]
    },
    {
     "data": {
      "text/html": [
       "Waiting for W&B process to finish... <strong style=\"color:green\">(success).</strong>"
      ],
      "text/plain": [
       "<IPython.core.display.HTML object>"
      ]
     },
     "metadata": {},
     "output_type": "display_data"
    },
    {
     "data": {
      "text/html": [
       "<style>\n",
       "    table.wandb td:nth-child(1) { padding: 0 10px; text-align: left ; width: auto;} td:nth-child(2) {text-align: left ; width: 100%}\n",
       "    .wandb-row { display: flex; flex-direction: row; flex-wrap: wrap; justify-content: flex-start; width: 100% }\n",
       "    .wandb-col { display: flex; flex-direction: column; flex-basis: 100%; flex: 1; padding: 10px; }\n",
       "    </style>\n",
       "<div class=\"wandb-row\"><div class=\"wandb-col\"><h3>Run history:</h3><br/><table class=\"wandb\"><tr><td>train_cat_loss</td><td>█▂▂▁▁▂▁▁▁▁▁▁▁▁▁▁▁▁▁▁▁▁▁▁▁▁▁▁▁▁▁▁▁▁▁▁▁▁▁▁</td></tr><tr><td>train_lh_corr</td><td>▁▂▃▆▅▅▄▆▄▆▅▅▆▅▆▆▆▇▆██▆█▇▆▇▇▆▇██▇▇▇▆▇▇▇▇▇</td></tr><tr><td>train_lh_loss</td><td>█▃▂▃▃▂▂▂▃▃▂▃▂▂▂▃▂▂▃▁▂▁▂▂▂▂▁▂▂▁▂▁▂▂▂▂▂▁▂▂</td></tr><tr><td>train_loss</td><td>█▂▂▁▁▂▁▁▂▁▁▁▁▁▁▁▁▁▁▁▁▁▁▁▁▁▁▁▁▁▁▁▁▁▁▁▁▁▁▁</td></tr><tr><td>train_rh_corr</td><td>▁▂▃▅▄▄▃▆▄▅▅▅▆▅▆▆▅▇▆▇█▆▇▇▆▇▆▆▇█▇▆▇▆▆▇▇▇▇▇</td></tr><tr><td>train_rh_loss</td><td>█▃▂▂▂▂▂▂▃▃▂▂▂▂▂▂▂▂▃▁▂▁▂▂▂▂▁▂▂▁▂▁▂▂▂▂▂▁▂▂</td></tr><tr><td>val_cat_loss</td><td>█▁▁▁▁▁▁▁▁▁▂▁▁▂▁▂▁▁▁▁▂▁▁▁▁▁▁▂▁▁▂▁▂▁▁▂▁▁▁▁</td></tr><tr><td>val_lh_corr</td><td>▁▃▆▇▅▆▅▅▇▆▄▇▆▃▆▆▇▅▇▆▆█▆▆▅▆▅▇▆▅▄▅▄▂▅▄▆▇▇▅</td></tr><tr><td>val_lh_loss</td><td>█▃▁▂▂▂▃▁▂▂▃▁▁▂▁▂▂▃▄▂▃▁▂▃▂▂▂▃▂▂▅▂▃▅▂▃▃▃▃▃</td></tr><tr><td>val_loss</td><td>█▁▁▁▁▁▁▁▁▁▂▁▁▂▁▂▁▂▂▂▂▁▁▁▁▁▁▂▁▁▂▁▂▂▁▂▂▁▁▂</td></tr><tr><td>val_rh_corr</td><td>▁▂▅▇▄▅▆▄▇▇▄▅▆▃▆▆▇▄▅▇▆█▆▆▆▇▅▆▆▄▅▄▄▁▅▅▅▇█▅</td></tr><tr><td>val_rh_loss</td><td>█▃▁▂▃▃▂▁▂▂▃▁▁▂▂▂▂▂▃▃▃▁▂▂▂▂▂▂▂▂▄▃▃▆▂▃▄▄▃▅</td></tr></table><br/></div><div class=\"wandb-col\"><h3>Run summary:</h3><br/><table class=\"wandb\"><tr><td>train_cat_loss</td><td>2.65754</td></tr><tr><td>train_lh_corr</td><td>0.38208</td></tr><tr><td>train_lh_loss</td><td>0.42067</td></tr><tr><td>train_loss</td><td>0.64648</td></tr><tr><td>train_rh_corr</td><td>0.38197</td></tr><tr><td>train_rh_loss</td><td>0.42539</td></tr><tr><td>val_cat_loss</td><td>3.40591</td></tr><tr><td>val_lh_corr</td><td>0.14</td></tr><tr><td>val_lh_loss</td><td>0.53598</td></tr><tr><td>val_loss</td><td>0.84021</td></tr><tr><td>val_rh_corr</td><td>0.12915</td></tr><tr><td>val_rh_loss</td><td>0.57428</td></tr></table><br/></div></div>"
      ],
      "text/plain": [
       "<IPython.core.display.HTML object>"
      ]
     },
     "metadata": {},
     "output_type": "display_data"
    },
    {
     "data": {
      "text/html": [
       " View run <strong style=\"color:#cdcd00\">usual-pine-141</strong> at: <a href='https://wandb.ai/syrkis/neuroscope/runs/yd7o2p9n' target=\"_blank\">https://wandb.ai/syrkis/neuroscope/runs/yd7o2p9n</a><br/>Synced 5 W&B file(s), 0 media file(s), 0 artifact file(s) and 0 other file(s)"
      ],
      "text/plain": [
       "<IPython.core.display.HTML object>"
      ]
     },
     "metadata": {},
     "output_type": "display_data"
    },
    {
     "data": {
      "text/html": [
       "Find logs at: <code>./wandb/run-20230603_171715-yd7o2p9n/logs</code>"
      ],
      "text/plain": [
       "<IPython.core.display.HTML object>"
      ]
     },
     "metadata": {},
     "output_type": "display_data"
    },
    {
     "data": {
      "text/html": [
       "Tracking run with wandb version 0.15.3"
      ],
      "text/plain": [
       "<IPython.core.display.HTML object>"
      ]
     },
     "metadata": {},
     "output_type": "display_data"
    },
    {
     "data": {
      "text/html": [
       "Run data is saved locally in <code>/home/nobr/neuroscope/wandb/run-20230603_171844-jwqeqg56</code>"
      ],
      "text/plain": [
       "<IPython.core.display.HTML object>"
      ]
     },
     "metadata": {},
     "output_type": "display_data"
    },
    {
     "data": {
      "text/html": [
       "Syncing run <strong><a href='https://wandb.ai/syrkis/neuroscope/runs/jwqeqg56' target=\"_blank\">revived-wind-142</a></strong> to <a href='https://wandb.ai/syrkis/neuroscope' target=\"_blank\">Weights & Biases</a> (<a href='https://wandb.me/run' target=\"_blank\">docs</a>)<br/>"
      ],
      "text/plain": [
       "<IPython.core.display.HTML object>"
      ]
     },
     "metadata": {},
     "output_type": "display_data"
    },
    {
     "data": {
      "text/html": [
       " View project at <a href='https://wandb.ai/syrkis/neuroscope' target=\"_blank\">https://wandb.ai/syrkis/neuroscope</a>"
      ],
      "text/plain": [
       "<IPython.core.display.HTML object>"
      ]
     },
     "metadata": {},
     "output_type": "display_data"
    },
    {
     "data": {
      "text/html": [
       " View run at <a href='https://wandb.ai/syrkis/neuroscope/runs/jwqeqg56' target=\"_blank\">https://wandb.ai/syrkis/neuroscope/runs/jwqeqg56</a>"
      ],
      "text/plain": [
       "<IPython.core.display.HTML object>"
      ]
     },
     "metadata": {},
     "output_type": "display_data"
    },
    {
     "name": "stderr",
     "output_type": "stream",
     "text": [
      "  4%|▍         | 240/6000 [00:03<01:26, 66.58it/s] \n"
     ]
    },
    {
     "ename": "KeyboardInterrupt",
     "evalue": "",
     "output_type": "error",
     "traceback": [
      "\u001b[0;31m---------------------------------------------------------------------------\u001b[0m",
      "\u001b[0;31mKeyboardInterrupt\u001b[0m                         Traceback (most recent call last)",
      "Cell \u001b[0;32mIn[3], line 1\u001b[0m\n\u001b[0;32m----> 1\u001b[0m params_lst \u001b[39m=\u001b[39m train(data, config)\n",
      "File \u001b[0;32m~/neuroscope/src/train.py:36\u001b[0m, in \u001b[0;36mtrain\u001b[0;34m(data, config)\u001b[0m\n\u001b[1;32m     34\u001b[0m \u001b[39mfor\u001b[39;00m subject, (folds, _) \u001b[39min\u001b[39;00m data\u001b[39m.\u001b[39mitems():\n\u001b[1;32m     35\u001b[0m     config[\u001b[39m'\u001b[39m\u001b[39msubject\u001b[39m\u001b[39m'\u001b[39m] \u001b[39m=\u001b[39m subject\n\u001b[0;32m---> 36\u001b[0m     params_lst \u001b[39m=\u001b[39m train_subject(folds, config)\n\u001b[1;32m     37\u001b[0m \u001b[39mreturn\u001b[39;00m params_lst\n",
      "File \u001b[0;32m~/neuroscope/src/train.py:47\u001b[0m, in \u001b[0;36mtrain_subject\u001b[0;34m(folds, config)\u001b[0m\n\u001b[1;32m     45\u001b[0m train_fold \u001b[39m=\u001b[39m partial(train_fold_fn, config\u001b[39m=\u001b[39mconfig)\n\u001b[1;32m     46\u001b[0m \u001b[39mfor\u001b[39;00m idx, (params, fold) \u001b[39min\u001b[39;00m \u001b[39menumerate\u001b[39m(\u001b[39mzip\u001b[39m(params_lst, data)):\n\u001b[0;32m---> 47\u001b[0m     params_lst[idx] \u001b[39m=\u001b[39m train_fold(params, fold)\n\u001b[1;32m     48\u001b[0m \u001b[39mreturn\u001b[39;00m params_lst\n",
      "File \u001b[0;32m~/neuroscope/src/train.py:66\u001b[0m, in \u001b[0;36mtrain_fold_fn\u001b[0;34m(params, fold, config)\u001b[0m\n\u001b[1;32m     64\u001b[0m         metrics \u001b[39m=\u001b[39m evaluate(params, train_data, val_data, get_batch, config)\n\u001b[1;32m     65\u001b[0m         best_lh_val_loss \u001b[39m=\u001b[39m save_best_model(params, metrics[\u001b[39m'\u001b[39m\u001b[39mval_lh_loss\u001b[39m\u001b[39m'\u001b[39m], best_lh_val_loss, config[\u001b[39m'\u001b[39m\u001b[39msubject\u001b[39m\u001b[39m'\u001b[39m], \u001b[39m'\u001b[39m\u001b[39mlh\u001b[39m\u001b[39m'\u001b[39m)\n\u001b[0;32m---> 66\u001b[0m         best_rh_val_loss \u001b[39m=\u001b[39m save_best_model(params, metrics[\u001b[39m'\u001b[39;49m\u001b[39mval_rh_loss\u001b[39;49m\u001b[39m'\u001b[39;49m], best_rh_val_loss, config[\u001b[39m'\u001b[39;49m\u001b[39msubject\u001b[39;49m\u001b[39m'\u001b[39;49m], \u001b[39m'\u001b[39;49m\u001b[39mrh\u001b[39;49m\u001b[39m'\u001b[39;49m)\n\u001b[1;32m     67\u001b[0m         wandb\u001b[39m.\u001b[39mlog(metrics, step\u001b[39m=\u001b[39mstep)\n\u001b[1;32m     68\u001b[0m wandb\u001b[39m.\u001b[39mfinish()\n",
      "File \u001b[0;32m~/neuroscope/src/eval.py:91\u001b[0m, in \u001b[0;36msave_best_model\u001b[0;34m(params, val_loss, best_val_loss, subject, hem)\u001b[0m\n\u001b[1;32m     89\u001b[0m     jnp\u001b[39m.\u001b[39msave(\u001b[39mf\u001b[39m\u001b[39m\"\u001b[39m\u001b[39mresults/models/\u001b[39m\u001b[39m{\u001b[39;00msubject\u001b[39m}\u001b[39;00m\u001b[39m_lh_best_model.npy\u001b[39m\u001b[39m\"\u001b[39m, params)\n\u001b[1;32m     90\u001b[0m \u001b[39melif\u001b[39;00m hem \u001b[39m==\u001b[39m \u001b[39m'\u001b[39m\u001b[39mrh\u001b[39m\u001b[39m'\u001b[39m \u001b[39mand\u001b[39;00m val_loss \u001b[39m<\u001b[39m best_val_loss:\n\u001b[0;32m---> 91\u001b[0m     jnp\u001b[39m.\u001b[39;49msave(\u001b[39mf\u001b[39;49m\u001b[39m\"\u001b[39;49m\u001b[39mresults/models/\u001b[39;49m\u001b[39m{\u001b[39;49;00msubject\u001b[39m}\u001b[39;49;00m\u001b[39m_rh_best_model.npy\u001b[39;49m\u001b[39m\"\u001b[39;49m, params)\n\u001b[1;32m     92\u001b[0m \u001b[39mreturn\u001b[39;00m best_val_loss\n",
      "File \u001b[0;32m<__array_function__ internals>:200\u001b[0m, in \u001b[0;36msave\u001b[0;34m(*args, **kwargs)\u001b[0m\n",
      "File \u001b[0;32m/usr/local/lib/python3.11/dist-packages/numpy/lib/npyio.py:518\u001b[0m, in \u001b[0;36msave\u001b[0;34m(file, arr, allow_pickle, fix_imports)\u001b[0m\n\u001b[1;32m    516\u001b[0m     \u001b[39mif\u001b[39;00m \u001b[39mnot\u001b[39;00m file\u001b[39m.\u001b[39mendswith(\u001b[39m'\u001b[39m\u001b[39m.npy\u001b[39m\u001b[39m'\u001b[39m):\n\u001b[1;32m    517\u001b[0m         file \u001b[39m=\u001b[39m file \u001b[39m+\u001b[39m \u001b[39m'\u001b[39m\u001b[39m.npy\u001b[39m\u001b[39m'\u001b[39m\n\u001b[0;32m--> 518\u001b[0m     file_ctx \u001b[39m=\u001b[39m \u001b[39mopen\u001b[39m(file, \u001b[39m\"\u001b[39m\u001b[39mwb\u001b[39m\u001b[39m\"\u001b[39m)\n\u001b[1;32m    520\u001b[0m \u001b[39mwith\u001b[39;00m file_ctx \u001b[39mas\u001b[39;00m fid:\n\u001b[1;32m    521\u001b[0m     arr \u001b[39m=\u001b[39m np\u001b[39m.\u001b[39masanyarray(arr)\n",
      "\u001b[0;31mKeyboardInterrupt\u001b[0m: "
     ]
    }
   ],
   "source": [
    "params_lst = train(data, config)"
   ]
  }
 ],
 "metadata": {
  "kernelspec": {
   "display_name": "Python 3 (ipykernel)",
   "language": "python",
   "name": "python3"
  },
  "language_info": {
   "codemirror_mode": {
    "name": "ipython",
    "version": 3
   },
   "file_extension": ".py",
   "mimetype": "text/x-python",
   "name": "python",
   "nbconvert_exporter": "python",
   "pygments_lexer": "ipython3",
   "version": "3.11.3"
  },
  "orig_nbformat": 4
 },
 "nbformat": 4,
 "nbformat_minor": 2
}
